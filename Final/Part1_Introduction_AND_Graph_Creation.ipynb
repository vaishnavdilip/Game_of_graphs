{
 "cells": [
  {
   "cell_type": "markdown",
   "metadata": {},
   "source": [
    "Project SNA by Aleksandra Elena Getman (r0884498) and Vaishnav Dilip (r0872689)"
   ]
  },
  {
   "cell_type": "markdown",
   "metadata": {},
   "source": [
    "<img src =\"https://99designs-blog.imgix.net/blog/wp-content/uploads/2016/04/got-title.jpg?auto=format&q=60&fit=max&w=930\"></img>"
   ]
  },
  {
   "cell_type": "markdown",
   "metadata": {},
   "source": [
    "# Introduction"
   ]
  },
  {
   "cell_type": "markdown",
   "metadata": {},
   "source": [
    "## About the Game of Thrones (HBO Series)"
   ]
  },
  {
   "cell_type": "markdown",
   "metadata": {},
   "source": [
    "Game of Thrones is fantasy drama television series, which has over 8 series and a total of 73 episodes. \n",
    "\n",
    "__This series shows three main storylines;__\n",
    "1. Fights of the Iron Throne of the Seven Kingdoms: in which various noble characters create a web of political conflicts to fights for the throne or to set the independence from whoever is sitting on the throne \n",
    "2. Legal descendant try to reclaim their birth rights to dynasty of the Iron Throne\n",
    "3. Where the Night's Watch (a military located at the Northern borders) tries to protect all the Kingdoms from the mystical creatures\n",
    "\n",
    "(Source; https://en.wikipedia.org/wiki/Game_of_Thrones#:~:text=Game%20of%20Thrones%20is%20an,is%20A%20Game%20of%20Thrones)\n",
    "\n",
    "__Database__\n",
    "\n",
    "In the following notebooks, we are going to present you our Graph Database (Neo4J) Project using the Game of Thrones database that can be found on the following GitHub repository: https://github.com/mathbeveridge/gameofthrones\n",
    "This repository contains the pairs of characters found in the HBO series that are connected by (undirected edges) weighted by the number of interactions. \n",
    "\n",
    "__In reality, this database contains 5 types of interactions;__\n",
    "1. Character A speaks directly after Character B\n",
    "2. Character A speaks about Character B\n",
    "3. Character C speaks about Characters A and B\n",
    "4. Characters A and B are mentioned in the same stage direction\n",
    "5. Characters A and B appear in a scene together\n",
    "\n",
    "However, the exact type of interaction is not mentioned in each database, instead, the overall overview is provided."
   ]
  },
  {
   "cell_type": "markdown",
   "metadata": {},
   "source": [
    "## What is the Project all about?"
   ]
  },
  {
   "cell_type": "markdown",
   "metadata": {},
   "source": [
    "__Our project objectives__\n",
    "\n",
    "1. Community mining\n",
    "2. Link prediction by using network embeddings\n",
    "\n",
    "__This project consist out of 3 notebooks__\n",
    "1. First notebook presents the introduction and graph creation out of a database\n",
    "2. Second notebook define various communities found in different season\n",
    "3. Third notebook predicts the future links for season 7 and 8 using network embeddings"
   ]
  },
  {
   "cell_type": "markdown",
   "metadata": {},
   "source": [
    "# Create graph\n",
    "\n",
    "The following section underneath creates a graph. Nodes and edges are imported from each season of the database. Notice that the graph underneath introduces eight different types of nodes and edges, this is because there are 8 seasons in GOT show. Another important aspect to pinpoint is that a character is not restricted to only appearing in one season, he/ she can come back in different seasons. Yet, we still make a clear distinction between different seasons. For example, Person_1 contains the characters in season 1 and Person_2 will hold the characters in season 2. Both Perosn_1 and Person_2 are not mutually exclusive, meaning that it can be the case that the characters in season 1 also are present in season 2, however, these characters will have other edges. The reason why we still choose to make this clear distinction of characters in each season instead of creating one type of node containing all the characters in each season is that later in the community detection this will cause more convenience, as no extra queries will be required. "
   ]
  },
  {
   "cell_type": "code",
   "execution_count": 1,
   "metadata": {},
   "outputs": [],
   "source": [
    "from py2neo import Graph\n",
    "import pandas as pd\n",
    "import numpy as np\n",
    "import os"
   ]
  },
  {
   "cell_type": "code",
   "execution_count": 7,
   "metadata": {},
   "outputs": [],
   "source": [
    "graph = Graph(\"bolt://localhost:7687\", auth=(\"neo4j\", \"neo4jneo4j\"))"
   ]
  },
  {
   "cell_type": "code",
   "execution_count": 8,
   "metadata": {},
   "outputs": [
    {
     "data": {
      "text/html": [
       "(No data)"
      ],
      "text/plain": [
       "(No data)"
      ]
     },
     "execution_count": 8,
     "metadata": {},
     "output_type": "execute_result"
    }
   ],
   "source": [
    "graph.run(\"MATCH (n) DETACH DELETE n\")"
   ]
  },
  {
   "cell_type": "code",
   "execution_count": 9,
   "metadata": {},
   "outputs": [],
   "source": [
    "#Making nodes function\n",
    "def create_nodes(df, season):\n",
    "    \"\"\"Function to create the nodes from the csv files.\n",
    "\n",
    "    Returns:\n",
    "        str: Acknowledgement string\n",
    "    \"\"\"\n",
    "    i=0\n",
    "    for idx in df.index:\n",
    "        id_ = df.loc[idx, 'Id']\n",
    "        label = df.loc[idx, 'Label'].replace('\\'', '')\n",
    "        cypher = \"MERGE (a:Person {id:\" + \"'\" + \\\n",
    "            id_ + \"'\" + \",label:\" + \"'\" + label + \"'})\"\n",
    "        cypher = cypher + f'SET a.seed={i} '\n",
    "        cypher = cypher + f'SET a:Person_{season}'\n",
    "        graph.run(cypher)\n",
    "        i+=1\n",
    "    return \"Done creating nodes\""
   ]
  },
  {
   "cell_type": "code",
   "execution_count": 10,
   "metadata": {},
   "outputs": [],
   "source": [
    "#Making edges\n",
    "def create_edges(df):\n",
    "    \"\"\"Function to create the edges from the csv files.\n",
    "\n",
    "    Returns:\n",
    "        str: Acknowledgement string\n",
    "    \"\"\"\n",
    "    for idx in df.index:\n",
    "        src = df.loc[idx, 'Source']\n",
    "        tar = df.loc[idx, 'Target']\n",
    "        weight = df.loc[idx, 'Weight']\n",
    "        season = df.loc[idx, 'Season']\n",
    "        cypher = \"MATCH (src:Person {id:\" + \"'\" + src + \"'}),\"\n",
    "        cypher = cypher + \" (tar:Person {id:\" + \"'\" + tar + \"'})\"\n",
    "        cypher = cypher + \\\n",
    "            \"MERGE (src)-[r:INTERACTS_\"+ str(season) +\"]-(tar)\"\n",
    "        cypher = cypher + f\"SET r.weight={weight} SET r.season={season}\"\n",
    "        graph.run(cypher)\n",
    "    return \"Done creating edges\""
   ]
  },
  {
   "cell_type": "code",
   "execution_count": 11,
   "metadata": {},
   "outputs": [],
   "source": [
    "#Creating graph\n",
    "def create_graph():\n",
    "    \"\"\"Function to create the graph from the csv files.\n",
    "\n",
    "    Returns:\n",
    "        str: Acknowledgement string\n",
    "    \"\"\"\n",
    "    for season in range(1,9):\n",
    "        for type in ['nodes','edges']:\n",
    "            base_url = \"https://raw.githubusercontent.com/mathbeveridge/gameofthrones/master/data/\"\n",
    "            final_url = base_url+\"got-s\"+str(season)+\"-\"+type+\".csv\"\n",
    "            df = pd.read_csv(final_url)\n",
    "            if type == 'nodes':\n",
    "                create_nodes(df, season)\n",
    "            else:\n",
    "                create_edges(df)\n",
    "    return \"Done creating graph\""
   ]
  },
  {
   "cell_type": "code",
   "execution_count": 12,
   "metadata": {
    "scrolled": true
   },
   "outputs": [
    {
     "data": {
      "text/plain": [
       "'Done creating graph'"
      ]
     },
     "execution_count": 12,
     "metadata": {},
     "output_type": "execute_result"
    }
   ],
   "source": [
    "create_graph()"
   ]
  },
  {
   "cell_type": "markdown",
   "metadata": {},
   "source": [
    "Now, let's move to the second notebook which carry out community mining. "
   ]
  }
 ],
 "metadata": {
  "kernelspec": {
   "display_name": "Python 3 (ipykernel)",
   "language": "python",
   "name": "python3"
  },
  "language_info": {
   "codemirror_mode": {
    "name": "ipython",
    "version": 3
   },
   "file_extension": ".py",
   "mimetype": "text/x-python",
   "name": "python",
   "nbconvert_exporter": "python",
   "pygments_lexer": "ipython3",
   "version": "3.9.7"
  }
 },
 "nbformat": 4,
 "nbformat_minor": 2
}
