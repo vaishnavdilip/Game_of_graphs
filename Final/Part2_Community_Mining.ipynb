{
 "cells": [
  {
   "cell_type": "markdown",
   "metadata": {},
   "source": [
    "Project SNA by Aleksandra Elena Getman (r0884498) and Vaishnav Dilip (r0872689)"
   ]
  },
  {
   "cell_type": "markdown",
   "metadata": {},
   "source": [
    "![Javatpoint](https://awoiaf.westeros.org/images/f/f6/Agot_hbo_guide_map.jpg) "
   ]
  },
  {
   "cell_type": "markdown",
   "metadata": {},
   "source": [
    "# Comunity mining in different Season\n",
    "\n",
    "In the following section, we will apply the Leiden Algorithm to find communities in different seasons. Because various characters tend to betray each other and therefore alliances are often shifted, it is better to apply Leiden Algorithm as it can derive always a fixed number of communities. On top of that, it will be interesting to see how the connections between characters change between each other. \n",
    "\n",
    "After applying the algorithm, we will employ the 5 centrality measures to derive a bigger picture of the characters that are important. The 5 centrality measures will also assign the same meaning as in https://networkofthrones.wordpress.com/, as they carried out similar research.\n",
    "\n",
    "Thus in where; \n",
    "1. Degree centrality: how many people the character knows?\n",
    "2. Weighted degree centrality: how many interactions does the character have?\n",
    "3. Eigenvector centrality: how many important people does the character know?\n",
    "4. PageRank: how many important interactions does the character have?\n",
    "5. Betweenness: does the character help to connect the whole network?\n",
    "\n",
    "__Important note__\n",
    "\n",
    "Recall that we plan to do link predictions for seasons 7 and 8 in the third notebook. This second notebook will serve as an explanatory analysis for the link prediction step. Looking ahead already, we would like to share that seasons 1 up until 4 will serve as a training set, seasons 5 and 6 will be used for the validation set, and seasons 7 and 8 will serve as the testing set. Therefore, community mining and centrality measures will be applied 3 times; \n",
    "1. For the training set\n",
    "2. For the validation set\n",
    "3. For testing set"
   ]
  },
  {
   "cell_type": "code",
   "execution_count": 50,
   "metadata": {},
   "outputs": [],
   "source": [
    "#Connecting to Neo4j and loading the library\n",
    "\n",
    "import pandas as pd\n",
    "import numpy as np\n",
    "\n",
    "from py2neo import Graph\n",
    "\n",
    "graph = Graph(\"bolt://localhost:7687\", auth=(\"neo4j\", \"neo4jneo4j\"))"
   ]
  },
  {
   "cell_type": "markdown",
   "metadata": {},
   "source": [
    "## Explanatory analysis for Training set (Seasons 1 up until 4)"
   ]
  },
  {
   "cell_type": "markdown",
   "metadata": {},
   "source": [
    "### Leiden Algorithm"
   ]
  },
  {
   "cell_type": "code",
   "execution_count": 51,
   "metadata": {},
   "outputs": [
    {
     "data": {
      "text/html": [
       "<table><tr><th>graphName</th></tr><tr><td style=\"text-align:left\">Got1</td></tr></table>"
      ],
      "text/plain": [
       " graphName \n",
       "-----------\n",
       " Got1      "
      ]
     },
     "execution_count": 51,
     "metadata": {},
     "output_type": "execute_result"
    }
   ],
   "source": [
    "query = \"\"\"\n",
    "CALL gds.graph.drop('Got1') YIELD graphName;\n",
    "\"\"\"\n",
    "\n",
    "graph.run(query)\n"
   ]
  },
  {
   "cell_type": "code",
   "execution_count": 52,
   "metadata": {},
   "outputs": [
    {
     "data": {
      "text/html": [
       "<table><tr><th>nodeProjection</th><th>relationshipProjection</th><th>graphName</th><th>nodeCount</th><th>relationshipCount</th><th>projectMillis</th></tr><tr><td style=\"text-align:left\">{Person_1: {label: &#039;Person_1&#039;, properties: {seed: {defaultValue: null, property: &#039;seed&#039;}}}, Person_2: {label: &#039;Person_2&#039;, properties: {seed: {defaultValue: null, property: &#039;seed&#039;}}}, Person_3: {label: &#039;Person_3&#039;, properties: {seed: {defaultValue: null, property: &#039;seed&#039;}}}, Person_4: {label: &#039;Person_4&#039;, properties: {seed: {defaultValue: null, property: &#039;seed&#039;}}}}</td><td style=\"text-align:left\">{INTERACTS_1: {orientation: &#039;UNDIRECTED&#039;, indexInverse: false, aggregation: &#039;DEFAULT&#039;, type: &#039;INTERACTS_1&#039;, properties: {weight: {defaultValue: null, property: &#039;weight&#039;, aggregation: &#039;DEFAULT&#039;}}}, INTERACTS_4: {orientation: &#039;UNDIRECTED&#039;, indexInverse: false, aggregation: &#039;DEFAULT&#039;, type: &#039;INTERACTS_4&#039;, properties: {weight: {defaultValue: null, property: &#039;weight&#039;, aggregation: &#039;DEFAULT&#039;}}}, INTERACTS_2: {orientation: &#039;UNDIRECTED&#039;, indexInverse: false, aggregation: &#039;DEFAULT&#039;, type: &#039;INTERACTS_2&#039;, properties: {weight: {defaultValue: null, property: &#039;weight&#039;, aggregation: &#039;DEFAULT&#039;}}}, INTERACTS_3: {orientation: &#039;UNDIRECTED&#039;, indexInverse: false, aggregation: &#039;DEFAULT&#039;, type: &#039;INTERACTS_3&#039;, properties: {weight: {defaultValue: null, property: &#039;weight&#039;, aggregation: &#039;DEFAULT&#039;}}}}</td><td style=\"text-align:left\">Got1</td><td style=\"text-align:right\">317</td><td style=\"text-align:right\">4494</td><td style=\"text-align:right\">23</td></tr></table>"
      ],
      "text/plain": [
       " nodeProjection                                                                                                                                                                                                                                                                                                                                                               | relationshipProjection                                                                                                                                                                                                                                                                                                                                                                                                                                                                                                                                                                                                                                                                                                                                                                                           | graphName | nodeCount | relationshipCount | projectMillis \n",
       "------------------------------------------------------------------------------------------------------------------------------------------------------------------------------------------------------------------------------------------------------------------------------------------------------------------------------------------------------------------------------|------------------------------------------------------------------------------------------------------------------------------------------------------------------------------------------------------------------------------------------------------------------------------------------------------------------------------------------------------------------------------------------------------------------------------------------------------------------------------------------------------------------------------------------------------------------------------------------------------------------------------------------------------------------------------------------------------------------------------------------------------------------------------------------------------------------|-----------|-----------|-------------------|---------------\n",
       " {Person_1: {label: 'Person_1', properties: {seed: {defaultValue: null, property: 'seed'}}}, Person_2: {label: 'Person_2', properties: {seed: {defaultValue: null, property: 'seed'}}}, Person_3: {label: 'Person_3', properties: {seed: {defaultValue: null, property: 'seed'}}}, Person_4: {label: 'Person_4', properties: {seed: {defaultValue: null, property: 'seed'}}}} | {INTERACTS_1: {orientation: 'UNDIRECTED', indexInverse: false, aggregation: 'DEFAULT', type: 'INTERACTS_1', properties: {weight: {defaultValue: null, property: 'weight', aggregation: 'DEFAULT'}}}, INTERACTS_4: {orientation: 'UNDIRECTED', indexInverse: false, aggregation: 'DEFAULT', type: 'INTERACTS_4', properties: {weight: {defaultValue: null, property: 'weight', aggregation: 'DEFAULT'}}}, INTERACTS_2: {orientation: 'UNDIRECTED', indexInverse: false, aggregation: 'DEFAULT', type: 'INTERACTS_2', properties: {weight: {defaultValue: null, property: 'weight', aggregation: 'DEFAULT'}}}, INTERACTS_3: {orientation: 'UNDIRECTED', indexInverse: false, aggregation: 'DEFAULT', type: 'INTERACTS_3', properties: {weight: {defaultValue: null, property: 'weight', aggregation: 'DEFAULT'}}}} | Got1      |       317 |              4494 |            23 "
      ]
     },
     "execution_count": 52,
     "metadata": {},
     "output_type": "execute_result"
    }
   ],
   "source": [
    "#Building a graph with seasons 1, 2, 3, and 4\n",
    "query = \"\"\" \n",
    "CALL gds.graph.project(\n",
    "    'Got1',\n",
    "    {\n",
    "        Person_1: {properties: 'seed' },\n",
    "        Person_2: {properties: 'seed' },\n",
    "        Person_3: {properties: 'seed' },\n",
    "        Person_4: {properties: 'seed' }\n",
    "    },\n",
    "    {\n",
    "        INTERACTS_1: {\n",
    "            orientation: 'UNDIRECTED',\n",
    "            properties: 'weight'\n",
    "        },\n",
    "        INTERACTS_2: {\n",
    "            orientation: 'UNDIRECTED',\n",
    "            properties: 'weight'\n",
    "        },\n",
    "        INTERACTS_3: {\n",
    "            orientation: 'UNDIRECTED',\n",
    "            properties: 'weight'\n",
    "        },\n",
    "        INTERACTS_4: {\n",
    "            orientation: 'UNDIRECTED',\n",
    "            properties: 'weight'\n",
    "        }\n",
    "    }\n",
    ")\n",
    "\"\"\"\n",
    "\n",
    "graph.run(query)"
   ]
  },
  {
   "cell_type": "code",
   "execution_count": 53,
   "metadata": {},
   "outputs": [
    {
     "data": {
      "text/html": [
       "<table><tr><th>nodeCount</th><th>relationshipCount</th><th>bytesMin</th><th>bytesMax</th><th>requiredMemory</th></tr><tr><td style=\"text-align:right\">317</td><td style=\"text-align:right\">4494</td><td style=\"text-align:right\">644504</td><td style=\"text-align:right\">653328</td><td style=\"text-align:left\">[629 KiB ... 638 KiB]</td></tr></table>"
      ],
      "text/plain": [
       " nodeCount | relationshipCount | bytesMin | bytesMax | requiredMemory        \n",
       "-----------|-------------------|----------|----------|-----------------------\n",
       "       317 |              4494 |   644504 |   653328 | [629 KiB ... 638 KiB] "
      ]
     },
     "execution_count": 53,
     "metadata": {},
     "output_type": "execute_result"
    }
   ],
   "source": [
    "# The following will estimate the memory requirements for running the algorithm:\n",
    "query = \"\"\"\n",
    "CALL gds.beta.leiden.write.estimate('Got1', { randomSeed:19, writeProperty: 'community_S1234' })\n",
    "YIELD nodeCount, relationshipCount, bytesMin, bytesMax, requiredMemory\n",
    "\"\"\"\n",
    "graph.run(query)"
   ]
  },
  {
   "cell_type": "code",
   "execution_count": 54,
   "metadata": {},
   "outputs": [],
   "source": [
    "# The following will run the algorithm and stream results:\n",
    "query = \"\"\"\n",
    "CALL gds.beta.leiden.stream('Got1', {randomSeed:19, relationshipWeightProperty: 'weight'})\n",
    "YIELD nodeId, communityId, intermediateCommunityIds\n",
    "RETURN gds.util.asNode(nodeId).label AS label, communityId\n",
    "ORDER BY label ASC\n",
    "\"\"\"\n",
    "members = graph.run(query).to_data_frame()"
   ]
  },
  {
   "cell_type": "code",
   "execution_count": 55,
   "metadata": {},
   "outputs": [
    {
     "data": {
      "text/plain": [
       "communityId\n",
       "0     [Balon Dwarf, Joffrey Dwarf, Renly Dwarf, Robb...\n",
       "1     [Addam, Anya Waynwood, Boros, Bronn, Cersei, D...\n",
       "2     [Aemon, Alliser Thorne, Allister, Benjen, Borc...\n",
       "5     [Barristan, Cohollo, Daario, Daenerys, Doreah,...\n",
       "6                             [Black Jack, Kegs, Mully]\n",
       "8     [Alton, Assassin, Black Walder, Brienne, Brynd...\n",
       "9     [Aerys, Amory, Anguy, Arya, Baelor, Barra, Ber...\n",
       "11    [Adrack Humble, Baby, Balon, Billy, Black Lorr...\n",
       "12    [Aegon, Axell Florent, Balerion, Bert, Cressen...\n",
       "Name: label, dtype: object"
      ]
     },
     "execution_count": 55,
     "metadata": {},
     "output_type": "execute_result"
    }
   ],
   "source": [
    "members.groupby('communityId')['label'].apply(list)"
   ]
  },
  {
   "cell_type": "code",
   "execution_count": 16,
   "metadata": {},
   "outputs": [
    {
     "data": {
      "text/plain": [
       "['Addam',\n",
       " 'Adrack Humble',\n",
       " 'Aegon',\n",
       " 'Alton',\n",
       " 'Anya Waynwood',\n",
       " 'Assassin',\n",
       " 'Axell Florent',\n",
       " 'Baby',\n",
       " 'Balerion',\n",
       " 'Balon',\n",
       " 'Balon Dwarf',\n",
       " 'Bert',\n",
       " 'Billy',\n",
       " 'Black Lorren',\n",
       " 'Black Walder',\n",
       " 'Bolton Guard',\n",
       " 'Boros',\n",
       " 'Bran',\n",
       " 'Brienne',\n",
       " 'Bronn',\n",
       " 'Brynden',\n",
       " 'Captains Daughter',\n",
       " 'Catelyn',\n",
       " 'Cersei',\n",
       " 'Colen',\n",
       " 'Cressen',\n",
       " 'Dagmer',\n",
       " 'Daisy',\n",
       " 'Davos',\n",
       " 'Desmond',\n",
       " 'Dontos',\n",
       " 'Doran',\n",
       " 'Dornish Lord',\n",
       " 'Drowned Priest',\n",
       " 'Edmure',\n",
       " 'Eldrick',\n",
       " 'Elia',\n",
       " 'Ellaria',\n",
       " 'Endrew',\n",
       " 'Falyse',\n",
       " 'Farlen',\n",
       " 'Father Seaworth',\n",
       " 'First Mate',\n",
       " 'Fool',\n",
       " 'Frey Daughter',\n",
       " 'Frey Septon',\n",
       " 'Galbart',\n",
       " 'Gared',\n",
       " 'Gerard',\n",
       " 'Greatjon',\n",
       " 'Gregor',\n",
       " 'Harren',\n",
       " 'Haylene',\n",
       " 'High Septon',\n",
       " 'Hodor',\n",
       " 'Hoster',\n",
       " 'Ilyn',\n",
       " 'Jacks',\n",
       " 'Jaime',\n",
       " 'Joanna',\n",
       " 'Joffrey',\n",
       " 'Joffrey Dwarf',\n",
       " 'Jojen',\n",
       " 'Jonos',\n",
       " 'Joyeuse',\n",
       " 'Kevan',\n",
       " 'Lancel',\n",
       " 'Leaf',\n",
       " 'Leo',\n",
       " 'Lhara',\n",
       " 'Locke',\n",
       " 'Lollys',\n",
       " 'Loras',\n",
       " 'Lothar',\n",
       " 'Luthor',\n",
       " 'Luwin',\n",
       " 'Lysa',\n",
       " 'Mac',\n",
       " 'Mace',\n",
       " 'Mandon',\n",
       " 'Marei',\n",
       " 'Margaery',\n",
       " 'Marillion',\n",
       " 'Martyn',\n",
       " 'Marya',\n",
       " 'Masha',\n",
       " 'Matthos',\n",
       " 'Meera',\n",
       " 'Melisandre',\n",
       " 'Merry',\n",
       " 'Meryn',\n",
       " 'Mord',\n",
       " 'Morgan',\n",
       " 'Morgans Friend',\n",
       " 'Musician',\n",
       " 'Mycah',\n",
       " 'Myranda',\n",
       " 'Myrcella',\n",
       " 'Night King',\n",
       " 'Oberyn',\n",
       " 'Old Nan',\n",
       " 'Olenna',\n",
       " 'Olyvar',\n",
       " 'Orson',\n",
       " 'Orys',\n",
       " 'Oryss Brother',\n",
       " 'Osha',\n",
       " 'Petyr',\n",
       " 'Podrick',\n",
       " 'Portan',\n",
       " 'Protester',\n",
       " 'Pycelle',\n",
       " 'Quent',\n",
       " 'Qyburn',\n",
       " 'Ralf',\n",
       " 'Ramsay',\n",
       " 'Reginald',\n",
       " 'Renly',\n",
       " 'Renly Dwarf',\n",
       " 'Rennick',\n",
       " 'Rickard Karstark',\n",
       " 'Rickon',\n",
       " 'Robb',\n",
       " 'Robb Dwarf',\n",
       " 'Robin',\n",
       " 'Rodrik',\n",
       " 'Roose',\n",
       " 'Ros',\n",
       " 'Roslin',\n",
       " 'Royce',\n",
       " 'Ryger',\n",
       " 'Rylene',\n",
       " 'Salladhor',\n",
       " 'Sansa',\n",
       " 'Selwyn',\n",
       " 'Selyse',\n",
       " 'Septa Mordane',\n",
       " 'Septon',\n",
       " 'Shae',\n",
       " 'Shagga',\n",
       " 'Shepherd',\n",
       " 'Shireen',\n",
       " 'Sorcerer',\n",
       " 'Stannis',\n",
       " 'Stannis Dwarf',\n",
       " 'Steelshanks Walton',\n",
       " 'Stevron',\n",
       " 'Talisa',\n",
       " 'Tansy',\n",
       " 'Taryn',\n",
       " 'Theon',\n",
       " 'Three Eyed Raven',\n",
       " 'Timett',\n",
       " 'Tommen',\n",
       " 'Torrhen',\n",
       " 'Torturer',\n",
       " 'Trystane',\n",
       " 'Tycho',\n",
       " 'Tyrion',\n",
       " 'Tysha',\n",
       " 'Tywin',\n",
       " 'Vance Corbray',\n",
       " 'Vardis',\n",
       " 'Varys',\n",
       " 'Viola',\n",
       " 'Violet',\n",
       " 'Walda',\n",
       " 'Walder',\n",
       " 'Waymar',\n",
       " 'Waymar Royce',\n",
       " 'White Walker',\n",
       " 'Will',\n",
       " 'Willem',\n",
       " 'Yara',\n",
       " 'Yohn Royce']"
      ]
     },
     "execution_count": 16,
     "metadata": {},
     "output_type": "execute_result"
    }
   ],
   "source": [
    "members.groupby('communityId')['label'].apply(list)[0] # Community in with Drogo and the east"
   ]
  },
  {
   "cell_type": "code",
   "execution_count": 17,
   "metadata": {},
   "outputs": [
    {
     "data": {
      "text/plain": [
       "['Black Jack', 'Kegs', 'Mully']"
      ]
     },
     "execution_count": 17,
     "metadata": {},
     "output_type": "execute_result"
    }
   ],
   "source": [
    "members.groupby('communityId')['label'].apply(list)[1] # King's Landing"
   ]
  },
  {
   "cell_type": "code",
   "execution_count": 18,
   "metadata": {},
   "outputs": [
    {
     "data": {
      "text/plain": [
       "['Aemon',\n",
       " 'Alliser Thorne',\n",
       " 'Allister',\n",
       " 'Benjen',\n",
       " 'Borcas',\n",
       " 'Bowen',\n",
       " 'Cooper',\n",
       " 'Craster',\n",
       " 'Dareon',\n",
       " 'Dongo the Giant',\n",
       " 'Donnel Hill',\n",
       " 'Eddison',\n",
       " 'Farmer',\n",
       " 'Gilly',\n",
       " 'Grenn',\n",
       " 'Guymon',\n",
       " 'Hobb',\n",
       " 'Janos',\n",
       " 'Jaremy',\n",
       " 'Jeor',\n",
       " 'Jon',\n",
       " 'Karl',\n",
       " 'Little Sam',\n",
       " 'Lord of Bones',\n",
       " 'Luke',\n",
       " 'Mag the Mighty',\n",
       " 'Mance',\n",
       " 'Melessa',\n",
       " 'Moles Town Madam',\n",
       " 'Moles Town Whore',\n",
       " 'Morag',\n",
       " 'Olly',\n",
       " 'Ollys Mother',\n",
       " 'Orell',\n",
       " 'Othell',\n",
       " 'Othor',\n",
       " 'Pyp',\n",
       " 'Qhorin',\n",
       " 'Qhorin',\n",
       " 'Quorin',\n",
       " 'Randyll',\n",
       " 'Rast',\n",
       " 'Sam',\n",
       " 'Sissy',\n",
       " 'Styr',\n",
       " 'Thenn Warg',\n",
       " 'Tormund',\n",
       " 'Ygritte']"
      ]
     },
     "execution_count": 18,
     "metadata": {},
     "output_type": "execute_result"
    }
   ],
   "source": [
    "members.groupby('communityId')['label'].apply(list)[5] # The Night's Watch"
   ]
  },
  {
   "cell_type": "code",
   "execution_count": 19,
   "metadata": {},
   "outputs": [
    {
     "data": {
      "text/plain": [
       "['Aerys',\n",
       " 'Amory',\n",
       " 'Anguy',\n",
       " 'Arya',\n",
       " 'Baelor',\n",
       " 'Barra',\n",
       " 'Beric',\n",
       " 'Biter',\n",
       " 'Brandon',\n",
       " 'Donnel Waynwood',\n",
       " 'Dying Man',\n",
       " 'Gendry',\n",
       " 'Hamlet Farmer',\n",
       " 'Hot Pie',\n",
       " 'Hugh of the Vale',\n",
       " 'Innkeeper',\n",
       " 'Innkeepers Daughter',\n",
       " 'Jaqen',\n",
       " 'Jon Arryn',\n",
       " 'Jory',\n",
       " 'Lommy',\n",
       " 'Lommy',\n",
       " 'Lyanna',\n",
       " 'Mhaegen',\n",
       " 'Ned',\n",
       " 'Polliver',\n",
       " 'Rhaegar',\n",
       " 'Rhaenys',\n",
       " 'Rickard Stark',\n",
       " 'Robert',\n",
       " 'Rorge',\n",
       " 'Sally',\n",
       " 'Sandor',\n",
       " 'Stable Boy',\n",
       " 'Steffon',\n",
       " 'Syrio',\n",
       " 'Syrio Forel',\n",
       " 'Ternesio Terys',\n",
       " 'Thoros',\n",
       " 'Tickler',\n",
       " 'Tobho Mott',\n",
       " 'Tomard',\n",
       " 'Tommy',\n",
       " 'Varly',\n",
       " 'Visenya',\n",
       " 'Yoren']"
      ]
     },
     "execution_count": 19,
     "metadata": {},
     "output_type": "execute_result"
    }
   ],
   "source": [
    "members.groupby('communityId')['label'].apply(list)[11]\n"
   ]
  },
  {
   "cell_type": "code",
   "execution_count": 20,
   "metadata": {},
   "outputs": [
    {
     "ename": "KeyError",
     "evalue": "14",
     "output_type": "error",
     "traceback": [
      "\u001b[1;31m---------------------------------------------------------------------------\u001b[0m",
      "\u001b[1;31mKeyError\u001b[0m                                  Traceback (most recent call last)",
      "File \u001b[1;32mc:\\Users\\nikte\\.conda\\envs\\sna\\Lib\\site-packages\\pandas\\core\\indexes\\base.py:3652\u001b[0m, in \u001b[0;36mIndex.get_loc\u001b[1;34m(self, key)\u001b[0m\n\u001b[0;32m   3651\u001b[0m \u001b[39mtry\u001b[39;00m:\n\u001b[1;32m-> 3652\u001b[0m     \u001b[39mreturn\u001b[39;00m \u001b[39mself\u001b[39;49m\u001b[39m.\u001b[39;49m_engine\u001b[39m.\u001b[39;49mget_loc(casted_key)\n\u001b[0;32m   3653\u001b[0m \u001b[39mexcept\u001b[39;00m \u001b[39mKeyError\u001b[39;00m \u001b[39mas\u001b[39;00m err:\n",
      "File \u001b[1;32mc:\\Users\\nikte\\.conda\\envs\\sna\\Lib\\site-packages\\pandas\\_libs\\index.pyx:147\u001b[0m, in \u001b[0;36mpandas._libs.index.IndexEngine.get_loc\u001b[1;34m()\u001b[0m\n",
      "File \u001b[1;32mc:\\Users\\nikte\\.conda\\envs\\sna\\Lib\\site-packages\\pandas\\_libs\\index.pyx:176\u001b[0m, in \u001b[0;36mpandas._libs.index.IndexEngine.get_loc\u001b[1;34m()\u001b[0m\n",
      "File \u001b[1;32mpandas\\_libs\\hashtable_class_helper.pxi:2606\u001b[0m, in \u001b[0;36mpandas._libs.hashtable.Int64HashTable.get_item\u001b[1;34m()\u001b[0m\n",
      "File \u001b[1;32mpandas\\_libs\\hashtable_class_helper.pxi:2630\u001b[0m, in \u001b[0;36mpandas._libs.hashtable.Int64HashTable.get_item\u001b[1;34m()\u001b[0m\n",
      "\u001b[1;31mKeyError\u001b[0m: 14",
      "\nThe above exception was the direct cause of the following exception:\n",
      "\u001b[1;31mKeyError\u001b[0m                                  Traceback (most recent call last)",
      "Cell \u001b[1;32mIn[20], line 1\u001b[0m\n\u001b[1;32m----> 1\u001b[0m members\u001b[39m.\u001b[39;49mgroupby(\u001b[39m'\u001b[39;49m\u001b[39mcommunityId\u001b[39;49m\u001b[39m'\u001b[39;49m)[\u001b[39m'\u001b[39;49m\u001b[39mlabel\u001b[39;49m\u001b[39m'\u001b[39;49m]\u001b[39m.\u001b[39;49mapply(\u001b[39mlist\u001b[39;49m)[\u001b[39m14\u001b[39;49m] \u001b[39m# The North and further north\u001b[39;00m\n",
      "File \u001b[1;32mc:\\Users\\nikte\\.conda\\envs\\sna\\Lib\\site-packages\\pandas\\core\\series.py:1012\u001b[0m, in \u001b[0;36mSeries.__getitem__\u001b[1;34m(self, key)\u001b[0m\n\u001b[0;32m   1009\u001b[0m     \u001b[39mreturn\u001b[39;00m \u001b[39mself\u001b[39m\u001b[39m.\u001b[39m_values[key]\n\u001b[0;32m   1011\u001b[0m \u001b[39melif\u001b[39;00m key_is_scalar:\n\u001b[1;32m-> 1012\u001b[0m     \u001b[39mreturn\u001b[39;00m \u001b[39mself\u001b[39;49m\u001b[39m.\u001b[39;49m_get_value(key)\n\u001b[0;32m   1014\u001b[0m \u001b[39mif\u001b[39;00m is_hashable(key):\n\u001b[0;32m   1015\u001b[0m     \u001b[39m# Otherwise index.get_value will raise InvalidIndexError\u001b[39;00m\n\u001b[0;32m   1016\u001b[0m     \u001b[39mtry\u001b[39;00m:\n\u001b[0;32m   1017\u001b[0m         \u001b[39m# For labels that don't resolve as scalars like tuples and frozensets\u001b[39;00m\n",
      "File \u001b[1;32mc:\\Users\\nikte\\.conda\\envs\\sna\\Lib\\site-packages\\pandas\\core\\series.py:1121\u001b[0m, in \u001b[0;36mSeries._get_value\u001b[1;34m(self, label, takeable)\u001b[0m\n\u001b[0;32m   1118\u001b[0m     \u001b[39mreturn\u001b[39;00m \u001b[39mself\u001b[39m\u001b[39m.\u001b[39m_values[label]\n\u001b[0;32m   1120\u001b[0m \u001b[39m# Similar to Index.get_value, but we do not fall back to positional\u001b[39;00m\n\u001b[1;32m-> 1121\u001b[0m loc \u001b[39m=\u001b[39m \u001b[39mself\u001b[39;49m\u001b[39m.\u001b[39;49mindex\u001b[39m.\u001b[39;49mget_loc(label)\n\u001b[0;32m   1123\u001b[0m \u001b[39mif\u001b[39;00m is_integer(loc):\n\u001b[0;32m   1124\u001b[0m     \u001b[39mreturn\u001b[39;00m \u001b[39mself\u001b[39m\u001b[39m.\u001b[39m_values[loc]\n",
      "File \u001b[1;32mc:\\Users\\nikte\\.conda\\envs\\sna\\Lib\\site-packages\\pandas\\core\\indexes\\base.py:3654\u001b[0m, in \u001b[0;36mIndex.get_loc\u001b[1;34m(self, key)\u001b[0m\n\u001b[0;32m   3652\u001b[0m     \u001b[39mreturn\u001b[39;00m \u001b[39mself\u001b[39m\u001b[39m.\u001b[39m_engine\u001b[39m.\u001b[39mget_loc(casted_key)\n\u001b[0;32m   3653\u001b[0m \u001b[39mexcept\u001b[39;00m \u001b[39mKeyError\u001b[39;00m \u001b[39mas\u001b[39;00m err:\n\u001b[1;32m-> 3654\u001b[0m     \u001b[39mraise\u001b[39;00m \u001b[39mKeyError\u001b[39;00m(key) \u001b[39mfrom\u001b[39;00m \u001b[39merr\u001b[39;00m\n\u001b[0;32m   3655\u001b[0m \u001b[39mexcept\u001b[39;00m \u001b[39mTypeError\u001b[39;00m:\n\u001b[0;32m   3656\u001b[0m     \u001b[39m# If we have a listlike key, _check_indexing_error will raise\u001b[39;00m\n\u001b[0;32m   3657\u001b[0m     \u001b[39m#  InvalidIndexError. Otherwise we fall through and re-raise\u001b[39;00m\n\u001b[0;32m   3658\u001b[0m     \u001b[39m#  the TypeError.\u001b[39;00m\n\u001b[0;32m   3659\u001b[0m     \u001b[39mself\u001b[39m\u001b[39m.\u001b[39m_check_indexing_error(key)\n",
      "\u001b[1;31mKeyError\u001b[0m: 14"
     ]
    }
   ],
   "source": [
    "members.groupby('communityId')['label'].apply(list)[14] # The North and further north"
   ]
  },
  {
   "cell_type": "code",
   "execution_count": 21,
   "metadata": {},
   "outputs": [
    {
     "data": {
      "text/html": [
       "<table><tr><th>communityCount</th></tr><tr><td style=\"text-align:right\">8</td></tr></table>"
      ],
      "text/plain": [
       " communityCount \n",
       "----------------\n",
       "              8 "
      ]
     },
     "execution_count": 21,
     "metadata": {},
     "output_type": "execute_result"
    }
   ],
   "source": [
    "# The following will run the algorithm and returns the result in form of statistical and measurement values:\n",
    "query = \"\"\"\n",
    "CALL gds.beta.leiden.stats('Got1', {randomSeed:19 })\n",
    "YIELD communityCount\n",
    "\"\"\"\n",
    "graph.run(query)"
   ]
  },
  {
   "cell_type": "code",
   "execution_count": 8,
   "metadata": {},
   "outputs": [
    {
     "data": {
      "text/html": [
       "<table><tr><th>communityCount</th><th>modularity</th><th>modularities</th></tr><tr><td style=\"text-align:right\">8</td><td style=\"text-align:right\">0.4929617871546674</td><td style=\"text-align:left\">[0.47254461221994254, 0.48356667615367693, 0.4929617871546674]</td></tr></table>"
      ],
      "text/plain": [
       " communityCount |         modularity | modularities                                                   \n",
       "----------------|--------------------|----------------------------------------------------------------\n",
       "              8 | 0.4929617871546674 | [0.47254461221994254, 0.48356667615367693, 0.4929617871546674] "
      ]
     },
     "execution_count": 8,
     "metadata": {},
     "output_type": "execute_result"
    }
   ],
   "source": [
    "# The following run the algorithm, and write back results:\n",
    "query = \"\"\"\n",
    "CALL gds.beta.leiden.write('Got1', { randomSeed:19, writeProperty: 'community_S1234' })\n",
    "YIELD communityCount, modularity, modularities\n",
    "\"\"\"\n",
    "graph.run(query)"
   ]
  },
  {
   "cell_type": "markdown",
   "metadata": {},
   "source": [
    "<img src=\"images\\bloom-visualisation_season1234.png\"\n",
    "     style=\"float: left; margin-right: 10px;\" />"
   ]
  },
  {
   "cell_type": "markdown",
   "metadata": {},
   "source": [
    "### 5 Centrality Measures"
   ]
  },
  {
   "cell_type": "code",
   "execution_count": 9,
   "metadata": {},
   "outputs": [
    {
     "data": {
      "text/html": [
       "<div>\n",
       "<style scoped>\n",
       "    .dataframe tbody tr th:only-of-type {\n",
       "        vertical-align: middle;\n",
       "    }\n",
       "\n",
       "    .dataframe tbody tr th {\n",
       "        vertical-align: top;\n",
       "    }\n",
       "\n",
       "    .dataframe thead th {\n",
       "        text-align: right;\n",
       "    }\n",
       "</style>\n",
       "<table border=\"1\" class=\"dataframe\">\n",
       "  <thead>\n",
       "    <tr style=\"text-align: right;\">\n",
       "      <th></th>\n",
       "      <th>name</th>\n",
       "      <th>score</th>\n",
       "    </tr>\n",
       "  </thead>\n",
       "  <tbody>\n",
       "    <tr>\n",
       "      <th>0</th>\n",
       "      <td>TYRION</td>\n",
       "      <td>138.0</td>\n",
       "    </tr>\n",
       "    <tr>\n",
       "      <th>1</th>\n",
       "      <td>JOFFREY</td>\n",
       "      <td>125.0</td>\n",
       "    </tr>\n",
       "    <tr>\n",
       "      <th>2</th>\n",
       "      <td>CERSEI</td>\n",
       "      <td>114.0</td>\n",
       "    </tr>\n",
       "    <tr>\n",
       "      <th>3</th>\n",
       "      <td>NED</td>\n",
       "      <td>110.0</td>\n",
       "    </tr>\n",
       "    <tr>\n",
       "      <th>4</th>\n",
       "      <td>TYWIN</td>\n",
       "      <td>100.0</td>\n",
       "    </tr>\n",
       "  </tbody>\n",
       "</table>\n",
       "</div>"
      ],
      "text/plain": [
       "      name  score\n",
       "0   TYRION  138.0\n",
       "1  JOFFREY  125.0\n",
       "2   CERSEI  114.0\n",
       "3      NED  110.0\n",
       "4    TYWIN  100.0"
      ]
     },
     "execution_count": 9,
     "metadata": {},
     "output_type": "execute_result"
    }
   ],
   "source": [
    "# Degree\n",
    "query = \"\"\"\n",
    "CALL gds.degree.stream('Got1')\n",
    "YIELD nodeId, score\n",
    "RETURN gds.util.asNode(nodeId).id AS name, score\n",
    "ORDER BY score DESC\n",
    "LIMIT 5\n",
    "\"\"\"\n",
    "graph.run(query).to_data_frame()"
   ]
  },
  {
   "cell_type": "code",
   "execution_count": 10,
   "metadata": {},
   "outputs": [
    {
     "data": {
      "text/html": [
       "<div>\n",
       "<style scoped>\n",
       "    .dataframe tbody tr th:only-of-type {\n",
       "        vertical-align: middle;\n",
       "    }\n",
       "\n",
       "    .dataframe tbody tr th {\n",
       "        vertical-align: top;\n",
       "    }\n",
       "\n",
       "    .dataframe thead th {\n",
       "        text-align: right;\n",
       "    }\n",
       "</style>\n",
       "<table border=\"1\" class=\"dataframe\">\n",
       "  <thead>\n",
       "    <tr style=\"text-align: right;\">\n",
       "      <th></th>\n",
       "      <th>name</th>\n",
       "      <th>score</th>\n",
       "    </tr>\n",
       "  </thead>\n",
       "  <tbody>\n",
       "    <tr>\n",
       "      <th>0</th>\n",
       "      <td>TYRION</td>\n",
       "      <td>3212.0</td>\n",
       "    </tr>\n",
       "    <tr>\n",
       "      <th>1</th>\n",
       "      <td>CERSEI</td>\n",
       "      <td>1979.0</td>\n",
       "    </tr>\n",
       "    <tr>\n",
       "      <th>2</th>\n",
       "      <td>JON</td>\n",
       "      <td>1791.0</td>\n",
       "    </tr>\n",
       "    <tr>\n",
       "      <th>3</th>\n",
       "      <td>SANSA</td>\n",
       "      <td>1585.0</td>\n",
       "    </tr>\n",
       "    <tr>\n",
       "      <th>4</th>\n",
       "      <td>DAENERYS</td>\n",
       "      <td>1561.0</td>\n",
       "    </tr>\n",
       "  </tbody>\n",
       "</table>\n",
       "</div>"
      ],
      "text/plain": [
       "       name   score\n",
       "0    TYRION  3212.0\n",
       "1    CERSEI  1979.0\n",
       "2       JON  1791.0\n",
       "3     SANSA  1585.0\n",
       "4  DAENERYS  1561.0"
      ]
     },
     "execution_count": 10,
     "metadata": {},
     "output_type": "execute_result"
    }
   ],
   "source": [
    "# Weighted Degree\n",
    "query = \"\"\"\n",
    "CALL gds.degree.stream(\n",
    "   'Got1',\n",
    "   { relationshipWeightProperty: 'weight' }\n",
    ")\n",
    "YIELD nodeId, score\n",
    "RETURN gds.util.asNode(nodeId).id AS name, score\n",
    "ORDER BY score DESC\n",
    "LIMIT 5\n",
    "\"\"\"\n",
    "graph.run(query).to_data_frame()"
   ]
  },
  {
   "cell_type": "code",
   "execution_count": 11,
   "metadata": {},
   "outputs": [
    {
     "data": {
      "text/html": [
       "<div>\n",
       "<style scoped>\n",
       "    .dataframe tbody tr th:only-of-type {\n",
       "        vertical-align: middle;\n",
       "    }\n",
       "\n",
       "    .dataframe tbody tr th {\n",
       "        vertical-align: top;\n",
       "    }\n",
       "\n",
       "    .dataframe thead th {\n",
       "        text-align: right;\n",
       "    }\n",
       "</style>\n",
       "<table border=\"1\" class=\"dataframe\">\n",
       "  <thead>\n",
       "    <tr style=\"text-align: right;\">\n",
       "      <th></th>\n",
       "      <th>name</th>\n",
       "      <th>score</th>\n",
       "    </tr>\n",
       "  </thead>\n",
       "  <tbody>\n",
       "    <tr>\n",
       "      <th>0</th>\n",
       "      <td>JOFFREY</td>\n",
       "      <td>0.296271</td>\n",
       "    </tr>\n",
       "    <tr>\n",
       "      <th>1</th>\n",
       "      <td>TYRION</td>\n",
       "      <td>0.282599</td>\n",
       "    </tr>\n",
       "    <tr>\n",
       "      <th>2</th>\n",
       "      <td>CERSEI</td>\n",
       "      <td>0.275806</td>\n",
       "    </tr>\n",
       "    <tr>\n",
       "      <th>3</th>\n",
       "      <td>SANSA</td>\n",
       "      <td>0.247159</td>\n",
       "    </tr>\n",
       "    <tr>\n",
       "      <th>4</th>\n",
       "      <td>TYWIN</td>\n",
       "      <td>0.242574</td>\n",
       "    </tr>\n",
       "  </tbody>\n",
       "</table>\n",
       "</div>"
      ],
      "text/plain": [
       "      name     score\n",
       "0  JOFFREY  0.296271\n",
       "1   TYRION  0.282599\n",
       "2   CERSEI  0.275806\n",
       "3    SANSA  0.247159\n",
       "4    TYWIN  0.242574"
      ]
     },
     "execution_count": 11,
     "metadata": {},
     "output_type": "execute_result"
    }
   ],
   "source": [
    "# Eigenvector\n",
    "query = \"\"\"\n",
    "CALL gds.eigenvector.stream('Got1')\n",
    "YIELD nodeId, score\n",
    "RETURN gds.util.asNode(nodeId).id AS name, score\n",
    "ORDER BY score DESC\n",
    "LIMIT 5\n",
    "\"\"\"\n",
    "graph.run(query).to_data_frame()"
   ]
  },
  {
   "cell_type": "code",
   "execution_count": 12,
   "metadata": {},
   "outputs": [
    {
     "data": {
      "text/html": [
       "<div>\n",
       "<style scoped>\n",
       "    .dataframe tbody tr th:only-of-type {\n",
       "        vertical-align: middle;\n",
       "    }\n",
       "\n",
       "    .dataframe tbody tr th {\n",
       "        vertical-align: top;\n",
       "    }\n",
       "\n",
       "    .dataframe thead th {\n",
       "        text-align: right;\n",
       "    }\n",
       "</style>\n",
       "<table border=\"1\" class=\"dataframe\">\n",
       "  <thead>\n",
       "    <tr style=\"text-align: right;\">\n",
       "      <th></th>\n",
       "      <th>page</th>\n",
       "      <th>score</th>\n",
       "    </tr>\n",
       "  </thead>\n",
       "  <tbody>\n",
       "    <tr>\n",
       "      <th>0</th>\n",
       "      <td>TYRION</td>\n",
       "      <td>7.631802</td>\n",
       "    </tr>\n",
       "    <tr>\n",
       "      <th>1</th>\n",
       "      <td>JOFFREY</td>\n",
       "      <td>6.333186</td>\n",
       "    </tr>\n",
       "    <tr>\n",
       "      <th>2</th>\n",
       "      <td>NED</td>\n",
       "      <td>6.022508</td>\n",
       "    </tr>\n",
       "    <tr>\n",
       "      <th>3</th>\n",
       "      <td>ARYA</td>\n",
       "      <td>6.019449</td>\n",
       "    </tr>\n",
       "    <tr>\n",
       "      <th>4</th>\n",
       "      <td>CERSEI</td>\n",
       "      <td>5.648543</td>\n",
       "    </tr>\n",
       "  </tbody>\n",
       "</table>\n",
       "</div>"
      ],
      "text/plain": [
       "      page     score\n",
       "0   TYRION  7.631802\n",
       "1  JOFFREY  6.333186\n",
       "2      NED  6.022508\n",
       "3     ARYA  6.019449\n",
       "4   CERSEI  5.648543"
      ]
     },
     "execution_count": 12,
     "metadata": {},
     "output_type": "execute_result"
    }
   ],
   "source": [
    "# Pagerank\n",
    "query = \"\"\"\n",
    "CALL gds.pageRank.stream('Got1',  {maxIterations: 20,  dampingFactor: 0.85})\n",
    "YIELD nodeId, score\n",
    "RETURN gds.util.asNode(nodeId).id AS page, score\n",
    "ORDER BY score DESC\n",
    "LIMIT 5\n",
    "\"\"\"\n",
    "graph.run(query).to_data_frame()"
   ]
  },
  {
   "cell_type": "code",
   "execution_count": 13,
   "metadata": {},
   "outputs": [
    {
     "data": {
      "text/html": [
       "<div>\n",
       "<style scoped>\n",
       "    .dataframe tbody tr th:only-of-type {\n",
       "        vertical-align: middle;\n",
       "    }\n",
       "\n",
       "    .dataframe tbody tr th {\n",
       "        vertical-align: top;\n",
       "    }\n",
       "\n",
       "    .dataframe thead th {\n",
       "        text-align: right;\n",
       "    }\n",
       "</style>\n",
       "<table border=\"1\" class=\"dataframe\">\n",
       "  <thead>\n",
       "    <tr style=\"text-align: right;\">\n",
       "      <th></th>\n",
       "      <th>name</th>\n",
       "      <th>score</th>\n",
       "    </tr>\n",
       "  </thead>\n",
       "  <tbody>\n",
       "    <tr>\n",
       "      <th>0</th>\n",
       "      <td>TYRION</td>\n",
       "      <td>6869.916676</td>\n",
       "    </tr>\n",
       "    <tr>\n",
       "      <th>1</th>\n",
       "      <td>DAENERYS</td>\n",
       "      <td>6867.406307</td>\n",
       "    </tr>\n",
       "    <tr>\n",
       "      <th>2</th>\n",
       "      <td>NED</td>\n",
       "      <td>6765.354456</td>\n",
       "    </tr>\n",
       "    <tr>\n",
       "      <th>3</th>\n",
       "      <td>JON</td>\n",
       "      <td>5999.762027</td>\n",
       "    </tr>\n",
       "    <tr>\n",
       "      <th>4</th>\n",
       "      <td>ARYA</td>\n",
       "      <td>5068.881863</td>\n",
       "    </tr>\n",
       "  </tbody>\n",
       "</table>\n",
       "</div>"
      ],
      "text/plain": [
       "       name        score\n",
       "0    TYRION  6869.916676\n",
       "1  DAENERYS  6867.406307\n",
       "2       NED  6765.354456\n",
       "3       JON  5999.762027\n",
       "4      ARYA  5068.881863"
      ]
     },
     "execution_count": 13,
     "metadata": {},
     "output_type": "execute_result"
    }
   ],
   "source": [
    "# Betweenness\n",
    "query = \"\"\"\n",
    "CALL gds.betweenness.stream('Got1')\n",
    "YIELD nodeId, score\n",
    "RETURN gds.util.asNode(nodeId).id AS name, score\n",
    "ORDER BY score DESC\n",
    "LIMIT 5\n",
    "\"\"\"\n",
    "graph.run(query).to_data_frame()"
   ]
  },
  {
   "cell_type": "markdown",
   "metadata": {},
   "source": [
    "### Discussion"
   ]
  },
  {
   "cell_type": "markdown",
   "metadata": {},
   "source": [
    "<tr>\n",
    "    <td><img src=\"https://upload.wikimedia.org/wikipedia/en/e/e8/Game_of_Thrones_Season_1.jpg\" width=270 height=480></td>\n",
    "    <td><img src=\"https://upload.wikimedia.org/wikipedia/en/c/c2/Game_of_Thrones_Season_2.jpg\" width=270 height=480></td>\n",
    "    <td><img src=\"https://upload.wikimedia.org/wikipedia/en/1/1d/Game_of_Thrones_Season_3.jpg\" width=270 height=480></td>\n",
    "    <td><img src=\"https://upload.wikimedia.org/wikipedia/en/8/80/Game_of_Thrones_Season_4.jpg\" width=270 height=480></td>\n",
    "</tr>"
   ]
  },
  {
   "cell_type": "markdown",
   "metadata": {},
   "source": [
    "Analyzing the overall series of GOT starting from one up until 4 is a bit tricky as a lot has happened. Yet whenever looking at the bigger picture of all the centrality measures four names stand out: Tyrion, Joffrey, Cersei, and Ned.\n",
    "\n",
    "Ned has a high degree, PageRank, and betweenness. In season 1, Ned played the leading role as he was offered to be the right hand of Robert (king of the Iron Throne in season 1). Due to his position, he knew a lot of people and interacted also with a lot of important officials (this explains elevated levels of degree and PageRank). On top of this, Ned found out that Joffrey (crown prince) was not the biological son of Robert and that Cersei (the queen of the Iron Throne in season 1 and mother of Joffrey) cheated on the king with her older brother Jaime. Ned wanted to share this valuable information with Robert, yet he was unable to do so as Robert died in an accident. Before Ned had a chance to shame Cersei and take away the title from Joffrey, he was executed for so elledge treason (given by the command of Cersei). Ned was a well-respected man and was from the house of Starks. His death meant war and revenge. The fact that Ned knew the insest and the hunger for power Cersei, led him to become the center node of the graph, as he connected all the dots (hence this is the explanation for his high betweenness).\n",
    "\n",
    "In the series, Cersei plays a noticeably crucial role in making different arrangements in order to ensure that the Iron Throne stays inside the family, and she is willing to go as far as killing other people to ensure the power. All of this explains the high levels of degree, weighted degree, eigenvector, and PageRank.\n",
    "\n",
    "After the death of Robert and Ned, Joffrey became the next king of the Iron Throne. This explains his high levels of degree and eigenvector (i.e., knowing a lot of people (also influential politicians as Joffrey is now involved in the ruling of the kingdom) and interacting also with a lot of influential people (hence high levels of PageRank). During his rule, he assigns his grandfather Tywin (also father to Cersei) to be his right hand. But due to the war, Tywin gives his position to his younger son, Tyrion.\n",
    "\n",
    "During the whole show of The Game of Thrones, Tyrion feels left out by his family as he is being neglected and blamed by Cersei, Tywin, and Jamie for the death of his mother who died giving birth to him. Even when Tyrion becomes the right hand of Joffrey, he is not treated with respect or taken seriously, instead, people make fun of him. But Tyrion reaches his boiling point when he is accused of killing Joffrey with poison by Cersei, this allegation let him to change sides and flee to the other side of the kingdom where he meets Daenerys (i.e., the last descendant of Targaryen, her family initially owned the Iron Throne). In later seasons he will prove to be useful to her as he knows a lot about King's Landing (where the Iron Throne is situated). She is on a mission to reclaim her birthright to the throne and Tyrion is going to help her do this as revenge on Cersei. Notice how Tyrion is on the top of four out of five centrality measures. This means that he knows a lot of people (also important people), interacts a lot with important characters, and helps the network to connect overall (i.e., high degree, weighted degree, PageRank, and betweenness)."
   ]
  },
  {
   "cell_type": "markdown",
   "metadata": {},
   "source": [
    "## Explanatory analysis for Validation set (Seasons 5 and 6)"
   ]
  },
  {
   "cell_type": "markdown",
   "metadata": {},
   "source": [
    "### Leiden Algorithm"
   ]
  },
  {
   "cell_type": "code",
   "execution_count": 14,
   "metadata": {},
   "outputs": [
    {
     "data": {
      "text/html": [
       "<table><tr><th>nodeProjection</th><th>relationshipProjection</th><th>graphName</th><th>nodeCount</th><th>relationshipCount</th><th>projectMillis</th></tr><tr><td style=\"text-align:left\">{Person_6: {label: &#039;Person_6&#039;, properties: {seed: {defaultValue: null, property: &#039;seed&#039;}}}, Person_5: {label: &#039;Person_5&#039;, properties: {seed: {defaultValue: null, property: &#039;seed&#039;}}}}</td><td style=\"text-align:left\">{INTERACTS_6: {orientation: &#039;UNDIRECTED&#039;, indexInverse: false, aggregation: &#039;DEFAULT&#039;, type: &#039;INTERACTS_6&#039;, properties: {weight: {defaultValue: null, property: &#039;weight&#039;, aggregation: &#039;DEFAULT&#039;}}}, INTERACTS_5: {orientation: &#039;UNDIRECTED&#039;, indexInverse: false, aggregation: &#039;DEFAULT&#039;, type: &#039;INTERACTS_5&#039;, properties: {weight: {defaultValue: null, property: &#039;weight&#039;, aggregation: &#039;DEFAULT&#039;}}}}</td><td style=\"text-align:left\">Got2</td><td style=\"text-align:right\">188</td><td style=\"text-align:right\">1892</td><td style=\"text-align:right\">32</td></tr></table>"
      ],
      "text/plain": [
       " nodeProjection                                                                                                                                                                         | relationshipProjection                                                                                                                                                                                                                                                                                                                                                                                   | graphName | nodeCount | relationshipCount | projectMillis \n",
       "----------------------------------------------------------------------------------------------------------------------------------------------------------------------------------------|----------------------------------------------------------------------------------------------------------------------------------------------------------------------------------------------------------------------------------------------------------------------------------------------------------------------------------------------------------------------------------------------------------|-----------|-----------|-------------------|---------------\n",
       " {Person_6: {label: 'Person_6', properties: {seed: {defaultValue: null, property: 'seed'}}}, Person_5: {label: 'Person_5', properties: {seed: {defaultValue: null, property: 'seed'}}}} | {INTERACTS_6: {orientation: 'UNDIRECTED', indexInverse: false, aggregation: 'DEFAULT', type: 'INTERACTS_6', properties: {weight: {defaultValue: null, property: 'weight', aggregation: 'DEFAULT'}}}, INTERACTS_5: {orientation: 'UNDIRECTED', indexInverse: false, aggregation: 'DEFAULT', type: 'INTERACTS_5', properties: {weight: {defaultValue: null, property: 'weight', aggregation: 'DEFAULT'}}}} | Got2      |       188 |              1892 |            32 "
      ]
     },
     "execution_count": 14,
     "metadata": {},
     "output_type": "execute_result"
    }
   ],
   "source": [
    "#Building a grpah with season 5 and 6\n",
    "query = \"\"\" \n",
    "CALL gds.graph.project(\n",
    "    'Got2',\n",
    "    {\n",
    "        Person_5: {properties: 'seed' },\n",
    "        Person_6: {properties: 'seed' }\n",
    "    },\n",
    "    {\n",
    "        INTERACTS_5: {\n",
    "            orientation: 'UNDIRECTED',\n",
    "            properties: 'weight'\n",
    "        },\n",
    "        INTERACTS_6: {\n",
    "            orientation: 'UNDIRECTED',\n",
    "            properties: 'weight'\n",
    "        }\n",
    "    }\n",
    ")\n",
    "\"\"\"\n",
    "\n",
    "graph.run(query)"
   ]
  },
  {
   "cell_type": "code",
   "execution_count": 15,
   "metadata": {},
   "outputs": [
    {
     "data": {
      "text/html": [
       "<table><tr><th>nodeCount</th><th>relationshipCount</th><th>bytesMin</th><th>bytesMax</th><th>requiredMemory</th></tr><tr><td style=\"text-align:right\">188</td><td style=\"text-align:right\">1892</td><td style=\"text-align:right\">610416</td><td style=\"text-align:right\">615624</td><td style=\"text-align:left\">[596 KiB ... 601 KiB]</td></tr></table>"
      ],
      "text/plain": [
       " nodeCount | relationshipCount | bytesMin | bytesMax | requiredMemory        \n",
       "-----------|-------------------|----------|----------|-----------------------\n",
       "       188 |              1892 |   610416 |   615624 | [596 KiB ... 601 KiB] "
      ]
     },
     "execution_count": 15,
     "metadata": {},
     "output_type": "execute_result"
    }
   ],
   "source": [
    "# The following will estimate the memory requirements for running the algorithm:\n",
    "query = \"\"\"\n",
    "CALL gds.beta.leiden.write.estimate('Got2', { writeProperty: 'community_S56' })\n",
    "YIELD nodeCount, relationshipCount, bytesMin, bytesMax, requiredMemory\n",
    "\"\"\"\n",
    "graph.run(query)"
   ]
  },
  {
   "cell_type": "code",
   "execution_count": 16,
   "metadata": {},
   "outputs": [
    {
     "data": {
      "text/html": [
       "<div>\n",
       "<style scoped>\n",
       "    .dataframe tbody tr th:only-of-type {\n",
       "        vertical-align: middle;\n",
       "    }\n",
       "\n",
       "    .dataframe tbody tr th {\n",
       "        vertical-align: top;\n",
       "    }\n",
       "\n",
       "    .dataframe thead th {\n",
       "        text-align: right;\n",
       "    }\n",
       "</style>\n",
       "<table border=\"1\" class=\"dataframe\">\n",
       "  <thead>\n",
       "    <tr style=\"text-align: right;\">\n",
       "      <th></th>\n",
       "      <th>label</th>\n",
       "      <th>communityId</th>\n",
       "    </tr>\n",
       "  </thead>\n",
       "  <tbody>\n",
       "    <tr>\n",
       "      <th>0</th>\n",
       "      <td>Aegon</td>\n",
       "      <td>0</td>\n",
       "    </tr>\n",
       "    <tr>\n",
       "      <th>1</th>\n",
       "      <td>Aemon</td>\n",
       "      <td>0</td>\n",
       "    </tr>\n",
       "    <tr>\n",
       "      <th>2</th>\n",
       "      <td>Aeron</td>\n",
       "      <td>32</td>\n",
       "    </tr>\n",
       "    <tr>\n",
       "      <th>3</th>\n",
       "      <td>Aerys</td>\n",
       "      <td>10</td>\n",
       "    </tr>\n",
       "    <tr>\n",
       "      <th>4</th>\n",
       "      <td>Alliser</td>\n",
       "      <td>0</td>\n",
       "    </tr>\n",
       "    <tr>\n",
       "      <th>...</th>\n",
       "      <td>...</td>\n",
       "      <td>...</td>\n",
       "    </tr>\n",
       "    <tr>\n",
       "      <th>183</th>\n",
       "      <td>Wolkan</td>\n",
       "      <td>32</td>\n",
       "    </tr>\n",
       "    <tr>\n",
       "      <th>184</th>\n",
       "      <td>Wun Wun</td>\n",
       "      <td>0</td>\n",
       "    </tr>\n",
       "    <tr>\n",
       "      <th>185</th>\n",
       "      <td>Yara</td>\n",
       "      <td>32</td>\n",
       "    </tr>\n",
       "    <tr>\n",
       "      <th>186</th>\n",
       "      <td>Yezzan</td>\n",
       "      <td>10</td>\n",
       "    </tr>\n",
       "    <tr>\n",
       "      <th>187</th>\n",
       "      <td>Yohn</td>\n",
       "      <td>32</td>\n",
       "    </tr>\n",
       "  </tbody>\n",
       "</table>\n",
       "<p>188 rows × 2 columns</p>\n",
       "</div>"
      ],
      "text/plain": [
       "       label  communityId\n",
       "0      Aegon            0\n",
       "1      Aemon            0\n",
       "2      Aeron           32\n",
       "3      Aerys           10\n",
       "4    Alliser            0\n",
       "..       ...          ...\n",
       "183   Wolkan           32\n",
       "184  Wun Wun            0\n",
       "185     Yara           32\n",
       "186   Yezzan           10\n",
       "187     Yohn           32\n",
       "\n",
       "[188 rows x 2 columns]"
      ]
     },
     "execution_count": 16,
     "metadata": {},
     "output_type": "execute_result"
    }
   ],
   "source": [
    "# The following will run the algorithm and stream results:\n",
    "query = \"\"\"\n",
    "CALL gds.beta.leiden.stream('Got2', {seedProperty: 'seed', relationshipWeightProperty: 'weight'})\n",
    "YIELD nodeId, communityId, intermediateCommunityIds\n",
    "RETURN gds.util.asNode(nodeId).label AS label, communityId\n",
    "ORDER BY label ASC\n",
    "\"\"\"\n",
    "graph.run(query).to_data_frame()"
   ]
  },
  {
   "cell_type": "code",
   "execution_count": 17,
   "metadata": {},
   "outputs": [
    {
     "data": {
      "text/html": [
       "<table><tr><th>communityCount</th></tr><tr><td style=\"text-align:right\">8</td></tr></table>"
      ],
      "text/plain": [
       " communityCount \n",
       "----------------\n",
       "              8 "
      ]
     },
     "execution_count": 17,
     "metadata": {},
     "output_type": "execute_result"
    }
   ],
   "source": [
    "# The following will run the algorithm and returns the result in form of statistical and measurement values:\n",
    "query = \"\"\"\n",
    "CALL gds.beta.leiden.stats('Got2')\n",
    "YIELD communityCount\n",
    "\"\"\"\n",
    "graph.run(query)"
   ]
  },
  {
   "cell_type": "code",
   "execution_count": 18,
   "metadata": {
    "scrolled": true
   },
   "outputs": [
    {
     "data": {
      "text/html": [
       "<table><tr><th>communityCount</th><th>modularity</th><th>modularities</th></tr><tr><td style=\"text-align:right\">8</td><td style=\"text-align:right\">0.6052791546916135</td><td style=\"text-align:left\">[0.5687645544386289, 0.594723974093658, 0.6052791546916135]</td></tr></table>"
      ],
      "text/plain": [
       " communityCount |         modularity | modularities                                                \n",
       "----------------|--------------------|-------------------------------------------------------------\n",
       "              8 | 0.6052791546916135 | [0.5687645544386289, 0.594723974093658, 0.6052791546916135] "
      ]
     },
     "execution_count": 18,
     "metadata": {},
     "output_type": "execute_result"
    }
   ],
   "source": [
    "# The following run the algorithm, and write back results:\n",
    "query = \"\"\"\n",
    "CALL gds.beta.leiden.write('Got2', { writeProperty: 'community_S56' })\n",
    "YIELD communityCount, modularity, modularities\n",
    "\"\"\"\n",
    "graph.run(query)"
   ]
  },
  {
   "cell_type": "markdown",
   "metadata": {},
   "source": [
    "<img src=\"images\\bloom-visualisation_season56.png\"\n",
    "     style=\"float: left; margin-right: 10px;\" />"
   ]
  },
  {
   "cell_type": "markdown",
   "metadata": {},
   "source": [
    "### 5 Centrality Measures"
   ]
  },
  {
   "cell_type": "code",
   "execution_count": 19,
   "metadata": {},
   "outputs": [
    {
     "data": {
      "text/html": [
       "<div>\n",
       "<style scoped>\n",
       "    .dataframe tbody tr th:only-of-type {\n",
       "        vertical-align: middle;\n",
       "    }\n",
       "\n",
       "    .dataframe tbody tr th {\n",
       "        vertical-align: top;\n",
       "    }\n",
       "\n",
       "    .dataframe thead th {\n",
       "        text-align: right;\n",
       "    }\n",
       "</style>\n",
       "<table border=\"1\" class=\"dataframe\">\n",
       "  <thead>\n",
       "    <tr style=\"text-align: right;\">\n",
       "      <th></th>\n",
       "      <th>name</th>\n",
       "      <th>score</th>\n",
       "    </tr>\n",
       "  </thead>\n",
       "  <tbody>\n",
       "    <tr>\n",
       "      <th>0</th>\n",
       "      <td>SANSA</td>\n",
       "      <td>62.0</td>\n",
       "    </tr>\n",
       "    <tr>\n",
       "      <th>1</th>\n",
       "      <td>CERSEI</td>\n",
       "      <td>58.0</td>\n",
       "    </tr>\n",
       "    <tr>\n",
       "      <th>2</th>\n",
       "      <td>JON</td>\n",
       "      <td>56.0</td>\n",
       "    </tr>\n",
       "    <tr>\n",
       "      <th>3</th>\n",
       "      <td>TYRION</td>\n",
       "      <td>45.0</td>\n",
       "    </tr>\n",
       "    <tr>\n",
       "      <th>4</th>\n",
       "      <td>JAIME</td>\n",
       "      <td>41.0</td>\n",
       "    </tr>\n",
       "  </tbody>\n",
       "</table>\n",
       "</div>"
      ],
      "text/plain": [
       "     name  score\n",
       "0   SANSA   62.0\n",
       "1  CERSEI   58.0\n",
       "2     JON   56.0\n",
       "3  TYRION   45.0\n",
       "4   JAIME   41.0"
      ]
     },
     "execution_count": 19,
     "metadata": {},
     "output_type": "execute_result"
    }
   ],
   "source": [
    "# Degree\n",
    "query = \"\"\"\n",
    "CALL gds.degree.stream('Got2')\n",
    "YIELD nodeId, score\n",
    "RETURN gds.util.asNode(nodeId).id AS name, score\n",
    "ORDER BY score DESC\n",
    "LIMIT 5\n",
    "\"\"\"\n",
    "graph.run(query).to_data_frame()"
   ]
  },
  {
   "cell_type": "code",
   "execution_count": 20,
   "metadata": {},
   "outputs": [
    {
     "data": {
      "text/html": [
       "<div>\n",
       "<style scoped>\n",
       "    .dataframe tbody tr th:only-of-type {\n",
       "        vertical-align: middle;\n",
       "    }\n",
       "\n",
       "    .dataframe tbody tr th {\n",
       "        vertical-align: top;\n",
       "    }\n",
       "\n",
       "    .dataframe thead th {\n",
       "        text-align: right;\n",
       "    }\n",
       "</style>\n",
       "<table border=\"1\" class=\"dataframe\">\n",
       "  <thead>\n",
       "    <tr style=\"text-align: right;\">\n",
       "      <th></th>\n",
       "      <th>name</th>\n",
       "      <th>score</th>\n",
       "    </tr>\n",
       "  </thead>\n",
       "  <tbody>\n",
       "    <tr>\n",
       "      <th>0</th>\n",
       "      <td>JON</td>\n",
       "      <td>1150.0</td>\n",
       "    </tr>\n",
       "    <tr>\n",
       "      <th>1</th>\n",
       "      <td>CERSEI</td>\n",
       "      <td>924.0</td>\n",
       "    </tr>\n",
       "    <tr>\n",
       "      <th>2</th>\n",
       "      <td>TYRION</td>\n",
       "      <td>922.0</td>\n",
       "    </tr>\n",
       "    <tr>\n",
       "      <th>3</th>\n",
       "      <td>SANSA</td>\n",
       "      <td>913.0</td>\n",
       "    </tr>\n",
       "    <tr>\n",
       "      <th>4</th>\n",
       "      <td>JAIME</td>\n",
       "      <td>735.0</td>\n",
       "    </tr>\n",
       "  </tbody>\n",
       "</table>\n",
       "</div>"
      ],
      "text/plain": [
       "     name   score\n",
       "0     JON  1150.0\n",
       "1  CERSEI   924.0\n",
       "2  TYRION   922.0\n",
       "3   SANSA   913.0\n",
       "4   JAIME   735.0"
      ]
     },
     "execution_count": 20,
     "metadata": {},
     "output_type": "execute_result"
    }
   ],
   "source": [
    "# Weighted Degree\n",
    "query = \"\"\"\n",
    "CALL gds.degree.stream(\n",
    "   'Got2',\n",
    "   { relationshipWeightProperty: 'weight' }\n",
    ")\n",
    "YIELD nodeId, score\n",
    "RETURN gds.util.asNode(nodeId).id AS name, score\n",
    "ORDER BY score DESC\n",
    "LIMIT 5\n",
    "\"\"\"\n",
    "graph.run(query).to_data_frame()"
   ]
  },
  {
   "cell_type": "code",
   "execution_count": 21,
   "metadata": {},
   "outputs": [
    {
     "data": {
      "text/html": [
       "<div>\n",
       "<style scoped>\n",
       "    .dataframe tbody tr th:only-of-type {\n",
       "        vertical-align: middle;\n",
       "    }\n",
       "\n",
       "    .dataframe tbody tr th {\n",
       "        vertical-align: top;\n",
       "    }\n",
       "\n",
       "    .dataframe thead th {\n",
       "        text-align: right;\n",
       "    }\n",
       "</style>\n",
       "<table border=\"1\" class=\"dataframe\">\n",
       "  <thead>\n",
       "    <tr style=\"text-align: right;\">\n",
       "      <th></th>\n",
       "      <th>name</th>\n",
       "      <th>score</th>\n",
       "    </tr>\n",
       "  </thead>\n",
       "  <tbody>\n",
       "    <tr>\n",
       "      <th>0</th>\n",
       "      <td>SANSA</td>\n",
       "      <td>0.326439</td>\n",
       "    </tr>\n",
       "    <tr>\n",
       "      <th>1</th>\n",
       "      <td>CERSEI</td>\n",
       "      <td>0.270071</td>\n",
       "    </tr>\n",
       "    <tr>\n",
       "      <th>2</th>\n",
       "      <td>JON</td>\n",
       "      <td>0.250806</td>\n",
       "    </tr>\n",
       "    <tr>\n",
       "      <th>3</th>\n",
       "      <td>LITTLEFINGER</td>\n",
       "      <td>0.201531</td>\n",
       "    </tr>\n",
       "    <tr>\n",
       "      <th>4</th>\n",
       "      <td>STANNIS</td>\n",
       "      <td>0.199998</td>\n",
       "    </tr>\n",
       "  </tbody>\n",
       "</table>\n",
       "</div>"
      ],
      "text/plain": [
       "           name     score\n",
       "0         SANSA  0.326439\n",
       "1        CERSEI  0.270071\n",
       "2           JON  0.250806\n",
       "3  LITTLEFINGER  0.201531\n",
       "4       STANNIS  0.199998"
      ]
     },
     "execution_count": 21,
     "metadata": {},
     "output_type": "execute_result"
    }
   ],
   "source": [
    "# Eigenvector\n",
    "query = \"\"\"\n",
    "CALL gds.eigenvector.stream('Got2')\n",
    "YIELD nodeId, score\n",
    "RETURN gds.util.asNode(nodeId).id AS name, score\n",
    "ORDER BY score DESC\n",
    "LIMIT 5\n",
    "\"\"\"\n",
    "graph.run(query).to_data_frame()"
   ]
  },
  {
   "cell_type": "code",
   "execution_count": 22,
   "metadata": {},
   "outputs": [
    {
     "data": {
      "text/html": [
       "<div>\n",
       "<style scoped>\n",
       "    .dataframe tbody tr th:only-of-type {\n",
       "        vertical-align: middle;\n",
       "    }\n",
       "\n",
       "    .dataframe tbody tr th {\n",
       "        vertical-align: top;\n",
       "    }\n",
       "\n",
       "    .dataframe thead th {\n",
       "        text-align: right;\n",
       "    }\n",
       "</style>\n",
       "<table border=\"1\" class=\"dataframe\">\n",
       "  <thead>\n",
       "    <tr style=\"text-align: right;\">\n",
       "      <th></th>\n",
       "      <th>page</th>\n",
       "      <th>score</th>\n",
       "    </tr>\n",
       "  </thead>\n",
       "  <tbody>\n",
       "    <tr>\n",
       "      <th>0</th>\n",
       "      <td>JON</td>\n",
       "      <td>4.703863</td>\n",
       "    </tr>\n",
       "    <tr>\n",
       "      <th>1</th>\n",
       "      <td>SANSA</td>\n",
       "      <td>4.685592</td>\n",
       "    </tr>\n",
       "    <tr>\n",
       "      <th>2</th>\n",
       "      <td>CERSEI</td>\n",
       "      <td>4.273345</td>\n",
       "    </tr>\n",
       "    <tr>\n",
       "      <th>3</th>\n",
       "      <td>TYRION</td>\n",
       "      <td>3.870091</td>\n",
       "    </tr>\n",
       "    <tr>\n",
       "      <th>4</th>\n",
       "      <td>JAIME</td>\n",
       "      <td>3.251898</td>\n",
       "    </tr>\n",
       "  </tbody>\n",
       "</table>\n",
       "</div>"
      ],
      "text/plain": [
       "     page     score\n",
       "0     JON  4.703863\n",
       "1   SANSA  4.685592\n",
       "2  CERSEI  4.273345\n",
       "3  TYRION  3.870091\n",
       "4   JAIME  3.251898"
      ]
     },
     "execution_count": 22,
     "metadata": {},
     "output_type": "execute_result"
    }
   ],
   "source": [
    "# Pagerank\n",
    "query = \"\"\"\n",
    "CALL gds.pageRank.stream('Got2',  {maxIterations: 20,  dampingFactor: 0.85})\n",
    "YIELD nodeId, score\n",
    "RETURN gds.util.asNode(nodeId).id AS page, score\n",
    "ORDER BY score DESC\n",
    "LIMIT 5\n",
    "\"\"\"\n",
    "graph.run(query).to_data_frame()"
   ]
  },
  {
   "cell_type": "code",
   "execution_count": 23,
   "metadata": {},
   "outputs": [
    {
     "data": {
      "text/html": [
       "<div>\n",
       "<style scoped>\n",
       "    .dataframe tbody tr th:only-of-type {\n",
       "        vertical-align: middle;\n",
       "    }\n",
       "\n",
       "    .dataframe tbody tr th {\n",
       "        vertical-align: top;\n",
       "    }\n",
       "\n",
       "    .dataframe thead th {\n",
       "        text-align: right;\n",
       "    }\n",
       "</style>\n",
       "<table border=\"1\" class=\"dataframe\">\n",
       "  <thead>\n",
       "    <tr style=\"text-align: right;\">\n",
       "      <th></th>\n",
       "      <th>name</th>\n",
       "      <th>score</th>\n",
       "    </tr>\n",
       "  </thead>\n",
       "  <tbody>\n",
       "    <tr>\n",
       "      <th>0</th>\n",
       "      <td>SANSA</td>\n",
       "      <td>3249.913507</td>\n",
       "    </tr>\n",
       "    <tr>\n",
       "      <th>1</th>\n",
       "      <td>JON</td>\n",
       "      <td>2809.363537</td>\n",
       "    </tr>\n",
       "    <tr>\n",
       "      <th>2</th>\n",
       "      <td>TYRION</td>\n",
       "      <td>2453.560830</td>\n",
       "    </tr>\n",
       "    <tr>\n",
       "      <th>3</th>\n",
       "      <td>JAIME</td>\n",
       "      <td>2244.448242</td>\n",
       "    </tr>\n",
       "    <tr>\n",
       "      <th>4</th>\n",
       "      <td>CERSEI</td>\n",
       "      <td>2073.401141</td>\n",
       "    </tr>\n",
       "  </tbody>\n",
       "</table>\n",
       "</div>"
      ],
      "text/plain": [
       "     name        score\n",
       "0   SANSA  3249.913507\n",
       "1     JON  2809.363537\n",
       "2  TYRION  2453.560830\n",
       "3   JAIME  2244.448242\n",
       "4  CERSEI  2073.401141"
      ]
     },
     "execution_count": 23,
     "metadata": {},
     "output_type": "execute_result"
    }
   ],
   "source": [
    "# Betweenness\n",
    "query = \"\"\"\n",
    "CALL gds.betweenness.stream('Got2')\n",
    "YIELD nodeId, score\n",
    "RETURN gds.util.asNode(nodeId).id AS name, score\n",
    "ORDER BY score DESC\n",
    "LIMIT 5\n",
    "\"\"\"\n",
    "graph.run(query).to_data_frame()"
   ]
  },
  {
   "cell_type": "markdown",
   "metadata": {},
   "source": [
    "### Discussion"
   ]
  },
  {
   "cell_type": "markdown",
   "metadata": {},
   "source": [
    "<tr>\n",
    "    <td><img src=\"https://upload.wikimedia.org/wikipedia/en/5/59/Game_of_Thrones_Season_5.png\" width=270 height=480></td>\n",
    "    <td><img src=\"https://upload.wikimedia.org/wikipedia/en/d/d1/Game_of_Thrones_Season_6.jpeg\" width=270 height=480></td>\n",
    "</tr>"
   ]
  },
  {
   "cell_type": "markdown",
   "metadata": {},
   "source": [
    "Season 5 and 6 are two of the most important seasons in the series. These are the seasons where the characters move to their allies and major power struggles begin. Sansa, Jon and Cersie are seen to be the most important people in these seasons. They top all the 5 centrality categories. Several important events involving these characters are seen in these seasons. Jon gets killed and rises back from the dead, Sansa wins the battle of Bastards for Jon and Cersei demolishes all her enemies in the Kings Landing. These are the seasons where the show picks up pace and is on a cruise to the inevitable War against the White Walkers. "
   ]
  },
  {
   "cell_type": "markdown",
   "metadata": {},
   "source": [
    "## Explanatory analysis for Testing set (Seasons 7 and 8)"
   ]
  },
  {
   "cell_type": "markdown",
   "metadata": {},
   "source": [
    "### Leiden Algorithm"
   ]
  },
  {
   "cell_type": "code",
   "execution_count": 12,
   "metadata": {},
   "outputs": [
    {
     "data": {
      "text/html": [
       "<table><tr><th>nodeProjection</th><th>relationshipProjection</th><th>graphName</th><th>nodeCount</th><th>relationshipCount</th><th>projectMillis</th></tr><tr><td style=\"text-align:left\">{Person_7: {label: &#039;Person_7&#039;, properties: {seed: {defaultValue: null, property: &#039;seed&#039;}}}, Person_8: {label: &#039;Person_8&#039;, properties: {seed: {defaultValue: null, property: &#039;seed&#039;}}}}</td><td style=\"text-align:left\">{INTERACTS_8: {orientation: &#039;UNDIRECTED&#039;, indexInverse: false, aggregation: &#039;DEFAULT&#039;, type: &#039;INTERACTS_8&#039;, properties: {weight: {defaultValue: null, property: &#039;weight&#039;, aggregation: &#039;DEFAULT&#039;}}}, INTERACTS_7: {orientation: &#039;UNDIRECTED&#039;, indexInverse: false, aggregation: &#039;DEFAULT&#039;, type: &#039;INTERACTS_7&#039;, properties: {weight: {defaultValue: null, property: &#039;weight&#039;, aggregation: &#039;DEFAULT&#039;}}}}</td><td style=\"text-align:left\">Got3</td><td style=\"text-align:right\">104</td><td style=\"text-align:right\">1932</td><td style=\"text-align:right\">28</td></tr></table>"
      ],
      "text/plain": [
       " nodeProjection                                                                                                                                                                         | relationshipProjection                                                                                                                                                                                                                                                                                                                                                                                   | graphName | nodeCount | relationshipCount | projectMillis \n",
       "----------------------------------------------------------------------------------------------------------------------------------------------------------------------------------------|----------------------------------------------------------------------------------------------------------------------------------------------------------------------------------------------------------------------------------------------------------------------------------------------------------------------------------------------------------------------------------------------------------|-----------|-----------|-------------------|---------------\n",
       " {Person_7: {label: 'Person_7', properties: {seed: {defaultValue: null, property: 'seed'}}}, Person_8: {label: 'Person_8', properties: {seed: {defaultValue: null, property: 'seed'}}}} | {INTERACTS_8: {orientation: 'UNDIRECTED', indexInverse: false, aggregation: 'DEFAULT', type: 'INTERACTS_8', properties: {weight: {defaultValue: null, property: 'weight', aggregation: 'DEFAULT'}}}, INTERACTS_7: {orientation: 'UNDIRECTED', indexInverse: false, aggregation: 'DEFAULT', type: 'INTERACTS_7', properties: {weight: {defaultValue: null, property: 'weight', aggregation: 'DEFAULT'}}}} | Got3      |       104 |              1932 |            28 "
      ]
     },
     "execution_count": 12,
     "metadata": {},
     "output_type": "execute_result"
    }
   ],
   "source": [
    "#Building a graph with season 7 and 8\n",
    "query = \"\"\" \n",
    "CALL gds.graph.project(\n",
    "    'Got3',\n",
    "    {\n",
    "        Person_7: {properties: 'seed' },\n",
    "        Person_8: {properties: 'seed' }\n",
    "    },\n",
    "    {\n",
    "        INTERACTS_7: {\n",
    "            orientation: 'UNDIRECTED',\n",
    "            properties: 'weight'\n",
    "        },\n",
    "        INTERACTS_8: {\n",
    "            orientation: 'UNDIRECTED',\n",
    "            properties: 'weight'\n",
    "        }\n",
    "    }\n",
    ")\n",
    "\"\"\"\n",
    "\n",
    "graph.run(query)"
   ]
  },
  {
   "cell_type": "code",
   "execution_count": 13,
   "metadata": {},
   "outputs": [],
   "source": [
    "# The following will run the algorithm and stream results:\n",
    "query = \"\"\"\n",
    "CALL gds.beta.leiden.stream('Got3', {seedProperty: 'seed', relationshipWeightProperty: 'weight'})\n",
    "YIELD nodeId, communityId, intermediateCommunityIds\n",
    "RETURN gds.util.asNode(nodeId).label AS label, communityId\n",
    "ORDER BY label ASC\n",
    "\"\"\"\n",
    "members = graph.run(query).to_data_frame()"
   ]
  },
  {
   "cell_type": "code",
   "execution_count": 15,
   "metadata": {},
   "outputs": [
    {
     "data": {
      "text/plain": [
       "communityId\n",
       "0    [Beric, Eddison, Gendry, Gilly, High Septon (A...\n",
       "1    [Aegon, Aerys, Benjen, Daenerys, Davos, Drogo,...\n",
       "6    [Alanna, Alys, Arya, Bran, Catelyn, Dornish Pr...\n",
       "7    [Alton, Balerion, Brienne, Bronn, Cersei, Cers...\n",
       "Name: label, dtype: object"
      ]
     },
     "execution_count": 15,
     "metadata": {},
     "output_type": "execute_result"
    }
   ],
   "source": [
    "members.groupby('communityId')['label'].apply(list)"
   ]
  },
  {
   "cell_type": "code",
   "execution_count": 26,
   "metadata": {},
   "outputs": [
    {
     "data": {
      "text/html": [
       "<table><tr><th>communityCount</th></tr><tr><td style=\"text-align:right\">4</td></tr></table>"
      ],
      "text/plain": [
       " communityCount \n",
       "----------------\n",
       "              4 "
      ]
     },
     "execution_count": 26,
     "metadata": {},
     "output_type": "execute_result"
    }
   ],
   "source": [
    "# The following will run the algorithm and returns the result in form of statistical and measurement values:\n",
    "query = \"\"\"\n",
    "CALL gds.beta.leiden.stats('Got3')\n",
    "YIELD communityCount\n",
    "\"\"\"\n",
    "graph.run(query)"
   ]
  },
  {
   "cell_type": "code",
   "execution_count": 27,
   "metadata": {},
   "outputs": [
    {
     "data": {
      "text/html": [
       "<table><tr><th>communityCount</th><th>modularity</th><th>modularities</th></tr><tr><td style=\"text-align:right\">5</td><td style=\"text-align:right\">0.22509151738830377</td><td style=\"text-align:left\">[0.20916170500966613, 0.22406489375838554, 0.22509151738830377]</td></tr></table>"
      ],
      "text/plain": [
       " communityCount |          modularity | modularities                                                    \n",
       "----------------|---------------------|-----------------------------------------------------------------\n",
       "              5 | 0.22509151738830377 | [0.20916170500966613, 0.22406489375838554, 0.22509151738830377] "
      ]
     },
     "execution_count": 27,
     "metadata": {},
     "output_type": "execute_result"
    }
   ],
   "source": [
    "# The following will run the algorithm and store the results in myGraph:\n",
    "query = \"\"\"\n",
    "CALL gds.beta.leiden.mutate('Got3', { mutateProperty: 'communityId' })\n",
    "YIELD communityCount, modularity, modularities\n",
    "\"\"\"\n",
    "graph.run(query)"
   ]
  },
  {
   "cell_type": "code",
   "execution_count": 28,
   "metadata": {},
   "outputs": [
    {
     "data": {
      "text/html": [
       "<table><tr><th>communityCount</th><th>modularity</th><th>modularities</th></tr><tr><td style=\"text-align:right\">5</td><td style=\"text-align:right\">0.22708207416552004</td><td style=\"text-align:left\">[0.2122415758994209, 0.22456802506761997, 0.22708207416552004]</td></tr></table>"
      ],
      "text/plain": [
       " communityCount |          modularity | modularities                                                   \n",
       "----------------|---------------------|----------------------------------------------------------------\n",
       "              5 | 0.22708207416552004 | [0.2122415758994209, 0.22456802506761997, 0.22708207416552004] "
      ]
     },
     "execution_count": 28,
     "metadata": {},
     "output_type": "execute_result"
    }
   ],
   "source": [
    "# The following run the algorithm, and write back results:\n",
    "query = \"\"\"\n",
    "CALL gds.beta.leiden.write('Got3', { writeProperty: 'community_S78' })\n",
    "YIELD communityCount, modularity, modularities\n",
    "\"\"\"\n",
    "graph.run(query)"
   ]
  },
  {
   "cell_type": "markdown",
   "metadata": {},
   "source": [
    "<img src=\"images\\bloom-visualisation_season78.png\"\n",
    "     style=\"float: left; margin-right: 10px;\" />"
   ]
  },
  {
   "cell_type": "markdown",
   "metadata": {},
   "source": [
    "### 5 Centrality Measures"
   ]
  },
  {
   "cell_type": "code",
   "execution_count": 29,
   "metadata": {},
   "outputs": [
    {
     "data": {
      "text/html": [
       "<div>\n",
       "<style scoped>\n",
       "    .dataframe tbody tr th:only-of-type {\n",
       "        vertical-align: middle;\n",
       "    }\n",
       "\n",
       "    .dataframe tbody tr th {\n",
       "        vertical-align: top;\n",
       "    }\n",
       "\n",
       "    .dataframe thead th {\n",
       "        text-align: right;\n",
       "    }\n",
       "</style>\n",
       "<table border=\"1\" class=\"dataframe\">\n",
       "  <thead>\n",
       "    <tr style=\"text-align: right;\">\n",
       "      <th></th>\n",
       "      <th>name</th>\n",
       "      <th>score</th>\n",
       "    </tr>\n",
       "  </thead>\n",
       "  <tbody>\n",
       "    <tr>\n",
       "      <th>0</th>\n",
       "      <td>JON</td>\n",
       "      <td>79.0</td>\n",
       "    </tr>\n",
       "    <tr>\n",
       "      <th>1</th>\n",
       "      <td>TYRION</td>\n",
       "      <td>75.0</td>\n",
       "    </tr>\n",
       "    <tr>\n",
       "      <th>2</th>\n",
       "      <td>DAENERYS</td>\n",
       "      <td>75.0</td>\n",
       "    </tr>\n",
       "    <tr>\n",
       "      <th>3</th>\n",
       "      <td>SANSA</td>\n",
       "      <td>64.0</td>\n",
       "    </tr>\n",
       "    <tr>\n",
       "      <th>4</th>\n",
       "      <td>DAVOS</td>\n",
       "      <td>64.0</td>\n",
       "    </tr>\n",
       "  </tbody>\n",
       "</table>\n",
       "</div>"
      ],
      "text/plain": [
       "       name  score\n",
       "0       JON   79.0\n",
       "1    TYRION   75.0\n",
       "2  DAENERYS   75.0\n",
       "3     SANSA   64.0\n",
       "4     DAVOS   64.0"
      ]
     },
     "execution_count": 29,
     "metadata": {},
     "output_type": "execute_result"
    }
   ],
   "source": [
    "# Degree\n",
    "query = \"\"\"\n",
    "CALL gds.degree.stream('Got3')\n",
    "YIELD nodeId, score\n",
    "RETURN gds.util.asNode(nodeId).id AS name, score\n",
    "ORDER BY score DESC\n",
    "LIMIT 5\n",
    "\"\"\"\n",
    "graph.run(query).to_data_frame()"
   ]
  },
  {
   "cell_type": "code",
   "execution_count": 30,
   "metadata": {},
   "outputs": [
    {
     "data": {
      "text/html": [
       "<div>\n",
       "<style scoped>\n",
       "    .dataframe tbody tr th:only-of-type {\n",
       "        vertical-align: middle;\n",
       "    }\n",
       "\n",
       "    .dataframe tbody tr th {\n",
       "        vertical-align: top;\n",
       "    }\n",
       "\n",
       "    .dataframe thead th {\n",
       "        text-align: right;\n",
       "    }\n",
       "</style>\n",
       "<table border=\"1\" class=\"dataframe\">\n",
       "  <thead>\n",
       "    <tr style=\"text-align: right;\">\n",
       "      <th></th>\n",
       "      <th>name</th>\n",
       "      <th>score</th>\n",
       "    </tr>\n",
       "  </thead>\n",
       "  <tbody>\n",
       "    <tr>\n",
       "      <th>0</th>\n",
       "      <td>JON</td>\n",
       "      <td>1882.0</td>\n",
       "    </tr>\n",
       "    <tr>\n",
       "      <th>1</th>\n",
       "      <td>TYRION</td>\n",
       "      <td>1755.0</td>\n",
       "    </tr>\n",
       "    <tr>\n",
       "      <th>2</th>\n",
       "      <td>DAENERYS</td>\n",
       "      <td>1576.0</td>\n",
       "    </tr>\n",
       "    <tr>\n",
       "      <th>3</th>\n",
       "      <td>SANSA</td>\n",
       "      <td>1119.0</td>\n",
       "    </tr>\n",
       "    <tr>\n",
       "      <th>4</th>\n",
       "      <td>JAIME</td>\n",
       "      <td>1107.0</td>\n",
       "    </tr>\n",
       "  </tbody>\n",
       "</table>\n",
       "</div>"
      ],
      "text/plain": [
       "       name   score\n",
       "0       JON  1882.0\n",
       "1    TYRION  1755.0\n",
       "2  DAENERYS  1576.0\n",
       "3     SANSA  1119.0\n",
       "4     JAIME  1107.0"
      ]
     },
     "execution_count": 30,
     "metadata": {},
     "output_type": "execute_result"
    }
   ],
   "source": [
    "# Weighted Degree\n",
    "query = \"\"\"\n",
    "CALL gds.degree.stream(\n",
    "   'Got3',\n",
    "   { relationshipWeightProperty: 'weight' }\n",
    ")\n",
    "YIELD nodeId, score\n",
    "RETURN gds.util.asNode(nodeId).id AS name, score\n",
    "ORDER BY score DESC\n",
    "LIMIT 5\n",
    "\"\"\"\n",
    "graph.run(query).to_data_frame()"
   ]
  },
  {
   "cell_type": "code",
   "execution_count": 31,
   "metadata": {},
   "outputs": [
    {
     "data": {
      "text/html": [
       "<div>\n",
       "<style scoped>\n",
       "    .dataframe tbody tr th:only-of-type {\n",
       "        vertical-align: middle;\n",
       "    }\n",
       "\n",
       "    .dataframe tbody tr th {\n",
       "        vertical-align: top;\n",
       "    }\n",
       "\n",
       "    .dataframe thead th {\n",
       "        text-align: right;\n",
       "    }\n",
       "</style>\n",
       "<table border=\"1\" class=\"dataframe\">\n",
       "  <thead>\n",
       "    <tr style=\"text-align: right;\">\n",
       "      <th></th>\n",
       "      <th>name</th>\n",
       "      <th>score</th>\n",
       "    </tr>\n",
       "  </thead>\n",
       "  <tbody>\n",
       "    <tr>\n",
       "      <th>0</th>\n",
       "      <td>JON</td>\n",
       "      <td>0.254100</td>\n",
       "    </tr>\n",
       "    <tr>\n",
       "      <th>1</th>\n",
       "      <td>TYRION</td>\n",
       "      <td>0.244820</td>\n",
       "    </tr>\n",
       "    <tr>\n",
       "      <th>2</th>\n",
       "      <td>DAENERYS</td>\n",
       "      <td>0.235475</td>\n",
       "    </tr>\n",
       "    <tr>\n",
       "      <th>3</th>\n",
       "      <td>DAVOS</td>\n",
       "      <td>0.233078</td>\n",
       "    </tr>\n",
       "    <tr>\n",
       "      <th>4</th>\n",
       "      <td>BRIENNE</td>\n",
       "      <td>0.216607</td>\n",
       "    </tr>\n",
       "  </tbody>\n",
       "</table>\n",
       "</div>"
      ],
      "text/plain": [
       "       name     score\n",
       "0       JON  0.254100\n",
       "1    TYRION  0.244820\n",
       "2  DAENERYS  0.235475\n",
       "3     DAVOS  0.233078\n",
       "4   BRIENNE  0.216607"
      ]
     },
     "execution_count": 31,
     "metadata": {},
     "output_type": "execute_result"
    }
   ],
   "source": [
    "# Eigenvector\n",
    "query = \"\"\"\n",
    "CALL gds.eigenvector.stream('Got3')\n",
    "YIELD nodeId, score\n",
    "RETURN gds.util.asNode(nodeId).id AS name, score\n",
    "ORDER BY score DESC\n",
    "LIMIT 5\n",
    "\"\"\"\n",
    "graph.run(query).to_data_frame()"
   ]
  },
  {
   "cell_type": "code",
   "execution_count": 32,
   "metadata": {},
   "outputs": [
    {
     "data": {
      "text/html": [
       "<div>\n",
       "<style scoped>\n",
       "    .dataframe tbody tr th:only-of-type {\n",
       "        vertical-align: middle;\n",
       "    }\n",
       "\n",
       "    .dataframe tbody tr th {\n",
       "        vertical-align: top;\n",
       "    }\n",
       "\n",
       "    .dataframe thead th {\n",
       "        text-align: right;\n",
       "    }\n",
       "</style>\n",
       "<table border=\"1\" class=\"dataframe\">\n",
       "  <thead>\n",
       "    <tr style=\"text-align: right;\">\n",
       "      <th></th>\n",
       "      <th>page</th>\n",
       "      <th>score</th>\n",
       "    </tr>\n",
       "  </thead>\n",
       "  <tbody>\n",
       "    <tr>\n",
       "      <th>0</th>\n",
       "      <td>JON</td>\n",
       "      <td>3.667777</td>\n",
       "    </tr>\n",
       "    <tr>\n",
       "      <th>1</th>\n",
       "      <td>DAENERYS</td>\n",
       "      <td>3.509703</td>\n",
       "    </tr>\n",
       "    <tr>\n",
       "      <th>2</th>\n",
       "      <td>TYRION</td>\n",
       "      <td>3.299509</td>\n",
       "    </tr>\n",
       "    <tr>\n",
       "      <th>3</th>\n",
       "      <td>SANSA</td>\n",
       "      <td>3.073163</td>\n",
       "    </tr>\n",
       "    <tr>\n",
       "      <th>4</th>\n",
       "      <td>ARYA</td>\n",
       "      <td>2.865504</td>\n",
       "    </tr>\n",
       "  </tbody>\n",
       "</table>\n",
       "</div>"
      ],
      "text/plain": [
       "       page     score\n",
       "0       JON  3.667777\n",
       "1  DAENERYS  3.509703\n",
       "2    TYRION  3.299509\n",
       "3     SANSA  3.073163\n",
       "4      ARYA  2.865504"
      ]
     },
     "execution_count": 32,
     "metadata": {},
     "output_type": "execute_result"
    }
   ],
   "source": [
    "# Pagerank\n",
    "query = \"\"\"\n",
    "CALL gds.pageRank.stream('Got3',  {maxIterations: 20,  dampingFactor: 0.85})\n",
    "YIELD nodeId, score\n",
    "RETURN gds.util.asNode(nodeId).id AS page, score\n",
    "ORDER BY score DESC\n",
    "LIMIT 5\n",
    "\"\"\"\n",
    "graph.run(query).to_data_frame()"
   ]
  },
  {
   "cell_type": "code",
   "execution_count": 33,
   "metadata": {},
   "outputs": [
    {
     "data": {
      "text/html": [
       "<div>\n",
       "<style scoped>\n",
       "    .dataframe tbody tr th:only-of-type {\n",
       "        vertical-align: middle;\n",
       "    }\n",
       "\n",
       "    .dataframe tbody tr th {\n",
       "        vertical-align: top;\n",
       "    }\n",
       "\n",
       "    .dataframe thead th {\n",
       "        text-align: right;\n",
       "    }\n",
       "</style>\n",
       "<table border=\"1\" class=\"dataframe\">\n",
       "  <thead>\n",
       "    <tr style=\"text-align: right;\">\n",
       "      <th></th>\n",
       "      <th>name</th>\n",
       "      <th>score</th>\n",
       "    </tr>\n",
       "  </thead>\n",
       "  <tbody>\n",
       "    <tr>\n",
       "      <th>0</th>\n",
       "      <td>JON</td>\n",
       "      <td>542.696894</td>\n",
       "    </tr>\n",
       "    <tr>\n",
       "      <th>1</th>\n",
       "      <td>ARYA</td>\n",
       "      <td>513.175492</td>\n",
       "    </tr>\n",
       "    <tr>\n",
       "      <th>2</th>\n",
       "      <td>SAM</td>\n",
       "      <td>512.808655</td>\n",
       "    </tr>\n",
       "    <tr>\n",
       "      <th>3</th>\n",
       "      <td>SANSA</td>\n",
       "      <td>497.389139</td>\n",
       "    </tr>\n",
       "    <tr>\n",
       "      <th>4</th>\n",
       "      <td>DAENERYS</td>\n",
       "      <td>471.243228</td>\n",
       "    </tr>\n",
       "  </tbody>\n",
       "</table>\n",
       "</div>"
      ],
      "text/plain": [
       "       name       score\n",
       "0       JON  542.696894\n",
       "1      ARYA  513.175492\n",
       "2       SAM  512.808655\n",
       "3     SANSA  497.389139\n",
       "4  DAENERYS  471.243228"
      ]
     },
     "execution_count": 33,
     "metadata": {},
     "output_type": "execute_result"
    }
   ],
   "source": [
    "# Betweenness\n",
    "query = \"\"\"\n",
    "CALL gds.betweenness.stream('Got3')\n",
    "YIELD nodeId, score\n",
    "RETURN gds.util.asNode(nodeId).id AS name, score\n",
    "ORDER BY score DESC\n",
    "LIMIT 5\n",
    "\"\"\"\n",
    "graph.run(query).to_data_frame()"
   ]
  },
  {
   "cell_type": "markdown",
   "metadata": {},
   "source": [
    "### Discussion"
   ]
  },
  {
   "cell_type": "markdown",
   "metadata": {},
   "source": [
    "<tr>\n",
    "    <td><img src=\"https://upload.wikimedia.org/wikipedia/en/9/92/Game_of_Thrones_Season_7.png\" width=270 height=480></td>\n",
    "    <td><img src=\"https://upload.wikimedia.org/wikipedia/en/e/e0/Game_of_Thrones_Season_8.png\" width=270 height=480></td>\n",
    "</tr>"
   ]
  },
  {
   "cell_type": "markdown",
   "metadata": {},
   "source": [
    "Season 7 and 8, the final seasons of the series is full of twists and turns. We see the North and South team up to defeat the White Walkers, the battle for Kings Landing and finally Jon Snow killing Daerneys. The least expected Bran becomes the King and Tyrion his Hand. The North remains an independent Domain. The Centrality metrics paint the clear picture of Jon being the most important character in the last two seasons. He was indispensible in uniting the North and the South to fight against the White Walkers. The Starks are on a whole seen to rise up in the centrality ranks ascertaining the fact that Game of thrones is indeed the story of the Starks. Daerneys also rises in the ranks owing to her contribution to the storyline."
   ]
  },
  {
   "cell_type": "markdown",
   "metadata": {},
   "source": [
    "Based on this explanatory analysis, let's move to the third notebook which is about link prediction."
   ]
  }
 ],
 "metadata": {
  "kernelspec": {
   "display_name": "Python 3 (ipykernel)",
   "language": "python",
   "name": "python3"
  },
  "language_info": {
   "codemirror_mode": {
    "name": "ipython",
    "version": 3
   },
   "file_extension": ".py",
   "mimetype": "text/x-python",
   "name": "python",
   "nbconvert_exporter": "python",
   "pygments_lexer": "ipython3",
   "version": "3.11.3"
  }
 },
 "nbformat": 4,
 "nbformat_minor": 2
}
