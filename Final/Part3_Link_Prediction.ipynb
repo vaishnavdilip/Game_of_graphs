{
 "cells": [
  {
   "attachments": {},
   "cell_type": "markdown",
   "id": "0468ded1",
   "metadata": {},
   "source": [
    "Project SNA by Aleksandra Elena Getman (r0884498) and Vaishnav Dilip (r0872689)"
   ]
  },
  {
   "attachments": {},
   "cell_type": "markdown",
   "id": "d3ed25e2",
   "metadata": {},
   "source": [
    "<img src =\"https://cdn.trendhunterstatic.com/thumbs/game-of-thrones-fan-art.jpeg?auto=webp\"></img>"
   ]
  },
  {
   "attachments": {},
   "cell_type": "markdown",
   "id": "f29e1fcd",
   "metadata": {},
   "source": [
    "# Link Prediction"
   ]
  },
  {
   "attachments": {},
   "cell_type": "markdown",
   "id": "cc37da26",
   "metadata": {},
   "source": [
    "In this notebook, we plan to predict links between the characters in the series. To this end we divide the whole series into training, validation and test sets. Since the series is chronological, it is best to have the first 4 seasons as the training set, seasons 5&6 as the validation set and seasons 7&8 as the test set.\n",
    "\n",
    "Neo4j has several link prediction algorithms that help determine the closeness of a pair of nodes using the topology of the graph. These computed scores can then be used to predict new relationships between them. We will add these as features to our otherwise-featureless dataset. Furthermore, we will add the triangle count and the clustering coefficient of each node as features as well. This will aid our prediction model.\n",
    "\n",
    "For our prediction model, we would be using a random forest classifier. We will tune the various hyperparameters in the model using the validation set and derive the best model. Using this model we would make predictions on the relationships in the last two seasons."
   ]
  },
  {
   "cell_type": "code",
   "execution_count": 79,
   "id": "816f5a4f",
   "metadata": {},
   "outputs": [],
   "source": [
    "# Importing required libraries\n",
    "from py2neo import Graph\n",
    "import pandas as pd\n",
    "import random\n",
    "from sklearn.metrics import recall_score\n",
    "from sklearn.metrics import precision_score\n",
    "from sklearn.metrics import accuracy_score\n",
    "from sklearn.ensemble import RandomForestClassifier\n",
    "from sklearn.model_selection import RandomizedSearchCV\n",
    "\n",
    "\n",
    "# Connecting to Neo4j\n",
    "graph = Graph(\"bolt://localhost:7687\", auth=(\"neo4j\", \"neo4jneo4j\"))"
   ]
  },
  {
   "attachments": {},
   "cell_type": "markdown",
   "id": "68e463f5",
   "metadata": {},
   "source": [
    "# Building training, validation and  testing sets"
   ]
  },
  {
   "attachments": {},
   "cell_type": "markdown",
   "id": "d899f5b9",
   "metadata": {},
   "source": [
    "To build the training, validation and test sets, we have to take into consideration that we would only get the existing links from the network (positive examples). To construct the negative examples, we would have to use some other mechanism.  In our case, we construct the negative examples from the relationships in the newtork themselves. We find out the nodes that are two or three relationships away and exclude those pairs of nodes that are direct neighbours. \n",
    "\n",
    "As mentioned before, we will create the training set from the seasons 1-4, the validation set from the seasons 5&6 and the testing set from the seasons 7&8."
   ]
  },
  {
   "cell_type": "markdown",
   "id": "ba34ff5f",
   "metadata": {},
   "source": [
    "## Training dataset"
   ]
  },
  {
   "cell_type": "code",
   "execution_count": 2,
   "id": "35c86083",
   "metadata": {},
   "outputs": [],
   "source": [
    "# Find positive examples\n",
    "train_existing_links = graph.run(\"\"\"\n",
    "MATCH (n:Person)-[r:INTERACTS_1|INTERACTS_2|INTERACTS_3|INTERACTS_4]-(p:Person)\n",
    "RETURN n.id AS node1, p.id AS node2, 1 AS label, r.season AS season\n",
    "\"\"\").to_data_frame()"
   ]
  },
  {
   "cell_type": "code",
   "execution_count": 3,
   "id": "a40095af",
   "metadata": {},
   "outputs": [
    {
     "name": "stdout",
     "output_type": "stream",
     "text": [
      "<class 'pandas.core.frame.DataFrame'>\n",
      "RangeIndex: 4494 entries, 0 to 4493\n",
      "Data columns (total 4 columns):\n",
      " #   Column  Non-Null Count  Dtype \n",
      "---  ------  --------------  ----- \n",
      " 0   node1   4494 non-null   object\n",
      " 1   node2   4494 non-null   object\n",
      " 2   label   4494 non-null   int64 \n",
      " 3   season  4494 non-null   int64 \n",
      "dtypes: int64(2), object(2)\n",
      "memory usage: 140.6+ KB\n"
     ]
    }
   ],
   "source": [
    "train_existing_links.info()"
   ]
  },
  {
   "cell_type": "code",
   "execution_count": 4,
   "id": "bdbc6948",
   "metadata": {},
   "outputs": [],
   "source": [
    "# Find negative examples\n",
    "train_missing_links = graph.run(\"\"\"\n",
    "MATCH (n:Person)\n",
    "WHERE (n:Person)-[:INTERACTS_1|INTERACTS_2|INTERACTS_3|INTERACTS_4]-()\n",
    "MATCH (n:Person)-[r:INTERACTS_1|INTERACTS_2|INTERACTS_3|INTERACTS_4*2..3]-(p:Person)\n",
    "WHERE not((n:Person)-[:INTERACTS_1|INTERACTS_2|INTERACTS_3|INTERACTS_4]-(p:Person))\n",
    "RETURN n.id AS node1, p.id AS node2, 0 AS label\n",
    "\"\"\").to_data_frame()"
   ]
  },
  {
   "cell_type": "code",
   "execution_count": 6,
   "id": "c11dccfa",
   "metadata": {},
   "outputs": [
    {
     "name": "stdout",
     "output_type": "stream",
     "text": [
      "<class 'pandas.core.frame.DataFrame'>\n",
      "RangeIndex: 6408824 entries, 0 to 6408823\n",
      "Data columns (total 3 columns):\n",
      " #   Column  Dtype \n",
      "---  ------  ----- \n",
      " 0   node1   object\n",
      " 1   node2   object\n",
      " 2   label   int64 \n",
      "dtypes: int64(1), object(2)\n",
      "memory usage: 146.7+ MB\n"
     ]
    }
   ],
   "source": [
    "train_missing_links.info()"
   ]
  },
  {
   "cell_type": "code",
   "execution_count": 7,
   "id": "614d8eb1",
   "metadata": {},
   "outputs": [
    {
     "data": {
      "text/html": [
       "<div>\n",
       "<style scoped>\n",
       "    .dataframe tbody tr th:only-of-type {\n",
       "        vertical-align: middle;\n",
       "    }\n",
       "\n",
       "    .dataframe tbody tr th {\n",
       "        vertical-align: top;\n",
       "    }\n",
       "\n",
       "    .dataframe thead th {\n",
       "        text-align: right;\n",
       "    }\n",
       "</style>\n",
       "<table border=\"1\" class=\"dataframe\">\n",
       "  <thead>\n",
       "    <tr style=\"text-align: right;\">\n",
       "      <th></th>\n",
       "      <th>node1</th>\n",
       "      <th>node2</th>\n",
       "      <th>label</th>\n",
       "      <th>season</th>\n",
       "    </tr>\n",
       "  </thead>\n",
       "  <tbody>\n",
       "    <tr>\n",
       "      <th>0</th>\n",
       "      <td>ADDAM_MARBRAND</td>\n",
       "      <td>TYRION</td>\n",
       "      <td>0</td>\n",
       "      <td>4</td>\n",
       "    </tr>\n",
       "    <tr>\n",
       "      <th>1</th>\n",
       "      <td>ADDAM_MARBRAND</td>\n",
       "      <td>BRONN</td>\n",
       "      <td>0</td>\n",
       "      <td>2</td>\n",
       "    </tr>\n",
       "    <tr>\n",
       "      <th>2</th>\n",
       "      <td>ADDAM_MARBRAND</td>\n",
       "      <td>SHAE</td>\n",
       "      <td>0</td>\n",
       "      <td>1</td>\n",
       "    </tr>\n",
       "    <tr>\n",
       "      <th>3</th>\n",
       "      <td>ADDAM_MARBRAND</td>\n",
       "      <td>JON</td>\n",
       "      <td>0</td>\n",
       "      <td>3</td>\n",
       "    </tr>\n",
       "    <tr>\n",
       "      <th>4</th>\n",
       "      <td>ADDAM_MARBRAND</td>\n",
       "      <td>CATELYN</td>\n",
       "      <td>0</td>\n",
       "      <td>3</td>\n",
       "    </tr>\n",
       "  </tbody>\n",
       "</table>\n",
       "</div>"
      ],
      "text/plain": [
       "            node1    node2  label  season\n",
       "0  ADDAM_MARBRAND   TYRION      0       4\n",
       "1  ADDAM_MARBRAND    BRONN      0       2\n",
       "2  ADDAM_MARBRAND     SHAE      0       1\n",
       "3  ADDAM_MARBRAND      JON      0       3\n",
       "4  ADDAM_MARBRAND  CATELYN      0       3"
      ]
     },
     "execution_count": 7,
     "metadata": {},
     "output_type": "execute_result"
    }
   ],
   "source": [
    "# We assign the season randomly to the missing links\n",
    "randomlist = []\n",
    "for i in range(0,6408824):\n",
    "    n = random.randint(1,4)\n",
    "    randomlist.append(n)\n",
    "#print(randomlist)\n",
    "train_missing_links['season']=randomlist\n",
    "train_missing_links.head(5)"
   ]
  },
  {
   "cell_type": "code",
   "execution_count": 8,
   "id": "f3352ae6",
   "metadata": {},
   "outputs": [],
   "source": [
    "# Remove duplicates\n",
    "train_missing_links = train_missing_links.drop_duplicates()"
   ]
  },
  {
   "cell_type": "code",
   "execution_count": 9,
   "id": "4c22a277",
   "metadata": {},
   "outputs": [
    {
     "name": "stdout",
     "output_type": "stream",
     "text": [
      "<class 'pandas.core.frame.DataFrame'>\n",
      "Index: 233708 entries, 0 to 6408822\n",
      "Data columns (total 4 columns):\n",
      " #   Column  Non-Null Count   Dtype \n",
      "---  ------  --------------   ----- \n",
      " 0   node1   233708 non-null  object\n",
      " 1   node2   233708 non-null  object\n",
      " 2   label   233708 non-null  int64 \n",
      " 3   season  233708 non-null  int64 \n",
      "dtypes: int64(2), object(2)\n",
      "memory usage: 8.9+ MB\n"
     ]
    }
   ],
   "source": [
    "train_missing_links.info()"
   ]
  },
  {
   "cell_type": "markdown",
   "id": "573f0aa8",
   "metadata": {},
   "source": [
    "Since the number of negative examples is much higher than those of positive examples, we will randomly sample an equal number of negative examples."
   ]
  },
  {
   "cell_type": "code",
   "execution_count": 10,
   "id": "158ad6ba",
   "metadata": {},
   "outputs": [],
   "source": [
    "# Down sample negative examples\n",
    "train_missing_links = train_missing_links.sample(\n",
    "    n=len(train_existing_links))"
   ]
  },
  {
   "cell_type": "code",
   "execution_count": 11,
   "id": "44bd107f",
   "metadata": {},
   "outputs": [
    {
     "name": "stdout",
     "output_type": "stream",
     "text": [
      "<class 'pandas.core.frame.DataFrame'>\n",
      "Index: 4494 entries, 1205527 to 1772424\n",
      "Data columns (total 4 columns):\n",
      " #   Column  Non-Null Count  Dtype \n",
      "---  ------  --------------  ----- \n",
      " 0   node1   4494 non-null   object\n",
      " 1   node2   4494 non-null   object\n",
      " 2   label   4494 non-null   int64 \n",
      " 3   season  4494 non-null   int64 \n",
      "dtypes: int64(2), object(2)\n",
      "memory usage: 175.5+ KB\n"
     ]
    }
   ],
   "source": [
    "train_missing_links.info()"
   ]
  },
  {
   "cell_type": "code",
   "execution_count": 12,
   "id": "42dd9ae1",
   "metadata": {},
   "outputs": [],
   "source": [
    "# Create DataFrame from positive and negative examples\n",
    "training_df = pd.concat([train_missing_links,train_existing_links], ignore_index=True)\n",
    "training_df['label'] = training_df['label'].astype('category')"
   ]
  },
  {
   "cell_type": "code",
   "execution_count": 13,
   "id": "0dc0f059",
   "metadata": {},
   "outputs": [
    {
     "data": {
      "text/html": [
       "<div>\n",
       "<style scoped>\n",
       "    .dataframe tbody tr th:only-of-type {\n",
       "        vertical-align: middle;\n",
       "    }\n",
       "\n",
       "    .dataframe tbody tr th {\n",
       "        vertical-align: top;\n",
       "    }\n",
       "\n",
       "    .dataframe thead th {\n",
       "        text-align: right;\n",
       "    }\n",
       "</style>\n",
       "<table border=\"1\" class=\"dataframe\">\n",
       "  <thead>\n",
       "    <tr style=\"text-align: right;\">\n",
       "      <th></th>\n",
       "      <th>node1</th>\n",
       "      <th>node2</th>\n",
       "      <th>label</th>\n",
       "      <th>season</th>\n",
       "    </tr>\n",
       "  </thead>\n",
       "  <tbody>\n",
       "    <tr>\n",
       "      <th>0</th>\n",
       "      <td>ILLYRIO</td>\n",
       "      <td>TYRION</td>\n",
       "      <td>0</td>\n",
       "      <td>2</td>\n",
       "    </tr>\n",
       "    <tr>\n",
       "      <th>1</th>\n",
       "      <td>FREY_DAUGHTER</td>\n",
       "      <td>AEGON</td>\n",
       "      <td>0</td>\n",
       "      <td>2</td>\n",
       "    </tr>\n",
       "    <tr>\n",
       "      <th>2</th>\n",
       "      <td>NED</td>\n",
       "      <td>VANCE_CORBRAY</td>\n",
       "      <td>0</td>\n",
       "      <td>2</td>\n",
       "    </tr>\n",
       "    <tr>\n",
       "      <th>3</th>\n",
       "      <td>SEPTA_MORDANE</td>\n",
       "      <td>STEVRON_FREY</td>\n",
       "      <td>0</td>\n",
       "      <td>3</td>\n",
       "    </tr>\n",
       "    <tr>\n",
       "      <th>4</th>\n",
       "      <td>MALAKKO</td>\n",
       "      <td>IRRI</td>\n",
       "      <td>0</td>\n",
       "      <td>2</td>\n",
       "    </tr>\n",
       "    <tr>\n",
       "      <th>...</th>\n",
       "      <td>...</td>\n",
       "      <td>...</td>\n",
       "      <td>...</td>\n",
       "      <td>...</td>\n",
       "    </tr>\n",
       "    <tr>\n",
       "      <th>8983</th>\n",
       "      <td>YOHN_ROYCE</td>\n",
       "      <td>ANYA_WAYNWOOD</td>\n",
       "      <td>1</td>\n",
       "      <td>4</td>\n",
       "    </tr>\n",
       "    <tr>\n",
       "      <th>8984</th>\n",
       "      <td>YOHN_ROYCE</td>\n",
       "      <td>LYSA</td>\n",
       "      <td>1</td>\n",
       "      <td>4</td>\n",
       "    </tr>\n",
       "    <tr>\n",
       "      <th>8985</th>\n",
       "      <td>YOHN_ROYCE</td>\n",
       "      <td>VANCE_CORBRAY</td>\n",
       "      <td>1</td>\n",
       "      <td>4</td>\n",
       "    </tr>\n",
       "    <tr>\n",
       "      <th>8986</th>\n",
       "      <td>YOHN_ROYCE</td>\n",
       "      <td>NED</td>\n",
       "      <td>1</td>\n",
       "      <td>4</td>\n",
       "    </tr>\n",
       "    <tr>\n",
       "      <th>8987</th>\n",
       "      <td>ZALA</td>\n",
       "      <td>MISSANDEI</td>\n",
       "      <td>1</td>\n",
       "      <td>4</td>\n",
       "    </tr>\n",
       "  </tbody>\n",
       "</table>\n",
       "<p>8988 rows × 4 columns</p>\n",
       "</div>"
      ],
      "text/plain": [
       "              node1          node2 label  season\n",
       "0           ILLYRIO         TYRION     0       2\n",
       "1     FREY_DAUGHTER          AEGON     0       2\n",
       "2               NED  VANCE_CORBRAY     0       2\n",
       "3     SEPTA_MORDANE   STEVRON_FREY     0       3\n",
       "4           MALAKKO           IRRI     0       2\n",
       "...             ...            ...   ...     ...\n",
       "8983     YOHN_ROYCE  ANYA_WAYNWOOD     1       4\n",
       "8984     YOHN_ROYCE           LYSA     1       4\n",
       "8985     YOHN_ROYCE  VANCE_CORBRAY     1       4\n",
       "8986     YOHN_ROYCE            NED     1       4\n",
       "8987           ZALA      MISSANDEI     1       4\n",
       "\n",
       "[8988 rows x 4 columns]"
      ]
     },
     "execution_count": 13,
     "metadata": {},
     "output_type": "execute_result"
    }
   ],
   "source": [
    "training_df"
   ]
  },
  {
   "cell_type": "code",
   "execution_count": 14,
   "id": "219e32ba",
   "metadata": {},
   "outputs": [
    {
     "name": "stdout",
     "output_type": "stream",
     "text": [
      "<class 'pandas.core.frame.DataFrame'>\n",
      "RangeIndex: 8988 entries, 0 to 8987\n",
      "Data columns (total 4 columns):\n",
      " #   Column  Non-Null Count  Dtype   \n",
      "---  ------  --------------  -----   \n",
      " 0   node1   8988 non-null   object  \n",
      " 1   node2   8988 non-null   object  \n",
      " 2   label   8988 non-null   category\n",
      " 3   season  8988 non-null   int64   \n",
      "dtypes: category(1), int64(1), object(2)\n",
      "memory usage: 219.7+ KB\n"
     ]
    }
   ],
   "source": [
    "training_df.info()"
   ]
  },
  {
   "attachments": {},
   "cell_type": "markdown",
   "id": "ead1e7f0",
   "metadata": {},
   "source": [
    "## Validation set"
   ]
  },
  {
   "attachments": {},
   "cell_type": "markdown",
   "id": "f0daf08e",
   "metadata": {},
   "source": [
    "As before, we create the validation set by extracting the positive examples from the graph and the negative examples are created by finding pairs of nodes connected by the specified edges as a 2 or 3-neighbour and excluding the direct neighbours."
   ]
  },
  {
   "cell_type": "code",
   "execution_count": 15,
   "id": "724c9414",
   "metadata": {},
   "outputs": [],
   "source": [
    "# Find positive examples\n",
    "validation_existing_links = graph.run(\"\"\"\n",
    "MATCH (n:Person)-[r:INTERACTS_5|INTERACTS_6]-(p:Person)\n",
    "RETURN n.id AS node1, p.id AS node2, 1 AS label, r.season AS season\n",
    "\"\"\").to_data_frame()\n"
   ]
  },
  {
   "cell_type": "code",
   "execution_count": 16,
   "id": "9c0a512d",
   "metadata": {},
   "outputs": [
    {
     "name": "stdout",
     "output_type": "stream",
     "text": [
      "<class 'pandas.core.frame.DataFrame'>\n",
      "RangeIndex: 2020 entries, 0 to 2019\n",
      "Data columns (total 4 columns):\n",
      " #   Column  Non-Null Count  Dtype \n",
      "---  ------  --------------  ----- \n",
      " 0   node1   2020 non-null   object\n",
      " 1   node2   2020 non-null   object\n",
      " 2   label   2020 non-null   int64 \n",
      " 3   season  2020 non-null   int64 \n",
      "dtypes: int64(2), object(2)\n",
      "memory usage: 63.3+ KB\n"
     ]
    }
   ],
   "source": [
    "validation_existing_links.info()"
   ]
  },
  {
   "cell_type": "code",
   "execution_count": 17,
   "id": "e002721a",
   "metadata": {},
   "outputs": [],
   "source": [
    "# Find negative examples\n",
    "validation_missing_links = graph.run(\"\"\"\n",
    "MATCH (n:Person)\n",
    "WHERE (n:Person)-[:INTERACTS_5|INTERACTS_6]-()\n",
    "MATCH (n:Person)-[r:INTERACTS_5|INTERACTS_6*2..3]-(p:Person)\n",
    "WHERE not((n:Person)-[:INTERACTS_5|INTERACTS_6]-(p:Person))\n",
    "RETURN n.id AS node1, p.id AS node2, 0 AS label\n",
    "\"\"\").to_data_frame()\n"
   ]
  },
  {
   "cell_type": "code",
   "execution_count": 18,
   "id": "1e73094b",
   "metadata": {},
   "outputs": [
    {
     "name": "stdout",
     "output_type": "stream",
     "text": [
      "<class 'pandas.core.frame.DataFrame'>\n",
      "RangeIndex: 578560 entries, 0 to 578559\n",
      "Data columns (total 3 columns):\n",
      " #   Column  Non-Null Count   Dtype \n",
      "---  ------  --------------   ----- \n",
      " 0   node1   578560 non-null  object\n",
      " 1   node2   578560 non-null  object\n",
      " 2   label   578560 non-null  int64 \n",
      "dtypes: int64(1), object(2)\n",
      "memory usage: 13.2+ MB\n"
     ]
    }
   ],
   "source": [
    "validation_missing_links.info()"
   ]
  },
  {
   "cell_type": "code",
   "execution_count": 19,
   "id": "43f6ef46",
   "metadata": {},
   "outputs": [
    {
     "data": {
      "text/html": [
       "<div>\n",
       "<style scoped>\n",
       "    .dataframe tbody tr th:only-of-type {\n",
       "        vertical-align: middle;\n",
       "    }\n",
       "\n",
       "    .dataframe tbody tr th {\n",
       "        vertical-align: top;\n",
       "    }\n",
       "\n",
       "    .dataframe thead th {\n",
       "        text-align: right;\n",
       "    }\n",
       "</style>\n",
       "<table border=\"1\" class=\"dataframe\">\n",
       "  <thead>\n",
       "    <tr style=\"text-align: right;\">\n",
       "      <th></th>\n",
       "      <th>node1</th>\n",
       "      <th>node2</th>\n",
       "      <th>label</th>\n",
       "      <th>season</th>\n",
       "    </tr>\n",
       "  </thead>\n",
       "  <tbody>\n",
       "    <tr>\n",
       "      <th>0</th>\n",
       "      <td>AEGON</td>\n",
       "      <td>SAM</td>\n",
       "      <td>0</td>\n",
       "      <td>6</td>\n",
       "    </tr>\n",
       "    <tr>\n",
       "      <th>1</th>\n",
       "      <td>AEGON</td>\n",
       "      <td>JON</td>\n",
       "      <td>0</td>\n",
       "      <td>6</td>\n",
       "    </tr>\n",
       "    <tr>\n",
       "      <th>2</th>\n",
       "      <td>AEGON</td>\n",
       "      <td>RANDYLL</td>\n",
       "      <td>0</td>\n",
       "      <td>5</td>\n",
       "    </tr>\n",
       "    <tr>\n",
       "      <th>3</th>\n",
       "      <td>AEGON</td>\n",
       "      <td>MANCE</td>\n",
       "      <td>0</td>\n",
       "      <td>5</td>\n",
       "    </tr>\n",
       "    <tr>\n",
       "      <th>4</th>\n",
       "      <td>AEGON</td>\n",
       "      <td>MAGNAR</td>\n",
       "      <td>0</td>\n",
       "      <td>6</td>\n",
       "    </tr>\n",
       "  </tbody>\n",
       "</table>\n",
       "</div>"
      ],
      "text/plain": [
       "   node1    node2  label  season\n",
       "0  AEGON      SAM      0       6\n",
       "1  AEGON      JON      0       6\n",
       "2  AEGON  RANDYLL      0       5\n",
       "3  AEGON    MANCE      0       5\n",
       "4  AEGON   MAGNAR      0       6"
      ]
     },
     "execution_count": 19,
     "metadata": {},
     "output_type": "execute_result"
    }
   ],
   "source": [
    "randomlist = []\n",
    "for i in range(0, 578560):\n",
    "    n = random.randint(5, 6)\n",
    "    randomlist.append(n)\n",
    "# print(randomlist)\n",
    "validation_missing_links['season'] = randomlist\n",
    "validation_missing_links.head(5)"
   ]
  },
  {
   "cell_type": "code",
   "execution_count": 20,
   "id": "2b71ae6f",
   "metadata": {},
   "outputs": [],
   "source": [
    "validation_missing_links = validation_missing_links.drop_duplicates()"
   ]
  },
  {
   "cell_type": "code",
   "execution_count": 21,
   "id": "13941032",
   "metadata": {},
   "outputs": [
    {
     "name": "stdout",
     "output_type": "stream",
     "text": [
      "<class 'pandas.core.frame.DataFrame'>\n",
      "Index: 38111 entries, 0 to 578415\n",
      "Data columns (total 4 columns):\n",
      " #   Column  Non-Null Count  Dtype \n",
      "---  ------  --------------  ----- \n",
      " 0   node1   38111 non-null  object\n",
      " 1   node2   38111 non-null  object\n",
      " 2   label   38111 non-null  int64 \n",
      " 3   season  38111 non-null  int64 \n",
      "dtypes: int64(2), object(2)\n",
      "memory usage: 1.5+ MB\n"
     ]
    }
   ],
   "source": [
    "validation_missing_links.info()"
   ]
  },
  {
   "cell_type": "code",
   "execution_count": 22,
   "id": "8a6f78c5",
   "metadata": {},
   "outputs": [],
   "source": [
    "# Down sample negative examples\n",
    "validation_missing_links = validation_missing_links.sample(n=len(validation_existing_links))"
   ]
  },
  {
   "cell_type": "code",
   "execution_count": 23,
   "id": "5ef94e6c",
   "metadata": {},
   "outputs": [
    {
     "name": "stdout",
     "output_type": "stream",
     "text": [
      "<class 'pandas.core.frame.DataFrame'>\n",
      "Index: 2020 entries, 554495 to 447843\n",
      "Data columns (total 4 columns):\n",
      " #   Column  Non-Null Count  Dtype \n",
      "---  ------  --------------  ----- \n",
      " 0   node1   2020 non-null   object\n",
      " 1   node2   2020 non-null   object\n",
      " 2   label   2020 non-null   int64 \n",
      " 3   season  2020 non-null   int64 \n",
      "dtypes: int64(2), object(2)\n",
      "memory usage: 78.9+ KB\n"
     ]
    }
   ],
   "source": [
    "validation_missing_links.info()"
   ]
  },
  {
   "cell_type": "code",
   "execution_count": 24,
   "id": "cbccdd77",
   "metadata": {},
   "outputs": [],
   "source": [
    "# Create DataFrame from positive and negative examples\n",
    "validation_df = pd.concat(\n",
    "    [validation_missing_links, validation_existing_links], ignore_index=True)\n",
    "validation_df['label'] = validation_df['label'].astype('category')"
   ]
  },
  {
   "cell_type": "code",
   "execution_count": 25,
   "id": "6a1266c4",
   "metadata": {},
   "outputs": [
    {
     "name": "stdout",
     "output_type": "stream",
     "text": [
      "<class 'pandas.core.frame.DataFrame'>\n",
      "RangeIndex: 4040 entries, 0 to 4039\n",
      "Data columns (total 4 columns):\n",
      " #   Column  Non-Null Count  Dtype   \n",
      "---  ------  --------------  -----   \n",
      " 0   node1   4040 non-null   object  \n",
      " 1   node2   4040 non-null   object  \n",
      " 2   label   4040 non-null   category\n",
      " 3   season  4040 non-null   int64   \n",
      "dtypes: category(1), int64(1), object(2)\n",
      "memory usage: 98.9+ KB\n"
     ]
    }
   ],
   "source": [
    "validation_df.info()"
   ]
  },
  {
   "attachments": {},
   "cell_type": "markdown",
   "id": "f9df2220",
   "metadata": {},
   "source": [
    "## Testing set"
   ]
  },
  {
   "cell_type": "code",
   "execution_count": 26,
   "id": "73c1a51c",
   "metadata": {},
   "outputs": [],
   "source": [
    "# Find positive examples\n",
    "test_existing_links = graph.run(\"\"\"\n",
    "MATCH (n:Person)-[r:INTERACTS_7|INTERACTS_8]-(p:Person)\n",
    "RETURN n.id AS node1, p.id AS node2, 1 AS label, r.season AS season\n",
    "\"\"\").to_data_frame()"
   ]
  },
  {
   "cell_type": "code",
   "execution_count": 27,
   "id": "d4a076a1",
   "metadata": {},
   "outputs": [
    {
     "name": "stdout",
     "output_type": "stream",
     "text": [
      "<class 'pandas.core.frame.DataFrame'>\n",
      "RangeIndex: 2090 entries, 0 to 2089\n",
      "Data columns (total 4 columns):\n",
      " #   Column  Non-Null Count  Dtype \n",
      "---  ------  --------------  ----- \n",
      " 0   node1   2090 non-null   object\n",
      " 1   node2   2090 non-null   object\n",
      " 2   label   2090 non-null   int64 \n",
      " 3   season  2090 non-null   int64 \n",
      "dtypes: int64(2), object(2)\n",
      "memory usage: 65.4+ KB\n"
     ]
    }
   ],
   "source": [
    "test_existing_links.info()"
   ]
  },
  {
   "cell_type": "code",
   "execution_count": 28,
   "id": "4c45fdd1",
   "metadata": {},
   "outputs": [],
   "source": [
    "# Find negative examples\n",
    "test_missing_links = graph.run(\"\"\"\n",
    "MATCH (n:Person)\n",
    "WHERE (n:Person)-[:INTERACTS_7|INTERACTS_8]-()\n",
    "MATCH (n:Person)-[r:INTERACTS_7|INTERACTS_8*2..3]-(p:Person)\n",
    "WHERE not((n:Person)-[:INTERACTS_7|INTERACTS_8]-(p:Person))\n",
    "RETURN n.id AS node1, p.id AS node2, 0 AS label\n",
    "\"\"\").to_data_frame()"
   ]
  },
  {
   "cell_type": "code",
   "execution_count": 29,
   "id": "4685b2d8",
   "metadata": {
    "scrolled": true
   },
   "outputs": [
    {
     "name": "stdout",
     "output_type": "stream",
     "text": [
      "<class 'pandas.core.frame.DataFrame'>\n",
      "RangeIndex: 1500008 entries, 0 to 1500007\n",
      "Data columns (total 3 columns):\n",
      " #   Column  Non-Null Count    Dtype \n",
      "---  ------  --------------    ----- \n",
      " 0   node1   1500008 non-null  object\n",
      " 1   node2   1500008 non-null  object\n",
      " 2   label   1500008 non-null  int64 \n",
      "dtypes: int64(1), object(2)\n",
      "memory usage: 34.3+ MB\n"
     ]
    }
   ],
   "source": [
    "test_missing_links.info()"
   ]
  },
  {
   "cell_type": "code",
   "execution_count": 30,
   "id": "a023835a",
   "metadata": {},
   "outputs": [
    {
     "data": {
      "text/html": [
       "<div>\n",
       "<style scoped>\n",
       "    .dataframe tbody tr th:only-of-type {\n",
       "        vertical-align: middle;\n",
       "    }\n",
       "\n",
       "    .dataframe tbody tr th {\n",
       "        vertical-align: top;\n",
       "    }\n",
       "\n",
       "    .dataframe thead th {\n",
       "        text-align: right;\n",
       "    }\n",
       "</style>\n",
       "<table border=\"1\" class=\"dataframe\">\n",
       "  <thead>\n",
       "    <tr style=\"text-align: right;\">\n",
       "      <th></th>\n",
       "      <th>node1</th>\n",
       "      <th>node2</th>\n",
       "      <th>label</th>\n",
       "      <th>season</th>\n",
       "    </tr>\n",
       "  </thead>\n",
       "  <tbody>\n",
       "    <tr>\n",
       "      <th>0</th>\n",
       "      <td>AEGON</td>\n",
       "      <td>CERSEI</td>\n",
       "      <td>0</td>\n",
       "      <td>8</td>\n",
       "    </tr>\n",
       "    <tr>\n",
       "      <th>1</th>\n",
       "      <td>AEGON</td>\n",
       "      <td>AERYS</td>\n",
       "      <td>0</td>\n",
       "      <td>8</td>\n",
       "    </tr>\n",
       "    <tr>\n",
       "      <th>2</th>\n",
       "      <td>AEGON</td>\n",
       "      <td>BALERION</td>\n",
       "      <td>0</td>\n",
       "      <td>8</td>\n",
       "    </tr>\n",
       "    <tr>\n",
       "      <th>3</th>\n",
       "      <td>AEGON</td>\n",
       "      <td>BRIENNE</td>\n",
       "      <td>0</td>\n",
       "      <td>7</td>\n",
       "    </tr>\n",
       "    <tr>\n",
       "      <th>4</th>\n",
       "      <td>AEGON</td>\n",
       "      <td>BRONN</td>\n",
       "      <td>0</td>\n",
       "      <td>7</td>\n",
       "    </tr>\n",
       "  </tbody>\n",
       "</table>\n",
       "</div>"
      ],
      "text/plain": [
       "   node1     node2  label  season\n",
       "0  AEGON    CERSEI      0       8\n",
       "1  AEGON     AERYS      0       8\n",
       "2  AEGON  BALERION      0       8\n",
       "3  AEGON   BRIENNE      0       7\n",
       "4  AEGON     BRONN      0       7"
      ]
     },
     "execution_count": 30,
     "metadata": {},
     "output_type": "execute_result"
    }
   ],
   "source": [
    "randomlist = []\n",
    "for i in range(0, 1500008):\n",
    "    n = random.randint(7,8)\n",
    "    randomlist.append(n)\n",
    "#print(randomlist)\n",
    "test_missing_links['season']=randomlist\n",
    "test_missing_links.head(5)"
   ]
  },
  {
   "cell_type": "code",
   "execution_count": 31,
   "id": "047c7c91",
   "metadata": {},
   "outputs": [],
   "source": [
    "# Remove duplicates \n",
    "test_missing_links = test_missing_links.drop_duplicates()"
   ]
  },
  {
   "cell_type": "code",
   "execution_count": 32,
   "id": "046971b6",
   "metadata": {
    "scrolled": true
   },
   "outputs": [
    {
     "name": "stdout",
     "output_type": "stream",
     "text": [
      "<class 'pandas.core.frame.DataFrame'>\n",
      "Index: 16442 entries, 0 to 1500004\n",
      "Data columns (total 4 columns):\n",
      " #   Column  Non-Null Count  Dtype \n",
      "---  ------  --------------  ----- \n",
      " 0   node1   16442 non-null  object\n",
      " 1   node2   16442 non-null  object\n",
      " 2   label   16442 non-null  int64 \n",
      " 3   season  16442 non-null  int64 \n",
      "dtypes: int64(2), object(2)\n",
      "memory usage: 642.3+ KB\n"
     ]
    }
   ],
   "source": [
    "test_missing_links.info()"
   ]
  },
  {
   "cell_type": "code",
   "execution_count": 33,
   "id": "0e972f60",
   "metadata": {},
   "outputs": [],
   "source": [
    "# Down sample negative examples\n",
    "test_missing_links = test_missing_links.sample(n=len(test_existing_links))"
   ]
  },
  {
   "cell_type": "code",
   "execution_count": 34,
   "id": "0441a663",
   "metadata": {},
   "outputs": [
    {
     "name": "stdout",
     "output_type": "stream",
     "text": [
      "<class 'pandas.core.frame.DataFrame'>\n",
      "Index: 2090 entries, 217025 to 1399832\n",
      "Data columns (total 4 columns):\n",
      " #   Column  Non-Null Count  Dtype \n",
      "---  ------  --------------  ----- \n",
      " 0   node1   2090 non-null   object\n",
      " 1   node2   2090 non-null   object\n",
      " 2   label   2090 non-null   int64 \n",
      " 3   season  2090 non-null   int64 \n",
      "dtypes: int64(2), object(2)\n",
      "memory usage: 81.6+ KB\n"
     ]
    }
   ],
   "source": [
    "test_missing_links.info()"
   ]
  },
  {
   "cell_type": "code",
   "execution_count": 35,
   "id": "0e050ec5",
   "metadata": {},
   "outputs": [],
   "source": [
    "# Create DataFrame from positive and negative examples\n",
    "test_df = pd.concat([test_missing_links, test_existing_links], ignore_index=True)\n",
    "test_df['label'] = test_df['label'].astype('category')"
   ]
  },
  {
   "cell_type": "code",
   "execution_count": 36,
   "id": "7dce9883",
   "metadata": {},
   "outputs": [
    {
     "name": "stdout",
     "output_type": "stream",
     "text": [
      "<class 'pandas.core.frame.DataFrame'>\n",
      "RangeIndex: 4180 entries, 0 to 4179\n",
      "Data columns (total 4 columns):\n",
      " #   Column  Non-Null Count  Dtype   \n",
      "---  ------  --------------  -----   \n",
      " 0   node1   4180 non-null   object  \n",
      " 1   node2   4180 non-null   object  \n",
      " 2   label   4180 non-null   category\n",
      " 3   season  4180 non-null   int64   \n",
      "dtypes: category(1), int64(1), object(2)\n",
      "memory usage: 102.3+ KB\n"
     ]
    }
   ],
   "source": [
    "test_df.info()"
   ]
  },
  {
   "cell_type": "markdown",
   "id": "3bbe4e8a",
   "metadata": {},
   "source": [
    "## Generating link prediction features"
   ]
  },
  {
   "attachments": {},
   "cell_type": "markdown",
   "id": "92dbd9f5",
   "metadata": {},
   "source": [
    "The topological link prediction algorithms in Neo4j are based on the topology of the graphs. Hence these are based on the structure of the graph. Let us look at what these algorithms are:\n",
    "\n",
    "- Adamic Adar - Adamic Adar is a measure used to compute the closeness of nodes based on their shared neighbors. $$A(x,y) = \\sum_{u \\in N(x) \\cap N(y)} \\frac{1}{log|N(u)|}$$ where N(u) is the set of nodes adjacent to u.\n",
    "\n",
    "- Common Neighbors - Common neighbours captures the idea that 2 strangers who have a friend in common are more likely to be introduced than those who don't have any friends in common. $$ CN(x,y) = | N(x) \\cap N(y)| $$ where N(x) is the set of nodes adjacent to node x, and N(y) is the set of nodes adjacent to node y.\n",
    "\n",
    "- Preferential Attachment - Preferential Attachment is a measure used to compute the closeness of nodes, based on their shared neighbors. Preferential attachment means that the more connected a node is, the more likely it is to receive new links. $$ PA(x,y) = |N(x)|*|N(y)| $$ where N(u) is the set of nodes adjacent to u.\n",
    "\n",
    "- Resource Allocation - Resource Allocation is a measure used to compute the closeness of nodes based on their shared neighbors. $$RA(x,y) = \\sum_{u \\in N(x) \\cap N(y)} \\frac{1}{|N(u)|}$$ where N(u) is the set of nodes adjacent to u.\n",
    "\n",
    "- Same Community - Same Community is a way of determining whether two nodes belong to the same community. If two nodes belong to the same community, there is a greater likelihood that there will be a relationship between them in future, if there isn’t already.\n",
    "\n",
    "- Total Neighbors - Total Neighbors computes the closeness of nodes, based on the number of unique neighbors that they have. It is based on the idea that the more connected a node is, the more likely it is to receive new links. $$ CN(x,y) = | N(x) \\cup N(y)| $$ where N(x) is the set of nodes adjacent to node x, and N(y) is the set of nodes adjacent to node y."
   ]
  },
  {
   "attachments": {},
   "cell_type": "markdown",
   "id": "cbb5ac28",
   "metadata": {},
   "source": [
    "A lot of interactions in Game of thrones happens through shared neighbors. Hence it makes sense to include these measures as features. The more general algorithms like Total Neighbors and Same Community might also work, but not as efficiently as the others. We also omit Resource Allocation as it is very similar to the Adamic Adar."
   ]
  },
  {
   "cell_type": "code",
   "execution_count": 37,
   "id": "a216b3b2",
   "metadata": {},
   "outputs": [],
   "source": [
    "def apply_graphy_features(data, rel_type):\n",
    "    query = \"\"\"\n",
    "    UNWIND $pairs AS pair\n",
    "    MATCH (p1) WHERE p1.id = pair.node1\n",
    "    MATCH (p2) WHERE p2.id = pair.node2\n",
    "    RETURN pair.node1 AS node1,\n",
    "           pair.node2 AS node2,\n",
    "           gds.alpha.linkprediction.commonNeighbors(\n",
    "               p1, p2, {relationshipQuery: $relType}) AS cn,\n",
    "           gds.alpha.linkprediction.preferentialAttachment(\n",
    "               p1, p2, {relationshipQuery: $relType}) AS pa,\n",
    "           gds.alpha.linkprediction.adamicAdar(\n",
    "               p1, p2, {relationshipQuery: $relType}) AS ad\n",
    "    \"\"\"\n",
    "    pairs = [{\"node1\": node1, \"node2\": node2}  for node1,node2 in data[[\"node1\", \"node2\"]].values.tolist()]\n",
    "    params = {\"pairs\": pairs, \"relType\": rel_type}\n",
    "    \n",
    "    features = graph.run(query, params).to_data_frame()\n",
    "    return pd.merge(data, features, on = [\"node1\", \"node2\"])"
   ]
  },
  {
   "attachments": {},
   "cell_type": "markdown",
   "id": "6c028ea7",
   "metadata": {},
   "source": [
    "We apply the above function to each season so as to not add the connections from other seasons."
   ]
  },
  {
   "cell_type": "code",
   "execution_count": 38,
   "id": "aa2e1ad6",
   "metadata": {},
   "outputs": [],
   "source": [
    "train_season1 = training_df[training_df['season'] == 1]\n",
    "train_season2 = training_df[training_df['season'] == 2]\n",
    "train_season3 = training_df[training_df['season'] == 3]\n",
    "train_season4 = training_df[training_df['season'] == 4]"
   ]
  },
  {
   "cell_type": "code",
   "execution_count": 39,
   "id": "e039a451",
   "metadata": {
    "scrolled": true
   },
   "outputs": [],
   "source": [
    "validation_season5 = validation_df[validation_df['season'] == 5]\n",
    "validation_season6 = validation_df[validation_df['season'] == 6]\n",
    "\n",
    "test_season7 = test_df[test_df['season'] == 7]\n",
    "test_season8 = test_df[test_df['season'] == 8]"
   ]
  },
  {
   "cell_type": "code",
   "execution_count": 40,
   "id": "14bec1bc",
   "metadata": {},
   "outputs": [],
   "source": [
    "train_season1_v = apply_graphy_features(train_season1, \"INTERACTS_1\")\n",
    "train_season2_v = apply_graphy_features(train_season2, \"INTERACTS_2\")\n",
    "train_season3_v= apply_graphy_features(train_season3, \"INTERACTS_3\")\n",
    "train_season4_v= apply_graphy_features(train_season4, \"INTERACTS_4\")\n",
    "# train_season5_v= apply_graphy_features(train_season5, \"INTERACTS_5\")"
   ]
  },
  {
   "cell_type": "code",
   "execution_count": 41,
   "id": "b6600a29",
   "metadata": {},
   "outputs": [
    {
     "data": {
      "text/html": [
       "<div>\n",
       "<style scoped>\n",
       "    .dataframe tbody tr th:only-of-type {\n",
       "        vertical-align: middle;\n",
       "    }\n",
       "\n",
       "    .dataframe tbody tr th {\n",
       "        vertical-align: top;\n",
       "    }\n",
       "\n",
       "    .dataframe thead th {\n",
       "        text-align: right;\n",
       "    }\n",
       "</style>\n",
       "<table border=\"1\" class=\"dataframe\">\n",
       "  <thead>\n",
       "    <tr style=\"text-align: right;\">\n",
       "      <th></th>\n",
       "      <th>node1</th>\n",
       "      <th>node2</th>\n",
       "      <th>label</th>\n",
       "      <th>season</th>\n",
       "      <th>cn</th>\n",
       "      <th>pa</th>\n",
       "      <th>ad</th>\n",
       "    </tr>\n",
       "  </thead>\n",
       "  <tbody>\n",
       "    <tr>\n",
       "      <th>1736</th>\n",
       "      <td>LITTLEFINGER</td>\n",
       "      <td>MHAEGEN</td>\n",
       "      <td>1</td>\n",
       "      <td>1</td>\n",
       "      <td>2.0</td>\n",
       "      <td>78.0</td>\n",
       "      <td>0.728236</td>\n",
       "    </tr>\n",
       "    <tr>\n",
       "      <th>1055</th>\n",
       "      <td>JOYEUSE</td>\n",
       "      <td>RHAEGO</td>\n",
       "      <td>0</td>\n",
       "      <td>1</td>\n",
       "      <td>0.0</td>\n",
       "      <td>4.0</td>\n",
       "      <td>0.000000</td>\n",
       "    </tr>\n",
       "    <tr>\n",
       "      <th>92</th>\n",
       "      <td>CERSEI</td>\n",
       "      <td>SEPTON</td>\n",
       "      <td>0</td>\n",
       "      <td>1</td>\n",
       "      <td>0.0</td>\n",
       "      <td>0.0</td>\n",
       "      <td>0.000000</td>\n",
       "    </tr>\n",
       "    <tr>\n",
       "      <th>1997</th>\n",
       "      <td>RENLY</td>\n",
       "      <td>ROBERT</td>\n",
       "      <td>1</td>\n",
       "      <td>1</td>\n",
       "      <td>13.0</td>\n",
       "      <td>612.0</td>\n",
       "      <td>4.808984</td>\n",
       "    </tr>\n",
       "    <tr>\n",
       "      <th>1414</th>\n",
       "      <td>DAENERYS</td>\n",
       "      <td>RAKHARO</td>\n",
       "      <td>1</td>\n",
       "      <td>1</td>\n",
       "      <td>7.0</td>\n",
       "      <td>144.0</td>\n",
       "      <td>3.692176</td>\n",
       "    </tr>\n",
       "  </tbody>\n",
       "</table>\n",
       "</div>"
      ],
      "text/plain": [
       "             node1    node2 label  season    cn     pa        ad\n",
       "1736  LITTLEFINGER  MHAEGEN     1       1   2.0   78.0  0.728236\n",
       "1055       JOYEUSE   RHAEGO     0       1   0.0    4.0  0.000000\n",
       "92          CERSEI   SEPTON     0       1   0.0    0.0  0.000000\n",
       "1997         RENLY   ROBERT     1       1  13.0  612.0  4.808984\n",
       "1414      DAENERYS  RAKHARO     1       1   7.0  144.0  3.692176"
      ]
     },
     "execution_count": 41,
     "metadata": {},
     "output_type": "execute_result"
    }
   ],
   "source": [
    "train_season1_v.sample(5)"
   ]
  },
  {
   "cell_type": "code",
   "execution_count": 42,
   "id": "2f3fbdc9",
   "metadata": {
    "scrolled": true
   },
   "outputs": [
    {
     "name": "stdout",
     "output_type": "stream",
     "text": [
      "<class 'pandas.core.frame.DataFrame'>\n",
      "Index: 2184 entries, 14 to 7663\n",
      "Data columns (total 4 columns):\n",
      " #   Column  Non-Null Count  Dtype   \n",
      "---  ------  --------------  -----   \n",
      " 0   node1   2184 non-null   object  \n",
      " 1   node2   2184 non-null   object  \n",
      " 2   label   2184 non-null   category\n",
      " 3   season  2184 non-null   int64   \n",
      "dtypes: category(1), int64(1), object(2)\n",
      "memory usage: 70.5+ KB\n"
     ]
    }
   ],
   "source": [
    "###NOTE: AFTER APPLYING THE FUNCTION, NUMBER OF ROWS INCREASES! ==> why?\n",
    "# Might be due to the fact that the id's are not unique, so the function is applied to the same id's multiple times\n",
    "train_season1.info()"
   ]
  },
  {
   "cell_type": "code",
   "execution_count": 43,
   "id": "c2ac1414",
   "metadata": {
    "scrolled": false
   },
   "outputs": [
    {
     "name": "stdout",
     "output_type": "stream",
     "text": [
      "<class 'pandas.core.frame.DataFrame'>\n",
      "RangeIndex: 2352 entries, 0 to 2351\n",
      "Data columns (total 7 columns):\n",
      " #   Column  Non-Null Count  Dtype   \n",
      "---  ------  --------------  -----   \n",
      " 0   node1   2352 non-null   object  \n",
      " 1   node2   2352 non-null   object  \n",
      " 2   label   2352 non-null   category\n",
      " 3   season  2352 non-null   int64   \n",
      " 4   cn      2352 non-null   float64 \n",
      " 5   pa      2352 non-null   float64 \n",
      " 6   ad      2352 non-null   float64 \n",
      "dtypes: category(1), float64(3), int64(1), object(2)\n",
      "memory usage: 112.8+ KB\n"
     ]
    }
   ],
   "source": [
    "train_season1_v.info()"
   ]
  },
  {
   "cell_type": "code",
   "execution_count": 56,
   "id": "0b5b5dd1",
   "metadata": {},
   "outputs": [
    {
     "data": {
      "text/html": [
       "<div>\n",
       "<style scoped>\n",
       "    .dataframe tbody tr th:only-of-type {\n",
       "        vertical-align: middle;\n",
       "    }\n",
       "\n",
       "    .dataframe tbody tr th {\n",
       "        vertical-align: top;\n",
       "    }\n",
       "\n",
       "    .dataframe thead th {\n",
       "        text-align: right;\n",
       "    }\n",
       "</style>\n",
       "<table border=\"1\" class=\"dataframe\">\n",
       "  <thead>\n",
       "    <tr style=\"text-align: right;\">\n",
       "      <th></th>\n",
       "      <th>node1</th>\n",
       "      <th>node2</th>\n",
       "      <th>label</th>\n",
       "      <th>season</th>\n",
       "      <th>cn</th>\n",
       "      <th>pa</th>\n",
       "      <th>ad</th>\n",
       "    </tr>\n",
       "  </thead>\n",
       "  <tbody>\n",
       "    <tr>\n",
       "      <th>10</th>\n",
       "      <td>OLENNA</td>\n",
       "      <td>SYRIO_FOREL</td>\n",
       "      <td>0</td>\n",
       "      <td>1</td>\n",
       "      <td>0.0</td>\n",
       "      <td>0.0</td>\n",
       "      <td>0.0</td>\n",
       "    </tr>\n",
       "    <tr>\n",
       "      <th>38</th>\n",
       "      <td>HIGH_SEPTON</td>\n",
       "      <td>GOATHERD</td>\n",
       "      <td>0</td>\n",
       "      <td>1</td>\n",
       "      <td>0.0</td>\n",
       "      <td>0.0</td>\n",
       "      <td>0.0</td>\n",
       "    </tr>\n",
       "    <tr>\n",
       "      <th>131</th>\n",
       "      <td>ALLISER_THORNE</td>\n",
       "      <td>KARL_TANNER</td>\n",
       "      <td>0</td>\n",
       "      <td>1</td>\n",
       "      <td>0.0</td>\n",
       "      <td>0.0</td>\n",
       "      <td>0.0</td>\n",
       "    </tr>\n",
       "    <tr>\n",
       "      <th>132</th>\n",
       "      <td>ALLISER_THORNE</td>\n",
       "      <td>KARL_TANNER</td>\n",
       "      <td>0</td>\n",
       "      <td>1</td>\n",
       "      <td>0.0</td>\n",
       "      <td>0.0</td>\n",
       "      <td>0.0</td>\n",
       "    </tr>\n",
       "    <tr>\n",
       "      <th>145</th>\n",
       "      <td>QHORIN</td>\n",
       "      <td>CERSEI</td>\n",
       "      <td>0</td>\n",
       "      <td>1</td>\n",
       "      <td>0.0</td>\n",
       "      <td>0.0</td>\n",
       "      <td>0.0</td>\n",
       "    </tr>\n",
       "    <tr>\n",
       "      <th>...</th>\n",
       "      <td>...</td>\n",
       "      <td>...</td>\n",
       "      <td>...</td>\n",
       "      <td>...</td>\n",
       "      <td>...</td>\n",
       "      <td>...</td>\n",
       "      <td>...</td>\n",
       "    </tr>\n",
       "    <tr>\n",
       "      <th>1770</th>\n",
       "      <td>MAESTER_AEMON</td>\n",
       "      <td>ALLISER_THORNE</td>\n",
       "      <td>1</td>\n",
       "      <td>1</td>\n",
       "      <td>0.0</td>\n",
       "      <td>0.0</td>\n",
       "      <td>0.0</td>\n",
       "    </tr>\n",
       "    <tr>\n",
       "      <th>1918</th>\n",
       "      <td>OTHELL_YARWYCK</td>\n",
       "      <td>ALLISER_THORNE</td>\n",
       "      <td>1</td>\n",
       "      <td>1</td>\n",
       "      <td>0.0</td>\n",
       "      <td>0.0</td>\n",
       "      <td>0.0</td>\n",
       "    </tr>\n",
       "    <tr>\n",
       "      <th>1956</th>\n",
       "      <td>PYP</td>\n",
       "      <td>ALLISER_THORNE</td>\n",
       "      <td>1</td>\n",
       "      <td>1</td>\n",
       "      <td>0.0</td>\n",
       "      <td>0.0</td>\n",
       "      <td>0.0</td>\n",
       "    </tr>\n",
       "    <tr>\n",
       "      <th>1978</th>\n",
       "      <td>RAST</td>\n",
       "      <td>ALLISER_THORNE</td>\n",
       "      <td>1</td>\n",
       "      <td>1</td>\n",
       "      <td>0.0</td>\n",
       "      <td>0.0</td>\n",
       "      <td>0.0</td>\n",
       "    </tr>\n",
       "    <tr>\n",
       "      <th>2121</th>\n",
       "      <td>SAM</td>\n",
       "      <td>ALLISER_THORNE</td>\n",
       "      <td>1</td>\n",
       "      <td>1</td>\n",
       "      <td>0.0</td>\n",
       "      <td>0.0</td>\n",
       "      <td>0.0</td>\n",
       "    </tr>\n",
       "  </tbody>\n",
       "</table>\n",
       "<p>88 rows × 7 columns</p>\n",
       "</div>"
      ],
      "text/plain": [
       "               node1           node2 label  season   cn   pa   ad\n",
       "10            OLENNA     SYRIO_FOREL     0       1  0.0  0.0  0.0\n",
       "38       HIGH_SEPTON        GOATHERD     0       1  0.0  0.0  0.0\n",
       "131   ALLISER_THORNE     KARL_TANNER     0       1  0.0  0.0  0.0\n",
       "132   ALLISER_THORNE     KARL_TANNER     0       1  0.0  0.0  0.0\n",
       "145           QHORIN          CERSEI     0       1  0.0  0.0  0.0\n",
       "...              ...             ...   ...     ...  ...  ...  ...\n",
       "1770   MAESTER_AEMON  ALLISER_THORNE     1       1  0.0  0.0  0.0\n",
       "1918  OTHELL_YARWYCK  ALLISER_THORNE     1       1  0.0  0.0  0.0\n",
       "1956             PYP  ALLISER_THORNE     1       1  0.0  0.0  0.0\n",
       "1978            RAST  ALLISER_THORNE     1       1  0.0  0.0  0.0\n",
       "2121             SAM  ALLISER_THORNE     1       1  0.0  0.0  0.0\n",
       "\n",
       "[88 rows x 7 columns]"
      ]
     },
     "execution_count": 56,
     "metadata": {},
     "output_type": "execute_result"
    }
   ],
   "source": [
    "train_season1_v[train_season1_v.duplicated()]"
   ]
  },
  {
   "cell_type": "code",
   "execution_count": 57,
   "id": "12cac1c1",
   "metadata": {},
   "outputs": [],
   "source": [
    "validation_season5_v = apply_graphy_features(validation_season5, \"INTERACTS_5\")\n",
    "validation_season6_v = apply_graphy_features(validation_season6, 'INTERACTS_6')\n",
    "test_season7_v = apply_graphy_features(test_season7, \"INTERACTS_7\")\n",
    "test_season8_v = apply_graphy_features(test_season8, \"INTERACTS_8\")"
   ]
  },
  {
   "cell_type": "code",
   "execution_count": 58,
   "id": "6dc8f4e5",
   "metadata": {},
   "outputs": [],
   "source": [
    "#Combining all seasons for trainign set and testing set\n",
    "frames_training = [train_season1_v, train_season2_v, train_season3_v, train_season4_v]\n",
    "result_training = pd.concat(frames_training)\n",
    "result_training = result_training.sample(frac=1)\n",
    "frames_validation = [validation_season5_v, validation_season6_v]\n",
    "result_validation = pd.concat(frames_validation)\n",
    "result_validation = result_validation.sample(frac=1)\n",
    "frames_test = [test_season7_v, test_season8_v]\n",
    "result_test = pd.concat(frames_test)\n",
    "result_test = result_test.sample(frac=1)"
   ]
  },
  {
   "cell_type": "code",
   "execution_count": 59,
   "id": "25ed3273",
   "metadata": {},
   "outputs": [
    {
     "data": {
      "text/html": [
       "<div>\n",
       "<style scoped>\n",
       "    .dataframe tbody tr th:only-of-type {\n",
       "        vertical-align: middle;\n",
       "    }\n",
       "\n",
       "    .dataframe tbody tr th {\n",
       "        vertical-align: top;\n",
       "    }\n",
       "\n",
       "    .dataframe thead th {\n",
       "        text-align: right;\n",
       "    }\n",
       "</style>\n",
       "<table border=\"1\" class=\"dataframe\">\n",
       "  <thead>\n",
       "    <tr style=\"text-align: right;\">\n",
       "      <th></th>\n",
       "      <th>node1</th>\n",
       "      <th>node2</th>\n",
       "      <th>label</th>\n",
       "      <th>season</th>\n",
       "      <th>cn</th>\n",
       "      <th>pa</th>\n",
       "      <th>ad</th>\n",
       "    </tr>\n",
       "  </thead>\n",
       "  <tbody>\n",
       "    <tr>\n",
       "      <th>965</th>\n",
       "      <td>GOATHERD</td>\n",
       "      <td>AERYS</td>\n",
       "      <td>0</td>\n",
       "      <td>1</td>\n",
       "      <td>0.0</td>\n",
       "      <td>0.0</td>\n",
       "      <td>0.000000</td>\n",
       "    </tr>\n",
       "    <tr>\n",
       "      <th>2004</th>\n",
       "      <td>RHAEGO</td>\n",
       "      <td>DROGO</td>\n",
       "      <td>1</td>\n",
       "      <td>1</td>\n",
       "      <td>3.0</td>\n",
       "      <td>52.0</td>\n",
       "      <td>1.170365</td>\n",
       "    </tr>\n",
       "    <tr>\n",
       "      <th>3356</th>\n",
       "      <td>OLLY</td>\n",
       "      <td>ALLISER_THORNE</td>\n",
       "      <td>1</td>\n",
       "      <td>4</td>\n",
       "      <td>0.0</td>\n",
       "      <td>0.0</td>\n",
       "      <td>0.000000</td>\n",
       "    </tr>\n",
       "    <tr>\n",
       "      <th>3316</th>\n",
       "      <td>NIGHT_KING</td>\n",
       "      <td>CRASTERS_BABY</td>\n",
       "      <td>1</td>\n",
       "      <td>4</td>\n",
       "      <td>1.0</td>\n",
       "      <td>20.0</td>\n",
       "      <td>1.442695</td>\n",
       "    </tr>\n",
       "    <tr>\n",
       "      <th>1643</th>\n",
       "      <td>NED</td>\n",
       "      <td>JOFFREY</td>\n",
       "      <td>1</td>\n",
       "      <td>2</td>\n",
       "      <td>12.0</td>\n",
       "      <td>720.0</td>\n",
       "      <td>3.946548</td>\n",
       "    </tr>\n",
       "  </tbody>\n",
       "</table>\n",
       "</div>"
      ],
      "text/plain": [
       "           node1           node2 label  season    cn     pa        ad\n",
       "965     GOATHERD           AERYS     0       1   0.0    0.0  0.000000\n",
       "2004      RHAEGO           DROGO     1       1   3.0   52.0  1.170365\n",
       "3356        OLLY  ALLISER_THORNE     1       4   0.0    0.0  0.000000\n",
       "3316  NIGHT_KING   CRASTERS_BABY     1       4   1.0   20.0  1.442695\n",
       "1643         NED         JOFFREY     1       2  12.0  720.0  3.946548"
      ]
     },
     "execution_count": 59,
     "metadata": {},
     "output_type": "execute_result"
    }
   ],
   "source": [
    "result_training.sample(5)"
   ]
  },
  {
   "cell_type": "code",
   "execution_count": 60,
   "id": "ab16104f",
   "metadata": {},
   "outputs": [
    {
     "data": {
      "text/html": [
       "<div>\n",
       "<style scoped>\n",
       "    .dataframe tbody tr th:only-of-type {\n",
       "        vertical-align: middle;\n",
       "    }\n",
       "\n",
       "    .dataframe tbody tr th {\n",
       "        vertical-align: top;\n",
       "    }\n",
       "\n",
       "    .dataframe thead th {\n",
       "        text-align: right;\n",
       "    }\n",
       "</style>\n",
       "<table border=\"1\" class=\"dataframe\">\n",
       "  <thead>\n",
       "    <tr style=\"text-align: right;\">\n",
       "      <th></th>\n",
       "      <th>node1</th>\n",
       "      <th>node2</th>\n",
       "      <th>label</th>\n",
       "      <th>season</th>\n",
       "      <th>cn</th>\n",
       "      <th>pa</th>\n",
       "      <th>ad</th>\n",
       "    </tr>\n",
       "  </thead>\n",
       "  <tbody>\n",
       "    <tr>\n",
       "      <th>669</th>\n",
       "      <td>SELYSE</td>\n",
       "      <td>LITTLEFINGER</td>\n",
       "      <td>0</td>\n",
       "      <td>5</td>\n",
       "      <td>1.0</td>\n",
       "      <td>189.0</td>\n",
       "      <td>0.306928</td>\n",
       "    </tr>\n",
       "    <tr>\n",
       "      <th>2763</th>\n",
       "      <td>EURON</td>\n",
       "      <td>YARA</td>\n",
       "      <td>1</td>\n",
       "      <td>6</td>\n",
       "      <td>3.0</td>\n",
       "      <td>36.0</td>\n",
       "      <td>1.832566</td>\n",
       "    </tr>\n",
       "    <tr>\n",
       "      <th>2152</th>\n",
       "      <td>WALDER</td>\n",
       "      <td>BLACK_WALDER</td>\n",
       "      <td>1</td>\n",
       "      <td>6</td>\n",
       "      <td>5.0</td>\n",
       "      <td>48.0</td>\n",
       "      <td>2.234003</td>\n",
       "    </tr>\n",
       "    <tr>\n",
       "      <th>964</th>\n",
       "      <td>ROBB</td>\n",
       "      <td>TANDA</td>\n",
       "      <td>0</td>\n",
       "      <td>5</td>\n",
       "      <td>0.0</td>\n",
       "      <td>5.0</td>\n",
       "      <td>0.000000</td>\n",
       "    </tr>\n",
       "    <tr>\n",
       "      <th>427</th>\n",
       "      <td>MOSSADOR</td>\n",
       "      <td>LOLLYS</td>\n",
       "      <td>0</td>\n",
       "      <td>6</td>\n",
       "      <td>0.0</td>\n",
       "      <td>0.0</td>\n",
       "      <td>0.000000</td>\n",
       "    </tr>\n",
       "  </tbody>\n",
       "</table>\n",
       "</div>"
      ],
      "text/plain": [
       "         node1         node2 label  season   cn     pa        ad\n",
       "669     SELYSE  LITTLEFINGER     0       5  1.0  189.0  0.306928\n",
       "2763     EURON          YARA     1       6  3.0   36.0  1.832566\n",
       "2152    WALDER  BLACK_WALDER     1       6  5.0   48.0  2.234003\n",
       "964       ROBB         TANDA     0       5  0.0    5.0  0.000000\n",
       "427   MOSSADOR        LOLLYS     0       6  0.0    0.0  0.000000"
      ]
     },
     "execution_count": 60,
     "metadata": {},
     "output_type": "execute_result"
    }
   ],
   "source": [
    "result_validation.sample(5)\n"
   ]
  },
  {
   "cell_type": "code",
   "execution_count": 61,
   "id": "b3babb30",
   "metadata": {},
   "outputs": [
    {
     "data": {
      "text/html": [
       "<div>\n",
       "<style scoped>\n",
       "    .dataframe tbody tr th:only-of-type {\n",
       "        vertical-align: middle;\n",
       "    }\n",
       "\n",
       "    .dataframe tbody tr th {\n",
       "        vertical-align: top;\n",
       "    }\n",
       "\n",
       "    .dataframe thead th {\n",
       "        text-align: right;\n",
       "    }\n",
       "</style>\n",
       "<table border=\"1\" class=\"dataframe\">\n",
       "  <thead>\n",
       "    <tr style=\"text-align: right;\">\n",
       "      <th></th>\n",
       "      <th>node1</th>\n",
       "      <th>node2</th>\n",
       "      <th>label</th>\n",
       "      <th>season</th>\n",
       "      <th>cn</th>\n",
       "      <th>pa</th>\n",
       "      <th>ad</th>\n",
       "    </tr>\n",
       "  </thead>\n",
       "  <tbody>\n",
       "    <tr>\n",
       "      <th>1706</th>\n",
       "      <td>MYRCELLA</td>\n",
       "      <td>MOUNTAIN</td>\n",
       "      <td>1</td>\n",
       "      <td>7</td>\n",
       "      <td>2.0</td>\n",
       "      <td>64.0</td>\n",
       "      <td>0.909874</td>\n",
       "    </tr>\n",
       "    <tr>\n",
       "      <th>835</th>\n",
       "      <td>CERSEI</td>\n",
       "      <td>JOANNA</td>\n",
       "      <td>0</td>\n",
       "      <td>7</td>\n",
       "      <td>1.0</td>\n",
       "      <td>32.0</td>\n",
       "      <td>0.513898</td>\n",
       "    </tr>\n",
       "    <tr>\n",
       "      <th>2543</th>\n",
       "      <td>YOHN_ROYCE</td>\n",
       "      <td>JORAH</td>\n",
       "      <td>1</td>\n",
       "      <td>8</td>\n",
       "      <td>20.0</td>\n",
       "      <td>754.0</td>\n",
       "      <td>5.737928</td>\n",
       "    </tr>\n",
       "    <tr>\n",
       "      <th>706</th>\n",
       "      <td>TEELA</td>\n",
       "      <td>TOMMEN</td>\n",
       "      <td>0</td>\n",
       "      <td>8</td>\n",
       "      <td>0.0</td>\n",
       "      <td>0.0</td>\n",
       "      <td>0.000000</td>\n",
       "    </tr>\n",
       "    <tr>\n",
       "      <th>750</th>\n",
       "      <td>DAENERYS</td>\n",
       "      <td>JOANNA</td>\n",
       "      <td>0</td>\n",
       "      <td>7</td>\n",
       "      <td>1.0</td>\n",
       "      <td>35.0</td>\n",
       "      <td>0.513898</td>\n",
       "    </tr>\n",
       "  </tbody>\n",
       "</table>\n",
       "</div>"
      ],
      "text/plain": [
       "           node1     node2 label  season    cn     pa        ad\n",
       "1706    MYRCELLA  MOUNTAIN     1       7   2.0   64.0  0.909874\n",
       "835       CERSEI    JOANNA     0       7   1.0   32.0  0.513898\n",
       "2543  YOHN_ROYCE     JORAH     1       8  20.0  754.0  5.737928\n",
       "706        TEELA    TOMMEN     0       8   0.0    0.0  0.000000\n",
       "750     DAENERYS    JOANNA     0       7   1.0   35.0  0.513898"
      ]
     },
     "execution_count": 61,
     "metadata": {},
     "output_type": "execute_result"
    }
   ],
   "source": [
    "result_test.sample(5)\n"
   ]
  },
  {
   "attachments": {},
   "cell_type": "markdown",
   "id": "f2e0a2f0",
   "metadata": {},
   "source": [
    "Having added some features, we can now train a classifier to predict whether a link exists between two nodes. This would help us see how good the features are at predicting links. As mentioned earlier, we choose a random forest classifier with an arbitrary set of paramters."
   ]
  },
  {
   "cell_type": "markdown",
   "id": "7d72ea77",
   "metadata": {},
   "source": [
    "# Choosing Random Forest Classifier"
   ]
  },
  {
   "cell_type": "code",
   "execution_count": 62,
   "id": "23ac1e25",
   "metadata": {},
   "outputs": [],
   "source": [
    "classifier = RandomForestClassifier(n_estimators=30, max_depth=10,  \n",
    "                                    random_state=0)"
   ]
  },
  {
   "cell_type": "markdown",
   "id": "973aba67",
   "metadata": {},
   "source": [
    "## Train your model"
   ]
  },
  {
   "cell_type": "code",
   "execution_count": 64,
   "id": "04e2967a",
   "metadata": {},
   "outputs": [
    {
     "data": {
      "text/html": [
       "<style>#sk-container-id-1 {color: black;background-color: white;}#sk-container-id-1 pre{padding: 0;}#sk-container-id-1 div.sk-toggleable {background-color: white;}#sk-container-id-1 label.sk-toggleable__label {cursor: pointer;display: block;width: 100%;margin-bottom: 0;padding: 0.3em;box-sizing: border-box;text-align: center;}#sk-container-id-1 label.sk-toggleable__label-arrow:before {content: \"▸\";float: left;margin-right: 0.25em;color: #696969;}#sk-container-id-1 label.sk-toggleable__label-arrow:hover:before {color: black;}#sk-container-id-1 div.sk-estimator:hover label.sk-toggleable__label-arrow:before {color: black;}#sk-container-id-1 div.sk-toggleable__content {max-height: 0;max-width: 0;overflow: hidden;text-align: left;background-color: #f0f8ff;}#sk-container-id-1 div.sk-toggleable__content pre {margin: 0.2em;color: black;border-radius: 0.25em;background-color: #f0f8ff;}#sk-container-id-1 input.sk-toggleable__control:checked~div.sk-toggleable__content {max-height: 200px;max-width: 100%;overflow: auto;}#sk-container-id-1 input.sk-toggleable__control:checked~label.sk-toggleable__label-arrow:before {content: \"▾\";}#sk-container-id-1 div.sk-estimator input.sk-toggleable__control:checked~label.sk-toggleable__label {background-color: #d4ebff;}#sk-container-id-1 div.sk-label input.sk-toggleable__control:checked~label.sk-toggleable__label {background-color: #d4ebff;}#sk-container-id-1 input.sk-hidden--visually {border: 0;clip: rect(1px 1px 1px 1px);clip: rect(1px, 1px, 1px, 1px);height: 1px;margin: -1px;overflow: hidden;padding: 0;position: absolute;width: 1px;}#sk-container-id-1 div.sk-estimator {font-family: monospace;background-color: #f0f8ff;border: 1px dotted black;border-radius: 0.25em;box-sizing: border-box;margin-bottom: 0.5em;}#sk-container-id-1 div.sk-estimator:hover {background-color: #d4ebff;}#sk-container-id-1 div.sk-parallel-item::after {content: \"\";width: 100%;border-bottom: 1px solid gray;flex-grow: 1;}#sk-container-id-1 div.sk-label:hover label.sk-toggleable__label {background-color: #d4ebff;}#sk-container-id-1 div.sk-serial::before {content: \"\";position: absolute;border-left: 1px solid gray;box-sizing: border-box;top: 0;bottom: 0;left: 50%;z-index: 0;}#sk-container-id-1 div.sk-serial {display: flex;flex-direction: column;align-items: center;background-color: white;padding-right: 0.2em;padding-left: 0.2em;position: relative;}#sk-container-id-1 div.sk-item {position: relative;z-index: 1;}#sk-container-id-1 div.sk-parallel {display: flex;align-items: stretch;justify-content: center;background-color: white;position: relative;}#sk-container-id-1 div.sk-item::before, #sk-container-id-1 div.sk-parallel-item::before {content: \"\";position: absolute;border-left: 1px solid gray;box-sizing: border-box;top: 0;bottom: 0;left: 50%;z-index: -1;}#sk-container-id-1 div.sk-parallel-item {display: flex;flex-direction: column;z-index: 1;position: relative;background-color: white;}#sk-container-id-1 div.sk-parallel-item:first-child::after {align-self: flex-end;width: 50%;}#sk-container-id-1 div.sk-parallel-item:last-child::after {align-self: flex-start;width: 50%;}#sk-container-id-1 div.sk-parallel-item:only-child::after {width: 0;}#sk-container-id-1 div.sk-dashed-wrapped {border: 1px dashed gray;margin: 0 0.4em 0.5em 0.4em;box-sizing: border-box;padding-bottom: 0.4em;background-color: white;}#sk-container-id-1 div.sk-label label {font-family: monospace;font-weight: bold;display: inline-block;line-height: 1.2em;}#sk-container-id-1 div.sk-label-container {text-align: center;}#sk-container-id-1 div.sk-container {/* jupyter's `normalize.less` sets `[hidden] { display: none; }` but bootstrap.min.css set `[hidden] { display: none !important; }` so we also need the `!important` here to be able to override the default hidden behavior on the sphinx rendered scikit-learn.org. See: https://github.com/scikit-learn/scikit-learn/issues/21755 */display: inline-block !important;position: relative;}#sk-container-id-1 div.sk-text-repr-fallback {display: none;}</style><div id=\"sk-container-id-1\" class=\"sk-top-container\"><div class=\"sk-text-repr-fallback\"><pre>RandomForestClassifier(max_depth=10, n_estimators=30, random_state=0)</pre><b>In a Jupyter environment, please rerun this cell to show the HTML representation or trust the notebook. <br />On GitHub, the HTML representation is unable to render, please try loading this page with nbviewer.org.</b></div><div class=\"sk-container\" hidden><div class=\"sk-item\"><div class=\"sk-estimator sk-toggleable\"><input class=\"sk-toggleable__control sk-hidden--visually\" id=\"sk-estimator-id-1\" type=\"checkbox\" checked><label for=\"sk-estimator-id-1\" class=\"sk-toggleable__label sk-toggleable__label-arrow\">RandomForestClassifier</label><div class=\"sk-toggleable__content\"><pre>RandomForestClassifier(max_depth=10, n_estimators=30, random_state=0)</pre></div></div></div></div></div>"
      ],
      "text/plain": [
       "RandomForestClassifier(max_depth=10, n_estimators=30, random_state=0)"
      ]
     },
     "execution_count": 64,
     "metadata": {},
     "output_type": "execute_result"
    }
   ],
   "source": [
    "columns = [\"cn\", \"pa\", \"ad\"]\n",
    "X = result_training[columns]\n",
    "y = result_training[\"label\"]\n",
    "classifier.fit(X, y)"
   ]
  },
  {
   "cell_type": "markdown",
   "id": "5a971b98",
   "metadata": {},
   "source": [
    "# Evaluation"
   ]
  },
  {
   "attachments": {},
   "cell_type": "markdown",
   "id": "8bb33c46",
   "metadata": {},
   "source": [
    "We create two functions evaluate_model and feature_importance to evaluate the performance of the model and to find the inportant features in the model."
   ]
  },
  {
   "cell_type": "code",
   "execution_count": 65,
   "id": "05879ce9",
   "metadata": {},
   "outputs": [],
   "source": [
    "def evaluate_model(predictions, actual):\n",
    "    accuracy = accuracy_score(actual, predictions)\n",
    "    precision = precision_score(actual, predictions)\n",
    "    recall = recall_score(actual, predictions)\n",
    "    metrics = [\"accuracy\", \"precision\", \"recall\"]\n",
    "    values = [accuracy, precision, recall]    \n",
    "    return pd.DataFrame(data={'metric': metrics, 'value': values})\n",
    "\n",
    "def feature_importance(columns, classifier):        \n",
    "    features = list(zip(columns, classifier.feature_importances_))\n",
    "    sorted_features = sorted(features, key = lambda x: x[1]*-1)\n",
    "    keys = [value[0] for value in sorted_features]\n",
    "    values = [value[1] for value in sorted_features]\n",
    "    return pd.DataFrame(data={'feature': keys, 'value': values})"
   ]
  },
  {
   "cell_type": "code",
   "execution_count": 66,
   "id": "2119bf60",
   "metadata": {},
   "outputs": [
    {
     "data": {
      "text/html": [
       "<div>\n",
       "<style scoped>\n",
       "    .dataframe tbody tr th:only-of-type {\n",
       "        vertical-align: middle;\n",
       "    }\n",
       "\n",
       "    .dataframe tbody tr th {\n",
       "        vertical-align: top;\n",
       "    }\n",
       "\n",
       "    .dataframe thead th {\n",
       "        text-align: right;\n",
       "    }\n",
       "</style>\n",
       "<table border=\"1\" class=\"dataframe\">\n",
       "  <thead>\n",
       "    <tr style=\"text-align: right;\">\n",
       "      <th></th>\n",
       "      <th>metric</th>\n",
       "      <th>value</th>\n",
       "    </tr>\n",
       "  </thead>\n",
       "  <tbody>\n",
       "    <tr>\n",
       "      <th>0</th>\n",
       "      <td>accuracy</td>\n",
       "      <td>0.916147</td>\n",
       "    </tr>\n",
       "    <tr>\n",
       "      <th>1</th>\n",
       "      <td>precision</td>\n",
       "      <td>0.913740</td>\n",
       "    </tr>\n",
       "    <tr>\n",
       "      <th>2</th>\n",
       "      <td>recall</td>\n",
       "      <td>0.951991</td>\n",
       "    </tr>\n",
       "  </tbody>\n",
       "</table>\n",
       "</div>"
      ],
      "text/plain": [
       "      metric     value\n",
       "0   accuracy  0.916147\n",
       "1  precision  0.913740\n",
       "2     recall  0.951991"
      ]
     },
     "execution_count": 66,
     "metadata": {},
     "output_type": "execute_result"
    }
   ],
   "source": [
    "predictions = classifier.predict(result_validation[columns])\n",
    "y_test = result_validation[\"label\"]\n",
    "evaluate_model(predictions, y_test)"
   ]
  },
  {
   "cell_type": "code",
   "execution_count": 67,
   "id": "ab5f37a8",
   "metadata": {},
   "outputs": [
    {
     "data": {
      "text/html": [
       "<div>\n",
       "<style scoped>\n",
       "    .dataframe tbody tr th:only-of-type {\n",
       "        vertical-align: middle;\n",
       "    }\n",
       "\n",
       "    .dataframe tbody tr th {\n",
       "        vertical-align: top;\n",
       "    }\n",
       "\n",
       "    .dataframe thead th {\n",
       "        text-align: right;\n",
       "    }\n",
       "</style>\n",
       "<table border=\"1\" class=\"dataframe\">\n",
       "  <thead>\n",
       "    <tr style=\"text-align: right;\">\n",
       "      <th></th>\n",
       "      <th>feature</th>\n",
       "      <th>value</th>\n",
       "    </tr>\n",
       "  </thead>\n",
       "  <tbody>\n",
       "    <tr>\n",
       "      <th>0</th>\n",
       "      <td>cn</td>\n",
       "      <td>0.391094</td>\n",
       "    </tr>\n",
       "    <tr>\n",
       "      <th>1</th>\n",
       "      <td>ad</td>\n",
       "      <td>0.310173</td>\n",
       "    </tr>\n",
       "    <tr>\n",
       "      <th>2</th>\n",
       "      <td>pa</td>\n",
       "      <td>0.298733</td>\n",
       "    </tr>\n",
       "  </tbody>\n",
       "</table>\n",
       "</div>"
      ],
      "text/plain": [
       "  feature     value\n",
       "0      cn  0.391094\n",
       "1      ad  0.310173\n",
       "2      pa  0.298733"
      ]
     },
     "execution_count": 67,
     "metadata": {},
     "output_type": "execute_result"
    }
   ],
   "source": [
    "feature_importance(columns, classifier)"
   ]
  },
  {
   "attachments": {},
   "cell_type": "markdown",
   "id": "a3b285d1",
   "metadata": {},
   "source": [
    "As we can see, the accuracy is 0.91, which is very good. The precision is 0.91 as well, which means that 91% of the predicted links are correct. The recall is 0.95, which means that 95% of the actual links are predicted. The feature importance shows that the common neighbors is the most important feature, followed by the adamic adar and the preferential attachment."
   ]
  },
  {
   "cell_type": "markdown",
   "id": "065f3fa3",
   "metadata": {},
   "source": [
    "# Introducing more features (Triangles and The Clustering Coefficient)"
   ]
  },
  {
   "attachments": {},
   "cell_type": "markdown",
   "id": "165b303c",
   "metadata": {},
   "source": [
    "To improve the accuracy further, we add more graphical features - Triangle count and clustering coefficient. \n",
    "\n",
    "- The Triangle Count algorithm counts the number of triangles for each node in the graph. A triangle is a set of three nodes where each node has a relationship to the other two. In graph theory terminology, this is sometimes referred to as a 3-clique. The Triangle Count algorithm in the GDS library only finds triangles in undirected graphs. Triangle counting has gained popularity in social network analysis, where it is used to detect communities and measure the cohesiveness of those communities. It can also be used to determine the stability of a graph. Triangle count at a particular node indicates the number of triangles with that node as a vertex of the triangle. It indicates that the vertex is a good connector of its \"friends\". \n",
    "\n",
    "- The Local Clustering Coefficient algorithm computes the local clustering coefficient for each node in the graph. The local clustering coefficient Cn of a node n describes the likelihood that the neighbours of n are also connected. To compute Cn we use the number of triangles a node is a part of Tn, and the degree of the node dn. The formula to compute the local clustering coefficient is as follows: $$ C_{n} = \\frac{2T_n}{d_n(d_n - 1)}$$\n",
    "\n"
   ]
  },
  {
   "attachments": {},
   "cell_type": "markdown",
   "id": "9b8fc14e",
   "metadata": {},
   "source": [
    "## Calculating the Triangle count and Clustering coefficient"
   ]
  },
  {
   "attachments": {},
   "cell_type": "markdown",
   "id": "b4e4c554",
   "metadata": {},
   "source": [
    "To calculate the triangle count for the nodes, we first create the in memory graphs and use the triangle count function in neo4j. We write this property to the in memry graph as triangleCount. We proceed similarly for clustering coefficient as well."
   ]
  },
  {
   "cell_type": "code",
   "execution_count": 80,
   "id": "c0357984",
   "metadata": {},
   "outputs": [
    {
     "data": {
      "text/html": [
       "<table><tr><th>nodeProjection</th><th>relationshipProjection</th><th>graphName</th><th>nodeCount</th><th>relationshipCount</th><th>projectMillis</th></tr><tr><td style=\"text-align:left\">{Person: {label: &#039;Person&#039;, properties: {}}}</td><td style=\"text-align:left\">{INTERACTS_5: {orientation: &#039;UNDIRECTED&#039;, indexInverse: false, aggregation: &#039;DEFAULT&#039;, type: &#039;INTERACTS_5&#039;, properties: {}}}</td><td style=\"text-align:left\">myGraph5</td><td style=\"text-align:right\">418</td><td style=\"text-align:right\">866</td><td style=\"text-align:right\">21</td></tr></table>"
      ],
      "text/plain": [
       " nodeProjection                              | relationshipProjection                                                                                                       | graphName | nodeCount | relationshipCount | projectMillis \n",
       "---------------------------------------------|------------------------------------------------------------------------------------------------------------------------------|-----------|-----------|-------------------|---------------\n",
       " {Person: {label: 'Person', properties: {}}} | {INTERACTS_5: {orientation: 'UNDIRECTED', indexInverse: false, aggregation: 'DEFAULT', type: 'INTERACTS_5', properties: {}}} | myGraph5  |       418 |               866 |            21 "
      ]
     },
     "execution_count": 80,
     "metadata": {},
     "output_type": "execute_result"
    }
   ],
   "source": [
    "# Make the in memory graphs for adding triangle counts and clustering coefficients\n",
    "query1 = \"\"\"\n",
    "CALL gds.graph.project(\n",
    "  'myGraph1',\n",
    "  'Person',\n",
    "  {\n",
    "    INTERACTS_1: {\n",
    "      orientation: 'UNDIRECTED'\n",
    "    }\n",
    "  }\n",
    ")\n",
    "\"\"\"\n",
    "\n",
    "query2 = \"\"\"\n",
    "CALL gds.graph.project(\n",
    "  'myGraph2',\n",
    "  'Person',\n",
    "  {\n",
    "    INTERACTS_2: {\n",
    "    orientation: 'UNDIRECTED'\n",
    "}\n",
    "}\n",
    ")\n",
    "\"\"\"\n",
    "query3 = \"\"\"\n",
    "CALL gds.graph.project(\n",
    "  'myGraph3',\n",
    "  'Person',\n",
    "  {\n",
    "    INTERACTS_3: {\n",
    "    orientation: 'UNDIRECTED'\n",
    "}\n",
    "  }\n",
    ")\n",
    "\"\"\"\n",
    "query4 = \"\"\"\n",
    "CALL gds.graph.project(\n",
    "  'myGraph4',\n",
    "  'Person',\n",
    "  {\n",
    "    INTERACTS_4: {\n",
    "    orientation: 'UNDIRECTED'\n",
    "}\n",
    "  }\n",
    ")\n",
    "\"\"\"\n",
    "query5 = \"\"\"\n",
    "CALL gds.graph.project(\n",
    "  'myGraph5',\n",
    "  'Person',\n",
    "  {\n",
    "    INTERACTS_5: {\n",
    "    orientation: 'UNDIRECTED'\n",
    "}\n",
    "  }\n",
    ")\n",
    "\"\"\"\n",
    "graph.run(query1)\n",
    "graph.run(query2)\n",
    "graph.run(query3)\n",
    "graph.run(query4)\n",
    "graph.run(query5)\n"
   ]
  },
  {
   "cell_type": "code",
   "execution_count": 81,
   "id": "b497215b",
   "metadata": {},
   "outputs": [
    {
     "data": {
      "text/html": [
       "<table><tr><th>nodeProjection</th><th>relationshipProjection</th><th>graphName</th><th>nodeCount</th><th>relationshipCount</th><th>projectMillis</th></tr><tr><td style=\"text-align:left\">{Person: {label: &#039;Person&#039;, properties: {}}}</td><td style=\"text-align:left\">{INTERACTS_8: {orientation: &#039;UNDIRECTED&#039;, indexInverse: false, aggregation: &#039;DEFAULT&#039;, type: &#039;INTERACTS_8&#039;, properties: {}}}</td><td style=\"text-align:left\">myGraph8</td><td style=\"text-align:right\">418</td><td style=\"text-align:right\">1200</td><td style=\"text-align:right\">14</td></tr></table>"
      ],
      "text/plain": [
       " nodeProjection                              | relationshipProjection                                                                                                       | graphName | nodeCount | relationshipCount | projectMillis \n",
       "---------------------------------------------|------------------------------------------------------------------------------------------------------------------------------|-----------|-----------|-------------------|---------------\n",
       " {Person: {label: 'Person', properties: {}}} | {INTERACTS_8: {orientation: 'UNDIRECTED', indexInverse: false, aggregation: 'DEFAULT', type: 'INTERACTS_8', properties: {}}} | myGraph8  |       418 |              1200 |            14 "
      ]
     },
     "execution_count": 81,
     "metadata": {},
     "output_type": "execute_result"
    }
   ],
   "source": [
    "# Make the in memory graphs for adding triangle counts and clustering coefficients\n",
    "query6 = \"\"\"\n",
    "CALL gds.graph.project(\n",
    "  'myGraph6',\n",
    "  'Person',\n",
    "  {\n",
    "    INTERACTS_6: {\n",
    "      orientation: 'UNDIRECTED'\n",
    "    }\n",
    "  }\n",
    ")\n",
    "\"\"\"\n",
    "\n",
    "query7 = \"\"\"\n",
    "CALL gds.graph.project(\n",
    "  'myGraph7',\n",
    "  'Person',\n",
    "  {\n",
    "    INTERACTS_7: {\n",
    "      orientation: 'UNDIRECTED'\n",
    "    }\n",
    "  }\n",
    ")\n",
    "\"\"\"\n",
    "\n",
    "query8 = \"\"\"\n",
    "CALL gds.graph.project(\n",
    "  'myGraph8',\n",
    "  'Person',\n",
    "  {\n",
    "    INTERACTS_8: {\n",
    "      orientation: 'UNDIRECTED'\n",
    "    }\n",
    "  }\n",
    ")\n",
    "\"\"\"\n",
    "\n",
    "graph.run(query6)\n",
    "graph.run(query7)\n",
    "graph.run(query8)\n"
   ]
  },
  {
   "cell_type": "code",
   "execution_count": 82,
   "id": "efb53be3",
   "metadata": {},
   "outputs": [
    {
     "data": {
      "text/html": [
       "<table><tr><th>writeMillis</th><th>nodePropertiesWritten</th><th>globalTriangleCount</th><th>nodeCount</th><th>postProcessingMillis</th><th>preProcessingMillis</th><th>computeMillis</th><th>configuration</th></tr><tr><td style=\"text-align:right\">5</td><td style=\"text-align:right\">418</td><td style=\"text-align:right\">1524</td><td style=\"text-align:right\">418</td><td style=\"text-align:right\">0</td><td style=\"text-align:right\">0</td><td style=\"text-align:right\">3</td><td style=\"text-align:left\">{jobId: &#039;8d360e80-0022-4bc2-bbb5-f91197d3fb49&#039;, writeConcurrency: 4, writeProperty: &#039;trianglesTrain4&#039;, maxDegree: 9223372036854775807, logProgress: true, nodeLabels: [&#039;*&#039;], sudo: false, relationshipTypes: [&#039;*&#039;], concurrency: 4}</td></tr></table>"
      ],
      "text/plain": [
       " writeMillis | nodePropertiesWritten | globalTriangleCount | nodeCount | postProcessingMillis | preProcessingMillis | computeMillis | configuration                                                                                                                                                                                                                       \n",
       "-------------|-----------------------|---------------------|-----------|----------------------|---------------------|---------------|-------------------------------------------------------------------------------------------------------------------------------------------------------------------------------------------------------------------------------------\n",
       "           5 |                   418 |                1524 |       418 |                    0 |                   0 |             3 | {jobId: '8d360e80-0022-4bc2-bbb5-f91197d3fb49', writeConcurrency: 4, writeProperty: 'trianglesTrain4', maxDegree: 9223372036854775807, logProgress: true, nodeLabels: ['*'], sudo: false, relationshipTypes: ['*'], concurrency: 4} "
      ]
     },
     "execution_count": 82,
     "metadata": {},
     "output_type": "execute_result"
    }
   ],
   "source": [
    "query1 = \"\"\" \n",
    "CALL gds.triangleCount.write('myGraph1', {\n",
    "  writeProperty: 'trianglesTrain1'\n",
    "})\n",
    "\"\"\"\n",
    "\n",
    "query2 = \"\"\" \n",
    "CALL gds.triangleCount.write('myGraph2', {\n",
    "  writeProperty: 'trianglesTrain2'\n",
    "})\n",
    "\"\"\"\n",
    "\n",
    "query3 = \"\"\" \n",
    "CALL gds.triangleCount.write('myGraph3', {\n",
    "  writeProperty: 'trianglesTrain3'\n",
    "})\n",
    "\"\"\"\n",
    "\n",
    "query4 = \"\"\" \n",
    "CALL gds.triangleCount.write('myGraph4', {\n",
    "  writeProperty: 'trianglesTrain4'\n",
    "})\n",
    "\"\"\"\n",
    "\n",
    "\n",
    "\n",
    "graph.run(query1)\n",
    "graph.run(query2)\n",
    "graph.run(query3)\n",
    "graph.run(query4)\n"
   ]
  },
  {
   "cell_type": "code",
   "execution_count": 83,
   "id": "e24a00b3",
   "metadata": {},
   "outputs": [
    {
     "data": {
      "text/html": [
       "<table><tr><th>writeMillis</th><th>nodePropertiesWritten</th><th>globalTriangleCount</th><th>nodeCount</th><th>postProcessingMillis</th><th>preProcessingMillis</th><th>computeMillis</th><th>configuration</th></tr><tr><td style=\"text-align:right\">3</td><td style=\"text-align:right\">418</td><td style=\"text-align:right\">3351</td><td style=\"text-align:right\">418</td><td style=\"text-align:right\">0</td><td style=\"text-align:right\">0</td><td style=\"text-align:right\">3</td><td style=\"text-align:left\">{jobId: &#039;b2f7daa8-9ef5-4fa0-995d-8f5b3cf688a4&#039;, writeConcurrency: 4, writeProperty: &#039;trianglesTest8&#039;, maxDegree: 9223372036854775807, logProgress: true, nodeLabels: [&#039;*&#039;], sudo: false, relationshipTypes: [&#039;*&#039;], concurrency: 4}</td></tr></table>"
      ],
      "text/plain": [
       " writeMillis | nodePropertiesWritten | globalTriangleCount | nodeCount | postProcessingMillis | preProcessingMillis | computeMillis | configuration                                                                                                                                                                                                                      \n",
       "-------------|-----------------------|---------------------|-----------|----------------------|---------------------|---------------|------------------------------------------------------------------------------------------------------------------------------------------------------------------------------------------------------------------------------------\n",
       "           3 |                   418 |                3351 |       418 |                    0 |                   0 |             3 | {jobId: 'b2f7daa8-9ef5-4fa0-995d-8f5b3cf688a4', writeConcurrency: 4, writeProperty: 'trianglesTest8', maxDegree: 9223372036854775807, logProgress: true, nodeLabels: ['*'], sudo: false, relationshipTypes: ['*'], concurrency: 4} "
      ]
     },
     "execution_count": 83,
     "metadata": {},
     "output_type": "execute_result"
    }
   ],
   "source": [
    "query5 = \"\"\" \n",
    "CALL gds.triangleCount.write('myGraph5', {\n",
    "  writeProperty: 'trianglesTest5'\n",
    "})\n",
    "\"\"\"\n",
    "\n",
    "query6 = \"\"\" \n",
    "CALL gds.triangleCount.write('myGraph6', {\n",
    "  writeProperty: 'trianglesTest6'\n",
    "})\n",
    "\"\"\"\n",
    "query7 = \"\"\" \n",
    "CALL gds.triangleCount.write('myGraph7', {\n",
    "  writeProperty: 'trianglesTest7'\n",
    "})\n",
    "\"\"\"\n",
    "query8 = \"\"\" \n",
    "CALL gds.triangleCount.write('myGraph8', {\n",
    "  writeProperty: 'trianglesTest8'\n",
    "})\n",
    "\"\"\"\n",
    "graph.run(query5)\n",
    "graph.run(query6)\n",
    "graph.run(query7)\n",
    "graph.run(query8)"
   ]
  },
  {
   "cell_type": "code",
   "execution_count": 84,
   "id": "3da5d478",
   "metadata": {},
   "outputs": [
    {
     "data": {
      "text/html": [
       "<table><tr><th>writeMillis</th><th>nodePropertiesWritten</th><th>averageClusteringCoefficient</th><th>nodeCount</th><th>postProcessingMillis</th><th>preProcessingMillis</th><th>computeMillis</th><th>configuration</th></tr><tr><td style=\"text-align:right\">5</td><td style=\"text-align:right\">418</td><td style=\"text-align:right\">0.2821768603167667</td><td style=\"text-align:right\">418</td><td style=\"text-align:right\">0</td><td style=\"text-align:right\">0</td><td style=\"text-align:right\">7</td><td style=\"text-align:left\">{jobId: &#039;96d89be5-0bc0-43e9-a312-098f7e6e7689&#039;, writeConcurrency: 4, triangleCountProperty: null, writeProperty: &#039;coefficientTrain4&#039;, logProgress: true, nodeLabels: [&#039;*&#039;], sudo: false, relationshipTypes: [&#039;*&#039;], concurrency: 4}</td></tr></table>"
      ],
      "text/plain": [
       " writeMillis | nodePropertiesWritten | averageClusteringCoefficient | nodeCount | postProcessingMillis | preProcessingMillis | computeMillis | configuration                                                                                                                                                                                                                      \n",
       "-------------|-----------------------|------------------------------|-----------|----------------------|---------------------|---------------|------------------------------------------------------------------------------------------------------------------------------------------------------------------------------------------------------------------------------------\n",
       "           5 |                   418 |           0.2821768603167667 |       418 |                    0 |                   0 |             7 | {jobId: '96d89be5-0bc0-43e9-a312-098f7e6e7689', writeConcurrency: 4, triangleCountProperty: null, writeProperty: 'coefficientTrain4', logProgress: true, nodeLabels: ['*'], sudo: false, relationshipTypes: ['*'], concurrency: 4} "
      ]
     },
     "execution_count": 84,
     "metadata": {},
     "output_type": "execute_result"
    }
   ],
   "source": [
    "query1 = \"\"\"\n",
    "CALL gds.localClusteringCoefficient.write('myGraph1', {\n",
    "    writeProperty: 'coefficientTrain1'\n",
    "});\n",
    "\"\"\"\n",
    "\n",
    "query2 = \"\"\"\n",
    "CALL gds.localClusteringCoefficient.write('myGraph2', {\n",
    "    writeProperty: 'coefficientTrain2'\n",
    "});\n",
    "\"\"\"\n",
    "\n",
    "query3 = \"\"\"\n",
    "CALL gds.localClusteringCoefficient.write('myGraph3', {\n",
    "    writeProperty: 'coefficientTrain3'\n",
    "});\n",
    "\"\"\"\n",
    "\n",
    "query4 = \"\"\"\n",
    "CALL gds.localClusteringCoefficient.write('myGraph4', {\n",
    "    writeProperty: 'coefficientTrain4'\n",
    "});\n",
    "\"\"\"\n",
    "\n",
    "\n",
    "\n",
    "graph.run(query1)\n",
    "graph.run(query2)\n",
    "graph.run(query3)\n",
    "graph.run(query4)\n"
   ]
  },
  {
   "cell_type": "code",
   "execution_count": 85,
   "id": "37954e0a",
   "metadata": {},
   "outputs": [
    {
     "data": {
      "text/html": [
       "<table><tr><th>writeMillis</th><th>nodePropertiesWritten</th><th>averageClusteringCoefficient</th><th>nodeCount</th><th>postProcessingMillis</th><th>preProcessingMillis</th><th>computeMillis</th><th>configuration</th></tr><tr><td style=\"text-align:right\">3</td><td style=\"text-align:right\">418</td><td style=\"text-align:right\">0.12460664993056118</td><td style=\"text-align:right\">418</td><td style=\"text-align:right\">0</td><td style=\"text-align:right\">0</td><td style=\"text-align:right\">7</td><td style=\"text-align:left\">{jobId: &#039;7d838f55-5f6c-40ff-99d6-c4e938fc2e7d&#039;, writeConcurrency: 4, triangleCountProperty: null, writeProperty: &#039;coefficientTest8&#039;, logProgress: true, nodeLabels: [&#039;*&#039;], sudo: false, relationshipTypes: [&#039;*&#039;], concurrency: 4}</td></tr></table>"
      ],
      "text/plain": [
       " writeMillis | nodePropertiesWritten | averageClusteringCoefficient | nodeCount | postProcessingMillis | preProcessingMillis | computeMillis | configuration                                                                                                                                                                                                                     \n",
       "-------------|-----------------------|------------------------------|-----------|----------------------|---------------------|---------------|-----------------------------------------------------------------------------------------------------------------------------------------------------------------------------------------------------------------------------------\n",
       "           3 |                   418 |          0.12460664993056118 |       418 |                    0 |                   0 |             7 | {jobId: '7d838f55-5f6c-40ff-99d6-c4e938fc2e7d', writeConcurrency: 4, triangleCountProperty: null, writeProperty: 'coefficientTest8', logProgress: true, nodeLabels: ['*'], sudo: false, relationshipTypes: ['*'], concurrency: 4} "
      ]
     },
     "execution_count": 85,
     "metadata": {},
     "output_type": "execute_result"
    }
   ],
   "source": [
    "query5 = \"\"\"\n",
    "CALL gds.localClusteringCoefficient.write('myGraph5', {\n",
    "    writeProperty: 'coefficientTest5'\n",
    "});\n",
    "\"\"\"\n",
    "\n",
    "query6 = \"\"\"\n",
    "CALL gds.localClusteringCoefficient.write('myGraph6', {\n",
    "    writeProperty: 'coefficientTest6'\n",
    "});\n",
    "\"\"\"\n",
    "\n",
    "query7 = \"\"\"\n",
    "CALL gds.localClusteringCoefficient.write('myGraph7', {\n",
    "    writeProperty: 'coefficientTest7'\n",
    "});\n",
    "\"\"\"\n",
    "\n",
    "query8 = \"\"\"\n",
    "CALL gds.localClusteringCoefficient.write('myGraph8', {\n",
    "    writeProperty: 'coefficientTest8'\n",
    "});\n",
    "\"\"\"\n",
    "\n",
    "graph.run(query5)\n",
    "graph.run(query6)\n",
    "graph.run(query7)\n",
    "graph.run(query8)"
   ]
  },
  {
   "cell_type": "markdown",
   "id": "3daf127a",
   "metadata": {},
   "source": [
    "## Adding the features"
   ]
  },
  {
   "attachments": {},
   "cell_type": "markdown",
   "id": "71dc2816",
   "metadata": {},
   "source": [
    "As we need to have features for the edges, we take the maximum and the minimum of the properties of the nodes forming the edge. Since an edge is formed by 2 node, we are indeed adding the clustering coefficients and number of triangles of both the nodes as features for prediction."
   ]
  },
  {
   "cell_type": "code",
   "execution_count": 86,
   "id": "e501626e",
   "metadata": {},
   "outputs": [],
   "source": [
    "def apply_triangles_features(data,triangles_prop,coefficient_prop):\n",
    "    \n",
    "    query = \"\"\"\n",
    "    UNWIND $pairs AS pair\n",
    "    MATCH (p1:Person) WHERE p1.id = pair.node1\n",
    "    MATCH (p2:Person) WHERE p2.id = pair.node2\n",
    "    RETURN pair.node1 AS node1, \n",
    "    pair.node2 AS node2,\n",
    "    apoc.coll.min([p1[$triangles], p2[$triangles]]) AS minTriangles,\n",
    "    apoc.coll.max([p1[$triangles], p2[$triangles]]) AS maxTriangles,\n",
    "    apoc.coll.min([p1[$coefficient], p2[$coefficient]]) AS minCoeff,\n",
    "    apoc.coll.max([p1[$coefficient], p2[$coefficient]]) AS maxCoeff\n",
    "    \"\"\"\n",
    "    \n",
    "\n",
    "    pairs = [{\"node1\": str(pair[0]), \"node2\": str(pair[1])}  \n",
    "          for pair in data[[\"node1\", \"node2\"]].values.tolist()]\n",
    "        \n",
    "    params = {\n",
    "        \"pairs\": pairs,\n",
    "        \"triangles\": triangles_prop,\n",
    "        \"coefficient\": coefficient_prop\n",
    "        }\n",
    "    \n",
    "    features = graph.run(query,params).to_data_frame()\n",
    "    \n",
    "    return pd.merge(data, features, on = [\"node1\", \"node2\"])"
   ]
  },
  {
   "cell_type": "code",
   "execution_count": 87,
   "id": "9d618600",
   "metadata": {},
   "outputs": [],
   "source": [
    "train_season1_w = apply_triangles_features(train_season1_v, \"trianglesTrain1\", \"coefficientTrain1\")\n",
    "train_season2_w = apply_triangles_features(train_season2_v, \"trianglesTrain2\", \"coefficientTrain2\")\n",
    "train_season3_w = apply_triangles_features(train_season3_v, \"trianglesTrain3\", \"coefficientTrain3\")\n",
    "train_season4_w = apply_triangles_features(train_season4_v, \"trianglesTrain4\", \"coefficientTrain4\")\n",
    "# train_season5_w = apply_triangles_features(train_season5_v, \"trianglesTrain5\", \"coefficientTrain5\")\n",
    "\n",
    "validation_season5_w = apply_triangles_features(validation_season5_v, \"trianglesTest5\", \"coefficientTest5\")\n",
    "validation_season6_w = apply_triangles_features(validation_season6_v, \"trianglesTest6\", \"coefficientTest6\")\n",
    "test_season7_w = apply_triangles_features(test_season7_v, \"trianglesTest7\", \"coefficientTest7\")\n",
    "test_season8_w = apply_triangles_features(test_season8_v, \"trianglesTest8\", \"coefficientTest8\")"
   ]
  },
  {
   "cell_type": "markdown",
   "id": "4131288f",
   "metadata": {},
   "source": [
    "We add the features to the training, validation and test sets."
   ]
  },
  {
   "cell_type": "code",
   "execution_count": 88,
   "id": "44177e70",
   "metadata": {},
   "outputs": [],
   "source": [
    "frames_training_w = [train_season1_w, train_season2_w,\n",
    "                   train_season3_w, train_season4_w]\n",
    "result_training_w = pd.concat(frames_training_w)\n",
    "result_training_w = result_training_w.sample(frac=1).reset_index(drop=True)\n",
    "frames_validation_w = [validation_season5_w, validation_season6_w]\n",
    "result_validation_w = pd.concat(frames_validation_w)\n",
    "result_validation_w = result_validation_w.sample(frac=1).reset_index(drop=True)\n",
    "frames_test_w = [test_season7_w, test_season8_w]\n",
    "result_test_w = pd.concat(frames_test_w)\n",
    "result_test_w = result_test_w.sample(frac=1).reset_index(drop=True)"
   ]
  },
  {
   "cell_type": "code",
   "execution_count": 89,
   "id": "81d0d21b",
   "metadata": {},
   "outputs": [
    {
     "data": {
      "text/html": [
       "<table><tr><th>graphName</th></tr><tr><td style=\"text-align:left\">myGraph8</td></tr></table>"
      ],
      "text/plain": [
       " graphName \n",
       "-----------\n",
       " myGraph8  "
      ]
     },
     "execution_count": 89,
     "metadata": {},
     "output_type": "execute_result"
    }
   ],
   "source": [
    "query1 = \"\"\"\n",
    "CALL gds.graph.drop('myGraph1') YIELD graphName;\n",
    "\"\"\"\n",
    "\n",
    "query2 = \"\"\"\n",
    "CALL gds.graph.drop('myGraph2') YIELD graphName;\n",
    "\"\"\"\n",
    "\n",
    "query3 = \"\"\"\n",
    "CALL gds.graph.drop('myGraph3') YIELD graphName;\n",
    "\"\"\"\n",
    "\n",
    "query4 = \"\"\"\n",
    "CALL gds.graph.drop('myGraph4') YIELD graphName;\n",
    "\"\"\"\n",
    "\n",
    "query5 = \"\"\"\n",
    "CALL gds.graph.drop('myGraph5') YIELD graphName;\n",
    "\"\"\"\n",
    "\n",
    "query6 = \"\"\"\n",
    "CALL gds.graph.drop('myGraph6') YIELD graphName;\n",
    "\"\"\"\n",
    "\n",
    "query7 = \"\"\"\n",
    "CALL gds.graph.drop('myGraph7') YIELD graphName;\n",
    "\"\"\"\n",
    "\n",
    "query8 = \"\"\"\n",
    "CALL gds.graph.drop('myGraph8') YIELD graphName;\n",
    "\"\"\"\n",
    "\n",
    "graph.run(query1)\n",
    "graph.run(query2)\n",
    "graph.run(query3)\n",
    "graph.run(query4)\n",
    "graph.run(query5)\n",
    "graph.run(query6)\n",
    "graph.run(query7)\n",
    "graph.run(query8)"
   ]
  },
  {
   "attachments": {},
   "cell_type": "markdown",
   "id": "e36f2ff5",
   "metadata": {},
   "source": [
    "# Training and Hyperparameter tuning"
   ]
  },
  {
   "attachments": {},
   "cell_type": "markdown",
   "id": "bfb262c2",
   "metadata": {},
   "source": [
    "We train the random forest classifier and select the best set of parameters using RandomizedSearchCV"
   ]
  },
  {
   "cell_type": "code",
   "execution_count": 91,
   "id": "50422828",
   "metadata": {},
   "outputs": [
    {
     "name": "stdout",
     "output_type": "stream",
     "text": [
      "Fitting 3 folds for each of 100 candidates, totalling 300 fits\n"
     ]
    },
    {
     "data": {
      "text/html": [
       "<style>#sk-container-id-2 {color: black;background-color: white;}#sk-container-id-2 pre{padding: 0;}#sk-container-id-2 div.sk-toggleable {background-color: white;}#sk-container-id-2 label.sk-toggleable__label {cursor: pointer;display: block;width: 100%;margin-bottom: 0;padding: 0.3em;box-sizing: border-box;text-align: center;}#sk-container-id-2 label.sk-toggleable__label-arrow:before {content: \"▸\";float: left;margin-right: 0.25em;color: #696969;}#sk-container-id-2 label.sk-toggleable__label-arrow:hover:before {color: black;}#sk-container-id-2 div.sk-estimator:hover label.sk-toggleable__label-arrow:before {color: black;}#sk-container-id-2 div.sk-toggleable__content {max-height: 0;max-width: 0;overflow: hidden;text-align: left;background-color: #f0f8ff;}#sk-container-id-2 div.sk-toggleable__content pre {margin: 0.2em;color: black;border-radius: 0.25em;background-color: #f0f8ff;}#sk-container-id-2 input.sk-toggleable__control:checked~div.sk-toggleable__content {max-height: 200px;max-width: 100%;overflow: auto;}#sk-container-id-2 input.sk-toggleable__control:checked~label.sk-toggleable__label-arrow:before {content: \"▾\";}#sk-container-id-2 div.sk-estimator input.sk-toggleable__control:checked~label.sk-toggleable__label {background-color: #d4ebff;}#sk-container-id-2 div.sk-label input.sk-toggleable__control:checked~label.sk-toggleable__label {background-color: #d4ebff;}#sk-container-id-2 input.sk-hidden--visually {border: 0;clip: rect(1px 1px 1px 1px);clip: rect(1px, 1px, 1px, 1px);height: 1px;margin: -1px;overflow: hidden;padding: 0;position: absolute;width: 1px;}#sk-container-id-2 div.sk-estimator {font-family: monospace;background-color: #f0f8ff;border: 1px dotted black;border-radius: 0.25em;box-sizing: border-box;margin-bottom: 0.5em;}#sk-container-id-2 div.sk-estimator:hover {background-color: #d4ebff;}#sk-container-id-2 div.sk-parallel-item::after {content: \"\";width: 100%;border-bottom: 1px solid gray;flex-grow: 1;}#sk-container-id-2 div.sk-label:hover label.sk-toggleable__label {background-color: #d4ebff;}#sk-container-id-2 div.sk-serial::before {content: \"\";position: absolute;border-left: 1px solid gray;box-sizing: border-box;top: 0;bottom: 0;left: 50%;z-index: 0;}#sk-container-id-2 div.sk-serial {display: flex;flex-direction: column;align-items: center;background-color: white;padding-right: 0.2em;padding-left: 0.2em;position: relative;}#sk-container-id-2 div.sk-item {position: relative;z-index: 1;}#sk-container-id-2 div.sk-parallel {display: flex;align-items: stretch;justify-content: center;background-color: white;position: relative;}#sk-container-id-2 div.sk-item::before, #sk-container-id-2 div.sk-parallel-item::before {content: \"\";position: absolute;border-left: 1px solid gray;box-sizing: border-box;top: 0;bottom: 0;left: 50%;z-index: -1;}#sk-container-id-2 div.sk-parallel-item {display: flex;flex-direction: column;z-index: 1;position: relative;background-color: white;}#sk-container-id-2 div.sk-parallel-item:first-child::after {align-self: flex-end;width: 50%;}#sk-container-id-2 div.sk-parallel-item:last-child::after {align-self: flex-start;width: 50%;}#sk-container-id-2 div.sk-parallel-item:only-child::after {width: 0;}#sk-container-id-2 div.sk-dashed-wrapped {border: 1px dashed gray;margin: 0 0.4em 0.5em 0.4em;box-sizing: border-box;padding-bottom: 0.4em;background-color: white;}#sk-container-id-2 div.sk-label label {font-family: monospace;font-weight: bold;display: inline-block;line-height: 1.2em;}#sk-container-id-2 div.sk-label-container {text-align: center;}#sk-container-id-2 div.sk-container {/* jupyter's `normalize.less` sets `[hidden] { display: none; }` but bootstrap.min.css set `[hidden] { display: none !important; }` so we also need the `!important` here to be able to override the default hidden behavior on the sphinx rendered scikit-learn.org. See: https://github.com/scikit-learn/scikit-learn/issues/21755 */display: inline-block !important;position: relative;}#sk-container-id-2 div.sk-text-repr-fallback {display: none;}</style><div id=\"sk-container-id-2\" class=\"sk-top-container\"><div class=\"sk-text-repr-fallback\"><pre>RandomizedSearchCV(cv=3, estimator=RandomForestClassifier(), n_iter=100,\n",
       "                   n_jobs=-1,\n",
       "                   param_distributions={&#x27;bootstrap&#x27;: [True, False],\n",
       "                                        &#x27;criterion&#x27;: [&#x27;gini&#x27;, &#x27;entropy&#x27;],\n",
       "                                        &#x27;max_depth&#x27;: [2, 3, 4, 5, 6, 7, 8, 9,\n",
       "                                                      10],\n",
       "                                        &#x27;max_features&#x27;: [&#x27;auto&#x27;, &#x27;sqrt&#x27;,\n",
       "                                                         &#x27;log2&#x27;],\n",
       "                                        &#x27;min_samples_leaf&#x27;: [1, 2, 3, 4, 5, 6,\n",
       "                                                             7, 8, 9, 10],\n",
       "                                        &#x27;min_samples_split&#x27;: [2, 3, 4, 5, 6, 7,\n",
       "                                                              8, 9, 10],\n",
       "                                        &#x27;n_estimators&#x27;: [10, 20, 30, 40, 50, 60,\n",
       "                                                         70, 80, 90, 100]},\n",
       "                   random_state=42, verbose=2)</pre><b>In a Jupyter environment, please rerun this cell to show the HTML representation or trust the notebook. <br />On GitHub, the HTML representation is unable to render, please try loading this page with nbviewer.org.</b></div><div class=\"sk-container\" hidden><div class=\"sk-item sk-dashed-wrapped\"><div class=\"sk-label-container\"><div class=\"sk-label sk-toggleable\"><input class=\"sk-toggleable__control sk-hidden--visually\" id=\"sk-estimator-id-2\" type=\"checkbox\" ><label for=\"sk-estimator-id-2\" class=\"sk-toggleable__label sk-toggleable__label-arrow\">RandomizedSearchCV</label><div class=\"sk-toggleable__content\"><pre>RandomizedSearchCV(cv=3, estimator=RandomForestClassifier(), n_iter=100,\n",
       "                   n_jobs=-1,\n",
       "                   param_distributions={&#x27;bootstrap&#x27;: [True, False],\n",
       "                                        &#x27;criterion&#x27;: [&#x27;gini&#x27;, &#x27;entropy&#x27;],\n",
       "                                        &#x27;max_depth&#x27;: [2, 3, 4, 5, 6, 7, 8, 9,\n",
       "                                                      10],\n",
       "                                        &#x27;max_features&#x27;: [&#x27;auto&#x27;, &#x27;sqrt&#x27;,\n",
       "                                                         &#x27;log2&#x27;],\n",
       "                                        &#x27;min_samples_leaf&#x27;: [1, 2, 3, 4, 5, 6,\n",
       "                                                             7, 8, 9, 10],\n",
       "                                        &#x27;min_samples_split&#x27;: [2, 3, 4, 5, 6, 7,\n",
       "                                                              8, 9, 10],\n",
       "                                        &#x27;n_estimators&#x27;: [10, 20, 30, 40, 50, 60,\n",
       "                                                         70, 80, 90, 100]},\n",
       "                   random_state=42, verbose=2)</pre></div></div></div><div class=\"sk-parallel\"><div class=\"sk-parallel-item\"><div class=\"sk-item\"><div class=\"sk-label-container\"><div class=\"sk-label sk-toggleable\"><input class=\"sk-toggleable__control sk-hidden--visually\" id=\"sk-estimator-id-3\" type=\"checkbox\" ><label for=\"sk-estimator-id-3\" class=\"sk-toggleable__label sk-toggleable__label-arrow\">estimator: RandomForestClassifier</label><div class=\"sk-toggleable__content\"><pre>RandomForestClassifier()</pre></div></div></div><div class=\"sk-serial\"><div class=\"sk-item\"><div class=\"sk-estimator sk-toggleable\"><input class=\"sk-toggleable__control sk-hidden--visually\" id=\"sk-estimator-id-4\" type=\"checkbox\" ><label for=\"sk-estimator-id-4\" class=\"sk-toggleable__label sk-toggleable__label-arrow\">RandomForestClassifier</label><div class=\"sk-toggleable__content\"><pre>RandomForestClassifier()</pre></div></div></div></div></div></div></div></div></div></div>"
      ],
      "text/plain": [
       "RandomizedSearchCV(cv=3, estimator=RandomForestClassifier(), n_iter=100,\n",
       "                   n_jobs=-1,\n",
       "                   param_distributions={'bootstrap': [True, False],\n",
       "                                        'criterion': ['gini', 'entropy'],\n",
       "                                        'max_depth': [2, 3, 4, 5, 6, 7, 8, 9,\n",
       "                                                      10],\n",
       "                                        'max_features': ['auto', 'sqrt',\n",
       "                                                         'log2'],\n",
       "                                        'min_samples_leaf': [1, 2, 3, 4, 5, 6,\n",
       "                                                             7, 8, 9, 10],\n",
       "                                        'min_samples_split': [2, 3, 4, 5, 6, 7,\n",
       "                                                              8, 9, 10],\n",
       "                                        'n_estimators': [10, 20, 30, 40, 50, 60,\n",
       "                                                         70, 80, 90, 100]},\n",
       "                   random_state=42, verbose=2)"
      ]
     },
     "execution_count": 91,
     "metadata": {},
     "output_type": "execute_result"
    }
   ],
   "source": [
    "n_estimators = [10,20,30,40,50,60,70,80,90,100]\n",
    "max_depth = [2,3,4,5,6,7,8,9,10]\n",
    "min_samples_split = [2,3,4,5,6,7,8,9,10]\n",
    "min_samples_leaf = [1,2,3,4,5,6,7,8,9,10]\n",
    "max_features = ['auto', 'sqrt', 'log2']\n",
    "bootstrap = [True, False]\n",
    "criterion = ['gini', 'entropy']\n",
    "\n",
    "param_grid = {'n_estimators': n_estimators,\n",
    "                'max_depth': max_depth,\n",
    "                'min_samples_split': min_samples_split,\n",
    "                'min_samples_leaf': min_samples_leaf,\n",
    "                'max_features': max_features,\n",
    "                'bootstrap': bootstrap,\n",
    "                'criterion': criterion}\n",
    "\n",
    "rf = RandomForestClassifier()\n",
    "rf_random = RandomizedSearchCV(estimator = rf, param_distributions = param_grid, n_iter = 100, cv = 3, verbose=2, random_state=42, n_jobs = -1)\n",
    "rf_random.fit(result_training_w[[\"cn\", \"pa\", \"ad\", \"minTriangles\",\n",
    "              \"maxTriangles\", \"minCoeff\", \"maxCoeff\"]], result_training_w['label'])"
   ]
  },
  {
   "cell_type": "code",
   "execution_count": 92,
   "id": "5b6734e3",
   "metadata": {},
   "outputs": [
    {
     "name": "stdout",
     "output_type": "stream",
     "text": [
      "{'n_estimators': 20, 'min_samples_split': 4, 'min_samples_leaf': 2, 'max_features': 'sqrt', 'max_depth': 10, 'criterion': 'gini', 'bootstrap': False}\n",
      "0.9909082824353854\n",
      "RandomForestClassifier(bootstrap=False, max_depth=10, min_samples_leaf=2,\n",
      "                       min_samples_split=4, n_estimators=20)\n",
      "[0.06537562 0.07329361 0.07128983 0.04820935 0.37987766 0.04029055\n",
      " 0.32166337]\n"
     ]
    }
   ],
   "source": [
    "print(rf_random.best_params_)\n",
    "print(rf_random.best_score_)\n",
    "print(rf_random.best_estimator_)\n",
    "print(rf_random.best_estimator_.feature_importances_)\n"
   ]
  },
  {
   "attachments": {},
   "cell_type": "markdown",
   "id": "89021517",
   "metadata": {},
   "source": [
    "# Testing"
   ]
  },
  {
   "attachments": {},
   "cell_type": "markdown",
   "id": "0e831d4a",
   "metadata": {},
   "source": [
    "Now we evealuate the model on the test set to find how the model performs on unseen data. For this we select the classifier with the highest validation set accuracy."
   ]
  },
  {
   "cell_type": "code",
   "execution_count": 93,
   "id": "f283cada",
   "metadata": {},
   "outputs": [],
   "source": [
    "classifier2 = rf_random.best_estimator_"
   ]
  },
  {
   "cell_type": "code",
   "execution_count": 95,
   "id": "b7ba62e3",
   "metadata": {},
   "outputs": [
    {
     "data": {
      "text/html": [
       "<style>#sk-container-id-3 {color: black;background-color: white;}#sk-container-id-3 pre{padding: 0;}#sk-container-id-3 div.sk-toggleable {background-color: white;}#sk-container-id-3 label.sk-toggleable__label {cursor: pointer;display: block;width: 100%;margin-bottom: 0;padding: 0.3em;box-sizing: border-box;text-align: center;}#sk-container-id-3 label.sk-toggleable__label-arrow:before {content: \"▸\";float: left;margin-right: 0.25em;color: #696969;}#sk-container-id-3 label.sk-toggleable__label-arrow:hover:before {color: black;}#sk-container-id-3 div.sk-estimator:hover label.sk-toggleable__label-arrow:before {color: black;}#sk-container-id-3 div.sk-toggleable__content {max-height: 0;max-width: 0;overflow: hidden;text-align: left;background-color: #f0f8ff;}#sk-container-id-3 div.sk-toggleable__content pre {margin: 0.2em;color: black;border-radius: 0.25em;background-color: #f0f8ff;}#sk-container-id-3 input.sk-toggleable__control:checked~div.sk-toggleable__content {max-height: 200px;max-width: 100%;overflow: auto;}#sk-container-id-3 input.sk-toggleable__control:checked~label.sk-toggleable__label-arrow:before {content: \"▾\";}#sk-container-id-3 div.sk-estimator input.sk-toggleable__control:checked~label.sk-toggleable__label {background-color: #d4ebff;}#sk-container-id-3 div.sk-label input.sk-toggleable__control:checked~label.sk-toggleable__label {background-color: #d4ebff;}#sk-container-id-3 input.sk-hidden--visually {border: 0;clip: rect(1px 1px 1px 1px);clip: rect(1px, 1px, 1px, 1px);height: 1px;margin: -1px;overflow: hidden;padding: 0;position: absolute;width: 1px;}#sk-container-id-3 div.sk-estimator {font-family: monospace;background-color: #f0f8ff;border: 1px dotted black;border-radius: 0.25em;box-sizing: border-box;margin-bottom: 0.5em;}#sk-container-id-3 div.sk-estimator:hover {background-color: #d4ebff;}#sk-container-id-3 div.sk-parallel-item::after {content: \"\";width: 100%;border-bottom: 1px solid gray;flex-grow: 1;}#sk-container-id-3 div.sk-label:hover label.sk-toggleable__label {background-color: #d4ebff;}#sk-container-id-3 div.sk-serial::before {content: \"\";position: absolute;border-left: 1px solid gray;box-sizing: border-box;top: 0;bottom: 0;left: 50%;z-index: 0;}#sk-container-id-3 div.sk-serial {display: flex;flex-direction: column;align-items: center;background-color: white;padding-right: 0.2em;padding-left: 0.2em;position: relative;}#sk-container-id-3 div.sk-item {position: relative;z-index: 1;}#sk-container-id-3 div.sk-parallel {display: flex;align-items: stretch;justify-content: center;background-color: white;position: relative;}#sk-container-id-3 div.sk-item::before, #sk-container-id-3 div.sk-parallel-item::before {content: \"\";position: absolute;border-left: 1px solid gray;box-sizing: border-box;top: 0;bottom: 0;left: 50%;z-index: -1;}#sk-container-id-3 div.sk-parallel-item {display: flex;flex-direction: column;z-index: 1;position: relative;background-color: white;}#sk-container-id-3 div.sk-parallel-item:first-child::after {align-self: flex-end;width: 50%;}#sk-container-id-3 div.sk-parallel-item:last-child::after {align-self: flex-start;width: 50%;}#sk-container-id-3 div.sk-parallel-item:only-child::after {width: 0;}#sk-container-id-3 div.sk-dashed-wrapped {border: 1px dashed gray;margin: 0 0.4em 0.5em 0.4em;box-sizing: border-box;padding-bottom: 0.4em;background-color: white;}#sk-container-id-3 div.sk-label label {font-family: monospace;font-weight: bold;display: inline-block;line-height: 1.2em;}#sk-container-id-3 div.sk-label-container {text-align: center;}#sk-container-id-3 div.sk-container {/* jupyter's `normalize.less` sets `[hidden] { display: none; }` but bootstrap.min.css set `[hidden] { display: none !important; }` so we also need the `!important` here to be able to override the default hidden behavior on the sphinx rendered scikit-learn.org. See: https://github.com/scikit-learn/scikit-learn/issues/21755 */display: inline-block !important;position: relative;}#sk-container-id-3 div.sk-text-repr-fallback {display: none;}</style><div id=\"sk-container-id-3\" class=\"sk-top-container\"><div class=\"sk-text-repr-fallback\"><pre>RandomForestClassifier(bootstrap=False, max_depth=10, min_samples_leaf=2,\n",
       "                       min_samples_split=4, n_estimators=20)</pre><b>In a Jupyter environment, please rerun this cell to show the HTML representation or trust the notebook. <br />On GitHub, the HTML representation is unable to render, please try loading this page with nbviewer.org.</b></div><div class=\"sk-container\" hidden><div class=\"sk-item\"><div class=\"sk-estimator sk-toggleable\"><input class=\"sk-toggleable__control sk-hidden--visually\" id=\"sk-estimator-id-5\" type=\"checkbox\" checked><label for=\"sk-estimator-id-5\" class=\"sk-toggleable__label sk-toggleable__label-arrow\">RandomForestClassifier</label><div class=\"sk-toggleable__content\"><pre>RandomForestClassifier(bootstrap=False, max_depth=10, min_samples_leaf=2,\n",
       "                       min_samples_split=4, n_estimators=20)</pre></div></div></div></div></div>"
      ],
      "text/plain": [
       "RandomForestClassifier(bootstrap=False, max_depth=10, min_samples_leaf=2,\n",
       "                       min_samples_split=4, n_estimators=20)"
      ]
     },
     "execution_count": 95,
     "metadata": {},
     "output_type": "execute_result"
    }
   ],
   "source": [
    "columns = [\"cn\", \"pa\", \"ad\",\"minTriangles\", \"maxTriangles\", \"minCoeff\", \"maxCoeff\"]\n",
    "X = result_training_w[columns]\n",
    "y = result_training_w[\"label\"]\n",
    "classifier2.fit(X, y)"
   ]
  },
  {
   "cell_type": "code",
   "execution_count": 96,
   "id": "d8e2598b",
   "metadata": {},
   "outputs": [
    {
     "data": {
      "text/html": [
       "<div>\n",
       "<style scoped>\n",
       "    .dataframe tbody tr th:only-of-type {\n",
       "        vertical-align: middle;\n",
       "    }\n",
       "\n",
       "    .dataframe tbody tr th {\n",
       "        vertical-align: top;\n",
       "    }\n",
       "\n",
       "    .dataframe thead th {\n",
       "        text-align: right;\n",
       "    }\n",
       "</style>\n",
       "<table border=\"1\" class=\"dataframe\">\n",
       "  <thead>\n",
       "    <tr style=\"text-align: right;\">\n",
       "      <th></th>\n",
       "      <th>metric</th>\n",
       "      <th>value</th>\n",
       "    </tr>\n",
       "  </thead>\n",
       "  <tbody>\n",
       "    <tr>\n",
       "      <th>0</th>\n",
       "      <td>accuracy</td>\n",
       "      <td>0.931062</td>\n",
       "    </tr>\n",
       "    <tr>\n",
       "      <th>1</th>\n",
       "      <td>precision</td>\n",
       "      <td>0.945902</td>\n",
       "    </tr>\n",
       "    <tr>\n",
       "      <th>2</th>\n",
       "      <td>recall</td>\n",
       "      <td>0.973746</td>\n",
       "    </tr>\n",
       "  </tbody>\n",
       "</table>\n",
       "</div>"
      ],
      "text/plain": [
       "      metric     value\n",
       "0   accuracy  0.931062\n",
       "1  precision  0.945902\n",
       "2     recall  0.973746"
      ]
     },
     "execution_count": 96,
     "metadata": {},
     "output_type": "execute_result"
    }
   ],
   "source": [
    "predictions = classifier2.predict(result_test_w[columns])\n",
    "y_test = result_test_w[\"label\"]\n",
    "evaluate_model(predictions, y_test)\n"
   ]
  },
  {
   "attachments": {},
   "cell_type": "markdown",
   "id": "4476486a",
   "metadata": {},
   "source": [
    "We see that the model performs good even on the testing set. It has an accuracy of 93%, precision of 94% and recall of 97%. "
   ]
  },
  {
   "attachments": {},
   "cell_type": "markdown",
   "id": "3aa07852",
   "metadata": {},
   "source": [
    "# References\n",
    "\n",
    "- https://neo4j.com/docs/\n",
    "- https://scikit-learn.org/stable/modules/generated/sklearn.model_selection.RandomizedSearchCV.html"
   ]
  }
 ],
 "metadata": {
  "kernelspec": {
   "display_name": "Python 3 (ipykernel)",
   "language": "python",
   "name": "python3"
  },
  "language_info": {
   "codemirror_mode": {
    "name": "ipython",
    "version": 3
   },
   "file_extension": ".py",
   "mimetype": "text/x-python",
   "name": "python",
   "nbconvert_exporter": "python",
   "pygments_lexer": "ipython3",
   "version": "3.11.3"
  }
 },
 "nbformat": 4,
 "nbformat_minor": 5
}
