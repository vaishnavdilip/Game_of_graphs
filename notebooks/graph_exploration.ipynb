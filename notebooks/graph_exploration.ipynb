{
 "cells": [
  {
   "cell_type": "code",
   "execution_count": 7,
   "metadata": {},
   "outputs": [],
   "source": [
    "from py2neo import Graph\n",
    "graph = Graph(\"bolt://localhost:7687\", auth=(\"neo4j\", \"neo4jneo4j\"))"
   ]
  },
  {
   "cell_type": "code",
   "execution_count": 15,
   "metadata": {},
   "outputs": [
    {
     "data": {
      "text/html": [
       "<table><tr><th>graph</th><th>knowsProjection</th><th>nodes</th><th>rels</th></tr><tr><td style=\"text-align:left\">got1</td><td style=\"text-align:left\">{INTERACT: {orientation: &#039;NATURAL&#039;, indexInverse: false, aggregation: &#039;DEFAULT&#039;, type: &#039;INTERACT&#039;, properties: {weight: {defaultValue: null, property: &#039;weight&#039;, aggregation: &#039;DEFAULT&#039;}}}}</td><td style=\"text-align:right\">399</td><td style=\"text-align:right\">2433</td></tr></table>"
      ],
      "text/plain": [
       " graph | knowsProjection                                                                                                                                                                             | nodes | rels \n",
       "-------|---------------------------------------------------------------------------------------------------------------------------------------------------------------------------------------------|-------|------\n",
       " got1  | {INTERACT: {orientation: 'NATURAL', indexInverse: false, aggregation: 'DEFAULT', type: 'INTERACT', properties: {weight: {defaultValue: null, property: 'weight', aggregation: 'DEFAULT'}}}} |   399 | 2433 "
      ]
     },
     "execution_count": 15,
     "metadata": {},
     "output_type": "execute_result"
    }
   ],
   "source": [
    "query = \"\"\"\n",
    "CALL gds.graph.project(\n",
    "    'got1',\n",
    "    'Person',\n",
    "    {\n",
    "        INTERACT: { properties : 'weight'}\n",
    "    },\n",
    "    {nodeProperties:'seed'}\n",
    "    )\n",
    "YIELD\n",
    "  graphName AS graph,\n",
    "  relationshipProjection AS knowsProjection,\n",
    "  nodeCount AS nodes,\n",
    "  relationshipCount AS rels\n",
    "\"\"\"\n",
    "graph.run(query)"
   ]
  },
  {
   "cell_type": "code",
   "execution_count": 16,
   "metadata": {},
   "outputs": [
    {
     "data": {
      "text/html": [
       "<table><tr><th>page</th><th>score</th></tr><tr><td style=\"text-align:left\">TYRION</td><td style=\"text-align:right\">7.2829717554208235</td></tr><tr><td style=\"text-align:left\">VARYS</td><td style=\"text-align:right\">5.674118882216431</td></tr><tr><td style=\"text-align:left\">WALDER</td><td style=\"text-align:right\">4.602201092362613</td></tr></table>"
      ],
      "text/plain": [
       " page   |              score \n",
       "--------|--------------------\n",
       " TYRION | 7.2829717554208235 \n",
       " VARYS  |  5.674118882216431 \n",
       " WALDER |  4.602201092362613 "
      ]
     },
     "execution_count": 16,
     "metadata": {},
     "output_type": "execute_result"
    }
   ],
   "source": [
    "query = \"\"\"\n",
    "CALL gds.pageRank.stream('got1',  {maxIterations: 20,  dampingFactor: 0.85})\n",
    "YIELD nodeId, score\n",
    "RETURN gds.util.asNode(nodeId).id AS page, score\n",
    "ORDER BY score DESC\n",
    "LIMIT 5\n",
    "\"\"\"\n",
    "\n",
    "graph.run(query)\n"
   ]
  },
  {
   "cell_type": "code",
   "execution_count": 17,
   "metadata": {},
   "outputs": [
    {
     "data": {
      "text/html": [
       "<table><tr><th>nodeCount</th><th>relationshipCount</th><th>bytesMin</th><th>bytesMax</th><th>requiredMemory</th></tr><tr><td style=\"text-align:right\">399</td><td style=\"text-align:right\">2433</td><td style=\"text-align:right\">30881</td><td style=\"text-align:right\">634216</td><td style=\"text-align:left\">[30 KiB ... 619 KiB]</td></tr></table>"
      ],
      "text/plain": [
       " nodeCount | relationshipCount | bytesMin | bytesMax | requiredMemory       \n",
       "-----------|-------------------|----------|----------|----------------------\n",
       "       399 |              2433 |    30881 |   634216 | [30 KiB ... 619 KiB] "
      ]
     },
     "execution_count": 17,
     "metadata": {},
     "output_type": "execute_result"
    }
   ],
   "source": [
    "query = \"\"\"\n",
    "CALL gds.louvain.write.estimate('got1', { writeProperty: 'community' })\n",
    "YIELD nodeCount, relationshipCount, bytesMin, bytesMax, requiredMemory\n",
    "\"\"\"\n",
    "graph.run(query)"
   ]
  },
  {
   "cell_type": "code",
   "execution_count": 20,
   "metadata": {},
   "outputs": [
    {
     "data": {
      "text/html": [
       "<table><tr><th>communityCount</th></tr><tr><td style=\"text-align:right\">23</td></tr></table>"
      ],
      "text/plain": [
       " communityCount \n",
       "----------------\n",
       "             23 "
      ]
     },
     "execution_count": 20,
     "metadata": {},
     "output_type": "execute_result"
    }
   ],
   "source": [
    "graph.run(\"CALL gds.louvain.stats('got1')YIELD communityCount\")\n"
   ]
  },
  {
   "cell_type": "code",
   "execution_count": 13,
   "metadata": {},
   "outputs": [
    {
     "data": {
      "text/html": [
       "<table><tr><th>label</th><th>communityId</th></tr><tr><td style=\"text-align:left\">Addam</td><td style=\"text-align:right\">151</td></tr><tr><td style=\"text-align:left\">Adrack Humble</td><td style=\"text-align:right\">94</td></tr><tr><td style=\"text-align:left\">Aegon</td><td style=\"text-align:right\">51</td></tr></table>"
      ],
      "text/plain": [
       " label         | communityId \n",
       "---------------|-------------\n",
       " Addam         |         151 \n",
       " Adrack Humble |          94 \n",
       " Aegon         |          51 "
      ]
     },
     "execution_count": 13,
     "metadata": {},
     "output_type": "execute_result"
    }
   ],
   "source": [
    "query = \"\"\"\n",
    "CALL gds.louvain.stream('got1',{ seedProperty: 'seed' })\n",
    "YIELD nodeId, communityId, intermediateCommunityIds\n",
    "RETURN gds.util.asNode(nodeId).label AS label, communityId\n",
    "ORDER BY label \n",
    "LIMIT 5\n",
    "\"\"\"\n",
    "\n",
    "graph.run(query)"
   ]
  },
  {
   "cell_type": "code",
   "execution_count": 14,
   "metadata": {},
   "outputs": [
    {
     "data": {
      "text/html": [
       "<table><tr><th>graphName</th></tr><tr><td style=\"text-align:left\">got1</td></tr></table>"
      ],
      "text/plain": [
       " graphName \n",
       "-----------\n",
       " got1      "
      ]
     },
     "execution_count": 14,
     "metadata": {},
     "output_type": "execute_result"
    }
   ],
   "source": [
    "query = \"\"\"\n",
    "CALL gds.graph.drop('got1') YIELD graphName;\n",
    "\"\"\"\n",
    "graph.run(query)"
   ]
  },
  {
   "cell_type": "code",
   "execution_count": null,
   "metadata": {},
   "outputs": [],
   "source": []
  }
 ],
 "metadata": {
  "kernelspec": {
   "display_name": "sna",
   "language": "python",
   "name": "python3"
  },
  "language_info": {
   "codemirror_mode": {
    "name": "ipython",
    "version": 3
   },
   "file_extension": ".py",
   "mimetype": "text/x-python",
   "name": "python",
   "nbconvert_exporter": "python",
   "pygments_lexer": "ipython3",
   "version": "3.11.3"
  },
  "orig_nbformat": 4
 },
 "nbformat": 4,
 "nbformat_minor": 2
}
