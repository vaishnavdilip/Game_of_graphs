{
 "cells": [
  {
   "cell_type": "code",
   "execution_count": 57,
   "metadata": {},
   "outputs": [],
   "source": [
    "from py2neo import Graph\n",
    "graph = Graph(\"bolt://localhost:7687\", auth=(\"neo4j\", \"neo4jneo4j\"))"
   ]
  },
  {
   "cell_type": "code",
   "execution_count": 15,
   "metadata": {},
   "outputs": [
    {
     "data": {
      "text/html": [
       "<table><tr><th>graph</th><th>knowsProjection</th><th>nodes</th><th>rels</th></tr><tr><td style=\"text-align:left\">got1</td><td style=\"text-align:left\">{INTERACT: {orientation: &#039;NATURAL&#039;, indexInverse: false, aggregation: &#039;DEFAULT&#039;, type: &#039;INTERACT&#039;, properties: {weight: {defaultValue: null, property: &#039;weight&#039;, aggregation: &#039;DEFAULT&#039;}}}}</td><td style=\"text-align:right\">399</td><td style=\"text-align:right\">2433</td></tr></table>"
      ],
      "text/plain": [
       " graph | knowsProjection                                                                                                                                                                             | nodes | rels \n",
       "-------|---------------------------------------------------------------------------------------------------------------------------------------------------------------------------------------------|-------|------\n",
       " got1  | {INTERACT: {orientation: 'NATURAL', indexInverse: false, aggregation: 'DEFAULT', type: 'INTERACT', properties: {weight: {defaultValue: null, property: 'weight', aggregation: 'DEFAULT'}}}} |   399 | 2433 "
      ]
     },
     "execution_count": 15,
     "metadata": {},
     "output_type": "execute_result"
    }
   ],
   "source": [
    "query = \"\"\"\n",
    "CALL gds.graph.project(\n",
    "    'got1',\n",
    "    'Person',\n",
    "    {\n",
    "        INTERACT: { properties : 'weight'}\n",
    "    },\n",
    "    {nodeProperties:'seed'}\n",
    "    )\n",
    "YIELD\n",
    "  graphName AS graph,\n",
    "  relationshipProjection AS knowsProjection,\n",
    "  nodeCount AS nodes,\n",
    "  relationshipCount AS rels\n",
    "\"\"\"\n",
    "graph.run(query)"
   ]
  },
  {
   "cell_type": "code",
   "execution_count": 16,
   "metadata": {},
   "outputs": [
    {
     "data": {
      "text/html": [
       "<table><tr><th>page</th><th>score</th></tr><tr><td style=\"text-align:left\">TYRION</td><td style=\"text-align:right\">7.2829717554208235</td></tr><tr><td style=\"text-align:left\">VARYS</td><td style=\"text-align:right\">5.674118882216431</td></tr><tr><td style=\"text-align:left\">WALDER</td><td style=\"text-align:right\">4.602201092362613</td></tr></table>"
      ],
      "text/plain": [
       " page   |              score \n",
       "--------|--------------------\n",
       " TYRION | 7.2829717554208235 \n",
       " VARYS  |  5.674118882216431 \n",
       " WALDER |  4.602201092362613 "
      ]
     },
     "execution_count": 16,
     "metadata": {},
     "output_type": "execute_result"
    }
   ],
   "source": [
    "query = \"\"\"\n",
    "CALL gds.pageRank.stream('got1',  {maxIterations: 20,  dampingFactor: 0.85})\n",
    "YIELD nodeId, score\n",
    "RETURN gds.util.asNode(nodeId).id AS page, score\n",
    "ORDER BY score DESC\n",
    "LIMIT 5\n",
    "\"\"\"\n",
    "\n",
    "graph.run(query)\n"
   ]
  },
  {
   "cell_type": "code",
   "execution_count": 17,
   "metadata": {},
   "outputs": [
    {
     "data": {
      "text/html": [
       "<table><tr><th>nodeCount</th><th>relationshipCount</th><th>bytesMin</th><th>bytesMax</th><th>requiredMemory</th></tr><tr><td style=\"text-align:right\">399</td><td style=\"text-align:right\">2433</td><td style=\"text-align:right\">30881</td><td style=\"text-align:right\">634216</td><td style=\"text-align:left\">[30 KiB ... 619 KiB]</td></tr></table>"
      ],
      "text/plain": [
       " nodeCount | relationshipCount | bytesMin | bytesMax | requiredMemory       \n",
       "-----------|-------------------|----------|----------|----------------------\n",
       "       399 |              2433 |    30881 |   634216 | [30 KiB ... 619 KiB] "
      ]
     },
     "execution_count": 17,
     "metadata": {},
     "output_type": "execute_result"
    }
   ],
   "source": [
    "query = \"\"\"\n",
    "CALL gds.louvain.write.estimate('got1', { writeProperty: 'community' })\n",
    "YIELD nodeCount, relationshipCount, bytesMin, bytesMax, requiredMemory\n",
    "\"\"\"\n",
    "graph.run(query)"
   ]
  },
  {
   "cell_type": "code",
   "execution_count": 20,
   "metadata": {},
   "outputs": [
    {
     "data": {
      "text/html": [
       "<table><tr><th>communityCount</th></tr><tr><td style=\"text-align:right\">23</td></tr></table>"
      ],
      "text/plain": [
       " communityCount \n",
       "----------------\n",
       "             23 "
      ]
     },
     "execution_count": 20,
     "metadata": {},
     "output_type": "execute_result"
    }
   ],
   "source": [
    "graph.run(\"CALL gds.louvain.stats('got1')YIELD communityCount\")\n"
   ]
  },
  {
   "cell_type": "code",
   "execution_count": 13,
   "metadata": {},
   "outputs": [
    {
     "data": {
      "text/html": [
       "<table><tr><th>label</th><th>communityId</th></tr><tr><td style=\"text-align:left\">Addam</td><td style=\"text-align:right\">151</td></tr><tr><td style=\"text-align:left\">Adrack Humble</td><td style=\"text-align:right\">94</td></tr><tr><td style=\"text-align:left\">Aegon</td><td style=\"text-align:right\">51</td></tr></table>"
      ],
      "text/plain": [
       " label         | communityId \n",
       "---------------|-------------\n",
       " Addam         |         151 \n",
       " Adrack Humble |          94 \n",
       " Aegon         |          51 "
      ]
     },
     "execution_count": 13,
     "metadata": {},
     "output_type": "execute_result"
    }
   ],
   "source": [
    "query = \"\"\"\n",
    "CALL gds.louvain.stream('got1',{ seedProperty: 'seed' })\n",
    "YIELD nodeId, communityId, intermediateCommunityIds\n",
    "RETURN gds.util.asNode(nodeId).label AS label, communityId\n",
    "ORDER BY label \n",
    "LIMIT 5\n",
    "\"\"\"\n",
    "\n",
    "graph.run(query)"
   ]
  },
  {
   "cell_type": "code",
   "execution_count": 64,
   "metadata": {},
   "outputs": [
    {
     "ename": "ClientError",
     "evalue": "[Procedure.ProcedureCallFailed] Failed to invoke procedure `gds.graph.drop`: Caused by: java.util.NoSuchElementException: Graph with name `got1` does not exist on database `neo4j`. It might exist on another database.",
     "output_type": "error",
     "traceback": [
      "\u001b[1;31m---------------------------------------------------------------------------\u001b[0m",
      "\u001b[1;31mClientError\u001b[0m                               Traceback (most recent call last)",
      "Cell \u001b[1;32mIn[64], line 4\u001b[0m\n\u001b[0;32m      1\u001b[0m query \u001b[39m=\u001b[39m \u001b[39m\"\"\"\u001b[39m\n\u001b[0;32m      2\u001b[0m \u001b[39mCALL gds.graph.drop(\u001b[39m\u001b[39m'\u001b[39m\u001b[39mgot1\u001b[39m\u001b[39m'\u001b[39m\u001b[39m) YIELD graphName;\u001b[39m\n\u001b[0;32m      3\u001b[0m \u001b[39m\"\"\"\u001b[39m\n\u001b[1;32m----> 4\u001b[0m graph\u001b[39m.\u001b[39;49mrun(query)\n",
      "File \u001b[1;32mc:\\Users\\nikte\\.conda\\envs\\sna\\Lib\\site-packages\\py2neo\\database.py:405\u001b[0m, in \u001b[0;36mGraph.run\u001b[1;34m(self, cypher, parameters, **kwparameters)\u001b[0m\n\u001b[0;32m    395\u001b[0m \u001b[39mdef\u001b[39;00m \u001b[39mrun\u001b[39m(\u001b[39mself\u001b[39m, cypher, parameters\u001b[39m=\u001b[39m\u001b[39mNone\u001b[39;00m, \u001b[39m*\u001b[39m\u001b[39m*\u001b[39mkwparameters):\n\u001b[0;32m    396\u001b[0m \u001b[39m    \u001b[39m\u001b[39m\"\"\" Run a single read/write query within an auto-commit\u001b[39;00m\n\u001b[0;32m    397\u001b[0m \u001b[39m    :class:`~py2neo.Transaction`.\u001b[39;00m\n\u001b[0;32m    398\u001b[0m \n\u001b[1;32m   (...)\u001b[0m\n\u001b[0;32m    403\u001b[0m \u001b[39m    :return:\u001b[39;00m\n\u001b[0;32m    404\u001b[0m \u001b[39m    \"\"\"\u001b[39;00m\n\u001b[1;32m--> 405\u001b[0m     \u001b[39mreturn\u001b[39;00m \u001b[39mself\u001b[39;49m\u001b[39m.\u001b[39;49mauto()\u001b[39m.\u001b[39;49mrun(cypher, parameters, \u001b[39m*\u001b[39;49m\u001b[39m*\u001b[39;49mkwparameters)\n",
      "File \u001b[1;32mc:\\Users\\nikte\\.conda\\envs\\sna\\Lib\\site-packages\\py2neo\\database.py:992\u001b[0m, in \u001b[0;36mTransaction.run\u001b[1;34m(self, cypher, parameters, **kwparameters)\u001b[0m\n\u001b[0;32m    988\u001b[0m     \u001b[39melse\u001b[39;00m:\n\u001b[0;32m    989\u001b[0m         result \u001b[39m=\u001b[39m \u001b[39mself\u001b[39m\u001b[39m.\u001b[39m_connector\u001b[39m.\u001b[39mauto_run(cypher, parameters,\n\u001b[0;32m    990\u001b[0m                                           graph_name\u001b[39m=\u001b[39m\u001b[39mself\u001b[39m\u001b[39m.\u001b[39mgraph\u001b[39m.\u001b[39mname,\n\u001b[0;32m    991\u001b[0m                                           readonly\u001b[39m=\u001b[39m\u001b[39mself\u001b[39m\u001b[39m.\u001b[39mreadonly)\n\u001b[1;32m--> 992\u001b[0m     \u001b[39mself\u001b[39;49m\u001b[39m.\u001b[39;49m_connector\u001b[39m.\u001b[39;49mpull(result, \u001b[39m-\u001b[39;49m\u001b[39m1\u001b[39;49m)\n\u001b[0;32m    993\u001b[0m     \u001b[39mreturn\u001b[39;00m Cursor(result, hydrant)\n\u001b[0;32m    994\u001b[0m \u001b[39mfinally\u001b[39;00m:\n",
      "File \u001b[1;32mc:\\Users\\nikte\\.conda\\envs\\sna\\Lib\\site-packages\\py2neo\\client\\__init__.py:1434\u001b[0m, in \u001b[0;36mConnector.pull\u001b[1;34m(self, result, n)\u001b[0m\n\u001b[0;32m   1432\u001b[0m cx \u001b[39m=\u001b[39m \u001b[39mself\u001b[39m\u001b[39m.\u001b[39m_reacquire(result\u001b[39m.\u001b[39mtransaction)\n\u001b[0;32m   1433\u001b[0m \u001b[39mtry\u001b[39;00m:\n\u001b[1;32m-> 1434\u001b[0m     cx\u001b[39m.\u001b[39;49mpull(result, n\u001b[39m=\u001b[39;49mn)\n\u001b[0;32m   1435\u001b[0m \u001b[39mexcept\u001b[39;00m (ConnectionUnavailable, ConnectionBroken):\n\u001b[0;32m   1436\u001b[0m     \u001b[39mself\u001b[39m\u001b[39m.\u001b[39mprune(cx\u001b[39m.\u001b[39mprofile)\n",
      "File \u001b[1;32mc:\\Users\\nikte\\.conda\\envs\\sna\\Lib\\site-packages\\py2neo\\client\\bolt.py:1001\u001b[0m, in \u001b[0;36mBolt4x0.pull\u001b[1;34m(self, result, n, capacity)\u001b[0m\n\u001b[0;32m    998\u001b[0m     raise_from(ConnectionBroken(\u001b[39m\"\u001b[39m\u001b[39mTransaction broken by disconnection \u001b[39m\u001b[39m\"\u001b[39m\n\u001b[0;32m    999\u001b[0m                                 \u001b[39m\"\u001b[39m\u001b[39mduring pull\u001b[39m\u001b[39m\"\u001b[39m), error)\n\u001b[0;32m   1000\u001b[0m \u001b[39melse\u001b[39;00m:\n\u001b[1;32m-> 1001\u001b[0m     \u001b[39mself\u001b[39;49m\u001b[39m.\u001b[39;49m_audit(\u001b[39mself\u001b[39;49m\u001b[39m.\u001b[39;49m_transaction)\n\u001b[0;32m   1002\u001b[0m     \u001b[39mreturn\u001b[39;00m response\n",
      "File \u001b[1;32mc:\\Users\\nikte\\.conda\\envs\\sna\\Lib\\site-packages\\py2neo\\client\\bolt.py:810\u001b[0m, in \u001b[0;36mBolt1._audit\u001b[1;34m(self, task)\u001b[0m\n\u001b[0;32m    808\u001b[0m     \u001b[39mreturn\u001b[39;00m\n\u001b[0;32m    809\u001b[0m \u001b[39mtry\u001b[39;00m:\n\u001b[1;32m--> 810\u001b[0m     task\u001b[39m.\u001b[39;49maudit()\n\u001b[0;32m    811\u001b[0m \u001b[39mexcept\u001b[39;00m Neo4jError:\n\u001b[0;32m    812\u001b[0m     \u001b[39mself\u001b[39m\u001b[39m.\u001b[39mreset(force\u001b[39m=\u001b[39m\u001b[39mTrue\u001b[39;00m)\n",
      "File \u001b[1;32mc:\\Users\\nikte\\.conda\\envs\\sna\\Lib\\site-packages\\py2neo\\client\\bolt.py:1140\u001b[0m, in \u001b[0;36mItemizedTask.audit\u001b[1;34m(self)\u001b[0m\n\u001b[0;32m   1138\u001b[0m \u001b[39mdef\u001b[39;00m \u001b[39maudit\u001b[39m(\u001b[39mself\u001b[39m):\n\u001b[0;32m   1139\u001b[0m     \u001b[39mfor\u001b[39;00m item \u001b[39min\u001b[39;00m \u001b[39mself\u001b[39m\u001b[39m.\u001b[39m_items:\n\u001b[1;32m-> 1140\u001b[0m         item\u001b[39m.\u001b[39;49maudit()\n",
      "File \u001b[1;32mc:\\Users\\nikte\\.conda\\envs\\sna\\Lib\\site-packages\\py2neo\\client\\bolt.py:1140\u001b[0m, in \u001b[0;36mItemizedTask.audit\u001b[1;34m(self)\u001b[0m\n\u001b[0;32m   1138\u001b[0m \u001b[39mdef\u001b[39;00m \u001b[39maudit\u001b[39m(\u001b[39mself\u001b[39m):\n\u001b[0;32m   1139\u001b[0m     \u001b[39mfor\u001b[39;00m item \u001b[39min\u001b[39;00m \u001b[39mself\u001b[39m\u001b[39m.\u001b[39m_items:\n\u001b[1;32m-> 1140\u001b[0m         item\u001b[39m.\u001b[39;49maudit()\n",
      "File \u001b[1;32mc:\\Users\\nikte\\.conda\\envs\\sna\\Lib\\site-packages\\py2neo\\client\\bolt.py:1303\u001b[0m, in \u001b[0;36mBoltResponse.audit\u001b[1;34m(self)\u001b[0m\n\u001b[0;32m   1301\u001b[0m \u001b[39mif\u001b[39;00m \u001b[39mself\u001b[39m\u001b[39m.\u001b[39m_failure:\n\u001b[0;32m   1302\u001b[0m     \u001b[39mself\u001b[39m\u001b[39m.\u001b[39mset_ignored()\n\u001b[1;32m-> 1303\u001b[0m     \u001b[39mraise\u001b[39;00m \u001b[39mself\u001b[39m\u001b[39m.\u001b[39m_failure\n",
      "\u001b[1;31mClientError\u001b[0m: [Procedure.ProcedureCallFailed] Failed to invoke procedure `gds.graph.drop`: Caused by: java.util.NoSuchElementException: Graph with name `got1` does not exist on database `neo4j`. It might exist on another database."
     ]
    }
   ],
   "source": [
    "query = \"\"\"\n",
    "CALL gds.graph.drop('got1') YIELD graphName;\n",
    "\"\"\"\n",
    "graph.run(query)"
   ]
  },
  {
   "attachments": {},
   "cell_type": "markdown",
   "metadata": {},
   "source": [
    "# Season by Season Analysis"
   ]
  },
  {
   "attachments": {},
   "cell_type": "markdown",
   "metadata": {},
   "source": [
    "## Season  1"
   ]
  },
  {
   "cell_type": "code",
   "execution_count": 65,
   "metadata": {},
   "outputs": [
    {
     "data": {
      "text/html": [
       "<table><tr><th>graph</th><th>nodeQuery</th><th>nodes</th><th>relationshipQuery</th><th>rels</th></tr><tr><td style=\"text-align:left\">got1</td><td style=\"text-align:left\">MATCH (n:Person)-[r:INTERACT {season: 1}]-(m:Person) RETURN id(n) AS id, n.seed AS seed</td><td style=\"text-align:right\">116</td><td style=\"text-align:left\">MATCH (n:Person)-[r:INTERACT {season: 1}]-(p:Person) RETURN id(n) AS source, id(p) AS target, r.weight AS weight</td><td style=\"text-align:right\">582</td></tr></table>"
      ],
      "text/plain": [
       " graph | nodeQuery                                                                               | nodes | relationshipQuery                                                                                                | rels \n",
       "-------|-----------------------------------------------------------------------------------------|-------|------------------------------------------------------------------------------------------------------------------|------\n",
       " got1  | MATCH (n:Person)-[r:INTERACT {season: 1}]-(m:Person) RETURN id(n) AS id, n.seed AS seed |   116 | MATCH (n:Person)-[r:INTERACT {season: 1}]-(p:Person) RETURN id(n) AS source, id(p) AS target, r.weight AS weight |  582 "
      ]
     },
     "execution_count": 65,
     "metadata": {},
     "output_type": "execute_result"
    }
   ],
   "source": [
    "query = \"\"\" \n",
    "CALL gds.graph.project.cypher(\n",
    "  'got1',\n",
    "  'MATCH (n:Person)-[r:INTERACT {season: 1}]-(m:Person) RETURN id(n) AS id, n.seed AS seed',\n",
    "  'MATCH (n:Person)-[r:INTERACT {season: 1}]-(p:Person) RETURN id(n) AS source, id(p) AS target, r.weight AS weight')\n",
    "YIELD\n",
    "    graphName AS graph, nodeQuery, nodeCount AS nodes, relationshipQuery, relationshipCount AS rels\n",
    "\n",
    "\"\"\"\n",
    "\n",
    "graph.run(query)\n"
   ]
  },
  {
   "cell_type": "code",
   "execution_count": 66,
   "metadata": {},
   "outputs": [
    {
     "data": {
      "text/html": [
       "<table><tr><th>nodeCount</th><th>relationshipCount</th><th>bytesMin</th><th>bytesMax</th><th>requiredMemory</th></tr><tr><td style=\"text-align:right\">116</td><td style=\"text-align:right\">582</td><td style=\"text-align:right\">12729</td><td style=\"text-align:right\">580952</td><td style=\"text-align:left\">[12729 Bytes ... 567 KiB]</td></tr></table>"
      ],
      "text/plain": [
       " nodeCount | relationshipCount | bytesMin | bytesMax | requiredMemory            \n",
       "-----------|-------------------|----------|----------|---------------------------\n",
       "       116 |               582 |    12729 |   580952 | [12729 Bytes ... 567 KiB] "
      ]
     },
     "execution_count": 66,
     "metadata": {},
     "output_type": "execute_result"
    }
   ],
   "source": [
    "# The following will estimate the memory requirements for running the algorithm:\n",
    "query = \"\"\"\n",
    "CALL gds.louvain.write.estimate('got1', { writeProperty: 'community_S1' })\n",
    "YIELD nodeCount, relationshipCount, bytesMin, bytesMax, requiredMemory\n",
    "\"\"\"\n",
    "graph.run(query)\n"
   ]
  },
  {
   "cell_type": "code",
   "execution_count": 67,
   "metadata": {},
   "outputs": [
    {
     "data": {
      "text/html": [
       "<table><tr><th>label</th><th>communityId</th></tr><tr><td style=\"text-align:left\">Addam</td><td style=\"text-align:right\">117</td></tr><tr><td style=\"text-align:left\">Aegon</td><td style=\"text-align:right\">97</td></tr><tr><td style=\"text-align:left\">Aemon</td><td style=\"text-align:right\">97</td></tr></table>"
      ],
      "text/plain": [
       " label | communityId \n",
       "-------|-------------\n",
       " Addam |         117 \n",
       " Aegon |          97 \n",
       " Aemon |          97 "
      ]
     },
     "execution_count": 67,
     "metadata": {},
     "output_type": "execute_result"
    }
   ],
   "source": [
    "# The following will run the algorithm and stream results:\n",
    "query = \"\"\"\n",
    "CALL gds.louvain.stream('got1', { seedProperty: 'seed' })\n",
    "YIELD nodeId, communityId, intermediateCommunityIds\n",
    "RETURN gds.util.asNode(nodeId).label AS label, communityId\n",
    "ORDER BY label ASC\n",
    "\"\"\"\n",
    "graph.run(query)\n"
   ]
  },
  {
   "cell_type": "code",
   "execution_count": 68,
   "metadata": {},
   "outputs": [
    {
     "data": {
      "text/html": [
       "<table><tr><th>communityCount</th></tr><tr><td style=\"text-align:right\">7</td></tr></table>"
      ],
      "text/plain": [
       " communityCount \n",
       "----------------\n",
       "              7 "
      ]
     },
     "execution_count": 68,
     "metadata": {},
     "output_type": "execute_result"
    }
   ],
   "source": [
    "# The following will run the algorithm and returns the result in form of statistical and measurement values:\n",
    "query = \"\"\"\n",
    "CALL gds.louvain.stats('got1')\n",
    "YIELD communityCount\n",
    "\"\"\"\n",
    "graph.run(query)\n"
   ]
  },
  {
   "cell_type": "code",
   "execution_count": 69,
   "metadata": {},
   "outputs": [
    {
     "data": {
      "text/html": [
       "<table><tr><th>name</th><th>score</th></tr><tr><td style=\"text-align:left\">NED</td><td style=\"text-align:right\">30.0</td></tr><tr><td style=\"text-align:left\">TYRION</td><td style=\"text-align:right\">19.0</td></tr><tr><td style=\"text-align:left\">CATELYN</td><td style=\"text-align:right\">18.0</td></tr></table>"
      ],
      "text/plain": [
       " name    | score \n",
       "---------|-------\n",
       " NED     |  30.0 \n",
       " TYRION  |  19.0 \n",
       " CATELYN |  18.0 "
      ]
     },
     "execution_count": 69,
     "metadata": {},
     "output_type": "execute_result"
    }
   ],
   "source": [
    "# Degree\n",
    "query = \"\"\"\n",
    "CALL gds.degree.stream('got1')\n",
    "YIELD nodeId, score\n",
    "RETURN gds.util.asNode(nodeId).id AS name, score\n",
    "ORDER BY score DESC\n",
    "LIMIT 5\n",
    "\"\"\"\n",
    "graph.run(query)\n"
   ]
  },
  {
   "cell_type": "code",
   "execution_count": 70,
   "metadata": {},
   "outputs": [
    {
     "data": {
      "text/html": [
       "<table><tr><th>name</th><th>score</th></tr><tr><td style=\"text-align:left\">NED</td><td style=\"text-align:right\">299.0</td></tr><tr><td style=\"text-align:left\">TYRION</td><td style=\"text-align:right\">174.0</td></tr><tr><td style=\"text-align:left\">CATELYN</td><td style=\"text-align:right\">163.0</td></tr></table>"
      ],
      "text/plain": [
       " name    | score \n",
       "---------|-------\n",
       " NED     | 299.0 \n",
       " TYRION  | 174.0 \n",
       " CATELYN | 163.0 "
      ]
     },
     "execution_count": 70,
     "metadata": {},
     "output_type": "execute_result"
    }
   ],
   "source": [
    "# Weighted Degree\n",
    "query = \"\"\"\n",
    "CALL gds.degree.stream(\n",
    "   'got1',\n",
    "   { relationshipWeightProperty: 'weight' }\n",
    ")\n",
    "YIELD nodeId, score\n",
    "RETURN gds.util.asNode(nodeId).id AS name, score\n",
    "ORDER BY score DESC\n",
    "LIMIT 5\n",
    "\"\"\"\n",
    "graph.run(query)\n"
   ]
  },
  {
   "cell_type": "code",
   "execution_count": 29,
   "metadata": {},
   "outputs": [
    {
     "data": {
      "text/html": [
       "<table><tr><th>page</th><th>score</th></tr><tr><td style=\"text-align:left\">TYRION</td><td style=\"text-align:right\">2.966833084860784</td></tr><tr><td style=\"text-align:left\">YOREN</td><td style=\"text-align:right\">2.7214507949389377</td></tr><tr><td style=\"text-align:left\">TYSHA</td><td style=\"text-align:right\">1.4430250415430863</td></tr></table>"
      ],
      "text/plain": [
       " page   |              score \n",
       "--------|--------------------\n",
       " TYRION |  2.966833084860784 \n",
       " YOREN  | 2.7214507949389377 \n",
       " TYSHA  | 1.4430250415430863 "
      ]
     },
     "execution_count": 29,
     "metadata": {},
     "output_type": "execute_result"
    }
   ],
   "source": [
    "# Pagerank\n",
    "query = \"\"\"\n",
    "CALL gds.pageRank.stream('got1',  {maxIterations: 20,  dampingFactor: 0.85})\n",
    "YIELD nodeId, score\n",
    "RETURN gds.util.asNode(nodeId).id AS page, score\n",
    "ORDER BY score DESC\n",
    "LIMIT 5\n",
    "\"\"\"\n",
    "graph.run(query)\n"
   ]
  },
  {
   "cell_type": "code",
   "execution_count": null,
   "metadata": {},
   "outputs": [],
   "source": []
  }
 ],
 "metadata": {
  "kernelspec": {
   "display_name": "sna",
   "language": "python",
   "name": "python3"
  },
  "language_info": {
   "codemirror_mode": {
    "name": "ipython",
    "version": 3
   },
   "file_extension": ".py",
   "mimetype": "text/x-python",
   "name": "python",
   "nbconvert_exporter": "python",
   "pygments_lexer": "ipython3",
   "version": "3.11.3"
  },
  "orig_nbformat": 4
 },
 "nbformat": 4,
 "nbformat_minor": 2
}
