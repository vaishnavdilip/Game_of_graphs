{
 "cells": [
  {
   "cell_type": "code",
   "execution_count": 1,
   "metadata": {},
   "outputs": [],
   "source": [
    "import pandas as pd\n",
    "import numpy as np\n",
    "from py2neo import Graph\n",
    "\n",
    "graph = Graph(\"bolt://localhost:7687\", auth=(\"neo4j\", \"neo4jneo4j\"))"
   ]
  },
  {
   "cell_type": "code",
   "execution_count": 2,
   "metadata": {},
   "outputs": [
    {
     "data": {
      "text/html": [
       "<table><tr><th>graphName</th></tr><tr><td style=\"text-align:left\">Got3</td></tr></table>"
      ],
      "text/plain": [
       " graphName \n",
       "-----------\n",
       " Got3      "
      ]
     },
     "execution_count": 2,
     "metadata": {},
     "output_type": "execute_result"
    }
   ],
   "source": [
    "query = \"\"\" \n",
    "CALL gds.graph.drop('Got2') YIELD graphName;\n",
    "\"\"\"\n",
    "\n",
    "query2 = \"\"\"\n",
    "CALL gds.graph.drop('Got3') YIELD graphName;\n",
    "\"\"\"\n",
    "\n",
    "graph.run(query)\n",
    "graph.run(query2)"
   ]
  },
  {
   "attachments": {},
   "cell_type": "markdown",
   "metadata": {},
   "source": [
    "## Season 5&6"
   ]
  },
  {
   "cell_type": "code",
   "execution_count": 3,
   "metadata": {},
   "outputs": [
    {
     "data": {
      "text/html": [
       "<table><tr><th>nodeProjection</th><th>relationshipProjection</th><th>graphName</th><th>nodeCount</th><th>relationshipCount</th><th>projectMillis</th></tr><tr><td style=\"text-align:left\">{Person_6: {label: &#039;Person_6&#039;, properties: {seed: {defaultValue: null, property: &#039;seed&#039;}}}, Person_5: {label: &#039;Person_5&#039;, properties: {seed: {defaultValue: null, property: &#039;seed&#039;}}}}</td><td style=\"text-align:left\">{INTERACTS_6: {orientation: &#039;UNDIRECTED&#039;, indexInverse: false, aggregation: &#039;DEFAULT&#039;, type: &#039;INTERACTS_6&#039;, properties: {weight: {defaultValue: null, property: &#039;weight&#039;, aggregation: &#039;DEFAULT&#039;}}}, INTERACTS_5: {orientation: &#039;UNDIRECTED&#039;, indexInverse: false, aggregation: &#039;DEFAULT&#039;, type: &#039;INTERACTS_5&#039;, properties: {weight: {defaultValue: null, property: &#039;weight&#039;, aggregation: &#039;DEFAULT&#039;}}}}</td><td style=\"text-align:left\">Got2</td><td style=\"text-align:right\">188</td><td style=\"text-align:right\">1892</td><td style=\"text-align:right\">30</td></tr></table>"
      ],
      "text/plain": [
       " nodeProjection                                                                                                                                                                         | relationshipProjection                                                                                                                                                                                                                                                                                                                                                                                   | graphName | nodeCount | relationshipCount | projectMillis \n",
       "----------------------------------------------------------------------------------------------------------------------------------------------------------------------------------------|----------------------------------------------------------------------------------------------------------------------------------------------------------------------------------------------------------------------------------------------------------------------------------------------------------------------------------------------------------------------------------------------------------|-----------|-----------|-------------------|---------------\n",
       " {Person_6: {label: 'Person_6', properties: {seed: {defaultValue: null, property: 'seed'}}}, Person_5: {label: 'Person_5', properties: {seed: {defaultValue: null, property: 'seed'}}}} | {INTERACTS_6: {orientation: 'UNDIRECTED', indexInverse: false, aggregation: 'DEFAULT', type: 'INTERACTS_6', properties: {weight: {defaultValue: null, property: 'weight', aggregation: 'DEFAULT'}}}, INTERACTS_5: {orientation: 'UNDIRECTED', indexInverse: false, aggregation: 'DEFAULT', type: 'INTERACTS_5', properties: {weight: {defaultValue: null, property: 'weight', aggregation: 'DEFAULT'}}}} | Got2      |       188 |              1892 |            30 "
      ]
     },
     "execution_count": 3,
     "metadata": {},
     "output_type": "execute_result"
    }
   ],
   "source": [
    "query = \"\"\" \n",
    "CALL gds.graph.project(\n",
    "    'Got2',\n",
    "    {\n",
    "        Person_5: {properties: 'seed' },\n",
    "        Person_6: {properties: 'seed' }\n",
    "    },\n",
    "    {\n",
    "        INTERACTS_5: {\n",
    "            orientation: 'UNDIRECTED',\n",
    "            properties: 'weight'\n",
    "        },\n",
    "        INTERACTS_6: {\n",
    "            orientation: 'UNDIRECTED',\n",
    "            properties: 'weight'\n",
    "        }\n",
    "    }\n",
    ")\n",
    "\"\"\"\n",
    "\n",
    "graph.run(query)"
   ]
  },
  {
   "cell_type": "code",
   "execution_count": 4,
   "metadata": {},
   "outputs": [
    {
     "data": {
      "text/html": [
       "<table><tr><th>nodeCount</th><th>relationshipCount</th><th>bytesMin</th><th>bytesMax</th><th>requiredMemory</th></tr><tr><td style=\"text-align:right\">188</td><td style=\"text-align:right\">1892</td><td style=\"text-align:right\">610416</td><td style=\"text-align:right\">615624</td><td style=\"text-align:left\">[596 KiB ... 601 KiB]</td></tr></table>"
      ],
      "text/plain": [
       " nodeCount | relationshipCount | bytesMin | bytesMax | requiredMemory        \n",
       "-----------|-------------------|----------|----------|-----------------------\n",
       "       188 |              1892 |   610416 |   615624 | [596 KiB ... 601 KiB] "
      ]
     },
     "execution_count": 4,
     "metadata": {},
     "output_type": "execute_result"
    }
   ],
   "source": [
    "# The following will estimate the memory requirements for running the algorithm:\n",
    "query = \"\"\"\n",
    "CALL gds.beta.leiden.write.estimate('Got2', { writeProperty: 'community_S56' })\n",
    "YIELD nodeCount, relationshipCount, bytesMin, bytesMax, requiredMemory\n",
    "\"\"\"\n",
    "graph.run(query)\n"
   ]
  },
  {
   "cell_type": "code",
   "execution_count": 5,
   "metadata": {},
   "outputs": [
    {
     "data": {
      "text/html": [
       "<div>\n",
       "<style scoped>\n",
       "    .dataframe tbody tr th:only-of-type {\n",
       "        vertical-align: middle;\n",
       "    }\n",
       "\n",
       "    .dataframe tbody tr th {\n",
       "        vertical-align: top;\n",
       "    }\n",
       "\n",
       "    .dataframe thead th {\n",
       "        text-align: right;\n",
       "    }\n",
       "</style>\n",
       "<table border=\"1\" class=\"dataframe\">\n",
       "  <thead>\n",
       "    <tr style=\"text-align: right;\">\n",
       "      <th></th>\n",
       "      <th>label</th>\n",
       "      <th>communityId</th>\n",
       "    </tr>\n",
       "  </thead>\n",
       "  <tbody>\n",
       "    <tr>\n",
       "      <th>0</th>\n",
       "      <td>Aegon</td>\n",
       "      <td>0</td>\n",
       "    </tr>\n",
       "    <tr>\n",
       "      <th>1</th>\n",
       "      <td>Aemon</td>\n",
       "      <td>0</td>\n",
       "    </tr>\n",
       "    <tr>\n",
       "      <th>2</th>\n",
       "      <td>Aeron</td>\n",
       "      <td>32</td>\n",
       "    </tr>\n",
       "    <tr>\n",
       "      <th>3</th>\n",
       "      <td>Aerys</td>\n",
       "      <td>10</td>\n",
       "    </tr>\n",
       "    <tr>\n",
       "      <th>4</th>\n",
       "      <td>Alliser</td>\n",
       "      <td>0</td>\n",
       "    </tr>\n",
       "    <tr>\n",
       "      <th>...</th>\n",
       "      <td>...</td>\n",
       "      <td>...</td>\n",
       "    </tr>\n",
       "    <tr>\n",
       "      <th>183</th>\n",
       "      <td>Wolkan</td>\n",
       "      <td>32</td>\n",
       "    </tr>\n",
       "    <tr>\n",
       "      <th>184</th>\n",
       "      <td>Wun Wun</td>\n",
       "      <td>0</td>\n",
       "    </tr>\n",
       "    <tr>\n",
       "      <th>185</th>\n",
       "      <td>Yara</td>\n",
       "      <td>32</td>\n",
       "    </tr>\n",
       "    <tr>\n",
       "      <th>186</th>\n",
       "      <td>Yezzan</td>\n",
       "      <td>10</td>\n",
       "    </tr>\n",
       "    <tr>\n",
       "      <th>187</th>\n",
       "      <td>Yohn</td>\n",
       "      <td>32</td>\n",
       "    </tr>\n",
       "  </tbody>\n",
       "</table>\n",
       "<p>188 rows × 2 columns</p>\n",
       "</div>"
      ],
      "text/plain": [
       "       label  communityId\n",
       "0      Aegon            0\n",
       "1      Aemon            0\n",
       "2      Aeron           32\n",
       "3      Aerys           10\n",
       "4    Alliser            0\n",
       "..       ...          ...\n",
       "183   Wolkan           32\n",
       "184  Wun Wun            0\n",
       "185     Yara           32\n",
       "186   Yezzan           10\n",
       "187     Yohn           32\n",
       "\n",
       "[188 rows x 2 columns]"
      ]
     },
     "execution_count": 5,
     "metadata": {},
     "output_type": "execute_result"
    }
   ],
   "source": [
    "# The following will run the algorithm and stream results:\n",
    "query = \"\"\"\n",
    "CALL gds.beta.leiden.stream('Got2', {seedProperty: 'seed', relationshipWeightProperty: 'weight'})\n",
    "YIELD nodeId, communityId, intermediateCommunityIds\n",
    "RETURN gds.util.asNode(nodeId).label AS label, communityId\n",
    "ORDER BY label ASC\n",
    "\"\"\"\n",
    "graph.run(query).to_data_frame()\n"
   ]
  },
  {
   "cell_type": "code",
   "execution_count": 6,
   "metadata": {},
   "outputs": [
    {
     "data": {
      "text/html": [
       "<table><tr><th>communityCount</th></tr><tr><td style=\"text-align:right\">8</td></tr></table>"
      ],
      "text/plain": [
       " communityCount \n",
       "----------------\n",
       "              8 "
      ]
     },
     "execution_count": 6,
     "metadata": {},
     "output_type": "execute_result"
    }
   ],
   "source": [
    "# The following will run the algorithm and returns the result in form of statistical and measurement values:\n",
    "query = \"\"\"\n",
    "CALL gds.beta.leiden.stats('Got2')\n",
    "YIELD communityCount\n",
    "\"\"\"\n",
    "graph.run(query)\n"
   ]
  },
  {
   "cell_type": "code",
   "execution_count": 7,
   "metadata": {},
   "outputs": [
    {
     "data": {
      "text/html": [
       "<table><tr><th>communityCount</th><th>modularity</th><th>modularities</th></tr><tr><td style=\"text-align:right\">8</td><td style=\"text-align:right\">0.6024425756160355</td><td style=\"text-align:left\">[0.5614376097868403, 0.5922851977168806, 0.6024425756160355]</td></tr></table>"
      ],
      "text/plain": [
       " communityCount |         modularity | modularities                                                 \n",
       "----------------|--------------------|--------------------------------------------------------------\n",
       "              8 | 0.6024425756160355 | [0.5614376097868403, 0.5922851977168806, 0.6024425756160355] "
      ]
     },
     "execution_count": 7,
     "metadata": {},
     "output_type": "execute_result"
    }
   ],
   "source": [
    "# The following run the algorithm, and write back results:\n",
    "query = \"\"\"\n",
    "CALL gds.beta.leiden.write('Got2', { writeProperty: 'community_S56' })\n",
    "YIELD communityCount, modularity, modularities\n",
    "\"\"\"\n",
    "graph.run(query)\n"
   ]
  },
  {
   "cell_type": "code",
   "execution_count": 24,
   "metadata": {},
   "outputs": [
    {
     "data": {
      "text/html": [
       "<div>\n",
       "<style scoped>\n",
       "    .dataframe tbody tr th:only-of-type {\n",
       "        vertical-align: middle;\n",
       "    }\n",
       "\n",
       "    .dataframe tbody tr th {\n",
       "        vertical-align: top;\n",
       "    }\n",
       "\n",
       "    .dataframe thead th {\n",
       "        text-align: right;\n",
       "    }\n",
       "</style>\n",
       "<table border=\"1\" class=\"dataframe\">\n",
       "  <thead>\n",
       "    <tr style=\"text-align: right;\">\n",
       "      <th></th>\n",
       "      <th>name</th>\n",
       "      <th>score</th>\n",
       "    </tr>\n",
       "  </thead>\n",
       "  <tbody>\n",
       "    <tr>\n",
       "      <th>0</th>\n",
       "      <td>SANSA</td>\n",
       "      <td>62.0</td>\n",
       "    </tr>\n",
       "    <tr>\n",
       "      <th>1</th>\n",
       "      <td>CERSEI</td>\n",
       "      <td>58.0</td>\n",
       "    </tr>\n",
       "    <tr>\n",
       "      <th>2</th>\n",
       "      <td>JON</td>\n",
       "      <td>56.0</td>\n",
       "    </tr>\n",
       "    <tr>\n",
       "      <th>3</th>\n",
       "      <td>TYRION</td>\n",
       "      <td>45.0</td>\n",
       "    </tr>\n",
       "    <tr>\n",
       "      <th>4</th>\n",
       "      <td>JAIME</td>\n",
       "      <td>41.0</td>\n",
       "    </tr>\n",
       "  </tbody>\n",
       "</table>\n",
       "</div>"
      ],
      "text/plain": [
       "     name  score\n",
       "0   SANSA   62.0\n",
       "1  CERSEI   58.0\n",
       "2     JON   56.0\n",
       "3  TYRION   45.0\n",
       "4   JAIME   41.0"
      ]
     },
     "execution_count": 24,
     "metadata": {},
     "output_type": "execute_result"
    }
   ],
   "source": [
    "# Degree\n",
    "query = \"\"\"\n",
    "CALL gds.degree.stream('Got2')\n",
    "YIELD nodeId, score\n",
    "RETURN gds.util.asNode(nodeId).id AS name, score\n",
    "ORDER BY score DESC\n",
    "LIMIT 5\n",
    "\"\"\"\n",
    "graph.run(query).to_data_frame()\n"
   ]
  },
  {
   "cell_type": "code",
   "execution_count": 25,
   "metadata": {},
   "outputs": [
    {
     "data": {
      "text/html": [
       "<div>\n",
       "<style scoped>\n",
       "    .dataframe tbody tr th:only-of-type {\n",
       "        vertical-align: middle;\n",
       "    }\n",
       "\n",
       "    .dataframe tbody tr th {\n",
       "        vertical-align: top;\n",
       "    }\n",
       "\n",
       "    .dataframe thead th {\n",
       "        text-align: right;\n",
       "    }\n",
       "</style>\n",
       "<table border=\"1\" class=\"dataframe\">\n",
       "  <thead>\n",
       "    <tr style=\"text-align: right;\">\n",
       "      <th></th>\n",
       "      <th>name</th>\n",
       "      <th>score</th>\n",
       "    </tr>\n",
       "  </thead>\n",
       "  <tbody>\n",
       "    <tr>\n",
       "      <th>0</th>\n",
       "      <td>JON</td>\n",
       "      <td>1150.0</td>\n",
       "    </tr>\n",
       "    <tr>\n",
       "      <th>1</th>\n",
       "      <td>CERSEI</td>\n",
       "      <td>924.0</td>\n",
       "    </tr>\n",
       "    <tr>\n",
       "      <th>2</th>\n",
       "      <td>TYRION</td>\n",
       "      <td>922.0</td>\n",
       "    </tr>\n",
       "    <tr>\n",
       "      <th>3</th>\n",
       "      <td>SANSA</td>\n",
       "      <td>913.0</td>\n",
       "    </tr>\n",
       "    <tr>\n",
       "      <th>4</th>\n",
       "      <td>JAIME</td>\n",
       "      <td>735.0</td>\n",
       "    </tr>\n",
       "  </tbody>\n",
       "</table>\n",
       "</div>"
      ],
      "text/plain": [
       "     name   score\n",
       "0     JON  1150.0\n",
       "1  CERSEI   924.0\n",
       "2  TYRION   922.0\n",
       "3   SANSA   913.0\n",
       "4   JAIME   735.0"
      ]
     },
     "execution_count": 25,
     "metadata": {},
     "output_type": "execute_result"
    }
   ],
   "source": [
    "# Weighted Degree\n",
    "query = \"\"\"\n",
    "CALL gds.degree.stream(\n",
    "   'Got2',\n",
    "   { relationshipWeightProperty: 'weight' }\n",
    ")\n",
    "YIELD nodeId, score\n",
    "RETURN gds.util.asNode(nodeId).id AS name, score\n",
    "ORDER BY score DESC\n",
    "LIMIT 5\n",
    "\"\"\"\n",
    "graph.run(query).to_data_frame()\n"
   ]
  },
  {
   "cell_type": "code",
   "execution_count": 26,
   "metadata": {},
   "outputs": [
    {
     "data": {
      "text/html": [
       "<div>\n",
       "<style scoped>\n",
       "    .dataframe tbody tr th:only-of-type {\n",
       "        vertical-align: middle;\n",
       "    }\n",
       "\n",
       "    .dataframe tbody tr th {\n",
       "        vertical-align: top;\n",
       "    }\n",
       "\n",
       "    .dataframe thead th {\n",
       "        text-align: right;\n",
       "    }\n",
       "</style>\n",
       "<table border=\"1\" class=\"dataframe\">\n",
       "  <thead>\n",
       "    <tr style=\"text-align: right;\">\n",
       "      <th></th>\n",
       "      <th>name</th>\n",
       "      <th>score</th>\n",
       "    </tr>\n",
       "  </thead>\n",
       "  <tbody>\n",
       "    <tr>\n",
       "      <th>0</th>\n",
       "      <td>SANSA</td>\n",
       "      <td>0.326439</td>\n",
       "    </tr>\n",
       "    <tr>\n",
       "      <th>1</th>\n",
       "      <td>CERSEI</td>\n",
       "      <td>0.270071</td>\n",
       "    </tr>\n",
       "    <tr>\n",
       "      <th>2</th>\n",
       "      <td>JON</td>\n",
       "      <td>0.250806</td>\n",
       "    </tr>\n",
       "    <tr>\n",
       "      <th>3</th>\n",
       "      <td>LITTLEFINGER</td>\n",
       "      <td>0.201531</td>\n",
       "    </tr>\n",
       "    <tr>\n",
       "      <th>4</th>\n",
       "      <td>STANNIS</td>\n",
       "      <td>0.199998</td>\n",
       "    </tr>\n",
       "  </tbody>\n",
       "</table>\n",
       "</div>"
      ],
      "text/plain": [
       "           name     score\n",
       "0         SANSA  0.326439\n",
       "1        CERSEI  0.270071\n",
       "2           JON  0.250806\n",
       "3  LITTLEFINGER  0.201531\n",
       "4       STANNIS  0.199998"
      ]
     },
     "execution_count": 26,
     "metadata": {},
     "output_type": "execute_result"
    }
   ],
   "source": [
    "# Eigenvector\n",
    "query = \"\"\"\n",
    "CALL gds.eigenvector.stream('Got2')\n",
    "YIELD nodeId, score\n",
    "RETURN gds.util.asNode(nodeId).id AS name, score\n",
    "ORDER BY score DESC\n",
    "LIMIT 5\n",
    "\"\"\"\n",
    "graph.run(query).to_data_frame()\n"
   ]
  },
  {
   "cell_type": "code",
   "execution_count": 27,
   "metadata": {},
   "outputs": [
    {
     "data": {
      "text/html": [
       "<div>\n",
       "<style scoped>\n",
       "    .dataframe tbody tr th:only-of-type {\n",
       "        vertical-align: middle;\n",
       "    }\n",
       "\n",
       "    .dataframe tbody tr th {\n",
       "        vertical-align: top;\n",
       "    }\n",
       "\n",
       "    .dataframe thead th {\n",
       "        text-align: right;\n",
       "    }\n",
       "</style>\n",
       "<table border=\"1\" class=\"dataframe\">\n",
       "  <thead>\n",
       "    <tr style=\"text-align: right;\">\n",
       "      <th></th>\n",
       "      <th>page</th>\n",
       "      <th>score</th>\n",
       "    </tr>\n",
       "  </thead>\n",
       "  <tbody>\n",
       "    <tr>\n",
       "      <th>0</th>\n",
       "      <td>JON</td>\n",
       "      <td>4.703863</td>\n",
       "    </tr>\n",
       "    <tr>\n",
       "      <th>1</th>\n",
       "      <td>SANSA</td>\n",
       "      <td>4.685592</td>\n",
       "    </tr>\n",
       "    <tr>\n",
       "      <th>2</th>\n",
       "      <td>CERSEI</td>\n",
       "      <td>4.273345</td>\n",
       "    </tr>\n",
       "    <tr>\n",
       "      <th>3</th>\n",
       "      <td>TYRION</td>\n",
       "      <td>3.870091</td>\n",
       "    </tr>\n",
       "    <tr>\n",
       "      <th>4</th>\n",
       "      <td>JAIME</td>\n",
       "      <td>3.251898</td>\n",
       "    </tr>\n",
       "  </tbody>\n",
       "</table>\n",
       "</div>"
      ],
      "text/plain": [
       "     page     score\n",
       "0     JON  4.703863\n",
       "1   SANSA  4.685592\n",
       "2  CERSEI  4.273345\n",
       "3  TYRION  3.870091\n",
       "4   JAIME  3.251898"
      ]
     },
     "execution_count": 27,
     "metadata": {},
     "output_type": "execute_result"
    }
   ],
   "source": [
    "# Pagerank\n",
    "query = \"\"\"\n",
    "CALL gds.pageRank.stream('Got2',  {maxIterations: 20,  dampingFactor: 0.85})\n",
    "YIELD nodeId, score\n",
    "RETURN gds.util.asNode(nodeId).id AS page, score\n",
    "ORDER BY score DESC\n",
    "LIMIT 5\n",
    "\"\"\"\n",
    "graph.run(query).to_data_frame()\n"
   ]
  },
  {
   "cell_type": "code",
   "execution_count": 28,
   "metadata": {},
   "outputs": [
    {
     "data": {
      "text/html": [
       "<div>\n",
       "<style scoped>\n",
       "    .dataframe tbody tr th:only-of-type {\n",
       "        vertical-align: middle;\n",
       "    }\n",
       "\n",
       "    .dataframe tbody tr th {\n",
       "        vertical-align: top;\n",
       "    }\n",
       "\n",
       "    .dataframe thead th {\n",
       "        text-align: right;\n",
       "    }\n",
       "</style>\n",
       "<table border=\"1\" class=\"dataframe\">\n",
       "  <thead>\n",
       "    <tr style=\"text-align: right;\">\n",
       "      <th></th>\n",
       "      <th>name</th>\n",
       "      <th>score</th>\n",
       "    </tr>\n",
       "  </thead>\n",
       "  <tbody>\n",
       "    <tr>\n",
       "      <th>0</th>\n",
       "      <td>SANSA</td>\n",
       "      <td>3249.913507</td>\n",
       "    </tr>\n",
       "    <tr>\n",
       "      <th>1</th>\n",
       "      <td>JON</td>\n",
       "      <td>2809.363537</td>\n",
       "    </tr>\n",
       "    <tr>\n",
       "      <th>2</th>\n",
       "      <td>TYRION</td>\n",
       "      <td>2453.560830</td>\n",
       "    </tr>\n",
       "    <tr>\n",
       "      <th>3</th>\n",
       "      <td>JAIME</td>\n",
       "      <td>2244.448242</td>\n",
       "    </tr>\n",
       "    <tr>\n",
       "      <th>4</th>\n",
       "      <td>CERSEI</td>\n",
       "      <td>2073.401141</td>\n",
       "    </tr>\n",
       "  </tbody>\n",
       "</table>\n",
       "</div>"
      ],
      "text/plain": [
       "     name        score\n",
       "0   SANSA  3249.913507\n",
       "1     JON  2809.363537\n",
       "2  TYRION  2453.560830\n",
       "3   JAIME  2244.448242\n",
       "4  CERSEI  2073.401141"
      ]
     },
     "execution_count": 28,
     "metadata": {},
     "output_type": "execute_result"
    }
   ],
   "source": [
    "# Betweenness\n",
    "query = \"\"\"\n",
    "CALL gds.betweenness.stream('Got2')\n",
    "YIELD nodeId, score\n",
    "RETURN gds.util.asNode(nodeId).id AS name, score\n",
    "ORDER BY score DESC\n",
    "LIMIT 5\n",
    "\"\"\"\n",
    "graph.run(query).to_data_frame()\n"
   ]
  },
  {
   "attachments": {},
   "cell_type": "markdown",
   "metadata": {},
   "source": [
    "<img src=\"https://upload.wikimedia.org/wikipedia/en/5/59/Game_of_Thrones_Season_5.png\"></img>\n",
    "<img src=\"https://upload.wikimedia.org/wikipedia/en/d/d1/Game_of_Thrones_Season_6.jpeg\"></img>"
   ]
  },
  {
   "attachments": {},
   "cell_type": "markdown",
   "metadata": {},
   "source": [
    "Season 5 and 6 are two of the most important seasons in the series. These are the seasons where the characters move to their allies and major power struggles begin. Sansa, Jon and Cersie are seen to be the most important people in these seasons. They top all the 5 centrality categories. Several important events involving these characters are seen in these seasons. Jon gets killed and rises back from the dead, Sansa wins the battle of Bastards for Jon and Cersei demolishes all her enemies in the Kings Landing. These are the seasons where the show picks up pace and is on a cruise to the inevitable War against the White Walkers. "
   ]
  },
  {
   "attachments": {},
   "cell_type": "markdown",
   "metadata": {},
   "source": [
    "## Season 7&8"
   ]
  },
  {
   "cell_type": "code",
   "execution_count": 13,
   "metadata": {},
   "outputs": [
    {
     "data": {
      "text/html": [
       "<table><tr><th>nodeProjection</th><th>relationshipProjection</th><th>graphName</th><th>nodeCount</th><th>relationshipCount</th><th>projectMillis</th></tr><tr><td style=\"text-align:left\">{Person_7: {label: &#039;Person_7&#039;, properties: {seed: {defaultValue: null, property: &#039;seed&#039;}}}, Person_8: {label: &#039;Person_8&#039;, properties: {seed: {defaultValue: null, property: &#039;seed&#039;}}}}</td><td style=\"text-align:left\">{INTERACTS_8: {orientation: &#039;UNDIRECTED&#039;, indexInverse: false, aggregation: &#039;DEFAULT&#039;, type: &#039;INTERACTS_8&#039;, properties: {weight: {defaultValue: null, property: &#039;weight&#039;, aggregation: &#039;DEFAULT&#039;}}}, INTERACTS_7: {orientation: &#039;UNDIRECTED&#039;, indexInverse: false, aggregation: &#039;DEFAULT&#039;, type: &#039;INTERACTS_7&#039;, properties: {weight: {defaultValue: null, property: &#039;weight&#039;, aggregation: &#039;DEFAULT&#039;}}}}</td><td style=\"text-align:left\">Got3</td><td style=\"text-align:right\">104</td><td style=\"text-align:right\">1932</td><td style=\"text-align:right\">28</td></tr></table>"
      ],
      "text/plain": [
       " nodeProjection                                                                                                                                                                         | relationshipProjection                                                                                                                                                                                                                                                                                                                                                                                   | graphName | nodeCount | relationshipCount | projectMillis \n",
       "----------------------------------------------------------------------------------------------------------------------------------------------------------------------------------------|----------------------------------------------------------------------------------------------------------------------------------------------------------------------------------------------------------------------------------------------------------------------------------------------------------------------------------------------------------------------------------------------------------|-----------|-----------|-------------------|---------------\n",
       " {Person_7: {label: 'Person_7', properties: {seed: {defaultValue: null, property: 'seed'}}}, Person_8: {label: 'Person_8', properties: {seed: {defaultValue: null, property: 'seed'}}}} | {INTERACTS_8: {orientation: 'UNDIRECTED', indexInverse: false, aggregation: 'DEFAULT', type: 'INTERACTS_8', properties: {weight: {defaultValue: null, property: 'weight', aggregation: 'DEFAULT'}}}, INTERACTS_7: {orientation: 'UNDIRECTED', indexInverse: false, aggregation: 'DEFAULT', type: 'INTERACTS_7', properties: {weight: {defaultValue: null, property: 'weight', aggregation: 'DEFAULT'}}}} | Got3      |       104 |              1932 |            28 "
      ]
     },
     "execution_count": 13,
     "metadata": {},
     "output_type": "execute_result"
    }
   ],
   "source": [
    "query = \"\"\" \n",
    "CALL gds.graph.project(\n",
    "    'Got3',\n",
    "    {\n",
    "        Person_7: {properties: 'seed' },\n",
    "        Person_8: {properties: 'seed' }\n",
    "    },\n",
    "    {\n",
    "        INTERACTS_7: {\n",
    "            orientation: 'UNDIRECTED',\n",
    "            properties: 'weight'\n",
    "        },\n",
    "        INTERACTS_8: {\n",
    "            orientation: 'UNDIRECTED',\n",
    "            properties: 'weight'\n",
    "        }\n",
    "    }\n",
    ")\n",
    "\"\"\"\n",
    "\n",
    "graph.run(query)\n"
   ]
  },
  {
   "cell_type": "code",
   "execution_count": 14,
   "metadata": {},
   "outputs": [
    {
     "data": {
      "text/html": [
       "<table><tr><th>nodeCount</th><th>relationshipCount</th><th>bytesMin</th><th>bytesMax</th><th>requiredMemory</th></tr><tr><td style=\"text-align:right\">104</td><td style=\"text-align:right\">1932</td><td style=\"text-align:right\">588224</td><td style=\"text-align:right\">591080</td><td style=\"text-align:left\">[574 KiB ... 577 KiB]</td></tr></table>"
      ],
      "text/plain": [
       " nodeCount | relationshipCount | bytesMin | bytesMax | requiredMemory        \n",
       "-----------|-------------------|----------|----------|-----------------------\n",
       "       104 |              1932 |   588224 |   591080 | [574 KiB ... 577 KiB] "
      ]
     },
     "execution_count": 14,
     "metadata": {},
     "output_type": "execute_result"
    }
   ],
   "source": [
    "# The following will estimate the memory requirements for running the algorithm:\n",
    "query = \"\"\"\n",
    "CALL gds.beta.leiden.write.estimate('Got3', { writeProperty: 'community_S78' })\n",
    "YIELD nodeCount, relationshipCount, bytesMin, bytesMax, requiredMemory\n",
    "\"\"\"\n",
    "graph.run(query)\n"
   ]
  },
  {
   "cell_type": "code",
   "execution_count": 15,
   "metadata": {},
   "outputs": [
    {
     "data": {
      "text/html": [
       "<div>\n",
       "<style scoped>\n",
       "    .dataframe tbody tr th:only-of-type {\n",
       "        vertical-align: middle;\n",
       "    }\n",
       "\n",
       "    .dataframe tbody tr th {\n",
       "        vertical-align: top;\n",
       "    }\n",
       "\n",
       "    .dataframe thead th {\n",
       "        text-align: right;\n",
       "    }\n",
       "</style>\n",
       "<table border=\"1\" class=\"dataframe\">\n",
       "  <thead>\n",
       "    <tr style=\"text-align: right;\">\n",
       "      <th></th>\n",
       "      <th>label</th>\n",
       "      <th>communityId</th>\n",
       "    </tr>\n",
       "  </thead>\n",
       "  <tbody>\n",
       "    <tr>\n",
       "      <th>0</th>\n",
       "      <td>Aegon</td>\n",
       "      <td>1</td>\n",
       "    </tr>\n",
       "    <tr>\n",
       "      <th>1</th>\n",
       "      <td>Aerys</td>\n",
       "      <td>1</td>\n",
       "    </tr>\n",
       "    <tr>\n",
       "      <th>2</th>\n",
       "      <td>Alanna</td>\n",
       "      <td>6</td>\n",
       "    </tr>\n",
       "    <tr>\n",
       "      <th>3</th>\n",
       "      <td>Alton</td>\n",
       "      <td>7</td>\n",
       "    </tr>\n",
       "    <tr>\n",
       "      <th>4</th>\n",
       "      <td>Alys</td>\n",
       "      <td>6</td>\n",
       "    </tr>\n",
       "    <tr>\n",
       "      <th>...</th>\n",
       "      <td>...</td>\n",
       "      <td>...</td>\n",
       "    </tr>\n",
       "    <tr>\n",
       "      <th>99</th>\n",
       "      <td>Willa</td>\n",
       "      <td>0</td>\n",
       "    </tr>\n",
       "    <tr>\n",
       "      <th>100</th>\n",
       "      <td>William</td>\n",
       "      <td>7</td>\n",
       "    </tr>\n",
       "    <tr>\n",
       "      <th>101</th>\n",
       "      <td>Wolkan</td>\n",
       "      <td>6</td>\n",
       "    </tr>\n",
       "    <tr>\n",
       "      <th>102</th>\n",
       "      <td>Yara</td>\n",
       "      <td>7</td>\n",
       "    </tr>\n",
       "    <tr>\n",
       "      <th>103</th>\n",
       "      <td>Yohn Royce</td>\n",
       "      <td>6</td>\n",
       "    </tr>\n",
       "  </tbody>\n",
       "</table>\n",
       "<p>104 rows × 2 columns</p>\n",
       "</div>"
      ],
      "text/plain": [
       "          label  communityId\n",
       "0         Aegon            1\n",
       "1         Aerys            1\n",
       "2        Alanna            6\n",
       "3         Alton            7\n",
       "4          Alys            6\n",
       "..          ...          ...\n",
       "99        Willa            0\n",
       "100     William            7\n",
       "101      Wolkan            6\n",
       "102        Yara            7\n",
       "103  Yohn Royce            6\n",
       "\n",
       "[104 rows x 2 columns]"
      ]
     },
     "execution_count": 15,
     "metadata": {},
     "output_type": "execute_result"
    }
   ],
   "source": [
    "# The following will run the algorithm and stream results:\n",
    "query = \"\"\"\n",
    "CALL gds.beta.leiden.stream('Got3', {seedProperty: 'seed', relationshipWeightProperty: 'weight'})\n",
    "YIELD nodeId, communityId, intermediateCommunityIds\n",
    "RETURN gds.util.asNode(nodeId).label AS label, communityId\n",
    "ORDER BY label ASC\n",
    "\"\"\"\n",
    "graph.run(query).to_data_frame()\n"
   ]
  },
  {
   "cell_type": "code",
   "execution_count": 16,
   "metadata": {},
   "outputs": [
    {
     "data": {
      "text/html": [
       "<table><tr><th>communityCount</th></tr><tr><td style=\"text-align:right\">5</td></tr></table>"
      ],
      "text/plain": [
       " communityCount \n",
       "----------------\n",
       "              5 "
      ]
     },
     "execution_count": 16,
     "metadata": {},
     "output_type": "execute_result"
    }
   ],
   "source": [
    "# The following will run the algorithm and returns the result in form of statistical and measurement values:\n",
    "query = \"\"\"\n",
    "CALL gds.beta.leiden.stats('Got3')\n",
    "YIELD communityCount\n",
    "\"\"\"\n",
    "graph.run(query)\n"
   ]
  },
  {
   "cell_type": "code",
   "execution_count": 17,
   "metadata": {},
   "outputs": [
    {
     "data": {
      "text/html": [
       "<table><tr><th>communityCount</th><th>modularity</th><th>modularities</th></tr><tr><td style=\"text-align:right\">5</td><td style=\"text-align:right\">0.22507222800903595</td><td style=\"text-align:left\">[0.21793944420868533, 0.22339619527710267, 0.22507222800903595]</td></tr></table>"
      ],
      "text/plain": [
       " communityCount |          modularity | modularities                                                    \n",
       "----------------|---------------------|-----------------------------------------------------------------\n",
       "              5 | 0.22507222800903595 | [0.21793944420868533, 0.22339619527710267, 0.22507222800903595] "
      ]
     },
     "execution_count": 17,
     "metadata": {},
     "output_type": "execute_result"
    }
   ],
   "source": [
    "# The following will run the algorithm and store the results in myGraph:\n",
    "query = \"\"\"\n",
    "CALL gds.beta.leiden.mutate('Got3', { mutateProperty: 'communityId' })\n",
    "YIELD communityCount, modularity, modularities\n",
    "\"\"\"\n",
    "graph.run(query)\n"
   ]
  },
  {
   "cell_type": "code",
   "execution_count": 18,
   "metadata": {},
   "outputs": [
    {
     "data": {
      "text/html": [
       "<table><tr><th>communityCount</th><th>modularity</th><th>modularities</th></tr><tr><td style=\"text-align:right\">5</td><td style=\"text-align:right\">0.22734837476263348</td><td style=\"text-align:left\">[0.21012349489260101, 0.22486647463017972, 0.22734837476263348]</td></tr></table>"
      ],
      "text/plain": [
       " communityCount |          modularity | modularities                                                    \n",
       "----------------|---------------------|-----------------------------------------------------------------\n",
       "              5 | 0.22734837476263348 | [0.21012349489260101, 0.22486647463017972, 0.22734837476263348] "
      ]
     },
     "execution_count": 18,
     "metadata": {},
     "output_type": "execute_result"
    }
   ],
   "source": [
    "# The following run the algorithm, and write back results:\n",
    "query = \"\"\"\n",
    "CALL gds.beta.leiden.write('Got3', { writeProperty: 'community_S78' })\n",
    "YIELD communityCount, modularity, modularities\n",
    "\"\"\"\n",
    "graph.run(query)\n"
   ]
  },
  {
   "cell_type": "code",
   "execution_count": 29,
   "metadata": {},
   "outputs": [
    {
     "data": {
      "text/html": [
       "<div>\n",
       "<style scoped>\n",
       "    .dataframe tbody tr th:only-of-type {\n",
       "        vertical-align: middle;\n",
       "    }\n",
       "\n",
       "    .dataframe tbody tr th {\n",
       "        vertical-align: top;\n",
       "    }\n",
       "\n",
       "    .dataframe thead th {\n",
       "        text-align: right;\n",
       "    }\n",
       "</style>\n",
       "<table border=\"1\" class=\"dataframe\">\n",
       "  <thead>\n",
       "    <tr style=\"text-align: right;\">\n",
       "      <th></th>\n",
       "      <th>name</th>\n",
       "      <th>score</th>\n",
       "    </tr>\n",
       "  </thead>\n",
       "  <tbody>\n",
       "    <tr>\n",
       "      <th>0</th>\n",
       "      <td>JON</td>\n",
       "      <td>79.0</td>\n",
       "    </tr>\n",
       "    <tr>\n",
       "      <th>1</th>\n",
       "      <td>TYRION</td>\n",
       "      <td>75.0</td>\n",
       "    </tr>\n",
       "    <tr>\n",
       "      <th>2</th>\n",
       "      <td>DAENERYS</td>\n",
       "      <td>75.0</td>\n",
       "    </tr>\n",
       "    <tr>\n",
       "      <th>3</th>\n",
       "      <td>SANSA</td>\n",
       "      <td>64.0</td>\n",
       "    </tr>\n",
       "    <tr>\n",
       "      <th>4</th>\n",
       "      <td>DAVOS</td>\n",
       "      <td>64.0</td>\n",
       "    </tr>\n",
       "  </tbody>\n",
       "</table>\n",
       "</div>"
      ],
      "text/plain": [
       "       name  score\n",
       "0       JON   79.0\n",
       "1    TYRION   75.0\n",
       "2  DAENERYS   75.0\n",
       "3     SANSA   64.0\n",
       "4     DAVOS   64.0"
      ]
     },
     "execution_count": 29,
     "metadata": {},
     "output_type": "execute_result"
    }
   ],
   "source": [
    "# Degree\n",
    "query = \"\"\"\n",
    "CALL gds.degree.stream('Got3')\n",
    "YIELD nodeId, score\n",
    "RETURN gds.util.asNode(nodeId).id AS name, score\n",
    "ORDER BY score DESC\n",
    "LIMIT 5\n",
    "\"\"\"\n",
    "graph.run(query).to_data_frame()\n"
   ]
  },
  {
   "cell_type": "code",
   "execution_count": 30,
   "metadata": {},
   "outputs": [
    {
     "data": {
      "text/html": [
       "<div>\n",
       "<style scoped>\n",
       "    .dataframe tbody tr th:only-of-type {\n",
       "        vertical-align: middle;\n",
       "    }\n",
       "\n",
       "    .dataframe tbody tr th {\n",
       "        vertical-align: top;\n",
       "    }\n",
       "\n",
       "    .dataframe thead th {\n",
       "        text-align: right;\n",
       "    }\n",
       "</style>\n",
       "<table border=\"1\" class=\"dataframe\">\n",
       "  <thead>\n",
       "    <tr style=\"text-align: right;\">\n",
       "      <th></th>\n",
       "      <th>name</th>\n",
       "      <th>score</th>\n",
       "    </tr>\n",
       "  </thead>\n",
       "  <tbody>\n",
       "    <tr>\n",
       "      <th>0</th>\n",
       "      <td>JON</td>\n",
       "      <td>1882.0</td>\n",
       "    </tr>\n",
       "    <tr>\n",
       "      <th>1</th>\n",
       "      <td>TYRION</td>\n",
       "      <td>1755.0</td>\n",
       "    </tr>\n",
       "    <tr>\n",
       "      <th>2</th>\n",
       "      <td>DAENERYS</td>\n",
       "      <td>1576.0</td>\n",
       "    </tr>\n",
       "    <tr>\n",
       "      <th>3</th>\n",
       "      <td>SANSA</td>\n",
       "      <td>1119.0</td>\n",
       "    </tr>\n",
       "    <tr>\n",
       "      <th>4</th>\n",
       "      <td>JAIME</td>\n",
       "      <td>1107.0</td>\n",
       "    </tr>\n",
       "  </tbody>\n",
       "</table>\n",
       "</div>"
      ],
      "text/plain": [
       "       name   score\n",
       "0       JON  1882.0\n",
       "1    TYRION  1755.0\n",
       "2  DAENERYS  1576.0\n",
       "3     SANSA  1119.0\n",
       "4     JAIME  1107.0"
      ]
     },
     "execution_count": 30,
     "metadata": {},
     "output_type": "execute_result"
    }
   ],
   "source": [
    "# Weighted Degree\n",
    "query = \"\"\"\n",
    "CALL gds.degree.stream(\n",
    "   'Got3',\n",
    "   { relationshipWeightProperty: 'weight' }\n",
    ")\n",
    "YIELD nodeId, score\n",
    "RETURN gds.util.asNode(nodeId).id AS name, score\n",
    "ORDER BY score DESC\n",
    "LIMIT 5\n",
    "\"\"\"\n",
    "graph.run(query).to_data_frame()\n"
   ]
  },
  {
   "cell_type": "code",
   "execution_count": 31,
   "metadata": {},
   "outputs": [
    {
     "data": {
      "text/html": [
       "<div>\n",
       "<style scoped>\n",
       "    .dataframe tbody tr th:only-of-type {\n",
       "        vertical-align: middle;\n",
       "    }\n",
       "\n",
       "    .dataframe tbody tr th {\n",
       "        vertical-align: top;\n",
       "    }\n",
       "\n",
       "    .dataframe thead th {\n",
       "        text-align: right;\n",
       "    }\n",
       "</style>\n",
       "<table border=\"1\" class=\"dataframe\">\n",
       "  <thead>\n",
       "    <tr style=\"text-align: right;\">\n",
       "      <th></th>\n",
       "      <th>name</th>\n",
       "      <th>score</th>\n",
       "    </tr>\n",
       "  </thead>\n",
       "  <tbody>\n",
       "    <tr>\n",
       "      <th>0</th>\n",
       "      <td>JON</td>\n",
       "      <td>0.254100</td>\n",
       "    </tr>\n",
       "    <tr>\n",
       "      <th>1</th>\n",
       "      <td>TYRION</td>\n",
       "      <td>0.244820</td>\n",
       "    </tr>\n",
       "    <tr>\n",
       "      <th>2</th>\n",
       "      <td>DAENERYS</td>\n",
       "      <td>0.235475</td>\n",
       "    </tr>\n",
       "    <tr>\n",
       "      <th>3</th>\n",
       "      <td>DAVOS</td>\n",
       "      <td>0.233078</td>\n",
       "    </tr>\n",
       "    <tr>\n",
       "      <th>4</th>\n",
       "      <td>BRIENNE</td>\n",
       "      <td>0.216607</td>\n",
       "    </tr>\n",
       "  </tbody>\n",
       "</table>\n",
       "</div>"
      ],
      "text/plain": [
       "       name     score\n",
       "0       JON  0.254100\n",
       "1    TYRION  0.244820\n",
       "2  DAENERYS  0.235475\n",
       "3     DAVOS  0.233078\n",
       "4   BRIENNE  0.216607"
      ]
     },
     "execution_count": 31,
     "metadata": {},
     "output_type": "execute_result"
    }
   ],
   "source": [
    "# Eigenvector\n",
    "query = \"\"\"\n",
    "CALL gds.eigenvector.stream('Got3')\n",
    "YIELD nodeId, score\n",
    "RETURN gds.util.asNode(nodeId).id AS name, score\n",
    "ORDER BY score DESC\n",
    "LIMIT 5\n",
    "\"\"\"\n",
    "graph.run(query).to_data_frame()\n"
   ]
  },
  {
   "cell_type": "code",
   "execution_count": 32,
   "metadata": {},
   "outputs": [
    {
     "data": {
      "text/html": [
       "<div>\n",
       "<style scoped>\n",
       "    .dataframe tbody tr th:only-of-type {\n",
       "        vertical-align: middle;\n",
       "    }\n",
       "\n",
       "    .dataframe tbody tr th {\n",
       "        vertical-align: top;\n",
       "    }\n",
       "\n",
       "    .dataframe thead th {\n",
       "        text-align: right;\n",
       "    }\n",
       "</style>\n",
       "<table border=\"1\" class=\"dataframe\">\n",
       "  <thead>\n",
       "    <tr style=\"text-align: right;\">\n",
       "      <th></th>\n",
       "      <th>page</th>\n",
       "      <th>score</th>\n",
       "    </tr>\n",
       "  </thead>\n",
       "  <tbody>\n",
       "    <tr>\n",
       "      <th>0</th>\n",
       "      <td>JON</td>\n",
       "      <td>3.667777</td>\n",
       "    </tr>\n",
       "    <tr>\n",
       "      <th>1</th>\n",
       "      <td>DAENERYS</td>\n",
       "      <td>3.509703</td>\n",
       "    </tr>\n",
       "    <tr>\n",
       "      <th>2</th>\n",
       "      <td>TYRION</td>\n",
       "      <td>3.299509</td>\n",
       "    </tr>\n",
       "    <tr>\n",
       "      <th>3</th>\n",
       "      <td>SANSA</td>\n",
       "      <td>3.073163</td>\n",
       "    </tr>\n",
       "    <tr>\n",
       "      <th>4</th>\n",
       "      <td>ARYA</td>\n",
       "      <td>2.865504</td>\n",
       "    </tr>\n",
       "  </tbody>\n",
       "</table>\n",
       "</div>"
      ],
      "text/plain": [
       "       page     score\n",
       "0       JON  3.667777\n",
       "1  DAENERYS  3.509703\n",
       "2    TYRION  3.299509\n",
       "3     SANSA  3.073163\n",
       "4      ARYA  2.865504"
      ]
     },
     "execution_count": 32,
     "metadata": {},
     "output_type": "execute_result"
    }
   ],
   "source": [
    "# Pagerank\n",
    "query = \"\"\"\n",
    "CALL gds.pageRank.stream('Got3',  {maxIterations: 20,  dampingFactor: 0.85})\n",
    "YIELD nodeId, score\n",
    "RETURN gds.util.asNode(nodeId).id AS page, score\n",
    "ORDER BY score DESC\n",
    "LIMIT 5\n",
    "\"\"\"\n",
    "graph.run(query).to_data_frame()\n"
   ]
  },
  {
   "cell_type": "code",
   "execution_count": 33,
   "metadata": {},
   "outputs": [
    {
     "data": {
      "text/html": [
       "<div>\n",
       "<style scoped>\n",
       "    .dataframe tbody tr th:only-of-type {\n",
       "        vertical-align: middle;\n",
       "    }\n",
       "\n",
       "    .dataframe tbody tr th {\n",
       "        vertical-align: top;\n",
       "    }\n",
       "\n",
       "    .dataframe thead th {\n",
       "        text-align: right;\n",
       "    }\n",
       "</style>\n",
       "<table border=\"1\" class=\"dataframe\">\n",
       "  <thead>\n",
       "    <tr style=\"text-align: right;\">\n",
       "      <th></th>\n",
       "      <th>name</th>\n",
       "      <th>score</th>\n",
       "    </tr>\n",
       "  </thead>\n",
       "  <tbody>\n",
       "    <tr>\n",
       "      <th>0</th>\n",
       "      <td>JON</td>\n",
       "      <td>542.696894</td>\n",
       "    </tr>\n",
       "    <tr>\n",
       "      <th>1</th>\n",
       "      <td>ARYA</td>\n",
       "      <td>513.175492</td>\n",
       "    </tr>\n",
       "    <tr>\n",
       "      <th>2</th>\n",
       "      <td>SAM</td>\n",
       "      <td>512.808655</td>\n",
       "    </tr>\n",
       "    <tr>\n",
       "      <th>3</th>\n",
       "      <td>SANSA</td>\n",
       "      <td>497.389139</td>\n",
       "    </tr>\n",
       "    <tr>\n",
       "      <th>4</th>\n",
       "      <td>DAENERYS</td>\n",
       "      <td>471.243228</td>\n",
       "    </tr>\n",
       "  </tbody>\n",
       "</table>\n",
       "</div>"
      ],
      "text/plain": [
       "       name       score\n",
       "0       JON  542.696894\n",
       "1      ARYA  513.175492\n",
       "2       SAM  512.808655\n",
       "3     SANSA  497.389139\n",
       "4  DAENERYS  471.243228"
      ]
     },
     "execution_count": 33,
     "metadata": {},
     "output_type": "execute_result"
    }
   ],
   "source": [
    "# Betweenness\n",
    "query = \"\"\"\n",
    "CALL gds.betweenness.stream('Got3')\n",
    "YIELD nodeId, score\n",
    "RETURN gds.util.asNode(nodeId).id AS name, score\n",
    "ORDER BY score DESC\n",
    "LIMIT 5\n",
    "\"\"\"\n",
    "graph.run(query).to_data_frame()\n"
   ]
  },
  {
   "attachments": {},
   "cell_type": "markdown",
   "metadata": {},
   "source": [
    "<img src = \"https://upload.wikimedia.org/wikipedia/en/9/92/Game_of_Thrones_Season_7.png\"></img>\n",
    "<img src=\"https://upload.wikimedia.org/wikipedia/en/e/e0/Game_of_Thrones_Season_8.png\"></img>"
   ]
  },
  {
   "attachments": {},
   "cell_type": "markdown",
   "metadata": {},
   "source": [
    "Season 7 and 8, the final seasons of the series is full of twists and turns. We see the North and South team up to defeat the White Walkers, the battle for Kings Landing and finally Jon Snow killing Daerneys. The least expected Bran becomes the King and Tyrion his Hand. The North remains an independent Domain. The Centrality metrics paint the clear picture of Jon being the most important character in the last two seasons. He was indispensible in uniting the North and the South to fight against the White Walkers. The Starks are on a whole seen to rise up in the centrality ranks ascertaining the fact that Game of thrones is indeed the story of the Starks. Daerneys also rises in the ranks owing to her contribution to the storyline."
   ]
  },
  {
   "cell_type": "markdown",
   "metadata": {},
   "source": []
  }
 ],
 "metadata": {
  "kernelspec": {
   "display_name": "lsna",
   "language": "python",
   "name": "python3"
  },
  "language_info": {
   "codemirror_mode": {
    "name": "ipython",
    "version": 3
   },
   "file_extension": ".py",
   "mimetype": "text/x-python",
   "name": "python",
   "nbconvert_exporter": "python",
   "pygments_lexer": "ipython3",
   "version": "3.8.16"
  },
  "orig_nbformat": 4
 },
 "nbformat": 4,
 "nbformat_minor": 2
}
