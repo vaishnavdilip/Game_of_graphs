{
 "cells": [
  {
   "cell_type": "code",
   "execution_count": 2,
   "metadata": {},
   "outputs": [],
   "source": [
    "from py2neo import Graph\n",
    "import pandas as pd\n",
    "import numpy as np\n",
    "import os"
   ]
  },
  {
   "cell_type": "code",
   "execution_count": 3,
   "metadata": {},
   "outputs": [],
   "source": [
    "graph = Graph(\"bolt://localhost:7687\", auth=(\"neo4j\", \"neo4jneo4j\"))"
   ]
  },
  {
   "cell_type": "code",
   "execution_count": 4,
   "metadata": {},
   "outputs": [
    {
     "data": {
      "text/html": [
       "(No data)"
      ],
      "text/plain": [
       "(No data)"
      ]
     },
     "execution_count": 4,
     "metadata": {},
     "output_type": "execute_result"
    }
   ],
   "source": [
    "graph.run(\"MATCH (n) DETACH DELETE n\")"
   ]
  },
  {
   "cell_type": "markdown",
   "metadata": {},
   "source": [
    "# Making nodes and edges"
   ]
  },
  {
   "cell_type": "code",
   "execution_count": 5,
   "metadata": {},
   "outputs": [],
   "source": [
    "def create_nodes(df):\n",
    "    \"\"\"Function to create the nodes from the csv files.\n",
    "\n",
    "    Returns:\n",
    "        str: Acknowledgement string\n",
    "    \"\"\"\n",
    "    i=0\n",
    "    for idx in df.index:\n",
    "        id_ = df.loc[idx, 'Id']\n",
    "        label = df.loc[idx, 'Label'].replace('\\'', '')\n",
    "        cypher = \"MERGE (a:Person {id:\" + \"'\" + \\\n",
    "            id_ + \"'\" + \",label:\" + \"'\" + label + \"'})\"\n",
    "        cypher = cypher + f'SET a.seed={i}'\n",
    "        graph.run(cypher)\n",
    "        i+=1\n",
    "    return \"Done creating nodes\""
   ]
  },
  {
   "cell_type": "markdown",
   "metadata": {},
   "source": [
    "Note: for the function create_edges; I added + str(season)+ in order to have various edges depending on the interaction betwee the character in different seasons"
   ]
  },
  {
   "cell_type": "code",
   "execution_count": 6,
   "metadata": {},
   "outputs": [],
   "source": [
    "def create_edges(df):\n",
    "    \"\"\"Function to create the edges from the csv files.\n",
    "\n",
    "    Returns:\n",
    "        str: Acknowledgement string\n",
    "    \"\"\"\n",
    "    for idx in df.index:\n",
    "        src = df.loc[idx, 'Source']\n",
    "        tar = df.loc[idx, 'Target']\n",
    "        weight = df.loc[idx, 'Weight']\n",
    "        season = df.loc[idx, 'Season']\n",
    "        cypher = \"MATCH (src:Person {id:\" + \"'\" + src + \"'}),\"\n",
    "        cypher = cypher + \" (tar:Person {id:\" + \"'\" + tar + \"'})\"\n",
    "        cypher = cypher + \\\n",
    "            \"MERGE (src)-[r:INTERACTS_\"+ str(season) +\"]-(tar)\"\n",
    "        cypher = cypher + f\"SET r.weight={weight} SET r.season={season}\"\n",
    "        graph.run(cypher)\n",
    "    return \"Done creating edges\""
   ]
  },
  {
   "cell_type": "code",
   "execution_count": 7,
   "metadata": {},
   "outputs": [],
   "source": [
    "#Here we create an undirected edges\n",
    "def create_graph():\n",
    "    \"\"\"Function to create the graph from the csv files.\n",
    "\n",
    "    Returns:\n",
    "        str: Acknowledgement string\n",
    "    \"\"\"\n",
    "    for season in range(1,8):\n",
    "        for type in ['nodes','edges']:\n",
    "            base_url = \"https://raw.githubusercontent.com/mathbeveridge/gameofthrones/master/data/\"\n",
    "            final_url = base_url+\"got-s\"+str(season)+\"-\"+type+\".csv\"\n",
    "            df = pd.read_csv(final_url)\n",
    "            if type == 'nodes':\n",
    "                create_nodes(df)\n",
    "            else:\n",
    "                create_edges(df)\n",
    "    return \"Done creating graph\""
   ]
  },
  {
   "cell_type": "code",
   "execution_count": 8,
   "metadata": {},
   "outputs": [
    {
     "data": {
      "text/plain": [
       "'Done creating graph'"
      ]
     },
     "execution_count": 8,
     "metadata": {},
     "output_type": "execute_result"
    }
   ],
   "source": [
    "create_graph()\n",
    "#Note: season 8 is missing"
   ]
  },
  {
   "cell_type": "markdown",
   "metadata": {},
   "source": [
    "# Graph for season 1"
   ]
  },
  {
   "cell_type": "markdown",
   "metadata": {},
   "source": [
    "## Louvain Modularity Algorithm"
   ]
  },
  {
   "cell_type": "code",
   "execution_count": 41,
   "metadata": {},
   "outputs": [
    {
     "ename": "ClientError",
     "evalue": "[Procedure.ProcedureCallFailed] Failed to invoke procedure `gds.graph.drop`: Caused by: java.util.NoSuchElementException: Graph with name `Got1` does not exist on database `neo4j`. It might exist on another database.",
     "output_type": "error",
     "traceback": [
      "\u001b[1;31m---------------------------------------------------------------------------\u001b[0m",
      "\u001b[1;31mClientError\u001b[0m                               Traceback (most recent call last)",
      "Cell \u001b[1;32mIn[41], line 5\u001b[0m\n\u001b[0;32m      1\u001b[0m query \u001b[39m=\u001b[39m \u001b[39m\"\"\"\u001b[39m\u001b[39m \u001b[39m\n\u001b[0;32m      2\u001b[0m \u001b[39mCALL gds.graph.drop(\u001b[39m\u001b[39m'\u001b[39m\u001b[39mGot1\u001b[39m\u001b[39m'\u001b[39m\u001b[39m) YIELD graphName;\u001b[39m\n\u001b[0;32m      3\u001b[0m \u001b[39m\"\"\"\u001b[39m\n\u001b[1;32m----> 5\u001b[0m graph\u001b[39m.\u001b[39;49mrun(query)\n",
      "File \u001b[1;32mc:\\Users\\nikte\\.conda\\envs\\lsna\\lib\\site-packages\\py2neo\\database.py:405\u001b[0m, in \u001b[0;36mGraph.run\u001b[1;34m(self, cypher, parameters, **kwparameters)\u001b[0m\n\u001b[0;32m    395\u001b[0m \u001b[39mdef\u001b[39;00m \u001b[39mrun\u001b[39m(\u001b[39mself\u001b[39m, cypher, parameters\u001b[39m=\u001b[39m\u001b[39mNone\u001b[39;00m, \u001b[39m*\u001b[39m\u001b[39m*\u001b[39mkwparameters):\n\u001b[0;32m    396\u001b[0m \u001b[39m    \u001b[39m\u001b[39m\"\"\" Run a single read/write query within an auto-commit\u001b[39;00m\n\u001b[0;32m    397\u001b[0m \u001b[39m    :class:`~py2neo.Transaction`.\u001b[39;00m\n\u001b[0;32m    398\u001b[0m \n\u001b[1;32m   (...)\u001b[0m\n\u001b[0;32m    403\u001b[0m \u001b[39m    :return:\u001b[39;00m\n\u001b[0;32m    404\u001b[0m \u001b[39m    \"\"\"\u001b[39;00m\n\u001b[1;32m--> 405\u001b[0m     \u001b[39mreturn\u001b[39;00m \u001b[39mself\u001b[39;49m\u001b[39m.\u001b[39;49mauto()\u001b[39m.\u001b[39;49mrun(cypher, parameters, \u001b[39m*\u001b[39;49m\u001b[39m*\u001b[39;49mkwparameters)\n",
      "File \u001b[1;32mc:\\Users\\nikte\\.conda\\envs\\lsna\\lib\\site-packages\\py2neo\\database.py:992\u001b[0m, in \u001b[0;36mTransaction.run\u001b[1;34m(self, cypher, parameters, **kwparameters)\u001b[0m\n\u001b[0;32m    988\u001b[0m     \u001b[39melse\u001b[39;00m:\n\u001b[0;32m    989\u001b[0m         result \u001b[39m=\u001b[39m \u001b[39mself\u001b[39m\u001b[39m.\u001b[39m_connector\u001b[39m.\u001b[39mauto_run(cypher, parameters,\n\u001b[0;32m    990\u001b[0m                                           graph_name\u001b[39m=\u001b[39m\u001b[39mself\u001b[39m\u001b[39m.\u001b[39mgraph\u001b[39m.\u001b[39mname,\n\u001b[0;32m    991\u001b[0m                                           readonly\u001b[39m=\u001b[39m\u001b[39mself\u001b[39m\u001b[39m.\u001b[39mreadonly)\n\u001b[1;32m--> 992\u001b[0m     \u001b[39mself\u001b[39;49m\u001b[39m.\u001b[39;49m_connector\u001b[39m.\u001b[39;49mpull(result, \u001b[39m-\u001b[39;49m\u001b[39m1\u001b[39;49m)\n\u001b[0;32m    993\u001b[0m     \u001b[39mreturn\u001b[39;00m Cursor(result, hydrant)\n\u001b[0;32m    994\u001b[0m \u001b[39mfinally\u001b[39;00m:\n",
      "File \u001b[1;32mc:\\Users\\nikte\\.conda\\envs\\lsna\\lib\\site-packages\\py2neo\\client\\__init__.py:1434\u001b[0m, in \u001b[0;36mConnector.pull\u001b[1;34m(self, result, n)\u001b[0m\n\u001b[0;32m   1432\u001b[0m cx \u001b[39m=\u001b[39m \u001b[39mself\u001b[39m\u001b[39m.\u001b[39m_reacquire(result\u001b[39m.\u001b[39mtransaction)\n\u001b[0;32m   1433\u001b[0m \u001b[39mtry\u001b[39;00m:\n\u001b[1;32m-> 1434\u001b[0m     cx\u001b[39m.\u001b[39;49mpull(result, n\u001b[39m=\u001b[39;49mn)\n\u001b[0;32m   1435\u001b[0m \u001b[39mexcept\u001b[39;00m (ConnectionUnavailable, ConnectionBroken):\n\u001b[0;32m   1436\u001b[0m     \u001b[39mself\u001b[39m\u001b[39m.\u001b[39mprune(cx\u001b[39m.\u001b[39mprofile)\n",
      "File \u001b[1;32mc:\\Users\\nikte\\.conda\\envs\\lsna\\lib\\site-packages\\py2neo\\client\\bolt.py:1001\u001b[0m, in \u001b[0;36mBolt4x0.pull\u001b[1;34m(self, result, n, capacity)\u001b[0m\n\u001b[0;32m    998\u001b[0m     raise_from(ConnectionBroken(\u001b[39m\"\u001b[39m\u001b[39mTransaction broken by disconnection \u001b[39m\u001b[39m\"\u001b[39m\n\u001b[0;32m    999\u001b[0m                                 \u001b[39m\"\u001b[39m\u001b[39mduring pull\u001b[39m\u001b[39m\"\u001b[39m), error)\n\u001b[0;32m   1000\u001b[0m \u001b[39melse\u001b[39;00m:\n\u001b[1;32m-> 1001\u001b[0m     \u001b[39mself\u001b[39;49m\u001b[39m.\u001b[39;49m_audit(\u001b[39mself\u001b[39;49m\u001b[39m.\u001b[39;49m_transaction)\n\u001b[0;32m   1002\u001b[0m     \u001b[39mreturn\u001b[39;00m response\n",
      "File \u001b[1;32mc:\\Users\\nikte\\.conda\\envs\\lsna\\lib\\site-packages\\py2neo\\client\\bolt.py:810\u001b[0m, in \u001b[0;36mBolt1._audit\u001b[1;34m(self, task)\u001b[0m\n\u001b[0;32m    808\u001b[0m     \u001b[39mreturn\u001b[39;00m\n\u001b[0;32m    809\u001b[0m \u001b[39mtry\u001b[39;00m:\n\u001b[1;32m--> 810\u001b[0m     task\u001b[39m.\u001b[39;49maudit()\n\u001b[0;32m    811\u001b[0m \u001b[39mexcept\u001b[39;00m Neo4jError:\n\u001b[0;32m    812\u001b[0m     \u001b[39mself\u001b[39m\u001b[39m.\u001b[39mreset(force\u001b[39m=\u001b[39m\u001b[39mTrue\u001b[39;00m)\n",
      "File \u001b[1;32mc:\\Users\\nikte\\.conda\\envs\\lsna\\lib\\site-packages\\py2neo\\client\\bolt.py:1140\u001b[0m, in \u001b[0;36mItemizedTask.audit\u001b[1;34m(self)\u001b[0m\n\u001b[0;32m   1138\u001b[0m \u001b[39mdef\u001b[39;00m \u001b[39maudit\u001b[39m(\u001b[39mself\u001b[39m):\n\u001b[0;32m   1139\u001b[0m     \u001b[39mfor\u001b[39;00m item \u001b[39min\u001b[39;00m \u001b[39mself\u001b[39m\u001b[39m.\u001b[39m_items:\n\u001b[1;32m-> 1140\u001b[0m         item\u001b[39m.\u001b[39;49maudit()\n",
      "File \u001b[1;32mc:\\Users\\nikte\\.conda\\envs\\lsna\\lib\\site-packages\\py2neo\\client\\bolt.py:1140\u001b[0m, in \u001b[0;36mItemizedTask.audit\u001b[1;34m(self)\u001b[0m\n\u001b[0;32m   1138\u001b[0m \u001b[39mdef\u001b[39;00m \u001b[39maudit\u001b[39m(\u001b[39mself\u001b[39m):\n\u001b[0;32m   1139\u001b[0m     \u001b[39mfor\u001b[39;00m item \u001b[39min\u001b[39;00m \u001b[39mself\u001b[39m\u001b[39m.\u001b[39m_items:\n\u001b[1;32m-> 1140\u001b[0m         item\u001b[39m.\u001b[39;49maudit()\n",
      "File \u001b[1;32mc:\\Users\\nikte\\.conda\\envs\\lsna\\lib\\site-packages\\py2neo\\client\\bolt.py:1303\u001b[0m, in \u001b[0;36mBoltResponse.audit\u001b[1;34m(self)\u001b[0m\n\u001b[0;32m   1301\u001b[0m \u001b[39mif\u001b[39;00m \u001b[39mself\u001b[39m\u001b[39m.\u001b[39m_failure:\n\u001b[0;32m   1302\u001b[0m     \u001b[39mself\u001b[39m\u001b[39m.\u001b[39mset_ignored()\n\u001b[1;32m-> 1303\u001b[0m     \u001b[39mraise\u001b[39;00m \u001b[39mself\u001b[39m\u001b[39m.\u001b[39m_failure\n",
      "\u001b[1;31mClientError\u001b[0m: [Procedure.ProcedureCallFailed] Failed to invoke procedure `gds.graph.drop`: Caused by: java.util.NoSuchElementException: Graph with name `Got1` does not exist on database `neo4j`. It might exist on another database."
     ]
    }
   ],
   "source": [
    "query = \"\"\" \n",
    "CALL gds.graph.drop('Got1') YIELD graphName;\n",
    "\"\"\"\n",
    "\n",
    "graph.run(query)"
   ]
  },
  {
   "cell_type": "code",
   "execution_count": 4,
   "metadata": {
    "code_folding": []
   },
   "outputs": [
    {
     "data": {
      "text/html": [
       "<table><tr><th>graph</th><th>nodeQuery</th><th>nodes</th><th>relationshipQuery</th><th>rels</th></tr><tr><td style=\"text-align:left\">Got1</td><td style=\"text-align:left\">MATCH (n:Person)-[r:INTERACTS_1]-(Person) RETURN id(n) AS id, n.seed AS seed</td><td style=\"text-align:right\">126</td><td style=\"text-align:left\">MATCH (n:Person)-[r:INTERACTS_1]-(p:Person) RETURN id(n) AS source, id(p) AS target, r.weight AS weight</td><td style=\"text-align:right\">1098</td></tr></table>"
      ],
      "text/plain": [
       " graph | nodeQuery                                                                    | nodes | relationshipQuery                                                                                       | rels \n",
       "-------|------------------------------------------------------------------------------|-------|---------------------------------------------------------------------------------------------------------|------\n",
       " Got1  | MATCH (n:Person)-[r:INTERACTS_1]-(Person) RETURN id(n) AS id, n.seed AS seed |   126 | MATCH (n:Person)-[r:INTERACTS_1]-(p:Person) RETURN id(n) AS source, id(p) AS target, r.weight AS weight | 1098 "
      ]
     },
     "execution_count": 4,
     "metadata": {},
     "output_type": "execute_result"
    }
   ],
   "source": [
    "query = \"\"\"\n",
    "CALL gds.graph.project.cypher(\n",
    "  'Got1',\n",
    "  'MATCH (n:Person)-[r:INTERACTS_1]-(Person) RETURN id(n) AS id, n.seed AS seed',\n",
    "  'MATCH (n:Person)-[r:INTERACTS_1]-(p:Person) RETURN id(n) AS source, id(p) AS target, r.weight AS weight')\n",
    "YIELD\n",
    "    graphName AS graph, nodeQuery, nodeCount AS nodes, relationshipQuery, relationshipCount AS rels\n",
    "\n",
    "\"\"\"\n",
    "graph.run(query)"
   ]
  },
  {
   "cell_type": "code",
   "execution_count": 43,
   "metadata": {},
   "outputs": [
    {
     "data": {
      "text/html": [
       "<table><tr><th>nodeCount</th><th>relationshipCount</th><th>bytesMin</th><th>bytesMax</th><th>requiredMemory</th></tr><tr><td style=\"text-align:right\">126</td><td style=\"text-align:right\">1098</td><td style=\"text-align:right\">594032</td><td style=\"text-align:right\">597504</td><td style=\"text-align:left\">[580 KiB ... 583 KiB]</td></tr></table>"
      ],
      "text/plain": [
       " nodeCount | relationshipCount | bytesMin | bytesMax | requiredMemory        \n",
       "-----------|-------------------|----------|----------|-----------------------\n",
       "       126 |              1098 |   594032 |   597504 | [580 KiB ... 583 KiB] "
      ]
     },
     "execution_count": 43,
     "metadata": {},
     "output_type": "execute_result"
    }
   ],
   "source": [
    "#The following will estimate the memory requirements for running the algorithm:\n",
    "query = \"\"\"\n",
    "CALL gds.louvain.write.estimate('Got1', { writeProperty: 'community_S1' })\n",
    "YIELD nodeCount, relationshipCount, bytesMin, bytesMax, requiredMemory\n",
    "\"\"\"\n",
    "graph.run(query)"
   ]
  },
  {
   "cell_type": "code",
   "execution_count": 44,
   "metadata": {},
   "outputs": [
    {
     "data": {
      "text/html": [
       "<div>\n",
       "<style scoped>\n",
       "    .dataframe tbody tr th:only-of-type {\n",
       "        vertical-align: middle;\n",
       "    }\n",
       "\n",
       "    .dataframe tbody tr th {\n",
       "        vertical-align: top;\n",
       "    }\n",
       "\n",
       "    .dataframe thead th {\n",
       "        text-align: right;\n",
       "    }\n",
       "</style>\n",
       "<table border=\"1\" class=\"dataframe\">\n",
       "  <thead>\n",
       "    <tr style=\"text-align: right;\">\n",
       "      <th></th>\n",
       "      <th>label</th>\n",
       "      <th>communityId</th>\n",
       "    </tr>\n",
       "  </thead>\n",
       "  <tbody>\n",
       "    <tr>\n",
       "      <th>0</th>\n",
       "      <td>Addam</td>\n",
       "      <td>1</td>\n",
       "    </tr>\n",
       "    <tr>\n",
       "      <th>1</th>\n",
       "      <td>Aegon</td>\n",
       "      <td>3</td>\n",
       "    </tr>\n",
       "    <tr>\n",
       "      <th>2</th>\n",
       "      <td>Aemon</td>\n",
       "      <td>3</td>\n",
       "    </tr>\n",
       "    <tr>\n",
       "      <th>3</th>\n",
       "      <td>Aerys</td>\n",
       "      <td>0</td>\n",
       "    </tr>\n",
       "    <tr>\n",
       "      <th>4</th>\n",
       "      <td>Allister</td>\n",
       "      <td>3</td>\n",
       "    </tr>\n",
       "    <tr>\n",
       "      <th>...</th>\n",
       "      <td>...</td>\n",
       "      <td>...</td>\n",
       "    </tr>\n",
       "    <tr>\n",
       "      <th>121</th>\n",
       "      <td>Walder</td>\n",
       "      <td>5</td>\n",
       "    </tr>\n",
       "    <tr>\n",
       "      <th>122</th>\n",
       "      <td>Waymar</td>\n",
       "      <td>6</td>\n",
       "    </tr>\n",
       "    <tr>\n",
       "      <th>123</th>\n",
       "      <td>Will</td>\n",
       "      <td>6</td>\n",
       "    </tr>\n",
       "    <tr>\n",
       "      <th>124</th>\n",
       "      <td>Wine Merchant</td>\n",
       "      <td>0</td>\n",
       "    </tr>\n",
       "    <tr>\n",
       "      <th>125</th>\n",
       "      <td>Yoren</td>\n",
       "      <td>0</td>\n",
       "    </tr>\n",
       "  </tbody>\n",
       "</table>\n",
       "<p>126 rows × 2 columns</p>\n",
       "</div>"
      ],
      "text/plain": [
       "             label  communityId\n",
       "0            Addam            1\n",
       "1            Aegon            3\n",
       "2            Aemon            3\n",
       "3            Aerys            0\n",
       "4         Allister            3\n",
       "..             ...          ...\n",
       "121         Walder            5\n",
       "122         Waymar            6\n",
       "123           Will            6\n",
       "124  Wine Merchant            0\n",
       "125          Yoren            0\n",
       "\n",
       "[126 rows x 2 columns]"
      ]
     },
     "execution_count": 44,
     "metadata": {},
     "output_type": "execute_result"
    }
   ],
   "source": [
    "#The following will run the algorithm and stream results:\n",
    "query = \"\"\"\n",
    "CALL gds.louvain.stream('Got1', {seedProperty: 'seed', relationshipWeightProperty: 'weight'})\n",
    "YIELD nodeId, communityId, intermediateCommunityIds\n",
    "RETURN gds.util.asNode(nodeId).label AS label, communityId\n",
    "ORDER BY label ASC\n",
    "\"\"\"\n",
    "graph.run(query).to_data_frame()"
   ]
  },
  {
   "cell_type": "code",
   "execution_count": 45,
   "metadata": {},
   "outputs": [
    {
     "data": {
      "text/html": [
       "<table><tr><th>communityCount</th></tr><tr><td style=\"text-align:right\">6</td></tr></table>"
      ],
      "text/plain": [
       " communityCount \n",
       "----------------\n",
       "              6 "
      ]
     },
     "execution_count": 45,
     "metadata": {},
     "output_type": "execute_result"
    }
   ],
   "source": [
    "#The following will run the algorithm and returns the result in form of statistical and measurement values:\n",
    "query = \"\"\"\n",
    "CALL gds.louvain.stats('Got1')\n",
    "YIELD communityCount\n",
    "\"\"\"\n",
    "graph.run(query)"
   ]
  },
  {
   "cell_type": "code",
   "execution_count": 12,
   "metadata": {},
   "outputs": [
    {
     "data": {
      "text/html": [
       "<table><tr><th>communityCount</th><th>modularity</th><th>modularities</th></tr><tr><td style=\"text-align:right\">6</td><td style=\"text-align:right\">0.4500051426504889</td><td style=\"text-align:left\">[0.40857860458326284, 0.4500051426504889]</td></tr></table>"
      ],
      "text/plain": [
       " communityCount |         modularity | modularities                              \n",
       "----------------|--------------------|-------------------------------------------\n",
       "              6 | 0.4500051426504889 | [0.40857860458326284, 0.4500051426504889] "
      ]
     },
     "execution_count": 12,
     "metadata": {},
     "output_type": "execute_result"
    }
   ],
   "source": [
    "#The following will run the algorithm and store the results in myGraph:\n",
    "query = \"\"\"\n",
    "CALL gds.louvain.mutate('Got1', { mutateProperty: 'communityId' })\n",
    "YIELD communityCount, modularity, modularities\n",
    "\"\"\"\n",
    "graph.run(query)"
   ]
  },
  {
   "cell_type": "code",
   "execution_count": 13,
   "metadata": {},
   "outputs": [
    {
     "data": {
      "text/html": [
       "<table><tr><th>communityCount</th><th>modularity</th><th>modularities</th></tr><tr><td style=\"text-align:right\">6</td><td style=\"text-align:right\">0.4500051426504889</td><td style=\"text-align:left\">[0.40857860458326284, 0.4500051426504889]</td></tr></table>"
      ],
      "text/plain": [
       " communityCount |         modularity | modularities                              \n",
       "----------------|--------------------|-------------------------------------------\n",
       "              6 | 0.4500051426504889 | [0.40857860458326284, 0.4500051426504889] "
      ]
     },
     "execution_count": 13,
     "metadata": {},
     "output_type": "execute_result"
    }
   ],
   "source": [
    "#The following run the algorithm, and write back results:\n",
    "query = \"\"\"\n",
    "CALL gds.louvain.write('Got1', { writeProperty: 'community_S1' })\n",
    "YIELD communityCount, modularity, modularities\n",
    "\"\"\"\n",
    "graph.run(query)"
   ]
  },
  {
   "cell_type": "markdown",
   "metadata": {},
   "source": [
    "## 5 basic centrality measures "
   ]
  },
  {
   "cell_type": "code",
   "execution_count": 14,
   "metadata": {},
   "outputs": [
    {
     "data": {
      "text/html": [
       "<table><tr><th>name</th><th>score</th></tr><tr><td style=\"text-align:left\">NED</td><td style=\"text-align:right\">57.0</td></tr><tr><td style=\"text-align:left\">TYRION</td><td style=\"text-align:right\">41.0</td></tr><tr><td style=\"text-align:left\">ROBERT</td><td style=\"text-align:right\">36.0</td></tr></table>"
      ],
      "text/plain": [
       " name   | score \n",
       "--------|-------\n",
       " NED    |  57.0 \n",
       " TYRION |  41.0 \n",
       " ROBERT |  36.0 "
      ]
     },
     "execution_count": 14,
     "metadata": {},
     "output_type": "execute_result"
    }
   ],
   "source": [
    "#Degree\n",
    "query = \"\"\"\n",
    "CALL gds.degree.stream('Got1')\n",
    "YIELD nodeId, score\n",
    "RETURN gds.util.asNode(nodeId).id AS name, score\n",
    "ORDER BY score DESC\n",
    "LIMIT 5\n",
    "\"\"\"\n",
    "graph.run(query)"
   ]
  },
  {
   "cell_type": "code",
   "execution_count": 15,
   "metadata": {},
   "outputs": [
    {
     "data": {
      "text/html": [
       "<table><tr><th>name</th><th>score</th></tr><tr><td style=\"text-align:left\">NED</td><td style=\"text-align:right\">1290.0</td></tr><tr><td style=\"text-align:left\">TYRION</td><td style=\"text-align:right\">709.0</td></tr><tr><td style=\"text-align:left\">CATELYN</td><td style=\"text-align:right\">584.0</td></tr></table>"
      ],
      "text/plain": [
       " name    |  score \n",
       "---------|--------\n",
       " NED     | 1290.0 \n",
       " TYRION  |  709.0 \n",
       " CATELYN |  584.0 "
      ]
     },
     "execution_count": 15,
     "metadata": {},
     "output_type": "execute_result"
    }
   ],
   "source": [
    "#Weighted Degree\n",
    "query = \"\"\"\n",
    "CALL gds.degree.stream(\n",
    "   'Got1',\n",
    "   { relationshipWeightProperty: 'weight' }\n",
    ")\n",
    "YIELD nodeId, score\n",
    "RETURN gds.util.asNode(nodeId).id AS name, score\n",
    "ORDER BY score DESC\n",
    "LIMIT 5\n",
    "\"\"\"\n",
    "graph.run(query)"
   ]
  },
  {
   "cell_type": "code",
   "execution_count": 16,
   "metadata": {},
   "outputs": [
    {
     "data": {
      "text/html": [
       "<table><tr><th>name</th><th>score</th></tr><tr><td style=\"text-align:left\">NED</td><td style=\"text-align:right\">0.3150828603837995</td></tr><tr><td style=\"text-align:left\">ROBERT</td><td style=\"text-align:right\">0.2481904649529348</td></tr><tr><td style=\"text-align:left\">CERSEI</td><td style=\"text-align:right\">0.239263152443205</td></tr></table>"
      ],
      "text/plain": [
       " name   |              score \n",
       "--------|--------------------\n",
       " NED    | 0.3150828603837995 \n",
       " ROBERT | 0.2481904649529348 \n",
       " CERSEI |  0.239263152443205 "
      ]
     },
     "execution_count": 16,
     "metadata": {},
     "output_type": "execute_result"
    }
   ],
   "source": [
    "#Eigenvector\n",
    "query = \"\"\"\n",
    "CALL gds.eigenvector.stream('Got1')\n",
    "YIELD nodeId, score\n",
    "RETURN gds.util.asNode(nodeId).id AS name, score\n",
    "ORDER BY score DESC\n",
    "LIMIT 5\n",
    "\"\"\"\n",
    "graph.run(query)"
   ]
  },
  {
   "cell_type": "code",
   "execution_count": 17,
   "metadata": {},
   "outputs": [
    {
     "data": {
      "text/html": [
       "<table><tr><th>page</th><th>score</th></tr><tr><td style=\"text-align:left\">NED</td><td style=\"text-align:right\">5.710814289359831</td></tr><tr><td style=\"text-align:left\">TYRION</td><td style=\"text-align:right\">4.140412812879867</td></tr><tr><td style=\"text-align:left\">CATELYN</td><td style=\"text-align:right\">3.4397081230227586</td></tr></table>"
      ],
      "text/plain": [
       " page    |              score \n",
       "---------|--------------------\n",
       " NED     |  5.710814289359831 \n",
       " TYRION  |  4.140412812879867 \n",
       " CATELYN | 3.4397081230227586 "
      ]
     },
     "execution_count": 17,
     "metadata": {},
     "output_type": "execute_result"
    }
   ],
   "source": [
    "#Pagerank\n",
    "query = \"\"\"\n",
    "CALL gds.pageRank.stream('Got1',  {maxIterations: 20,  dampingFactor: 0.85})\n",
    "YIELD nodeId, score\n",
    "RETURN gds.util.asNode(nodeId).id AS page, score\n",
    "ORDER BY score DESC\n",
    "LIMIT 5\n",
    "\"\"\"\n",
    "graph.run(query)"
   ]
  },
  {
   "cell_type": "code",
   "execution_count": 18,
   "metadata": {},
   "outputs": [
    {
     "data": {
      "text/html": [
       "<table><tr><th>name</th><th>score</th></tr><tr><td style=\"text-align:left\">NED</td><td style=\"text-align:right\">4700.84322629209</td></tr><tr><td style=\"text-align:left\">TYRION</td><td style=\"text-align:right\">2526.9252462619834</td></tr><tr><td style=\"text-align:left\">CATELYN</td><td style=\"text-align:right\">1833.4028207687145</td></tr></table>"
      ],
      "text/plain": [
       " name    |              score \n",
       "---------|--------------------\n",
       " NED     |   4700.84322629209 \n",
       " TYRION  | 2526.9252462619834 \n",
       " CATELYN | 1833.4028207687145 "
      ]
     },
     "execution_count": 18,
     "metadata": {},
     "output_type": "execute_result"
    }
   ],
   "source": [
    "#Betweenness\n",
    "query = \"\"\"\n",
    "CALL gds.betweenness.stream('Got1')\n",
    "YIELD nodeId, score\n",
    "RETURN gds.util.asNode(nodeId).id AS name, score\n",
    "ORDER BY score DESC\n",
    "LIMIT 5\n",
    "\"\"\"\n",
    "graph.run(query)"
   ]
  },
  {
   "cell_type": "markdown",
   "metadata": {},
   "source": [
    "# Graph for season 2"
   ]
  },
  {
   "cell_type": "markdown",
   "metadata": {},
   "source": [
    "## Louvain Modularity Algorithm"
   ]
  },
  {
   "cell_type": "code",
   "execution_count": 19,
   "metadata": {},
   "outputs": [
    {
     "data": {
      "text/html": [
       "<table><tr><th>graph</th><th>nodeQuery</th><th>nodes</th><th>relationshipQuery</th><th>rels</th></tr><tr><td style=\"text-align:left\">Got2</td><td style=\"text-align:left\">MATCH (n:Person)-[r:INTERACTS_2]-(Person) RETURN id(n) AS id, n.seed AS seed</td><td style=\"text-align:right\">129</td><td style=\"text-align:left\">MATCH (n:Person)-[r:INTERACTS_2]-(p:Person) RETURN id(n) AS source, id(p) AS target, r.weight AS weight</td><td style=\"text-align:right\">972</td></tr></table>"
      ],
      "text/plain": [
       " graph | nodeQuery                                                                    | nodes | relationshipQuery                                                                                       | rels \n",
       "-------|------------------------------------------------------------------------------|-------|---------------------------------------------------------------------------------------------------------|------\n",
       " Got2  | MATCH (n:Person)-[r:INTERACTS_2]-(Person) RETURN id(n) AS id, n.seed AS seed |   129 | MATCH (n:Person)-[r:INTERACTS_2]-(p:Person) RETURN id(n) AS source, id(p) AS target, r.weight AS weight |  972 "
      ]
     },
     "execution_count": 19,
     "metadata": {},
     "output_type": "execute_result"
    }
   ],
   "source": [
    "query = \"\"\"\n",
    "CALL gds.graph.project.cypher(\n",
    "  'Got2',\n",
    "  'MATCH (n:Person)-[r:INTERACTS_2]-(Person) RETURN id(n) AS id, n.seed AS seed',\n",
    "  'MATCH (n:Person)-[r:INTERACTS_2]-(p:Person) RETURN id(n) AS source, id(p) AS target, r.weight AS weight')\n",
    "YIELD\n",
    "    graphName AS graph, nodeQuery, nodeCount AS nodes, relationshipQuery, relationshipCount AS rels\n",
    "\n",
    "\"\"\"\n",
    "graph.run(query)"
   ]
  },
  {
   "cell_type": "code",
   "execution_count": 20,
   "metadata": {},
   "outputs": [
    {
     "data": {
      "text/html": [
       "<table><tr><th>nodeCount</th><th>relationshipCount</th><th>bytesMin</th><th>bytesMax</th><th>requiredMemory</th></tr><tr><td style=\"text-align:right\">129</td><td style=\"text-align:right\">972</td><td style=\"text-align:right\">13569</td><td style=\"text-align:right\">583456</td><td style=\"text-align:left\">[13569 Bytes ... 569 KiB]</td></tr></table>"
      ],
      "text/plain": [
       " nodeCount | relationshipCount | bytesMin | bytesMax | requiredMemory            \n",
       "-----------|-------------------|----------|----------|---------------------------\n",
       "       129 |               972 |    13569 |   583456 | [13569 Bytes ... 569 KiB] "
      ]
     },
     "execution_count": 20,
     "metadata": {},
     "output_type": "execute_result"
    }
   ],
   "source": [
    "#The following will estimate the memory requirements for running the algorithm:\n",
    "query = \"\"\"\n",
    "CALL gds.louvain.write.estimate('Got2', { writeProperty: 'community_S2' })\n",
    "YIELD nodeCount, relationshipCount, bytesMin, bytesMax, requiredMemory\n",
    "\"\"\"\n",
    "graph.run(query)"
   ]
  },
  {
   "cell_type": "code",
   "execution_count": 21,
   "metadata": {},
   "outputs": [
    {
     "data": {
      "text/html": [
       "<table><tr><th>label</th><th>communityId</th></tr><tr><td style=\"text-align:left\">Aegon</td><td style=\"text-align:right\">123</td></tr><tr><td style=\"text-align:left\">Aerys</td><td style=\"text-align:right\">2</td></tr><tr><td style=\"text-align:left\">Alton</td><td style=\"text-align:right\">2</td></tr></table>"
      ],
      "text/plain": [
       " label | communityId \n",
       "-------|-------------\n",
       " Aegon |         123 \n",
       " Aerys |           2 \n",
       " Alton |           2 "
      ]
     },
     "execution_count": 21,
     "metadata": {},
     "output_type": "execute_result"
    }
   ],
   "source": [
    "#The following will run the algorithm and stream results:\n",
    "query = \"\"\"\n",
    "CALL gds.louvain.stream('Got2', { seedProperty: 'seed' })\n",
    "YIELD nodeId, communityId, intermediateCommunityIds\n",
    "RETURN gds.util.asNode(nodeId).label AS label, communityId\n",
    "ORDER BY label ASC\n",
    "\"\"\"\n",
    "graph.run(query)"
   ]
  },
  {
   "cell_type": "code",
   "execution_count": 22,
   "metadata": {},
   "outputs": [
    {
     "data": {
      "text/html": [
       "<table><tr><th>communityCount</th></tr><tr><td style=\"text-align:right\">6</td></tr></table>"
      ],
      "text/plain": [
       " communityCount \n",
       "----------------\n",
       "              6 "
      ]
     },
     "execution_count": 22,
     "metadata": {},
     "output_type": "execute_result"
    }
   ],
   "source": [
    "#The following will run the algorithm and returns the result in form of statistical and measurement values:\n",
    "query = \"\"\"\n",
    "CALL gds.louvain.stats('Got2')\n",
    "YIELD communityCount\n",
    "\"\"\"\n",
    "graph.run(query)"
   ]
  },
  {
   "cell_type": "code",
   "execution_count": 23,
   "metadata": {},
   "outputs": [
    {
     "data": {
      "text/html": [
       "<table><tr><th>communityCount</th><th>modularity</th><th>modularities</th></tr><tr><td style=\"text-align:right\">6</td><td style=\"text-align:right\">0.5675519483818524</td><td style=\"text-align:left\">[0.5333155514911345, 0.5675519483818524]</td></tr></table>"
      ],
      "text/plain": [
       " communityCount |         modularity | modularities                             \n",
       "----------------|--------------------|------------------------------------------\n",
       "              6 | 0.5675519483818524 | [0.5333155514911345, 0.5675519483818524] "
      ]
     },
     "execution_count": 23,
     "metadata": {},
     "output_type": "execute_result"
    }
   ],
   "source": [
    "#The following will run the algorithm and store the results in myGraph:\n",
    "query = \"\"\"\n",
    "CALL gds.louvain.mutate('Got2', { mutateProperty: 'communityId' })\n",
    "YIELD communityCount, modularity, modularities\n",
    "\"\"\"\n",
    "graph.run(query)"
   ]
  },
  {
   "cell_type": "code",
   "execution_count": 24,
   "metadata": {},
   "outputs": [
    {
     "data": {
      "text/html": [
       "<table><tr><th>communityCount</th><th>modularity</th><th>modularities</th></tr><tr><td style=\"text-align:right\">6</td><td style=\"text-align:right\">0.5675519483818524</td><td style=\"text-align:left\">[0.5333155514911345, 0.5675519483818524]</td></tr></table>"
      ],
      "text/plain": [
       " communityCount |         modularity | modularities                             \n",
       "----------------|--------------------|------------------------------------------\n",
       "              6 | 0.5675519483818524 | [0.5333155514911345, 0.5675519483818524] "
      ]
     },
     "execution_count": 24,
     "metadata": {},
     "output_type": "execute_result"
    }
   ],
   "source": [
    "#The following run the algorithm, and write back results:\n",
    "query = \"\"\"\n",
    "CALL gds.louvain.write('Got2', { writeProperty: 'community_S2' })\n",
    "YIELD communityCount, modularity, modularities\n",
    "\"\"\"\n",
    "graph.run(query)"
   ]
  },
  {
   "cell_type": "markdown",
   "metadata": {},
   "source": [
    "## 5 basic centrality measures "
   ]
  },
  {
   "cell_type": "code",
   "execution_count": 25,
   "metadata": {},
   "outputs": [
    {
     "data": {
      "text/html": [
       "<table><tr><th>name</th><th>score</th></tr><tr><td style=\"text-align:left\">JOFFREY</td><td style=\"text-align:right\">36.0</td></tr><tr><td style=\"text-align:left\">TYRION</td><td style=\"text-align:right\">33.0</td></tr><tr><td style=\"text-align:left\">CERSEI</td><td style=\"text-align:right\">31.0</td></tr></table>"
      ],
      "text/plain": [
       " name    | score \n",
       "---------|-------\n",
       " JOFFREY |  36.0 \n",
       " TYRION  |  33.0 \n",
       " CERSEI  |  31.0 "
      ]
     },
     "execution_count": 25,
     "metadata": {},
     "output_type": "execute_result"
    }
   ],
   "source": [
    "#Degree\n",
    "query = \"\"\"\n",
    "CALL gds.degree.stream('Got2')\n",
    "YIELD nodeId, score\n",
    "RETURN gds.util.asNode(nodeId).id AS name, score\n",
    "ORDER BY score DESC\n",
    "LIMIT 5\n",
    "\"\"\"\n",
    "graph.run(query)"
   ]
  },
  {
   "cell_type": "code",
   "execution_count": 26,
   "metadata": {},
   "outputs": [
    {
     "data": {
      "text/html": [
       "<table><tr><th>name</th><th>score</th></tr><tr><td style=\"text-align:left\">TYRION</td><td style=\"text-align:right\">960.0</td></tr><tr><td style=\"text-align:left\">CERSEI</td><td style=\"text-align:right\">549.0</td></tr><tr><td style=\"text-align:left\">ARYA</td><td style=\"text-align:right\">481.0</td></tr></table>"
      ],
      "text/plain": [
       " name   | score \n",
       "--------|-------\n",
       " TYRION | 960.0 \n",
       " CERSEI | 549.0 \n",
       " ARYA   | 481.0 "
      ]
     },
     "execution_count": 26,
     "metadata": {},
     "output_type": "execute_result"
    }
   ],
   "source": [
    "#Weighted Degree\n",
    "query = \"\"\"\n",
    "CALL gds.degree.stream(\n",
    "   'Got2',\n",
    "   { relationshipWeightProperty: 'weight' }\n",
    ")\n",
    "YIELD nodeId, score\n",
    "RETURN gds.util.asNode(nodeId).id AS name, score\n",
    "ORDER BY score DESC\n",
    "LIMIT 5\n",
    "\"\"\"\n",
    "graph.run(query)"
   ]
  },
  {
   "cell_type": "code",
   "execution_count": 27,
   "metadata": {},
   "outputs": [
    {
     "data": {
      "text/html": [
       "<table><tr><th>name</th><th>score</th></tr><tr><td style=\"text-align:left\">JOFFREY</td><td style=\"text-align:right\">0.3133074261625616</td></tr><tr><td style=\"text-align:left\">CERSEI</td><td style=\"text-align:right\">0.28298193697415064</td></tr><tr><td style=\"text-align:left\">TYRION</td><td style=\"text-align:right\">0.27732429312701573</td></tr></table>"
      ],
      "text/plain": [
       " name    |               score \n",
       "---------|---------------------\n",
       " JOFFREY |  0.3133074261625616 \n",
       " CERSEI  | 0.28298193697415064 \n",
       " TYRION  | 0.27732429312701573 "
      ]
     },
     "execution_count": 27,
     "metadata": {},
     "output_type": "execute_result"
    }
   ],
   "source": [
    "#Eigenvector\n",
    "query = \"\"\"\n",
    "CALL gds.eigenvector.stream('Got2')\n",
    "YIELD nodeId, score\n",
    "RETURN gds.util.asNode(nodeId).id AS name, score\n",
    "ORDER BY score DESC\n",
    "LIMIT 5\n",
    "\"\"\"\n",
    "graph.run(query)"
   ]
  },
  {
   "cell_type": "code",
   "execution_count": 28,
   "metadata": {},
   "outputs": [
    {
     "data": {
      "text/html": [
       "<table><tr><th>page</th><th>score</th></tr><tr><td style=\"text-align:left\">JOFFREY</td><td style=\"text-align:right\">3.6139514610118892</td></tr><tr><td style=\"text-align:left\">TYRION</td><td style=\"text-align:right\">3.4854517741397</td></tr><tr><td style=\"text-align:left\">ARYA</td><td style=\"text-align:right\">3.4014533093263664</td></tr></table>"
      ],
      "text/plain": [
       " page    |              score \n",
       "---------|--------------------\n",
       " JOFFREY | 3.6139514610118892 \n",
       " TYRION  |    3.4854517741397 \n",
       " ARYA    | 3.4014533093263664 "
      ]
     },
     "execution_count": 28,
     "metadata": {},
     "output_type": "execute_result"
    }
   ],
   "source": [
    "#Pagerank\n",
    "query = \"\"\"\n",
    "CALL gds.pageRank.stream('Got2',  {maxIterations: 20,  dampingFactor: 0.85})\n",
    "YIELD nodeId, score\n",
    "RETURN gds.util.asNode(nodeId).id AS page, score\n",
    "ORDER BY score DESC\n",
    "LIMIT 5\n",
    "\"\"\"\n",
    "graph.run(query)"
   ]
  },
  {
   "cell_type": "code",
   "execution_count": 29,
   "metadata": {},
   "outputs": [
    {
     "data": {
      "text/html": [
       "<table><tr><th>name</th><th>score</th></tr><tr><td style=\"text-align:left\">ARYA</td><td style=\"text-align:right\">2455.3415562871237</td></tr><tr><td style=\"text-align:left\">TYRION</td><td style=\"text-align:right\">2293.4025669166035</td></tr><tr><td style=\"text-align:left\">ROBB</td><td style=\"text-align:right\">1902.715964088471</td></tr></table>"
      ],
      "text/plain": [
       " name   |              score \n",
       "--------|--------------------\n",
       " ARYA   | 2455.3415562871237 \n",
       " TYRION | 2293.4025669166035 \n",
       " ROBB   |  1902.715964088471 "
      ]
     },
     "execution_count": 29,
     "metadata": {},
     "output_type": "execute_result"
    }
   ],
   "source": [
    "#Betweenness\n",
    "query = \"\"\"\n",
    "CALL gds.betweenness.stream('Got2')\n",
    "YIELD nodeId, score\n",
    "RETURN gds.util.asNode(nodeId).id AS name, score\n",
    "ORDER BY score DESC\n",
    "LIMIT 5\n",
    "\"\"\"\n",
    "graph.run(query)"
   ]
  },
  {
   "cell_type": "markdown",
   "metadata": {},
   "source": [
    "# Graph for season 3"
   ]
  },
  {
   "cell_type": "markdown",
   "metadata": {},
   "source": [
    "## Louvain Modularity Algorithm"
   ]
  },
  {
   "cell_type": "code",
   "execution_count": 30,
   "metadata": {},
   "outputs": [
    {
     "data": {
      "text/html": [
       "<table><tr><th>graph</th><th>nodeQuery</th><th>nodes</th><th>relationshipQuery</th><th>rels</th></tr><tr><td style=\"text-align:left\">Got3</td><td style=\"text-align:left\">MATCH (n:Person)-[r:INTERACTS_3]-(Person) RETURN id(n) AS id, n.seed AS seed</td><td style=\"text-align:right\">125</td><td style=\"text-align:left\">MATCH (n:Person)-[r:INTERACTS_3]-(p:Person) RETURN id(n) AS source, id(p) AS target, r.weight AS weight</td><td style=\"text-align:right\">1014</td></tr></table>"
      ],
      "text/plain": [
       " graph | nodeQuery                                                                    | nodes | relationshipQuery                                                                                       | rels \n",
       "-------|------------------------------------------------------------------------------|-------|---------------------------------------------------------------------------------------------------------|------\n",
       " Got3  | MATCH (n:Person)-[r:INTERACTS_3]-(Person) RETURN id(n) AS id, n.seed AS seed |   125 | MATCH (n:Person)-[r:INTERACTS_3]-(p:Person) RETURN id(n) AS source, id(p) AS target, r.weight AS weight | 1014 "
      ]
     },
     "execution_count": 30,
     "metadata": {},
     "output_type": "execute_result"
    }
   ],
   "source": [
    "query = \"\"\"\n",
    "CALL gds.graph.project.cypher(\n",
    "  'Got3',\n",
    "  'MATCH (n:Person)-[r:INTERACTS_3]-(Person) RETURN id(n) AS id, n.seed AS seed',\n",
    "  'MATCH (n:Person)-[r:INTERACTS_3]-(p:Person) RETURN id(n) AS source, id(p) AS target, r.weight AS weight')\n",
    "YIELD\n",
    "    graphName AS graph, nodeQuery, nodeCount AS nodes, relationshipQuery, relationshipCount AS rels\n",
    "\n",
    "\"\"\"\n",
    "graph.run(query)"
   ]
  },
  {
   "cell_type": "code",
   "execution_count": 31,
   "metadata": {},
   "outputs": [
    {
     "data": {
      "text/html": [
       "<table><tr><th>nodeCount</th><th>relationshipCount</th><th>bytesMin</th><th>bytesMax</th><th>requiredMemory</th></tr><tr><td style=\"text-align:right\">125</td><td style=\"text-align:right\">1014</td><td style=\"text-align:right\">13305</td><td style=\"text-align:right\">582696</td><td style=\"text-align:left\">[13305 Bytes ... 569 KiB]</td></tr></table>"
      ],
      "text/plain": [
       " nodeCount | relationshipCount | bytesMin | bytesMax | requiredMemory            \n",
       "-----------|-------------------|----------|----------|---------------------------\n",
       "       125 |              1014 |    13305 |   582696 | [13305 Bytes ... 569 KiB] "
      ]
     },
     "execution_count": 31,
     "metadata": {},
     "output_type": "execute_result"
    }
   ],
   "source": [
    "#The following will estimate the memory requirements for running the algorithm:\n",
    "query = \"\"\"\n",
    "CALL gds.louvain.write.estimate('Got3', { writeProperty: 'community_S3' })\n",
    "YIELD nodeCount, relationshipCount, bytesMin, bytesMax, requiredMemory\n",
    "\"\"\"\n",
    "graph.run(query)"
   ]
  },
  {
   "cell_type": "code",
   "execution_count": 32,
   "metadata": {},
   "outputs": [
    {
     "data": {
      "text/html": [
       "<table><tr><th>label</th><th>communityId</th></tr><tr><td style=\"text-align:left\">Aegon</td><td style=\"text-align:right\">42</td></tr><tr><td style=\"text-align:left\">Aemon</td><td style=\"text-align:right\">15</td></tr><tr><td style=\"text-align:left\">Aerys</td><td style=\"text-align:right\">33</td></tr></table>"
      ],
      "text/plain": [
       " label | communityId \n",
       "-------|-------------\n",
       " Aegon |          42 \n",
       " Aemon |          15 \n",
       " Aerys |          33 "
      ]
     },
     "execution_count": 32,
     "metadata": {},
     "output_type": "execute_result"
    }
   ],
   "source": [
    "#The following will run the algorithm and stream results:\n",
    "query = \"\"\"\n",
    "CALL gds.louvain.stream('Got3', { seedProperty: 'seed' })\n",
    "YIELD nodeId, communityId, intermediateCommunityIds\n",
    "RETURN gds.util.asNode(nodeId).label AS label, communityId\n",
    "ORDER BY label ASC\n",
    "\"\"\"\n",
    "graph.run(query)"
   ]
  },
  {
   "cell_type": "code",
   "execution_count": 33,
   "metadata": {},
   "outputs": [
    {
     "data": {
      "text/html": [
       "<table><tr><th>communityCount</th></tr><tr><td style=\"text-align:right\">6</td></tr></table>"
      ],
      "text/plain": [
       " communityCount \n",
       "----------------\n",
       "              6 "
      ]
     },
     "execution_count": 33,
     "metadata": {},
     "output_type": "execute_result"
    }
   ],
   "source": [
    "#The following will run the algorithm and returns the result in form of statistical and measurement values:\n",
    "query = \"\"\"\n",
    "CALL gds.louvain.stats('Got3')\n",
    "YIELD communityCount\n",
    "\"\"\"\n",
    "graph.run(query)"
   ]
  },
  {
   "cell_type": "code",
   "execution_count": 34,
   "metadata": {},
   "outputs": [
    {
     "data": {
      "text/html": [
       "<table><tr><th>communityCount</th><th>modularity</th><th>modularities</th></tr><tr><td style=\"text-align:right\">6</td><td style=\"text-align:right\">0.6260635131823116</td><td style=\"text-align:left\">[0.6018171632645916, 0.6260635131823116]</td></tr></table>"
      ],
      "text/plain": [
       " communityCount |         modularity | modularities                             \n",
       "----------------|--------------------|------------------------------------------\n",
       "              6 | 0.6260635131823116 | [0.6018171632645916, 0.6260635131823116] "
      ]
     },
     "execution_count": 34,
     "metadata": {},
     "output_type": "execute_result"
    }
   ],
   "source": [
    "#The following will run the algorithm and store the results in myGraph:\n",
    "query = \"\"\"\n",
    "CALL gds.louvain.mutate('Got3', { mutateProperty: 'communityId' })\n",
    "YIELD communityCount, modularity, modularities\n",
    "\"\"\"\n",
    "graph.run(query)"
   ]
  },
  {
   "cell_type": "code",
   "execution_count": 35,
   "metadata": {},
   "outputs": [
    {
     "data": {
      "text/html": [
       "<table><tr><th>communityCount</th><th>modularity</th><th>modularities</th></tr><tr><td style=\"text-align:right\">6</td><td style=\"text-align:right\">0.6260635131823116</td><td style=\"text-align:left\">[0.6018171632645916, 0.6260635131823116]</td></tr></table>"
      ],
      "text/plain": [
       " communityCount |         modularity | modularities                             \n",
       "----------------|--------------------|------------------------------------------\n",
       "              6 | 0.6260635131823116 | [0.6018171632645916, 0.6260635131823116] "
      ]
     },
     "execution_count": 35,
     "metadata": {},
     "output_type": "execute_result"
    }
   ],
   "source": [
    "#The following run the algorithm, and write back results:\n",
    "query = \"\"\"\n",
    "CALL gds.louvain.write('Got3', { writeProperty: 'community_S3' })\n",
    "YIELD communityCount, modularity, modularities\n",
    "\"\"\"\n",
    "graph.run(query)"
   ]
  },
  {
   "cell_type": "markdown",
   "metadata": {},
   "source": [
    "## 5 basic centrality measures "
   ]
  },
  {
   "cell_type": "code",
   "execution_count": 36,
   "metadata": {},
   "outputs": [
    {
     "data": {
      "text/html": [
       "<table><tr><th>name</th><th>score</th></tr><tr><td style=\"text-align:left\">ROBB</td><td style=\"text-align:right\">31.0</td></tr><tr><td style=\"text-align:left\">TYWIN</td><td style=\"text-align:right\">29.0</td></tr><tr><td style=\"text-align:left\">TYRION</td><td style=\"text-align:right\">25.0</td></tr></table>"
      ],
      "text/plain": [
       " name   | score \n",
       "--------|-------\n",
       " ROBB   |  31.0 \n",
       " TYWIN  |  29.0 \n",
       " TYRION |  25.0 "
      ]
     },
     "execution_count": 36,
     "metadata": {},
     "output_type": "execute_result"
    }
   ],
   "source": [
    "#Degree\n",
    "query = \"\"\"\n",
    "CALL gds.degree.stream('Got3')\n",
    "YIELD nodeId, score\n",
    "RETURN gds.util.asNode(nodeId).id AS name, score\n",
    "ORDER BY score DESC\n",
    "LIMIT 5\n",
    "\"\"\"\n",
    "graph.run(query)"
   ]
  },
  {
   "cell_type": "code",
   "execution_count": 37,
   "metadata": {},
   "outputs": [
    {
     "data": {
      "text/html": [
       "<table><tr><th>name</th><th>score</th></tr><tr><td style=\"text-align:left\">TYRION</td><td style=\"text-align:right\">653.0</td></tr><tr><td style=\"text-align:left\">ROBB</td><td style=\"text-align:right\">375.0</td></tr><tr><td style=\"text-align:left\">TYWIN</td><td style=\"text-align:right\">366.0</td></tr></table>"
      ],
      "text/plain": [
       " name   | score \n",
       "--------|-------\n",
       " TYRION | 653.0 \n",
       " ROBB   | 375.0 \n",
       " TYWIN  | 366.0 "
      ]
     },
     "execution_count": 37,
     "metadata": {},
     "output_type": "execute_result"
    }
   ],
   "source": [
    "#Weighted Degree\n",
    "query = \"\"\"\n",
    "CALL gds.degree.stream(\n",
    "   'Got3',\n",
    "   { relationshipWeightProperty: 'weight' }\n",
    ")\n",
    "YIELD nodeId, score\n",
    "RETURN gds.util.asNode(nodeId).id AS name, score\n",
    "ORDER BY score DESC\n",
    "LIMIT 5\n",
    "\"\"\"\n",
    "graph.run(query)"
   ]
  },
  {
   "cell_type": "code",
   "execution_count": 38,
   "metadata": {},
   "outputs": [
    {
     "data": {
      "text/html": [
       "<table><tr><th>name</th><th>score</th></tr><tr><td style=\"text-align:left\">TYWIN</td><td style=\"text-align:right\">0.294075789383587</td></tr><tr><td style=\"text-align:left\">TYRION</td><td style=\"text-align:right\">0.2683662004062233</td></tr><tr><td style=\"text-align:left\">JOFFREY</td><td style=\"text-align:right\">0.24983902616879472</td></tr></table>"
      ],
      "text/plain": [
       " name    |               score \n",
       "---------|---------------------\n",
       " TYWIN   |   0.294075789383587 \n",
       " TYRION  |  0.2683662004062233 \n",
       " JOFFREY | 0.24983902616879472 "
      ]
     },
     "execution_count": 38,
     "metadata": {},
     "output_type": "execute_result"
    }
   ],
   "source": [
    "#Eigenvector\n",
    "query = \"\"\"\n",
    "CALL gds.eigenvector.stream('Got3')\n",
    "YIELD nodeId, score\n",
    "RETURN gds.util.asNode(nodeId).id AS name, score\n",
    "ORDER BY score DESC\n",
    "LIMIT 5\n",
    "\"\"\"\n",
    "graph.run(query)"
   ]
  },
  {
   "cell_type": "code",
   "execution_count": 39,
   "metadata": {},
   "outputs": [
    {
     "data": {
      "text/html": [
       "<table><tr><th>page</th><th>score</th></tr><tr><td style=\"text-align:left\">ROBB</td><td style=\"text-align:right\">3.1307713054929844</td></tr><tr><td style=\"text-align:left\">TYWIN</td><td style=\"text-align:right\">2.874792630046823</td></tr><tr><td style=\"text-align:left\">TYRION</td><td style=\"text-align:right\">2.5522894149675976</td></tr></table>"
      ],
      "text/plain": [
       " page   |              score \n",
       "--------|--------------------\n",
       " ROBB   | 3.1307713054929844 \n",
       " TYWIN  |  2.874792630046823 \n",
       " TYRION | 2.5522894149675976 "
      ]
     },
     "execution_count": 39,
     "metadata": {},
     "output_type": "execute_result"
    }
   ],
   "source": [
    "#Pagerank\n",
    "query = \"\"\"\n",
    "CALL gds.pageRank.stream('Got3',  {maxIterations: 20,  dampingFactor: 0.85})\n",
    "YIELD nodeId, score\n",
    "RETURN gds.util.asNode(nodeId).id AS page, score\n",
    "ORDER BY score DESC\n",
    "LIMIT 5\n",
    "\"\"\"\n",
    "graph.run(query)"
   ]
  },
  {
   "cell_type": "code",
   "execution_count": 40,
   "metadata": {},
   "outputs": [
    {
     "data": {
      "text/html": [
       "<table><tr><th>name</th><th>score</th></tr><tr><td style=\"text-align:left\">ROBB</td><td style=\"text-align:right\">3609.6328036171367</td></tr><tr><td style=\"text-align:left\">NED</td><td style=\"text-align:right\">2651.602089578363</td></tr><tr><td style=\"text-align:left\">ROBERT</td><td style=\"text-align:right\">2453.263779280231</td></tr></table>"
      ],
      "text/plain": [
       " name   |              score \n",
       "--------|--------------------\n",
       " ROBB   | 3609.6328036171367 \n",
       " NED    |  2651.602089578363 \n",
       " ROBERT |  2453.263779280231 "
      ]
     },
     "execution_count": 40,
     "metadata": {},
     "output_type": "execute_result"
    }
   ],
   "source": [
    "#Betweenness\n",
    "query = \"\"\"\n",
    "CALL gds.betweenness.stream('Got3')\n",
    "YIELD nodeId, score\n",
    "RETURN gds.util.asNode(nodeId).id AS name, score\n",
    "ORDER BY score DESC\n",
    "LIMIT 5\n",
    "\"\"\"\n",
    "graph.run(query)"
   ]
  },
  {
   "cell_type": "markdown",
   "metadata": {},
   "source": [
    "# Graph for season 4"
   ]
  },
  {
   "cell_type": "markdown",
   "metadata": {},
   "source": [
    "## Louvain Modularity Algorithm"
   ]
  },
  {
   "cell_type": "code",
   "execution_count": 41,
   "metadata": {},
   "outputs": [
    {
     "data": {
      "text/html": [
       "<table><tr><th>graph</th><th>nodeQuery</th><th>nodes</th><th>relationshipQuery</th><th>rels</th></tr><tr><td style=\"text-align:left\">Got4</td><td style=\"text-align:left\">MATCH (n:Person)-[r:INTERACTS_4]-(Person) RETURN id(n) AS id, n.seed AS seed</td><td style=\"text-align:right\">177</td><td style=\"text-align:left\">MATCH (n:Person)-[r:INTERACTS_4]-(p:Person) RETURN id(n) AS source, id(p) AS target, r.weight AS weight</td><td style=\"text-align:right\">1410</td></tr></table>"
      ],
      "text/plain": [
       " graph | nodeQuery                                                                    | nodes | relationshipQuery                                                                                       | rels \n",
       "-------|------------------------------------------------------------------------------|-------|---------------------------------------------------------------------------------------------------------|------\n",
       " Got4  | MATCH (n:Person)-[r:INTERACTS_4]-(Person) RETURN id(n) AS id, n.seed AS seed |   177 | MATCH (n:Person)-[r:INTERACTS_4]-(p:Person) RETURN id(n) AS source, id(p) AS target, r.weight AS weight | 1410 "
      ]
     },
     "execution_count": 41,
     "metadata": {},
     "output_type": "execute_result"
    }
   ],
   "source": [
    "query = \"\"\"\n",
    "CALL gds.graph.project.cypher(\n",
    "  'Got4',\n",
    "  'MATCH (n:Person)-[r:INTERACTS_4]-(Person) RETURN id(n) AS id, n.seed AS seed',\n",
    "  'MATCH (n:Person)-[r:INTERACTS_4]-(p:Person) RETURN id(n) AS source, id(p) AS target, r.weight AS weight')\n",
    "YIELD\n",
    "    graphName AS graph, nodeQuery, nodeCount AS nodes, relationshipQuery, relationshipCount AS rels\n",
    "\n",
    "\"\"\"\n",
    "graph.run(query)"
   ]
  },
  {
   "cell_type": "code",
   "execution_count": 42,
   "metadata": {},
   "outputs": [
    {
     "data": {
      "text/html": [
       "<table><tr><th>nodeCount</th><th>relationshipCount</th><th>bytesMin</th><th>bytesMax</th><th>requiredMemory</th></tr><tr><td style=\"text-align:right\">177</td><td style=\"text-align:right\">1410</td><td style=\"text-align:right\">16641</td><td style=\"text-align:right\">592480</td><td style=\"text-align:left\">[16 KiB ... 578 KiB]</td></tr></table>"
      ],
      "text/plain": [
       " nodeCount | relationshipCount | bytesMin | bytesMax | requiredMemory       \n",
       "-----------|-------------------|----------|----------|----------------------\n",
       "       177 |              1410 |    16641 |   592480 | [16 KiB ... 578 KiB] "
      ]
     },
     "execution_count": 42,
     "metadata": {},
     "output_type": "execute_result"
    }
   ],
   "source": [
    "#The following will estimate the memory requirements for running the algorithm:\n",
    "query = \"\"\"\n",
    "CALL gds.louvain.write.estimate('Got4', { writeProperty: 'community_S4' })\n",
    "YIELD nodeCount, relationshipCount, bytesMin, bytesMax, requiredMemory\n",
    "\"\"\"\n",
    "graph.run(query)"
   ]
  },
  {
   "cell_type": "code",
   "execution_count": 43,
   "metadata": {},
   "outputs": [
    {
     "data": {
      "text/html": [
       "<table><tr><th>label</th><th>communityId</th></tr><tr><td style=\"text-align:left\">Adrack Humble</td><td style=\"text-align:right\">86</td></tr><tr><td style=\"text-align:left\">Aemon</td><td style=\"text-align:right\">120</td></tr><tr><td style=\"text-align:left\">Aerys</td><td style=\"text-align:right\">147</td></tr></table>"
      ],
      "text/plain": [
       " label         | communityId \n",
       "---------------|-------------\n",
       " Adrack Humble |          86 \n",
       " Aemon         |         120 \n",
       " Aerys         |         147 "
      ]
     },
     "execution_count": 43,
     "metadata": {},
     "output_type": "execute_result"
    }
   ],
   "source": [
    "#The following will run the algorithm and stream results:\n",
    "query = \"\"\"\n",
    "CALL gds.louvain.stream('Got4', { seedProperty: 'seed' })\n",
    "YIELD nodeId, communityId, intermediateCommunityIds\n",
    "RETURN gds.util.asNode(nodeId).label AS label, communityId\n",
    "ORDER BY label ASC\n",
    "\"\"\"\n",
    "graph.run(query)"
   ]
  },
  {
   "cell_type": "code",
   "execution_count": 44,
   "metadata": {},
   "outputs": [
    {
     "data": {
      "text/html": [
       "<table><tr><th>communityCount</th></tr><tr><td style=\"text-align:right\">8</td></tr></table>"
      ],
      "text/plain": [
       " communityCount \n",
       "----------------\n",
       "              8 "
      ]
     },
     "execution_count": 44,
     "metadata": {},
     "output_type": "execute_result"
    }
   ],
   "source": [
    "#The following will run the algorithm and returns the result in form of statistical and measurement values:\n",
    "query = \"\"\"\n",
    "CALL gds.louvain.stats('Got4')\n",
    "YIELD communityCount\n",
    "\"\"\"\n",
    "graph.run(query)"
   ]
  },
  {
   "cell_type": "code",
   "execution_count": 45,
   "metadata": {},
   "outputs": [
    {
     "data": {
      "text/html": [
       "<table><tr><th>communityCount</th><th>modularity</th><th>modularities</th></tr><tr><td style=\"text-align:right\">8</td><td style=\"text-align:right\">0.6019938634877522</td><td style=\"text-align:left\">[0.5523786529852623, 0.6019938634877522]</td></tr></table>"
      ],
      "text/plain": [
       " communityCount |         modularity | modularities                             \n",
       "----------------|--------------------|------------------------------------------\n",
       "              8 | 0.6019938634877522 | [0.5523786529852623, 0.6019938634877522] "
      ]
     },
     "execution_count": 45,
     "metadata": {},
     "output_type": "execute_result"
    }
   ],
   "source": [
    "#The following will run the algorithm and store the results in myGraph:\n",
    "query = \"\"\"\n",
    "CALL gds.louvain.mutate('Got4', { mutateProperty: 'communityId' })\n",
    "YIELD communityCount, modularity, modularities\n",
    "\"\"\"\n",
    "graph.run(query)"
   ]
  },
  {
   "cell_type": "code",
   "execution_count": 46,
   "metadata": {},
   "outputs": [
    {
     "data": {
      "text/html": [
       "<table><tr><th>communityCount</th><th>modularity</th><th>modularities</th></tr><tr><td style=\"text-align:right\">8</td><td style=\"text-align:right\">0.6019938634877522</td><td style=\"text-align:left\">[0.5523786529852623, 0.6019938634877522]</td></tr></table>"
      ],
      "text/plain": [
       " communityCount |         modularity | modularities                             \n",
       "----------------|--------------------|------------------------------------------\n",
       "              8 | 0.6019938634877522 | [0.5523786529852623, 0.6019938634877522] "
      ]
     },
     "execution_count": 46,
     "metadata": {},
     "output_type": "execute_result"
    }
   ],
   "source": [
    "#The following run the algorithm, and write back results:\n",
    "query = \"\"\"\n",
    "CALL gds.louvain.write('Got4', { writeProperty: 'community_S4' })\n",
    "YIELD communityCount, modularity, modularities\n",
    "\"\"\"\n",
    "graph.run(query)"
   ]
  },
  {
   "cell_type": "markdown",
   "metadata": {},
   "source": [
    "## 5 basic centrality measures "
   ]
  },
  {
   "cell_type": "code",
   "execution_count": 47,
   "metadata": {},
   "outputs": [
    {
     "data": {
      "text/html": [
       "<table><tr><th>name</th><th>score</th></tr><tr><td style=\"text-align:left\">JOFFREY</td><td style=\"text-align:right\">41.0</td></tr><tr><td style=\"text-align:left\">TYRION</td><td style=\"text-align:right\">39.0</td></tr><tr><td style=\"text-align:left\">CERSEI</td><td style=\"text-align:right\">34.0</td></tr></table>"
      ],
      "text/plain": [
       " name    | score \n",
       "---------|-------\n",
       " JOFFREY |  41.0 \n",
       " TYRION  |  39.0 \n",
       " CERSEI  |  34.0 "
      ]
     },
     "execution_count": 47,
     "metadata": {},
     "output_type": "execute_result"
    }
   ],
   "source": [
    "#Degree\n",
    "query = \"\"\"\n",
    "CALL gds.degree.stream('Got4')\n",
    "YIELD nodeId, score\n",
    "RETURN gds.util.asNode(nodeId).id AS name, score\n",
    "ORDER BY score DESC\n",
    "LIMIT 5\n",
    "\"\"\"\n",
    "graph.run(query)"
   ]
  },
  {
   "cell_type": "code",
   "execution_count": 48,
   "metadata": {},
   "outputs": [
    {
     "data": {
      "text/html": [
       "<table><tr><th>name</th><th>score</th></tr><tr><td style=\"text-align:left\">TYRION</td><td style=\"text-align:right\">890.0</td></tr><tr><td style=\"text-align:left\">CERSEI</td><td style=\"text-align:right\">632.0</td></tr><tr><td style=\"text-align:left\">JON</td><td style=\"text-align:right\">612.0</td></tr></table>"
      ],
      "text/plain": [
       " name   | score \n",
       "--------|-------\n",
       " TYRION | 890.0 \n",
       " CERSEI | 632.0 \n",
       " JON    | 612.0 "
      ]
     },
     "execution_count": 48,
     "metadata": {},
     "output_type": "execute_result"
    }
   ],
   "source": [
    "#Weighted Degree\n",
    "query = \"\"\"\n",
    "CALL gds.degree.stream(\n",
    "   'Got4',\n",
    "   { relationshipWeightProperty: 'weight' }\n",
    ")\n",
    "YIELD nodeId, score\n",
    "RETURN gds.util.asNode(nodeId).id AS name, score\n",
    "ORDER BY score DESC\n",
    "LIMIT 5\n",
    "\"\"\"\n",
    "graph.run(query)"
   ]
  },
  {
   "cell_type": "code",
   "execution_count": 49,
   "metadata": {},
   "outputs": [
    {
     "data": {
      "text/html": [
       "<table><tr><th>name</th><th>score</th></tr><tr><td style=\"text-align:left\">JOFFREY</td><td style=\"text-align:right\">0.28749890520136145</td></tr><tr><td style=\"text-align:left\">TYRION</td><td style=\"text-align:right\">0.28114537272332196</td></tr><tr><td style=\"text-align:left\">CERSEI</td><td style=\"text-align:right\">0.26572628767163664</td></tr></table>"
      ],
      "text/plain": [
       " name    |               score \n",
       "---------|---------------------\n",
       " JOFFREY | 0.28749890520136145 \n",
       " TYRION  | 0.28114537272332196 \n",
       " CERSEI  | 0.26572628767163664 "
      ]
     },
     "execution_count": 49,
     "metadata": {},
     "output_type": "execute_result"
    }
   ],
   "source": [
    "#Eigenvector\n",
    "query = \"\"\"\n",
    "CALL gds.eigenvector.stream('Got4')\n",
    "YIELD nodeId, score\n",
    "RETURN gds.util.asNode(nodeId).id AS name, score\n",
    "ORDER BY score DESC\n",
    "LIMIT 5\n",
    "\"\"\"\n",
    "graph.run(query)"
   ]
  },
  {
   "cell_type": "code",
   "execution_count": 50,
   "metadata": {},
   "outputs": [
    {
     "data": {
      "text/html": [
       "<table><tr><th>page</th><th>score</th></tr><tr><td style=\"text-align:left\">JOFFREY</td><td style=\"text-align:right\">3.995032308108388</td></tr><tr><td style=\"text-align:left\">TYRION</td><td style=\"text-align:right\">3.79855353319621</td></tr><tr><td style=\"text-align:left\">ARYA</td><td style=\"text-align:right\">3.337615317598997</td></tr></table>"
      ],
      "text/plain": [
       " page    |             score \n",
       "---------|-------------------\n",
       " JOFFREY | 3.995032308108388 \n",
       " TYRION  |  3.79855353319621 \n",
       " ARYA    | 3.337615317598997 "
      ]
     },
     "execution_count": 50,
     "metadata": {},
     "output_type": "execute_result"
    }
   ],
   "source": [
    "#Pagerank\n",
    "query = \"\"\"\n",
    "CALL gds.pageRank.stream('Got4',  {maxIterations: 20,  dampingFactor: 0.85})\n",
    "YIELD nodeId, score\n",
    "RETURN gds.util.asNode(nodeId).id AS page, score\n",
    "ORDER BY score DESC\n",
    "LIMIT 5\n",
    "\"\"\"\n",
    "graph.run(query)"
   ]
  },
  {
   "cell_type": "code",
   "execution_count": 51,
   "metadata": {},
   "outputs": [
    {
     "data": {
      "text/html": [
       "<table><tr><th>name</th><th>score</th></tr><tr><td style=\"text-align:left\">JOFFREY</td><td style=\"text-align:right\">6169.187204485663</td></tr><tr><td style=\"text-align:left\">NED</td><td style=\"text-align:right\">6077.094818619815</td></tr><tr><td style=\"text-align:left\">STANNIS</td><td style=\"text-align:right\">5446.0343108831285</td></tr></table>"
      ],
      "text/plain": [
       " name    |              score \n",
       "---------|--------------------\n",
       " JOFFREY |  6169.187204485663 \n",
       " NED     |  6077.094818619815 \n",
       " STANNIS | 5446.0343108831285 "
      ]
     },
     "execution_count": 51,
     "metadata": {},
     "output_type": "execute_result"
    }
   ],
   "source": [
    "#Betweenness\n",
    "query = \"\"\"\n",
    "CALL gds.betweenness.stream('Got4')\n",
    "YIELD nodeId, score\n",
    "RETURN gds.util.asNode(nodeId).id AS name, score\n",
    "ORDER BY score DESC\n",
    "LIMIT 5\n",
    "\"\"\"\n",
    "graph.run(query)"
   ]
  },
  {
   "cell_type": "markdown",
   "metadata": {},
   "source": [
    "# Graph for season 5"
   ]
  },
  {
   "cell_type": "markdown",
   "metadata": {},
   "source": [
    "## Louvain Modularity Algorithm"
   ]
  },
  {
   "cell_type": "code",
   "execution_count": 52,
   "metadata": {},
   "outputs": [
    {
     "data": {
      "text/html": [
       "<table><tr><th>graph</th><th>nodeQuery</th><th>nodes</th><th>relationshipQuery</th><th>rels</th></tr><tr><td style=\"text-align:left\">Got5</td><td style=\"text-align:left\">MATCH (n:Person)-[r:INTERACTS_5]-(Person) RETURN id(n) AS id, n.seed AS seed</td><td style=\"text-align:right\">124</td><td style=\"text-align:left\">MATCH (n:Person)-[r:INTERACTS_5]-(p:Person) RETURN id(n) AS source, id(p) AS target, r.weight AS weight</td><td style=\"text-align:right\">866</td></tr></table>"
      ],
      "text/plain": [
       " graph | nodeQuery                                                                    | nodes | relationshipQuery                                                                                       | rels \n",
       "-------|------------------------------------------------------------------------------|-------|---------------------------------------------------------------------------------------------------------|------\n",
       " Got5  | MATCH (n:Person)-[r:INTERACTS_5]-(Person) RETURN id(n) AS id, n.seed AS seed |   124 | MATCH (n:Person)-[r:INTERACTS_5]-(p:Person) RETURN id(n) AS source, id(p) AS target, r.weight AS weight |  866 "
      ]
     },
     "execution_count": 52,
     "metadata": {},
     "output_type": "execute_result"
    }
   ],
   "source": [
    "query = \"\"\"\n",
    "CALL gds.graph.project.cypher(\n",
    "  'Got5',\n",
    "  'MATCH (n:Person)-[r:INTERACTS_5]-(Person) RETURN id(n) AS id, n.seed AS seed',\n",
    "  'MATCH (n:Person)-[r:INTERACTS_5]-(p:Person) RETURN id(n) AS source, id(p) AS target, r.weight AS weight')\n",
    "YIELD\n",
    "    graphName AS graph, nodeQuery, nodeCount AS nodes, relationshipQuery, relationshipCount AS rels\n",
    "\n",
    "\"\"\"\n",
    "graph.run(query)"
   ]
  },
  {
   "cell_type": "code",
   "execution_count": 53,
   "metadata": {},
   "outputs": [
    {
     "data": {
      "text/html": [
       "<table><tr><th>nodeCount</th><th>relationshipCount</th><th>bytesMin</th><th>bytesMax</th><th>requiredMemory</th></tr><tr><td style=\"text-align:right\">124</td><td style=\"text-align:right\">866</td><td style=\"text-align:right\">13241</td><td style=\"text-align:right\">582456</td><td style=\"text-align:left\">[13241 Bytes ... 568 KiB]</td></tr></table>"
      ],
      "text/plain": [
       " nodeCount | relationshipCount | bytesMin | bytesMax | requiredMemory            \n",
       "-----------|-------------------|----------|----------|---------------------------\n",
       "       124 |               866 |    13241 |   582456 | [13241 Bytes ... 568 KiB] "
      ]
     },
     "execution_count": 53,
     "metadata": {},
     "output_type": "execute_result"
    }
   ],
   "source": [
    "#The following will estimate the memory requirements for running the algorithm:\n",
    "query = \"\"\"\n",
    "CALL gds.louvain.write.estimate('Got5', { writeProperty: 'community_S5' })\n",
    "YIELD nodeCount, relationshipCount, bytesMin, bytesMax, requiredMemory\n",
    "\"\"\"\n",
    "graph.run(query)"
   ]
  },
  {
   "cell_type": "code",
   "execution_count": 54,
   "metadata": {},
   "outputs": [
    {
     "data": {
      "text/html": [
       "<table><tr><th>label</th><th>communityId</th></tr><tr><td style=\"text-align:left\">Aegon</td><td style=\"text-align:right\">18</td></tr><tr><td style=\"text-align:left\">Aemon</td><td style=\"text-align:right\">18</td></tr><tr><td style=\"text-align:left\">Aerys</td><td style=\"text-align:right\">101</td></tr></table>"
      ],
      "text/plain": [
       " label | communityId \n",
       "-------|-------------\n",
       " Aegon |          18 \n",
       " Aemon |          18 \n",
       " Aerys |         101 "
      ]
     },
     "execution_count": 54,
     "metadata": {},
     "output_type": "execute_result"
    }
   ],
   "source": [
    "#The following will run the algorithm and stream results:\n",
    "query = \"\"\"\n",
    "CALL gds.louvain.stream('Got5', { seedProperty: 'seed' })\n",
    "YIELD nodeId, communityId, intermediateCommunityIds\n",
    "RETURN gds.util.asNode(nodeId).label AS label, communityId\n",
    "ORDER BY label ASC\n",
    "\"\"\"\n",
    "graph.run(query)"
   ]
  },
  {
   "cell_type": "code",
   "execution_count": 55,
   "metadata": {},
   "outputs": [
    {
     "data": {
      "text/html": [
       "<table><tr><th>communityCount</th></tr><tr><td style=\"text-align:right\">5</td></tr></table>"
      ],
      "text/plain": [
       " communityCount \n",
       "----------------\n",
       "              5 "
      ]
     },
     "execution_count": 55,
     "metadata": {},
     "output_type": "execute_result"
    }
   ],
   "source": [
    "#The following will run the algorithm and returns the result in form of statistical and measurement values:\n",
    "query = \"\"\"\n",
    "CALL gds.louvain.stats('Got5')\n",
    "YIELD communityCount\n",
    "\"\"\"\n",
    "graph.run(query)"
   ]
  },
  {
   "cell_type": "code",
   "execution_count": 56,
   "metadata": {},
   "outputs": [
    {
     "data": {
      "text/html": [
       "<table><tr><th>communityCount</th><th>modularity</th><th>modularities</th></tr><tr><td style=\"text-align:right\">5</td><td style=\"text-align:right\">0.664294971971689</td><td style=\"text-align:left\">[0.6190789859671767, 0.664294971971689]</td></tr></table>"
      ],
      "text/plain": [
       " communityCount |        modularity | modularities                            \n",
       "----------------|-------------------|-----------------------------------------\n",
       "              5 | 0.664294971971689 | [0.6190789859671767, 0.664294971971689] "
      ]
     },
     "execution_count": 56,
     "metadata": {},
     "output_type": "execute_result"
    }
   ],
   "source": [
    "#The following will run the algorithm and store the results in myGraph:\n",
    "query = \"\"\"\n",
    "CALL gds.louvain.mutate('Got5', { mutateProperty: 'communityId' })\n",
    "YIELD communityCount, modularity, modularities\n",
    "\"\"\"\n",
    "graph.run(query)"
   ]
  },
  {
   "cell_type": "code",
   "execution_count": 57,
   "metadata": {},
   "outputs": [
    {
     "data": {
      "text/html": [
       "<table><tr><th>communityCount</th><th>modularity</th><th>modularities</th></tr><tr><td style=\"text-align:right\">5</td><td style=\"text-align:right\">0.664294971971689</td><td style=\"text-align:left\">[0.6190789859671767, 0.664294971971689]</td></tr></table>"
      ],
      "text/plain": [
       " communityCount |        modularity | modularities                            \n",
       "----------------|-------------------|-----------------------------------------\n",
       "              5 | 0.664294971971689 | [0.6190789859671767, 0.664294971971689] "
      ]
     },
     "execution_count": 57,
     "metadata": {},
     "output_type": "execute_result"
    }
   ],
   "source": [
    "#The following run the algorithm, and write back results:\n",
    "query = \"\"\"\n",
    "CALL gds.louvain.write('Got5', { writeProperty: 'community_S5' })\n",
    "YIELD communityCount, modularity, modularities\n",
    "\"\"\"\n",
    "graph.run(query)"
   ]
  },
  {
   "cell_type": "markdown",
   "metadata": {},
   "source": [
    "## 5 basic centrality measures "
   ]
  },
  {
   "cell_type": "code",
   "execution_count": 58,
   "metadata": {},
   "outputs": [
    {
     "data": {
      "text/html": [
       "<table><tr><th>name</th><th>score</th></tr><tr><td style=\"text-align:left\">CERSEI</td><td style=\"text-align:right\">31.0</td></tr><tr><td style=\"text-align:left\">LITTLEFINGER</td><td style=\"text-align:right\">27.0</td></tr><tr><td style=\"text-align:left\">JON</td><td style=\"text-align:right\">27.0</td></tr></table>"
      ],
      "text/plain": [
       " name         | score \n",
       "--------------|-------\n",
       " CERSEI       |  31.0 \n",
       " LITTLEFINGER |  27.0 \n",
       " JON          |  27.0 "
      ]
     },
     "execution_count": 58,
     "metadata": {},
     "output_type": "execute_result"
    }
   ],
   "source": [
    "#Degree\n",
    "query = \"\"\"\n",
    "CALL gds.degree.stream('Got5')\n",
    "YIELD nodeId, score\n",
    "RETURN gds.util.asNode(nodeId).id AS name, score\n",
    "ORDER BY score DESC\n",
    "LIMIT 5\n",
    "\"\"\"\n",
    "graph.run(query)"
   ]
  },
  {
   "cell_type": "code",
   "execution_count": 59,
   "metadata": {},
   "outputs": [
    {
     "data": {
      "text/html": [
       "<table><tr><th>name</th><th>score</th></tr><tr><td style=\"text-align:left\">CERSEI</td><td style=\"text-align:right\">618.0</td></tr><tr><td style=\"text-align:left\">JON</td><td style=\"text-align:right\">616.0</td></tr><tr><td style=\"text-align:left\">TYRION</td><td style=\"text-align:right\">480.0</td></tr></table>"
      ],
      "text/plain": [
       " name   | score \n",
       "--------|-------\n",
       " CERSEI | 618.0 \n",
       " JON    | 616.0 \n",
       " TYRION | 480.0 "
      ]
     },
     "execution_count": 59,
     "metadata": {},
     "output_type": "execute_result"
    }
   ],
   "source": [
    "#Weighted Degree\n",
    "query = \"\"\"\n",
    "CALL gds.degree.stream(\n",
    "   'Got5',\n",
    "   { relationshipWeightProperty: 'weight' }\n",
    ")\n",
    "YIELD nodeId, score\n",
    "RETURN gds.util.asNode(nodeId).id AS name, score\n",
    "ORDER BY score DESC\n",
    "LIMIT 5\n",
    "\"\"\"\n",
    "graph.run(query)"
   ]
  },
  {
   "cell_type": "code",
   "execution_count": 60,
   "metadata": {},
   "outputs": [
    {
     "data": {
      "text/html": [
       "<table><tr><th>name</th><th>score</th></tr><tr><td style=\"text-align:left\">STANNIS</td><td style=\"text-align:right\">0.33835270473792883</td></tr><tr><td style=\"text-align:left\">JON</td><td style=\"text-align:right\">0.31716067325588637</td></tr><tr><td style=\"text-align:left\">SAM</td><td style=\"text-align:right\">0.283804814609472</td></tr></table>"
      ],
      "text/plain": [
       " name    |               score \n",
       "---------|---------------------\n",
       " STANNIS | 0.33835270473792883 \n",
       " JON     | 0.31716067325588637 \n",
       " SAM     |   0.283804814609472 "
      ]
     },
     "execution_count": 60,
     "metadata": {},
     "output_type": "execute_result"
    }
   ],
   "source": [
    "#Eigenvector\n",
    "query = \"\"\"\n",
    "CALL gds.eigenvector.stream('Got5')\n",
    "YIELD nodeId, score\n",
    "RETURN gds.util.asNode(nodeId).id AS name, score\n",
    "ORDER BY score DESC\n",
    "LIMIT 5\n",
    "\"\"\"\n",
    "graph.run(query)"
   ]
  },
  {
   "cell_type": "code",
   "execution_count": 61,
   "metadata": {},
   "outputs": [
    {
     "data": {
      "text/html": [
       "<table><tr><th>page</th><th>score</th></tr><tr><td style=\"text-align:left\">JON</td><td style=\"text-align:right\">3.6049676053820563</td></tr><tr><td style=\"text-align:left\">CERSEI</td><td style=\"text-align:right\">3.604538477369172</td></tr><tr><td style=\"text-align:left\">LITTLEFINGER</td><td style=\"text-align:right\">3.5385256890743797</td></tr></table>"
      ],
      "text/plain": [
       " page         |              score \n",
       "--------------|--------------------\n",
       " JON          | 3.6049676053820563 \n",
       " CERSEI       |  3.604538477369172 \n",
       " LITTLEFINGER | 3.5385256890743797 "
      ]
     },
     "execution_count": 61,
     "metadata": {},
     "output_type": "execute_result"
    }
   ],
   "source": [
    "#Pagerank\n",
    "query = \"\"\"\n",
    "CALL gds.pageRank.stream('Got5',  {maxIterations: 20,  dampingFactor: 0.85})\n",
    "YIELD nodeId, score\n",
    "RETURN gds.util.asNode(nodeId).id AS page, score\n",
    "ORDER BY score DESC\n",
    "LIMIT 5\n",
    "\"\"\"\n",
    "graph.run(query)"
   ]
  },
  {
   "cell_type": "code",
   "execution_count": 62,
   "metadata": {},
   "outputs": [
    {
     "data": {
      "text/html": [
       "<table><tr><th>name</th><th>score</th></tr><tr><td style=\"text-align:left\">STANNIS</td><td style=\"text-align:right\">5012.7852459276455</td></tr><tr><td style=\"text-align:left\">CERSEI</td><td style=\"text-align:right\">3964.7548918141197</td></tr><tr><td style=\"text-align:left\">LITTLEFINGER</td><td style=\"text-align:right\">2971.9304254016747</td></tr></table>"
      ],
      "text/plain": [
       " name         |              score \n",
       "--------------|--------------------\n",
       " STANNIS      | 5012.7852459276455 \n",
       " CERSEI       | 3964.7548918141197 \n",
       " LITTLEFINGER | 2971.9304254016747 "
      ]
     },
     "execution_count": 62,
     "metadata": {},
     "output_type": "execute_result"
    }
   ],
   "source": [
    "#Betweenness\n",
    "query = \"\"\"\n",
    "CALL gds.betweenness.stream('Got5')\n",
    "YIELD nodeId, score\n",
    "RETURN gds.util.asNode(nodeId).id AS name, score\n",
    "ORDER BY score DESC\n",
    "LIMIT 5\n",
    "\"\"\"\n",
    "graph.run(query)"
   ]
  },
  {
   "cell_type": "markdown",
   "metadata": {},
   "source": [
    "# Graph for season 6"
   ]
  },
  {
   "cell_type": "markdown",
   "metadata": {},
   "source": [
    "## Louvain Modularity Algorithm"
   ]
  },
  {
   "cell_type": "code",
   "execution_count": 63,
   "metadata": {},
   "outputs": [
    {
     "data": {
      "text/html": [
       "<table><tr><th>graph</th><th>nodeQuery</th><th>nodes</th><th>relationshipQuery</th><th>rels</th></tr><tr><td style=\"text-align:left\">Got6</td><td style=\"text-align:left\">MATCH (n:Person)-[r:INTERACTS_6]-(Person) RETURN id(n) AS id, n.seed AS seed</td><td style=\"text-align:right\">148</td><td style=\"text-align:left\">MATCH (n:Person)-[r:INTERACTS_6]-(p:Person) RETURN id(n) AS source, id(p) AS target, r.weight AS weight</td><td style=\"text-align:right\">1154</td></tr></table>"
      ],
      "text/plain": [
       " graph | nodeQuery                                                                    | nodes | relationshipQuery                                                                                       | rels \n",
       "-------|------------------------------------------------------------------------------|-------|---------------------------------------------------------------------------------------------------------|------\n",
       " Got6  | MATCH (n:Person)-[r:INTERACTS_6]-(Person) RETURN id(n) AS id, n.seed AS seed |   148 | MATCH (n:Person)-[r:INTERACTS_6]-(p:Person) RETURN id(n) AS source, id(p) AS target, r.weight AS weight | 1154 "
      ]
     },
     "execution_count": 63,
     "metadata": {},
     "output_type": "execute_result"
    }
   ],
   "source": [
    "query = \"\"\"\n",
    "CALL gds.graph.project.cypher(\n",
    "  'Got6',\n",
    "  'MATCH (n:Person)-[r:INTERACTS_6]-(Person) RETURN id(n) AS id, n.seed AS seed',\n",
    "  'MATCH (n:Person)-[r:INTERACTS_6]-(p:Person) RETURN id(n) AS source, id(p) AS target, r.weight AS weight')\n",
    "YIELD\n",
    "    graphName AS graph, nodeQuery, nodeCount AS nodes, relationshipQuery, relationshipCount AS rels\n",
    "\n",
    "\"\"\"\n",
    "graph.run(query)"
   ]
  },
  {
   "cell_type": "code",
   "execution_count": 64,
   "metadata": {},
   "outputs": [
    {
     "data": {
      "text/html": [
       "<table><tr><th>nodeCount</th><th>relationshipCount</th><th>bytesMin</th><th>bytesMax</th><th>requiredMemory</th></tr><tr><td style=\"text-align:right\">148</td><td style=\"text-align:right\">1154</td><td style=\"text-align:right\">14785</td><td style=\"text-align:right\">586976</td><td style=\"text-align:left\">[14785 Bytes ... 573 KiB]</td></tr></table>"
      ],
      "text/plain": [
       " nodeCount | relationshipCount | bytesMin | bytesMax | requiredMemory            \n",
       "-----------|-------------------|----------|----------|---------------------------\n",
       "       148 |              1154 |    14785 |   586976 | [14785 Bytes ... 573 KiB] "
      ]
     },
     "execution_count": 64,
     "metadata": {},
     "output_type": "execute_result"
    }
   ],
   "source": [
    "#The following will estimate the memory requirements for running the algorithm:\n",
    "query = \"\"\"\n",
    "CALL gds.louvain.write.estimate('Got6', { writeProperty: 'community_S6' })\n",
    "YIELD nodeCount, relationshipCount, bytesMin, bytesMax, requiredMemory\n",
    "\"\"\"\n",
    "graph.run(query)"
   ]
  },
  {
   "cell_type": "code",
   "execution_count": 65,
   "metadata": {},
   "outputs": [
    {
     "data": {
      "text/html": [
       "<table><tr><th>label</th><th>communityId</th></tr><tr><td style=\"text-align:left\">Aemon</td><td style=\"text-align:right\">34</td></tr><tr><td style=\"text-align:left\">Aeron</td><td style=\"text-align:right\">16</td></tr><tr><td style=\"text-align:left\">Aerys</td><td style=\"text-align:right\">11</td></tr></table>"
      ],
      "text/plain": [
       " label | communityId \n",
       "-------|-------------\n",
       " Aemon |          34 \n",
       " Aeron |          16 \n",
       " Aerys |          11 "
      ]
     },
     "execution_count": 65,
     "metadata": {},
     "output_type": "execute_result"
    }
   ],
   "source": [
    "#The following will run the algorithm and stream results:\n",
    "query = \"\"\"\n",
    "CALL gds.louvain.stream('Got6', { seedProperty: 'seed' })\n",
    "YIELD nodeId, communityId, intermediateCommunityIds\n",
    "RETURN gds.util.asNode(nodeId).label AS label, communityId\n",
    "ORDER BY label ASC\n",
    "\"\"\"\n",
    "graph.run(query)"
   ]
  },
  {
   "cell_type": "code",
   "execution_count": 66,
   "metadata": {},
   "outputs": [
    {
     "data": {
      "text/html": [
       "<table><tr><th>communityCount</th></tr><tr><td style=\"text-align:right\">9</td></tr></table>"
      ],
      "text/plain": [
       " communityCount \n",
       "----------------\n",
       "              9 "
      ]
     },
     "execution_count": 66,
     "metadata": {},
     "output_type": "execute_result"
    }
   ],
   "source": [
    "#The following will run the algorithm and returns the result in form of statistical and measurement values:\n",
    "query = \"\"\"\n",
    "CALL gds.louvain.stats('Got6')\n",
    "YIELD communityCount\n",
    "\"\"\"\n",
    "graph.run(query)"
   ]
  },
  {
   "cell_type": "code",
   "execution_count": 67,
   "metadata": {},
   "outputs": [
    {
     "data": {
      "text/html": [
       "<table><tr><th>communityCount</th><th>modularity</th><th>modularities</th></tr><tr><td style=\"text-align:right\">9</td><td style=\"text-align:right\">0.6540944165272475</td><td style=\"text-align:left\">[0.6090893253516515, 0.6540944165272475]</td></tr></table>"
      ],
      "text/plain": [
       " communityCount |         modularity | modularities                             \n",
       "----------------|--------------------|------------------------------------------\n",
       "              9 | 0.6540944165272475 | [0.6090893253516515, 0.6540944165272475] "
      ]
     },
     "execution_count": 67,
     "metadata": {},
     "output_type": "execute_result"
    }
   ],
   "source": [
    "#The following will run the algorithm and store the results in myGraph:\n",
    "query = \"\"\"\n",
    "CALL gds.louvain.mutate('Got6', { mutateProperty: 'communityId' })\n",
    "YIELD communityCount, modularity, modularities\n",
    "\"\"\"\n",
    "graph.run(query)"
   ]
  },
  {
   "cell_type": "code",
   "execution_count": 68,
   "metadata": {},
   "outputs": [
    {
     "data": {
      "text/html": [
       "<table><tr><th>communityCount</th><th>modularity</th><th>modularities</th></tr><tr><td style=\"text-align:right\">9</td><td style=\"text-align:right\">0.6540944165272475</td><td style=\"text-align:left\">[0.6090893253516515, 0.6540944165272475]</td></tr></table>"
      ],
      "text/plain": [
       " communityCount |         modularity | modularities                             \n",
       "----------------|--------------------|------------------------------------------\n",
       "              9 | 0.6540944165272475 | [0.6090893253516515, 0.6540944165272475] "
      ]
     },
     "execution_count": 68,
     "metadata": {},
     "output_type": "execute_result"
    }
   ],
   "source": [
    "#The following run the algorithm, and write back results:\n",
    "query = \"\"\"\n",
    "CALL gds.louvain.write('Got6', { writeProperty: 'community_S6' })\n",
    "YIELD communityCount, modularity, modularities\n",
    "\"\"\"\n",
    "graph.run(query)"
   ]
  },
  {
   "cell_type": "markdown",
   "metadata": {},
   "source": [
    "## 5 basic centrality measures "
   ]
  },
  {
   "cell_type": "code",
   "execution_count": 69,
   "metadata": {},
   "outputs": [
    {
     "data": {
      "text/html": [
       "<table><tr><th>name</th><th>score</th></tr><tr><td style=\"text-align:left\">SANSA</td><td style=\"text-align:right\">41.0</td></tr><tr><td style=\"text-align:left\">JON</td><td style=\"text-align:right\">33.0</td></tr><tr><td style=\"text-align:left\">CERSEI</td><td style=\"text-align:right\">29.0</td></tr></table>"
      ],
      "text/plain": [
       " name   | score \n",
       "--------|-------\n",
       " SANSA  |  41.0 \n",
       " JON    |  33.0 \n",
       " CERSEI |  29.0 "
      ]
     },
     "execution_count": 69,
     "metadata": {},
     "output_type": "execute_result"
    }
   ],
   "source": [
    "#Degree\n",
    "query = \"\"\"\n",
    "CALL gds.degree.stream('Got6')\n",
    "YIELD nodeId, score\n",
    "RETURN gds.util.asNode(nodeId).id AS name, score\n",
    "ORDER BY score DESC\n",
    "LIMIT 5\n",
    "\"\"\"\n",
    "graph.run(query)"
   ]
  },
  {
   "cell_type": "code",
   "execution_count": 70,
   "metadata": {},
   "outputs": [
    {
     "data": {
      "text/html": [
       "<table><tr><th>name</th><th>score</th></tr><tr><td style=\"text-align:left\">JON</td><td style=\"text-align:right\">624.0</td></tr><tr><td style=\"text-align:left\">SANSA</td><td style=\"text-align:right\">551.0</td></tr><tr><td style=\"text-align:left\">TYRION</td><td style=\"text-align:right\">442.0</td></tr></table>"
      ],
      "text/plain": [
       " name   | score \n",
       "--------|-------\n",
       " JON    | 624.0 \n",
       " SANSA  | 551.0 \n",
       " TYRION | 442.0 "
      ]
     },
     "execution_count": 70,
     "metadata": {},
     "output_type": "execute_result"
    }
   ],
   "source": [
    "#Weighted Degree\n",
    "query = \"\"\"\n",
    "CALL gds.degree.stream(\n",
    "   'Got6',\n",
    "   { relationshipWeightProperty: 'weight' }\n",
    ")\n",
    "YIELD nodeId, score\n",
    "RETURN gds.util.asNode(nodeId).id AS name, score\n",
    "ORDER BY score DESC\n",
    "LIMIT 5\n",
    "\"\"\"\n",
    "graph.run(query)"
   ]
  },
  {
   "cell_type": "code",
   "execution_count": 71,
   "metadata": {},
   "outputs": [
    {
     "data": {
      "text/html": [
       "<table><tr><th>name</th><th>score</th></tr><tr><td style=\"text-align:left\">SANSA</td><td style=\"text-align:right\">0.3519753949236122</td></tr><tr><td style=\"text-align:left\">JON</td><td style=\"text-align:right\">0.27646633533835374</td></tr><tr><td style=\"text-align:left\">DAVOS</td><td style=\"text-align:right\">0.23405853477802047</td></tr></table>"
      ],
      "text/plain": [
       " name  |               score \n",
       "-------|---------------------\n",
       " SANSA |  0.3519753949236122 \n",
       " JON   | 0.27646633533835374 \n",
       " DAVOS | 0.23405853477802047 "
      ]
     },
     "execution_count": 71,
     "metadata": {},
     "output_type": "execute_result"
    }
   ],
   "source": [
    "#Eigenvector\n",
    "query = \"\"\"\n",
    "CALL gds.eigenvector.stream('Got6')\n",
    "YIELD nodeId, score\n",
    "RETURN gds.util.asNode(nodeId).id AS name, score\n",
    "ORDER BY score DESC\n",
    "LIMIT 5\n",
    "\"\"\"\n",
    "graph.run(query)"
   ]
  },
  {
   "cell_type": "code",
   "execution_count": 72,
   "metadata": {},
   "outputs": [
    {
     "data": {
      "text/html": [
       "<table><tr><th>page</th><th>score</th></tr><tr><td style=\"text-align:left\">SANSA</td><td style=\"text-align:right\">3.894475250679934</td></tr><tr><td style=\"text-align:left\">JON</td><td style=\"text-align:right\">3.2502096784271135</td></tr><tr><td style=\"text-align:left\">CERSEI</td><td style=\"text-align:right\">3.007200929871433</td></tr></table>"
      ],
      "text/plain": [
       " page   |              score \n",
       "--------|--------------------\n",
       " SANSA  |  3.894475250679934 \n",
       " JON    | 3.2502096784271135 \n",
       " CERSEI |  3.007200929871433 "
      ]
     },
     "execution_count": 72,
     "metadata": {},
     "output_type": "execute_result"
    }
   ],
   "source": [
    "#Pagerank\n",
    "query = \"\"\"\n",
    "CALL gds.pageRank.stream('Got6',  {maxIterations: 20,  dampingFactor: 0.85})\n",
    "YIELD nodeId, score\n",
    "RETURN gds.util.asNode(nodeId).id AS page, score\n",
    "ORDER BY score DESC\n",
    "LIMIT 5\n",
    "\"\"\"\n",
    "graph.run(query)"
   ]
  },
  {
   "cell_type": "code",
   "execution_count": 73,
   "metadata": {},
   "outputs": [
    {
     "data": {
      "text/html": [
       "<table><tr><th>name</th><th>score</th></tr><tr><td style=\"text-align:left\">SANSA</td><td style=\"text-align:right\">5791.99128590698</td></tr><tr><td style=\"text-align:left\">JON</td><td style=\"text-align:right\">4161.187582627684</td></tr><tr><td style=\"text-align:left\">TYRION</td><td style=\"text-align:right\">3080.729990101282</td></tr></table>"
      ],
      "text/plain": [
       " name   |             score \n",
       "--------|-------------------\n",
       " SANSA  |  5791.99128590698 \n",
       " JON    | 4161.187582627684 \n",
       " TYRION | 3080.729990101282 "
      ]
     },
     "execution_count": 73,
     "metadata": {},
     "output_type": "execute_result"
    }
   ],
   "source": [
    "#Betweenness\n",
    "query = \"\"\"\n",
    "CALL gds.betweenness.stream('Got6')\n",
    "YIELD nodeId, score\n",
    "RETURN gds.util.asNode(nodeId).id AS name, score\n",
    "ORDER BY score DESC\n",
    "LIMIT 5\n",
    "\"\"\"\n",
    "graph.run(query)"
   ]
  },
  {
   "cell_type": "markdown",
   "metadata": {},
   "source": [
    "# Graph for season 7"
   ]
  },
  {
   "cell_type": "markdown",
   "metadata": {},
   "source": [
    "## Louvain Modularity Algorithm"
   ]
  },
  {
   "cell_type": "code",
   "execution_count": 74,
   "metadata": {},
   "outputs": [
    {
     "data": {
      "text/html": [
       "<table><tr><th>graph</th><th>nodeQuery</th><th>nodes</th><th>relationshipQuery</th><th>rels</th></tr><tr><td style=\"text-align:left\">Got7</td><td style=\"text-align:left\">MATCH (n:Person)-[r:INTERACTS_7]-(Person) RETURN id(n) AS id, n.seed AS seed</td><td style=\"text-align:right\">85</td><td style=\"text-align:left\">MATCH (n:Person)-[r:INTERACTS_7]-(p:Person) RETURN id(n) AS source, id(p) AS target, r.weight AS weight</td><td style=\"text-align:right\">890</td></tr></table>"
      ],
      "text/plain": [
       " graph | nodeQuery                                                                    | nodes | relationshipQuery                                                                                       | rels \n",
       "-------|------------------------------------------------------------------------------|-------|---------------------------------------------------------------------------------------------------------|------\n",
       " Got7  | MATCH (n:Person)-[r:INTERACTS_7]-(Person) RETURN id(n) AS id, n.seed AS seed |    85 | MATCH (n:Person)-[r:INTERACTS_7]-(p:Person) RETURN id(n) AS source, id(p) AS target, r.weight AS weight |  890 "
      ]
     },
     "execution_count": 74,
     "metadata": {},
     "output_type": "execute_result"
    }
   ],
   "source": [
    "query = \"\"\"\n",
    "CALL gds.graph.project.cypher(\n",
    "  'Got7',\n",
    "  'MATCH (n:Person)-[r:INTERACTS_7]-(Person) RETURN id(n) AS id, n.seed AS seed',\n",
    "  'MATCH (n:Person)-[r:INTERACTS_7]-(p:Person) RETURN id(n) AS source, id(p) AS target, r.weight AS weight')\n",
    "YIELD\n",
    "    graphName AS graph, nodeQuery, nodeCount AS nodes, relationshipQuery, relationshipCount AS rels\n",
    "\n",
    "\"\"\"\n",
    "graph.run(query)"
   ]
  },
  {
   "cell_type": "code",
   "execution_count": 75,
   "metadata": {},
   "outputs": [
    {
     "data": {
      "text/html": [
       "<table><tr><th>nodeCount</th><th>relationshipCount</th><th>bytesMin</th><th>bytesMax</th><th>requiredMemory</th></tr><tr><td style=\"text-align:right\">85</td><td style=\"text-align:right\">890</td><td style=\"text-align:right\">10745</td><td style=\"text-align:right\">575176</td><td style=\"text-align:left\">[10745 Bytes ... 561 KiB]</td></tr></table>"
      ],
      "text/plain": [
       " nodeCount | relationshipCount | bytesMin | bytesMax | requiredMemory            \n",
       "-----------|-------------------|----------|----------|---------------------------\n",
       "        85 |               890 |    10745 |   575176 | [10745 Bytes ... 561 KiB] "
      ]
     },
     "execution_count": 75,
     "metadata": {},
     "output_type": "execute_result"
    }
   ],
   "source": [
    "#The following will estimate the memory requirements for running the algorithm:\n",
    "query = \"\"\"\n",
    "CALL gds.louvain.write.estimate('Got7', { writeProperty: 'community_S7' })\n",
    "YIELD nodeCount, relationshipCount, bytesMin, bytesMax, requiredMemory\n",
    "\"\"\"\n",
    "graph.run(query)"
   ]
  },
  {
   "cell_type": "code",
   "execution_count": 76,
   "metadata": {},
   "outputs": [
    {
     "data": {
      "text/html": [
       "<table><tr><th>label</th><th>communityId</th></tr><tr><td style=\"text-align:left\">Aegon</td><td style=\"text-align:right\">45</td></tr><tr><td style=\"text-align:left\">Aerys</td><td style=\"text-align:right\">45</td></tr><tr><td style=\"text-align:left\">Alys</td><td style=\"text-align:right\">67</td></tr></table>"
      ],
      "text/plain": [
       " label | communityId \n",
       "-------|-------------\n",
       " Aegon |          45 \n",
       " Aerys |          45 \n",
       " Alys  |          67 "
      ]
     },
     "execution_count": 76,
     "metadata": {},
     "output_type": "execute_result"
    }
   ],
   "source": [
    "#The following will run the algorithm and stream results:\n",
    "query = \"\"\"\n",
    "CALL gds.louvain.stream('Got7', { seedProperty: 'seed' })\n",
    "YIELD nodeId, communityId, intermediateCommunityIds\n",
    "RETURN gds.util.asNode(nodeId).label AS label, communityId\n",
    "ORDER BY label ASC\n",
    "\"\"\"\n",
    "graph.run(query)"
   ]
  },
  {
   "cell_type": "code",
   "execution_count": 77,
   "metadata": {},
   "outputs": [
    {
     "data": {
      "text/html": [
       "<table><tr><th>communityCount</th></tr><tr><td style=\"text-align:right\">4</td></tr></table>"
      ],
      "text/plain": [
       " communityCount \n",
       "----------------\n",
       "              4 "
      ]
     },
     "execution_count": 77,
     "metadata": {},
     "output_type": "execute_result"
    }
   ],
   "source": [
    "#The following will run the algorithm and returns the result in form of statistical and measurement values:\n",
    "query = \"\"\"\n",
    "CALL gds.louvain.stats('Got7')\n",
    "YIELD communityCount\n",
    "\"\"\"\n",
    "graph.run(query)"
   ]
  },
  {
   "cell_type": "code",
   "execution_count": 78,
   "metadata": {},
   "outputs": [
    {
     "data": {
      "text/html": [
       "<table><tr><th>communityCount</th><th>modularity</th><th>modularities</th></tr><tr><td style=\"text-align:right\">4</td><td style=\"text-align:right\">0.32572149981063003</td><td style=\"text-align:left\">[0.3046484029794218, 0.32572149981063003]</td></tr></table>"
      ],
      "text/plain": [
       " communityCount |          modularity | modularities                              \n",
       "----------------|---------------------|-------------------------------------------\n",
       "              4 | 0.32572149981063003 | [0.3046484029794218, 0.32572149981063003] "
      ]
     },
     "execution_count": 78,
     "metadata": {},
     "output_type": "execute_result"
    }
   ],
   "source": [
    "#The following will run the algorithm and store the results in myGraph:\n",
    "query = \"\"\"\n",
    "CALL gds.louvain.mutate('Got7', { mutateProperty: 'communityId' })\n",
    "YIELD communityCount, modularity, modularities\n",
    "\"\"\"\n",
    "graph.run(query)"
   ]
  },
  {
   "cell_type": "code",
   "execution_count": 79,
   "metadata": {},
   "outputs": [
    {
     "data": {
      "text/html": [
       "<table><tr><th>communityCount</th><th>modularity</th><th>modularities</th></tr><tr><td style=\"text-align:right\">4</td><td style=\"text-align:right\">0.32572149981063003</td><td style=\"text-align:left\">[0.3046484029794218, 0.32572149981063003]</td></tr></table>"
      ],
      "text/plain": [
       " communityCount |          modularity | modularities                              \n",
       "----------------|---------------------|-------------------------------------------\n",
       "              4 | 0.32572149981063003 | [0.3046484029794218, 0.32572149981063003] "
      ]
     },
     "execution_count": 79,
     "metadata": {},
     "output_type": "execute_result"
    }
   ],
   "source": [
    "#The following run the algorithm, and write back results:\n",
    "query = \"\"\"\n",
    "CALL gds.louvain.write('Got7', { writeProperty: 'community_S7' })\n",
    "YIELD communityCount, modularity, modularities\n",
    "\"\"\"\n",
    "graph.run(query)"
   ]
  },
  {
   "cell_type": "markdown",
   "metadata": {},
   "source": [
    "## 5 basic centrality measures "
   ]
  },
  {
   "cell_type": "code",
   "execution_count": 80,
   "metadata": {},
   "outputs": [
    {
     "data": {
      "text/html": [
       "<table><tr><th>name</th><th>score</th></tr><tr><td style=\"text-align:left\">JON</td><td style=\"text-align:right\">46.0</td></tr><tr><td style=\"text-align:left\">TYRION</td><td style=\"text-align:right\">35.0</td></tr><tr><td style=\"text-align:left\">DAENERYS</td><td style=\"text-align:right\">35.0</td></tr></table>"
      ],
      "text/plain": [
       " name     | score \n",
       "----------|-------\n",
       " JON      |  46.0 \n",
       " TYRION   |  35.0 \n",
       " DAENERYS |  35.0 "
      ]
     },
     "execution_count": 80,
     "metadata": {},
     "output_type": "execute_result"
    }
   ],
   "source": [
    "#Degree\n",
    "query = \"\"\"\n",
    "CALL gds.degree.stream('Got7')\n",
    "YIELD nodeId, score\n",
    "RETURN gds.util.asNode(nodeId).id AS name, score\n",
    "ORDER BY score DESC\n",
    "LIMIT 5\n",
    "\"\"\"\n",
    "graph.run(query)"
   ]
  },
  {
   "cell_type": "code",
   "execution_count": 81,
   "metadata": {},
   "outputs": [
    {
     "data": {
      "text/html": [
       "<table><tr><th>name</th><th>score</th></tr><tr><td style=\"text-align:left\">JON</td><td style=\"text-align:right\">982.0</td></tr><tr><td style=\"text-align:left\">DAENERYS</td><td style=\"text-align:right\">735.0</td></tr><tr><td style=\"text-align:left\">TYRION</td><td style=\"text-align:right\">703.0</td></tr></table>"
      ],
      "text/plain": [
       " name     | score \n",
       "----------|-------\n",
       " JON      | 982.0 \n",
       " DAENERYS | 735.0 \n",
       " TYRION   | 703.0 "
      ]
     },
     "execution_count": 81,
     "metadata": {},
     "output_type": "execute_result"
    }
   ],
   "source": [
    "#Weighted Degree\n",
    "query = \"\"\"\n",
    "CALL gds.degree.stream(\n",
    "   'Got7',\n",
    "   { relationshipWeightProperty: 'weight' }\n",
    ")\n",
    "YIELD nodeId, score\n",
    "RETURN gds.util.asNode(nodeId).id AS name, score\n",
    "ORDER BY score DESC\n",
    "LIMIT 5\n",
    "\"\"\"\n",
    "graph.run(query)"
   ]
  },
  {
   "cell_type": "code",
   "execution_count": 82,
   "metadata": {},
   "outputs": [
    {
     "data": {
      "text/html": [
       "<table><tr><th>name</th><th>score</th></tr><tr><td style=\"text-align:left\">JON</td><td style=\"text-align:right\">0.2855926337551967</td></tr><tr><td style=\"text-align:left\">TYRION</td><td style=\"text-align:right\">0.2581673486956719</td></tr><tr><td style=\"text-align:left\">DAENERYS</td><td style=\"text-align:right\">0.2465015323052332</td></tr></table>"
      ],
      "text/plain": [
       " name     |              score \n",
       "----------|--------------------\n",
       " JON      | 0.2855926337551967 \n",
       " TYRION   | 0.2581673486956719 \n",
       " DAENERYS | 0.2465015323052332 "
      ]
     },
     "execution_count": 82,
     "metadata": {},
     "output_type": "execute_result"
    }
   ],
   "source": [
    "#Eigenvector\n",
    "query = \"\"\"\n",
    "CALL gds.eigenvector.stream('Got7')\n",
    "YIELD nodeId, score\n",
    "RETURN gds.util.asNode(nodeId).id AS name, score\n",
    "ORDER BY score DESC\n",
    "LIMIT 5\n",
    "\"\"\"\n",
    "graph.run(query)"
   ]
  },
  {
   "cell_type": "code",
   "execution_count": 83,
   "metadata": {},
   "outputs": [
    {
     "data": {
      "text/html": [
       "<table><tr><th>page</th><th>score</th></tr><tr><td style=\"text-align:left\">JON</td><td style=\"text-align:right\">3.9485790707630444</td></tr><tr><td style=\"text-align:left\">DAENERYS</td><td style=\"text-align:right\">2.9040361981717644</td></tr><tr><td style=\"text-align:left\">TYRION</td><td style=\"text-align:right\">2.712399180043202</td></tr></table>"
      ],
      "text/plain": [
       " page     |              score \n",
       "----------|--------------------\n",
       " JON      | 3.9485790707630444 \n",
       " DAENERYS | 2.9040361981717644 \n",
       " TYRION   |  2.712399180043202 "
      ]
     },
     "execution_count": 83,
     "metadata": {},
     "output_type": "execute_result"
    }
   ],
   "source": [
    "#Pagerank\n",
    "query = \"\"\"\n",
    "CALL gds.pageRank.stream('Got7',  {maxIterations: 20,  dampingFactor: 0.85})\n",
    "YIELD nodeId, score\n",
    "RETURN gds.util.asNode(nodeId).id AS page, score\n",
    "ORDER BY score DESC\n",
    "LIMIT 5\n",
    "\"\"\"\n",
    "graph.run(query)"
   ]
  },
  {
   "cell_type": "code",
   "execution_count": 84,
   "metadata": {},
   "outputs": [
    {
     "data": {
      "text/html": [
       "<table><tr><th>name</th><th>score</th></tr><tr><td style=\"text-align:left\">JON</td><td style=\"text-align:right\">1761.0866789656602</td></tr><tr><td style=\"text-align:left\">SAM</td><td style=\"text-align:right\">851.8978738896036</td></tr><tr><td style=\"text-align:left\">DAENERYS</td><td style=\"text-align:right\">763.3372373706223</td></tr></table>"
      ],
      "text/plain": [
       " name     |              score \n",
       "----------|--------------------\n",
       " JON      | 1761.0866789656602 \n",
       " SAM      |  851.8978738896036 \n",
       " DAENERYS |  763.3372373706223 "
      ]
     },
     "execution_count": 84,
     "metadata": {},
     "output_type": "execute_result"
    }
   ],
   "source": [
    "#Betweenness\n",
    "query = \"\"\"\n",
    "CALL gds.betweenness.stream('Got7')\n",
    "YIELD nodeId, score\n",
    "RETURN gds.util.asNode(nodeId).id AS name, score\n",
    "ORDER BY score DESC\n",
    "LIMIT 5\n",
    "\"\"\"\n",
    "graph.run(query)"
   ]
  },
  {
   "cell_type": "markdown",
   "metadata": {},
   "source": [
    "# Still we need to do:\n",
    "- Figure out why season 8 is not in our graph\n",
    "- Make analysis for season 8\n",
    "- Conduct graph embeddings\n",
    "- Think about predictions"
   ]
  },
  {
   "cell_type": "markdown",
   "metadata": {},
   "source": [
    "# Topological link prediction"
   ]
  },
  {
   "cell_type": "markdown",
   "metadata": {},
   "source": [
    "## Adamic Adar\n",
    "Adamic Adar is a measure used to compute the closeness of nodes based on their shared neighbors."
   ]
  },
  {
   "cell_type": "code",
   "execution_count": 9,
   "metadata": {},
   "outputs": [],
   "source": [
    "query=\"\"\"\n",
    "RETURN gds.alpha.linkprediction.adamicAdar(n, n, {relationshipQuery: 'INTERACTS_1'}) AS score\n",
    "\"\"\""
   ]
  }
 ],
 "metadata": {
  "kernelspec": {
   "display_name": "Python 3 (ipykernel)",
   "language": "python",
   "name": "python3"
  },
  "language_info": {
   "codemirror_mode": {
    "name": "ipython",
    "version": 3
   },
   "file_extension": ".py",
   "mimetype": "text/x-python",
   "name": "python",
   "nbconvert_exporter": "python",
   "pygments_lexer": "ipython3",
   "version": "3.8.16"
  }
 },
 "nbformat": 4,
 "nbformat_minor": 4
}
