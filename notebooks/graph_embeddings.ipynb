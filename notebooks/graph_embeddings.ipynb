{
 "cells": [
  {
   "cell_type": "code",
   "execution_count": 1,
   "metadata": {},
   "outputs": [],
   "source": [
    "import matplotlib.pyplot as plt\n",
    "from math import isclose\n",
    "from sklearn.decomposition import PCA\n",
    "import os\n",
    "import networkx as nx\n",
    "import numpy as np\n",
    "import pandas as pd\n",
    "from stellargraph import StellarGraph, datasets\n",
    "from stellargraph.data import EdgeSplitter\n",
    "from collections import Counter\n",
    "import multiprocessing\n",
    "from IPython.display import display, HTML\n",
    "from sklearn.model_selection import train_test_split\n",
    "from py2neo import Graph\n",
    "\n",
    "\n",
    "%matplotlib inline"
   ]
  },
  {
   "cell_type": "code",
   "execution_count": 2,
   "metadata": {},
   "outputs": [],
   "source": [
    "graph = Graph(\"bolt://localhost:7687\", auth=(\"neo4j\", \"neo4jneo4j\"))"
   ]
  },
  {
   "attachments": {},
   "cell_type": "markdown",
   "metadata": {},
   "source": [
    "## StellarGraph\n",
    "\n",
    "Stellargraph seen not to work as the ID and the label are seen not to be unique."
   ]
  },
  {
   "cell_type": "code",
   "execution_count": 3,
   "metadata": {},
   "outputs": [],
   "source": [
    "query = \"\"\"\n",
    "MATCH (p:Person)\n",
    "RETURN p.label as label, p.trianglesTrain1 as triangles\n",
    "\"\"\"\n",
    "\n",
    "nodes = graph.run(query).to_data_frame()"
   ]
  },
  {
   "cell_type": "code",
   "execution_count": 4,
   "metadata": {},
   "outputs": [],
   "source": [
    "query = \"\"\"\n",
    "MATCH (p:Person)-[r:INTERACTS_1]->(p2:Person)\n",
    "RETURN p.id as source, p2.id as target, r.weight as weight\n",
    "\"\"\"\n",
    "\n",
    "weighted_edges = graph.run(query).to_data_frame()"
   ]
  },
  {
   "cell_type": "code",
   "execution_count": 5,
   "metadata": {},
   "outputs": [],
   "source": [
    "nodes.set_index('label', inplace=True)"
   ]
  },
  {
   "cell_type": "code",
   "execution_count": 6,
   "metadata": {},
   "outputs": [
    {
     "data": {
      "text/html": [
       "<div>\n",
       "<style scoped>\n",
       "    .dataframe tbody tr th:only-of-type {\n",
       "        vertical-align: middle;\n",
       "    }\n",
       "\n",
       "    .dataframe tbody tr th {\n",
       "        vertical-align: top;\n",
       "    }\n",
       "\n",
       "    .dataframe thead th {\n",
       "        text-align: right;\n",
       "    }\n",
       "</style>\n",
       "<table border=\"1\" class=\"dataframe\">\n",
       "  <thead>\n",
       "    <tr style=\"text-align: right;\">\n",
       "      <th></th>\n",
       "      <th>triangles</th>\n",
       "    </tr>\n",
       "    <tr>\n",
       "      <th>label</th>\n",
       "      <th></th>\n",
       "    </tr>\n",
       "  </thead>\n",
       "  <tbody>\n",
       "    <tr>\n",
       "      <th>Robett</th>\n",
       "      <td>0</td>\n",
       "    </tr>\n",
       "    <tr>\n",
       "      <th>Smalljon</th>\n",
       "      <td>0</td>\n",
       "    </tr>\n",
       "    <tr>\n",
       "      <th>Edmures Son</th>\n",
       "      <td>0</td>\n",
       "    </tr>\n",
       "    <tr>\n",
       "      <th>Rooses Son</th>\n",
       "      <td>0</td>\n",
       "    </tr>\n",
       "    <tr>\n",
       "      <th>Talla</th>\n",
       "      <td>0</td>\n",
       "    </tr>\n",
       "    <tr>\n",
       "      <th>...</th>\n",
       "      <td>...</td>\n",
       "    </tr>\n",
       "    <tr>\n",
       "      <th>Unsullied Captain</th>\n",
       "      <td>0</td>\n",
       "    </tr>\n",
       "    <tr>\n",
       "      <th>Vale Lord</th>\n",
       "      <td>0</td>\n",
       "    </tr>\n",
       "    <tr>\n",
       "      <th>Vicky</th>\n",
       "      <td>0</td>\n",
       "    </tr>\n",
       "    <tr>\n",
       "      <th>Willa</th>\n",
       "      <td>0</td>\n",
       "    </tr>\n",
       "    <tr>\n",
       "      <th>William</th>\n",
       "      <td>0</td>\n",
       "    </tr>\n",
       "  </tbody>\n",
       "</table>\n",
       "<p>418 rows × 1 columns</p>\n",
       "</div>"
      ],
      "text/plain": [
       "                   triangles\n",
       "label                       \n",
       "Robett                     0\n",
       "Smalljon                   0\n",
       "Edmures Son                0\n",
       "Rooses Son                 0\n",
       "Talla                      0\n",
       "...                      ...\n",
       "Unsullied Captain          0\n",
       "Vale Lord                  0\n",
       "Vicky                      0\n",
       "Willa                      0\n",
       "William                    0\n",
       "\n",
       "[418 rows x 1 columns]"
      ]
     },
     "execution_count": 6,
     "metadata": {},
     "output_type": "execute_result"
    }
   ],
   "source": [
    "nodes"
   ]
  },
  {
   "cell_type": "code",
   "execution_count": 7,
   "metadata": {},
   "outputs": [
    {
     "data": {
      "text/html": [
       "<div>\n",
       "<style scoped>\n",
       "    .dataframe tbody tr th:only-of-type {\n",
       "        vertical-align: middle;\n",
       "    }\n",
       "\n",
       "    .dataframe tbody tr th {\n",
       "        vertical-align: top;\n",
       "    }\n",
       "\n",
       "    .dataframe thead th {\n",
       "        text-align: right;\n",
       "    }\n",
       "</style>\n",
       "<table border=\"1\" class=\"dataframe\">\n",
       "  <thead>\n",
       "    <tr style=\"text-align: right;\">\n",
       "      <th></th>\n",
       "      <th>source</th>\n",
       "      <th>target</th>\n",
       "      <th>weight</th>\n",
       "    </tr>\n",
       "  </thead>\n",
       "  <tbody>\n",
       "    <tr>\n",
       "      <th>0</th>\n",
       "      <td>ADDAM_MARBRAND</td>\n",
       "      <td>TYWIN</td>\n",
       "      <td>2</td>\n",
       "    </tr>\n",
       "    <tr>\n",
       "      <th>1</th>\n",
       "      <td>ADDAM_MARBRAND</td>\n",
       "      <td>LEO_LEFFORD</td>\n",
       "      <td>3</td>\n",
       "    </tr>\n",
       "    <tr>\n",
       "      <th>2</th>\n",
       "      <td>ADDAM_MARBRAND</td>\n",
       "      <td>KEVAN</td>\n",
       "      <td>3</td>\n",
       "    </tr>\n",
       "    <tr>\n",
       "      <th>3</th>\n",
       "      <td>AEGON</td>\n",
       "      <td>MAESTER_AEMON</td>\n",
       "      <td>2</td>\n",
       "    </tr>\n",
       "    <tr>\n",
       "      <th>4</th>\n",
       "      <td>AEGON</td>\n",
       "      <td>AERYS</td>\n",
       "      <td>2</td>\n",
       "    </tr>\n",
       "    <tr>\n",
       "      <th>...</th>\n",
       "      <td>...</td>\n",
       "      <td>...</td>\n",
       "      <td>...</td>\n",
       "    </tr>\n",
       "    <tr>\n",
       "      <th>544</th>\n",
       "      <td>TYRION</td>\n",
       "      <td>TYSHA</td>\n",
       "      <td>2</td>\n",
       "    </tr>\n",
       "    <tr>\n",
       "      <th>545</th>\n",
       "      <td>TYRION</td>\n",
       "      <td>VARYS</td>\n",
       "      <td>2</td>\n",
       "    </tr>\n",
       "    <tr>\n",
       "      <th>546</th>\n",
       "      <td>VARDIS_EGEN</td>\n",
       "      <td>TYRION</td>\n",
       "      <td>9</td>\n",
       "    </tr>\n",
       "    <tr>\n",
       "      <th>547</th>\n",
       "      <td>VARYS</td>\n",
       "      <td>YOREN</td>\n",
       "      <td>3</td>\n",
       "    </tr>\n",
       "    <tr>\n",
       "      <th>548</th>\n",
       "      <td>WAYMAR_ROYCE</td>\n",
       "      <td>WILL</td>\n",
       "      <td>4</td>\n",
       "    </tr>\n",
       "  </tbody>\n",
       "</table>\n",
       "<p>549 rows × 3 columns</p>\n",
       "</div>"
      ],
      "text/plain": [
       "             source         target  weight\n",
       "0    ADDAM_MARBRAND          TYWIN       2\n",
       "1    ADDAM_MARBRAND    LEO_LEFFORD       3\n",
       "2    ADDAM_MARBRAND          KEVAN       3\n",
       "3             AEGON  MAESTER_AEMON       2\n",
       "4             AEGON          AERYS       2\n",
       "..              ...            ...     ...\n",
       "544          TYRION          TYSHA       2\n",
       "545          TYRION          VARYS       2\n",
       "546     VARDIS_EGEN         TYRION       9\n",
       "547           VARYS          YOREN       3\n",
       "548    WAYMAR_ROYCE           WILL       4\n",
       "\n",
       "[549 rows x 3 columns]"
      ]
     },
     "execution_count": 7,
     "metadata": {},
     "output_type": "execute_result"
    }
   ],
   "source": [
    "weighted_edges"
   ]
  },
  {
   "cell_type": "code",
   "execution_count": 8,
   "metadata": {},
   "outputs": [
    {
     "ename": "ValueError",
     "evalue": "expected IDs to appear once, found some that appeared more: 'Lommy', 'Qhorin', 'Wolkan'",
     "output_type": "error",
     "traceback": [
      "\u001b[1;31m---------------------------------------------------------------------------\u001b[0m",
      "\u001b[1;31mValueError\u001b[0m                                Traceback (most recent call last)",
      "Cell \u001b[1;32mIn[8], line 1\u001b[0m\n\u001b[1;32m----> 1\u001b[0m weighted_homogeneous \u001b[39m=\u001b[39m StellarGraph(nodes, weighted_edges)\n\u001b[0;32m      2\u001b[0m \u001b[39mprint\u001b[39m(weighted_homogeneous\u001b[39m.\u001b[39minfo())\n",
      "File \u001b[1;32mc:\\Users\\nikte\\.conda\\envs\\lsna\\lib\\site-packages\\stellargraph\\core\\graph.py:414\u001b[0m, in \u001b[0;36mStellarGraph.__init__\u001b[1;34m(self, nodes, edges, is_directed, source_column, target_column, edge_weight_column, edge_type_column, node_type_default, edge_type_default, dtype, graph, node_type_name, edge_type_name, node_features)\u001b[0m\n\u001b[0;32m    411\u001b[0m any_internal \u001b[39m=\u001b[39m nodes_is_internal \u001b[39mor\u001b[39;00m edges_is_internal\n\u001b[0;32m    413\u001b[0m \u001b[39mif\u001b[39;00m \u001b[39mnot\u001b[39;00m any_internal:\n\u001b[1;32m--> 414\u001b[0m     internal_nodes \u001b[39m=\u001b[39m convert\u001b[39m.\u001b[39;49mconvert_nodes(\n\u001b[0;32m    415\u001b[0m         nodes, name\u001b[39m=\u001b[39;49m\u001b[39m\"\u001b[39;49m\u001b[39mnodes\u001b[39;49m\u001b[39m\"\u001b[39;49m, default_type\u001b[39m=\u001b[39;49mnode_type_default, dtype\u001b[39m=\u001b[39;49mdtype,\n\u001b[0;32m    416\u001b[0m     )\n\u001b[0;32m    418\u001b[0m     internal_edges \u001b[39m=\u001b[39m convert\u001b[39m.\u001b[39mconvert_edges(\n\u001b[0;32m    419\u001b[0m         edges,\n\u001b[0;32m    420\u001b[0m         name\u001b[39m=\u001b[39m\u001b[39m\"\u001b[39m\u001b[39medges\u001b[39m\u001b[39m\"\u001b[39m,\n\u001b[1;32m   (...)\u001b[0m\n\u001b[0;32m    427\u001b[0m         dtype\u001b[39m=\u001b[39mdtype,\n\u001b[0;32m    428\u001b[0m     )\n\u001b[0;32m    429\u001b[0m \u001b[39melse\u001b[39;00m:\n",
      "File \u001b[1;32mc:\\Users\\nikte\\.conda\\envs\\lsna\\lib\\site-packages\\stellargraph\\core\\convert.py:256\u001b[0m, in \u001b[0;36mconvert_nodes\u001b[1;34m(data, name, default_type, dtype)\u001b[0m\n\u001b[0;32m    254\u001b[0m ids, columns, type_info \u001b[39m=\u001b[39m converter\u001b[39m.\u001b[39mconvert(data)\n\u001b[0;32m    255\u001b[0m \u001b[39massert\u001b[39;00m \u001b[39mlen\u001b[39m(columns) \u001b[39m==\u001b[39m \u001b[39m0\u001b[39m\n\u001b[1;32m--> 256\u001b[0m \u001b[39mreturn\u001b[39;00m NodeData(ids, type_info)\n",
      "File \u001b[1;32mc:\\Users\\nikte\\.conda\\envs\\lsna\\lib\\site-packages\\stellargraph\\core\\element_data.py:168\u001b[0m, in \u001b[0;36mElementData.__init__\u001b[1;34m(self, ids, type_info)\u001b[0m\n\u001b[0;32m    163\u001b[0m \u001b[39mif\u001b[39;00m rows_so_far \u001b[39m!=\u001b[39m \u001b[39mlen\u001b[39m(ids):\n\u001b[0;32m    164\u001b[0m     \u001b[39mraise\u001b[39;00m \u001b[39mValueError\u001b[39;00m(\n\u001b[0;32m    165\u001b[0m         \u001b[39mf\u001b[39m\u001b[39m\"\u001b[39m\u001b[39mtype_info: expected features for each of the \u001b[39m\u001b[39m{\u001b[39;00m\u001b[39mlen\u001b[39m(ids)\u001b[39m}\u001b[39;00m\u001b[39m IDs, found a total of \u001b[39m\u001b[39m{\u001b[39;00mrows_so_far\u001b[39m}\u001b[39;00m\u001b[39m features\u001b[39m\u001b[39m\"\u001b[39m\n\u001b[0;32m    166\u001b[0m     )\n\u001b[1;32m--> 168\u001b[0m \u001b[39mself\u001b[39m\u001b[39m.\u001b[39m_id_index \u001b[39m=\u001b[39m ExternalIdIndex(ids)\n\u001b[0;32m    170\u001b[0m \u001b[39m# there's typically a small number of types, so we can map them down to a small integer type\u001b[39;00m\n\u001b[0;32m    171\u001b[0m \u001b[39m# (usually uint8) for minimum storage requirements\u001b[39;00m\n\u001b[0;32m    172\u001b[0m \u001b[39mself\u001b[39m\u001b[39m.\u001b[39m_type_index \u001b[39m=\u001b[39m ExternalIdIndex(all_types)\n",
      "File \u001b[1;32mc:\\Users\\nikte\\.conda\\envs\\lsna\\lib\\site-packages\\stellargraph\\core\\element_data.py:44\u001b[0m, in \u001b[0;36mExternalIdIndex.__init__\u001b[1;34m(self, ids)\u001b[0m\n\u001b[0;32m     41\u001b[0m \u001b[39mif\u001b[39;00m \u001b[39mnot\u001b[39;00m \u001b[39mself\u001b[39m\u001b[39m.\u001b[39m_index\u001b[39m.\u001b[39mis_unique:\n\u001b[0;32m     42\u001b[0m     \u001b[39m# had some duplicated IDs, which is an error\u001b[39;00m\n\u001b[0;32m     43\u001b[0m     duplicated \u001b[39m=\u001b[39m \u001b[39mself\u001b[39m\u001b[39m.\u001b[39m_index[\u001b[39mself\u001b[39m\u001b[39m.\u001b[39m_index\u001b[39m.\u001b[39mduplicated()]\u001b[39m.\u001b[39munique()\n\u001b[1;32m---> 44\u001b[0m     \u001b[39mraise\u001b[39;00m \u001b[39mValueError\u001b[39;00m(\n\u001b[0;32m     45\u001b[0m         \u001b[39mf\u001b[39m\u001b[39m\"\u001b[39m\u001b[39mexpected IDs to appear once, found some that appeared more: \u001b[39m\u001b[39m{\u001b[39;00mcomma_sep(duplicated)\u001b[39m}\u001b[39;00m\u001b[39m\"\u001b[39m\n\u001b[0;32m     46\u001b[0m     )\n",
      "\u001b[1;31mValueError\u001b[0m: expected IDs to appear once, found some that appeared more: 'Lommy', 'Qhorin', 'Wolkan'"
     ]
    }
   ],
   "source": [
    "weighted_homogeneous = StellarGraph(nodes, weighted_edges)\n",
    "print(weighted_homogeneous.info())"
   ]
  },
  {
   "attachments": {},
   "cell_type": "markdown",
   "metadata": {},
   "source": [
    "## Graphsage embedding "
   ]
  },
  {
   "cell_type": "code",
   "execution_count": 3,
   "metadata": {},
   "outputs": [
    {
     "data": {
      "text/html": [
       "<table><tr><th>nodeProjection</th><th>relationshipProjection</th><th>graphName</th><th>nodeCount</th><th>relationshipCount</th><th>projectMillis</th></tr><tr><td style=\"text-align:left\">{Person: {label: &#039;Person&#039;, properties: {}}}</td><td style=\"text-align:left\">{INTERACTS_5: {orientation: &#039;UNDIRECTED&#039;, indexInverse: false, aggregation: &#039;DEFAULT&#039;, type: &#039;INTERACTS_5&#039;, properties: {}}}</td><td style=\"text-align:left\">myGraph5</td><td style=\"text-align:right\">418</td><td style=\"text-align:right\">866</td><td style=\"text-align:right\">21</td></tr></table>"
      ],
      "text/plain": [
       " nodeProjection                              | relationshipProjection                                                                                                       | graphName | nodeCount | relationshipCount | projectMillis \n",
       "---------------------------------------------|------------------------------------------------------------------------------------------------------------------------------|-----------|-----------|-------------------|---------------\n",
       " {Person: {label: 'Person', properties: {}}} | {INTERACTS_5: {orientation: 'UNDIRECTED', indexInverse: false, aggregation: 'DEFAULT', type: 'INTERACTS_5', properties: {}}} | myGraph5  |       418 |               866 |            21 "
      ]
     },
     "execution_count": 3,
     "metadata": {},
     "output_type": "execute_result"
    }
   ],
   "source": [
    "# Make the in memory graphs for adding triangle counts and clustering coefficients\n",
    "query1 = \"\"\"\n",
    "CALL gds.graph.project(\n",
    "  'myGraph1',\n",
    "  'Person',\n",
    "  {\n",
    "    INTERACTS_1: {\n",
    "      orientation: 'UNDIRECTED'\n",
    "    }\n",
    "  }\n",
    ")\n",
    "\"\"\"\n",
    "\n",
    "query2 = \"\"\"\n",
    "CALL gds.graph.project(\n",
    "  'myGraph2',\n",
    "  'Person',\n",
    "  {\n",
    "    INTERACTS_2: {\n",
    "    orientation: 'UNDIRECTED'\n",
    "}\n",
    "}\n",
    ")\n",
    "\"\"\"\n",
    "query3 = \"\"\"\n",
    "CALL gds.graph.project(\n",
    "  'myGraph3',\n",
    "  'Person',\n",
    "  {\n",
    "    INTERACTS_3: {\n",
    "    orientation: 'UNDIRECTED'\n",
    "}\n",
    "  }\n",
    ")\n",
    "\"\"\"\n",
    "query4 = \"\"\"\n",
    "CALL gds.graph.project(\n",
    "  'myGraph4',\n",
    "  'Person',\n",
    "  {\n",
    "    INTERACTS_4: {\n",
    "    orientation: 'UNDIRECTED'\n",
    "}\n",
    "  }\n",
    ")\n",
    "\"\"\"\n",
    "query5 = \"\"\"\n",
    "CALL gds.graph.project(\n",
    "  'myGraph5',\n",
    "  'Person',\n",
    "  {\n",
    "    INTERACTS_5: {\n",
    "    orientation: 'UNDIRECTED'\n",
    "}\n",
    "  }\n",
    ")\n",
    "\"\"\"\n",
    "graph.run(query1)\n",
    "graph.run(query2)\n",
    "graph.run(query3)\n",
    "graph.run(query4)\n",
    "graph.run(query5)\n"
   ]
  },
  {
   "cell_type": "code",
   "execution_count": 4,
   "metadata": {},
   "outputs": [
    {
     "data": {
      "text/html": [
       "<table><tr><th>nodeProjection</th><th>relationshipProjection</th><th>graphName</th><th>nodeCount</th><th>relationshipCount</th><th>projectMillis</th></tr><tr><td style=\"text-align:left\">{Person: {label: &#039;Person&#039;, properties: {}}}</td><td style=\"text-align:left\">{INTERACTS_8: {orientation: &#039;UNDIRECTED&#039;, indexInverse: false, aggregation: &#039;DEFAULT&#039;, type: &#039;INTERACTS_8&#039;, properties: {}}}</td><td style=\"text-align:left\">myGraph8</td><td style=\"text-align:right\">418</td><td style=\"text-align:right\">1200</td><td style=\"text-align:right\">21</td></tr></table>"
      ],
      "text/plain": [
       " nodeProjection                              | relationshipProjection                                                                                                       | graphName | nodeCount | relationshipCount | projectMillis \n",
       "---------------------------------------------|------------------------------------------------------------------------------------------------------------------------------|-----------|-----------|-------------------|---------------\n",
       " {Person: {label: 'Person', properties: {}}} | {INTERACTS_8: {orientation: 'UNDIRECTED', indexInverse: false, aggregation: 'DEFAULT', type: 'INTERACTS_8', properties: {}}} | myGraph8  |       418 |              1200 |            21 "
      ]
     },
     "execution_count": 4,
     "metadata": {},
     "output_type": "execute_result"
    }
   ],
   "source": [
    "# Make the in memory graphs for adding triangle counts and clustering coefficients\n",
    "query6 = \"\"\"\n",
    "CALL gds.graph.project(\n",
    "  'myGraph6',\n",
    "  'Person',\n",
    "  {\n",
    "    INTERACTS_6: {\n",
    "      orientation: 'UNDIRECTED'\n",
    "    }\n",
    "  }\n",
    ")\n",
    "\"\"\"\n",
    "\n",
    "query7 = \"\"\"\n",
    "CALL gds.graph.project(\n",
    "  'myGraph7',\n",
    "  'Person',\n",
    "  {\n",
    "    INTERACTS_7: {\n",
    "      orientation: 'UNDIRECTED'\n",
    "    }\n",
    "  }\n",
    ")\n",
    "\"\"\"\n",
    "\n",
    "query8 = \"\"\"\n",
    "CALL gds.graph.project(\n",
    "  'myGraph8',\n",
    "  'Person',\n",
    "  {\n",
    "    INTERACTS_8: {\n",
    "      orientation: 'UNDIRECTED'\n",
    "    }\n",
    "  }\n",
    ")\n",
    "\"\"\"\n",
    "\n",
    "graph.run(query6)\n",
    "graph.run(query7)\n",
    "graph.run(query8)\n"
   ]
  },
  {
   "cell_type": "code",
   "execution_count": 6,
   "metadata": {},
   "outputs": [
    {
     "data": {
      "text/html": [
       "<table><tr><th>nodePropertiesWritten</th></tr><tr><td style=\"text-align:right\">418</td></tr></table>"
      ],
      "text/plain": [
       " nodePropertiesWritten \n",
       "-----------------------\n",
       "                   418 "
      ]
     },
     "execution_count": 6,
     "metadata": {},
     "output_type": "execute_result"
    }
   ],
   "source": [
    "query = \"\"\" \n",
    "CALL gds.degree.mutate(\n",
    "  'myGraph1',\n",
    "  {\n",
    "    mutateProperty: 'degree'\n",
    "  }\n",
    ") \n",
    "YIELD nodePropertiesWritten\n",
    "\"\"\"\n",
    "\n",
    "graph.run(query)"
   ]
  },
  {
   "cell_type": "code",
   "execution_count": 28,
   "metadata": {},
   "outputs": [
    {
     "ename": "ClientError",
     "evalue": "[Procedure.ProcedureCallFailed] Failed to invoke procedure `gds.beta.graphSage.train`: Caused by: java.lang.IllegalStateException: Storing more than `3` models in the catalog is available with a licensed Graph Data Science library. See documentation at https://neo4j.com/docs/graph-data-science/",
     "output_type": "error",
     "traceback": [
      "\u001b[1;31m---------------------------------------------------------------------------\u001b[0m",
      "\u001b[1;31mClientError\u001b[0m                               Traceback (most recent call last)",
      "Cell \u001b[1;32mIn[28], line 15\u001b[0m\n\u001b[0;32m      1\u001b[0m query \u001b[39m=\u001b[39m \u001b[39m\"\"\"\u001b[39m\u001b[39m \u001b[39m\n\u001b[0;32m      2\u001b[0m \u001b[39mCALL gds.beta.graphSage.train(\u001b[39m\n\u001b[0;32m      3\u001b[0m \u001b[39m  \u001b[39m\u001b[39m'\u001b[39m\u001b[39mmyGraph1\u001b[39m\u001b[39m'\u001b[39m\u001b[39m,\u001b[39m\n\u001b[1;32m   (...)\u001b[0m\n\u001b[0;32m     12\u001b[0m \u001b[39mRETURN trainMillis\u001b[39m\n\u001b[0;32m     13\u001b[0m \u001b[39m\"\"\"\u001b[39m\n\u001b[1;32m---> 15\u001b[0m graph\u001b[39m.\u001b[39;49mrun(query)\n",
      "File \u001b[1;32mc:\\Users\\nikte\\.conda\\envs\\lsna\\lib\\site-packages\\py2neo\\database.py:405\u001b[0m, in \u001b[0;36mGraph.run\u001b[1;34m(self, cypher, parameters, **kwparameters)\u001b[0m\n\u001b[0;32m    395\u001b[0m \u001b[39mdef\u001b[39;00m \u001b[39mrun\u001b[39m(\u001b[39mself\u001b[39m, cypher, parameters\u001b[39m=\u001b[39m\u001b[39mNone\u001b[39;00m, \u001b[39m*\u001b[39m\u001b[39m*\u001b[39mkwparameters):\n\u001b[0;32m    396\u001b[0m \u001b[39m    \u001b[39m\u001b[39m\"\"\" Run a single read/write query within an auto-commit\u001b[39;00m\n\u001b[0;32m    397\u001b[0m \u001b[39m    :class:`~py2neo.Transaction`.\u001b[39;00m\n\u001b[0;32m    398\u001b[0m \n\u001b[1;32m   (...)\u001b[0m\n\u001b[0;32m    403\u001b[0m \u001b[39m    :return:\u001b[39;00m\n\u001b[0;32m    404\u001b[0m \u001b[39m    \"\"\"\u001b[39;00m\n\u001b[1;32m--> 405\u001b[0m     \u001b[39mreturn\u001b[39;00m \u001b[39mself\u001b[39;49m\u001b[39m.\u001b[39;49mauto()\u001b[39m.\u001b[39;49mrun(cypher, parameters, \u001b[39m*\u001b[39;49m\u001b[39m*\u001b[39;49mkwparameters)\n",
      "File \u001b[1;32mc:\\Users\\nikte\\.conda\\envs\\lsna\\lib\\site-packages\\py2neo\\database.py:992\u001b[0m, in \u001b[0;36mTransaction.run\u001b[1;34m(self, cypher, parameters, **kwparameters)\u001b[0m\n\u001b[0;32m    988\u001b[0m     \u001b[39melse\u001b[39;00m:\n\u001b[0;32m    989\u001b[0m         result \u001b[39m=\u001b[39m \u001b[39mself\u001b[39m\u001b[39m.\u001b[39m_connector\u001b[39m.\u001b[39mauto_run(cypher, parameters,\n\u001b[0;32m    990\u001b[0m                                           graph_name\u001b[39m=\u001b[39m\u001b[39mself\u001b[39m\u001b[39m.\u001b[39mgraph\u001b[39m.\u001b[39mname,\n\u001b[0;32m    991\u001b[0m                                           readonly\u001b[39m=\u001b[39m\u001b[39mself\u001b[39m\u001b[39m.\u001b[39mreadonly)\n\u001b[1;32m--> 992\u001b[0m     \u001b[39mself\u001b[39;49m\u001b[39m.\u001b[39;49m_connector\u001b[39m.\u001b[39;49mpull(result, \u001b[39m-\u001b[39;49m\u001b[39m1\u001b[39;49m)\n\u001b[0;32m    993\u001b[0m     \u001b[39mreturn\u001b[39;00m Cursor(result, hydrant)\n\u001b[0;32m    994\u001b[0m \u001b[39mfinally\u001b[39;00m:\n",
      "File \u001b[1;32mc:\\Users\\nikte\\.conda\\envs\\lsna\\lib\\site-packages\\py2neo\\client\\__init__.py:1434\u001b[0m, in \u001b[0;36mConnector.pull\u001b[1;34m(self, result, n)\u001b[0m\n\u001b[0;32m   1432\u001b[0m cx \u001b[39m=\u001b[39m \u001b[39mself\u001b[39m\u001b[39m.\u001b[39m_reacquire(result\u001b[39m.\u001b[39mtransaction)\n\u001b[0;32m   1433\u001b[0m \u001b[39mtry\u001b[39;00m:\n\u001b[1;32m-> 1434\u001b[0m     cx\u001b[39m.\u001b[39;49mpull(result, n\u001b[39m=\u001b[39;49mn)\n\u001b[0;32m   1435\u001b[0m \u001b[39mexcept\u001b[39;00m (ConnectionUnavailable, ConnectionBroken):\n\u001b[0;32m   1436\u001b[0m     \u001b[39mself\u001b[39m\u001b[39m.\u001b[39mprune(cx\u001b[39m.\u001b[39mprofile)\n",
      "File \u001b[1;32mc:\\Users\\nikte\\.conda\\envs\\lsna\\lib\\site-packages\\py2neo\\client\\bolt.py:1001\u001b[0m, in \u001b[0;36mBolt4x0.pull\u001b[1;34m(self, result, n, capacity)\u001b[0m\n\u001b[0;32m    998\u001b[0m     raise_from(ConnectionBroken(\u001b[39m\"\u001b[39m\u001b[39mTransaction broken by disconnection \u001b[39m\u001b[39m\"\u001b[39m\n\u001b[0;32m    999\u001b[0m                                 \u001b[39m\"\u001b[39m\u001b[39mduring pull\u001b[39m\u001b[39m\"\u001b[39m), error)\n\u001b[0;32m   1000\u001b[0m \u001b[39melse\u001b[39;00m:\n\u001b[1;32m-> 1001\u001b[0m     \u001b[39mself\u001b[39;49m\u001b[39m.\u001b[39;49m_audit(\u001b[39mself\u001b[39;49m\u001b[39m.\u001b[39;49m_transaction)\n\u001b[0;32m   1002\u001b[0m     \u001b[39mreturn\u001b[39;00m response\n",
      "File \u001b[1;32mc:\\Users\\nikte\\.conda\\envs\\lsna\\lib\\site-packages\\py2neo\\client\\bolt.py:810\u001b[0m, in \u001b[0;36mBolt1._audit\u001b[1;34m(self, task)\u001b[0m\n\u001b[0;32m    808\u001b[0m     \u001b[39mreturn\u001b[39;00m\n\u001b[0;32m    809\u001b[0m \u001b[39mtry\u001b[39;00m:\n\u001b[1;32m--> 810\u001b[0m     task\u001b[39m.\u001b[39;49maudit()\n\u001b[0;32m    811\u001b[0m \u001b[39mexcept\u001b[39;00m Neo4jError:\n\u001b[0;32m    812\u001b[0m     \u001b[39mself\u001b[39m\u001b[39m.\u001b[39mreset(force\u001b[39m=\u001b[39m\u001b[39mTrue\u001b[39;00m)\n",
      "File \u001b[1;32mc:\\Users\\nikte\\.conda\\envs\\lsna\\lib\\site-packages\\py2neo\\client\\bolt.py:1140\u001b[0m, in \u001b[0;36mItemizedTask.audit\u001b[1;34m(self)\u001b[0m\n\u001b[0;32m   1138\u001b[0m \u001b[39mdef\u001b[39;00m \u001b[39maudit\u001b[39m(\u001b[39mself\u001b[39m):\n\u001b[0;32m   1139\u001b[0m     \u001b[39mfor\u001b[39;00m item \u001b[39min\u001b[39;00m \u001b[39mself\u001b[39m\u001b[39m.\u001b[39m_items:\n\u001b[1;32m-> 1140\u001b[0m         item\u001b[39m.\u001b[39;49maudit()\n",
      "File \u001b[1;32mc:\\Users\\nikte\\.conda\\envs\\lsna\\lib\\site-packages\\py2neo\\client\\bolt.py:1140\u001b[0m, in \u001b[0;36mItemizedTask.audit\u001b[1;34m(self)\u001b[0m\n\u001b[0;32m   1138\u001b[0m \u001b[39mdef\u001b[39;00m \u001b[39maudit\u001b[39m(\u001b[39mself\u001b[39m):\n\u001b[0;32m   1139\u001b[0m     \u001b[39mfor\u001b[39;00m item \u001b[39min\u001b[39;00m \u001b[39mself\u001b[39m\u001b[39m.\u001b[39m_items:\n\u001b[1;32m-> 1140\u001b[0m         item\u001b[39m.\u001b[39;49maudit()\n",
      "File \u001b[1;32mc:\\Users\\nikte\\.conda\\envs\\lsna\\lib\\site-packages\\py2neo\\client\\bolt.py:1303\u001b[0m, in \u001b[0;36mBoltResponse.audit\u001b[1;34m(self)\u001b[0m\n\u001b[0;32m   1301\u001b[0m \u001b[39mif\u001b[39;00m \u001b[39mself\u001b[39m\u001b[39m.\u001b[39m_failure:\n\u001b[0;32m   1302\u001b[0m     \u001b[39mself\u001b[39m\u001b[39m.\u001b[39mset_ignored()\n\u001b[1;32m-> 1303\u001b[0m     \u001b[39mraise\u001b[39;00m \u001b[39mself\u001b[39m\u001b[39m.\u001b[39m_failure\n",
      "\u001b[1;31mClientError\u001b[0m: [Procedure.ProcedureCallFailed] Failed to invoke procedure `gds.beta.graphSage.train`: Caused by: java.lang.IllegalStateException: Storing more than `3` models in the catalog is available with a licensed Graph Data Science library. See documentation at https://neo4j.com/docs/graph-data-science/"
     ]
    }
   ],
   "source": [
    "query = \"\"\" \n",
    "CALL gds.beta.graphSage.train(\n",
    "  'myGraph1',\n",
    "  {\n",
    "    modelName: 'myModel3',\n",
    "    featureProperties: ['degree'],\n",
    "    embeddingDimension: 2,\n",
    "    randomSeed: 19\n",
    "  }\n",
    ")\n",
    "YIELD trainMillis\n",
    "RETURN trainMillis\n",
    "\"\"\"\n",
    "\n",
    "graph.run(query)"
   ]
  },
  {
   "cell_type": "code",
   "execution_count": 23,
   "metadata": {},
   "outputs": [],
   "source": [
    "query = \"\"\" \n",
    "CALL gds.beta.graphSage.stream(\n",
    "  'myGraph1',\n",
    "  {\n",
    "    modelName: 'myModel2'\n",
    "  }\n",
    ")\n",
    "YIELD nodeId, embedding\n",
    "\"\"\"\n",
    "\n",
    "a = graph.run(query).to_data_frame()"
   ]
  },
  {
   "cell_type": "code",
   "execution_count": 29,
   "metadata": {},
   "outputs": [
    {
     "data": {
      "text/plain": [
       "[0.48163160226516744,\n",
       " 0.4435736385129853,\n",
       " 0.29744173078652314,\n",
       " 0.31327502994241757,\n",
       " 0.38343095593054577,\n",
       " 0.4874846675119471]"
      ]
     },
     "execution_count": 29,
     "metadata": {},
     "output_type": "execute_result"
    }
   ],
   "source": [
    "a['embedding'][1]"
   ]
  },
  {
   "cell_type": "code",
   "execution_count": 30,
   "metadata": {},
   "outputs": [
    {
     "data": {
      "text/plain": [
       "[0.48163160226516744,\n",
       " 0.4435736385129853,\n",
       " 0.29744173078652314,\n",
       " 0.31327502994241757,\n",
       " 0.38343095593054577,\n",
       " 0.4874846675119471]"
      ]
     },
     "execution_count": 30,
     "metadata": {},
     "output_type": "execute_result"
    }
   ],
   "source": [
    "a['embedding'][2]\n"
   ]
  },
  {
   "cell_type": "code",
   "execution_count": null,
   "metadata": {},
   "outputs": [],
   "source": []
  }
 ],
 "metadata": {
  "kernelspec": {
   "display_name": "lsna",
   "language": "python",
   "name": "python3"
  },
  "language_info": {
   "codemirror_mode": {
    "name": "ipython",
    "version": 3
   },
   "file_extension": ".py",
   "mimetype": "text/x-python",
   "name": "python",
   "nbconvert_exporter": "python",
   "pygments_lexer": "ipython3",
   "version": "3.8.16"
  },
  "orig_nbformat": 4
 },
 "nbformat": 4,
 "nbformat_minor": 2
}
