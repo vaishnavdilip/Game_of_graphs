{
 "cells": [
  {
   "cell_type": "code",
   "execution_count": 1,
   "metadata": {},
   "outputs": [],
   "source": [
    "from py2neo import Graph\n",
    "import pandas as pd\n",
    "import numpy as np\n",
    "import os"
   ]
  },
  {
   "cell_type": "code",
   "execution_count": 2,
   "metadata": {},
   "outputs": [],
   "source": [
    "graph = Graph(\"bolt://localhost:7687\", auth=(\"neo4j\", \"neo4jneo4j\"))"
   ]
  },
  {
   "cell_type": "code",
   "execution_count": 3,
   "metadata": {},
   "outputs": [
    {
     "data": {
      "text/html": [
       "(No data)"
      ],
      "text/plain": [
       "(No data)"
      ]
     },
     "execution_count": 3,
     "metadata": {},
     "output_type": "execute_result"
    }
   ],
   "source": [
    "graph.run(\"MATCH (n) DETACH DELETE n\")"
   ]
  },
  {
   "cell_type": "code",
   "execution_count": 8,
   "metadata": {},
   "outputs": [],
   "source": [
    "def create_nodes(df, season):\n",
    "    \"\"\"Function to create the nodes from the csv files.\n",
    "\n",
    "    Returns:\n",
    "        str: Acknowledgement string\n",
    "    \"\"\"\n",
    "    i=0\n",
    "    for idx in df.index:\n",
    "        id_ = df.loc[idx, 'Id']\n",
    "        label = df.loc[idx, 'Label'].replace('\\'', '')\n",
    "        cypher = \"MERGE (a:Person {id:\" + \"'\" + \\\n",
    "            id_ + \"'\" + \",label:\" + \"'\" + label + \"'})\"\n",
    "        cypher = cypher + f'SET a.seed={i} '\n",
    "        cypher = cypher + f'SET a:Person_{season}'\n",
    "        graph.run(cypher)\n",
    "        i+=1\n",
    "    return \"Done creating nodes\""
   ]
  },
  {
   "cell_type": "code",
   "execution_count": 9,
   "metadata": {},
   "outputs": [],
   "source": [
    "def create_edges(df):\n",
    "    \"\"\"Function to create the edges from the csv files.\n",
    "\n",
    "    Returns:\n",
    "        str: Acknowledgement string\n",
    "    \"\"\"\n",
    "    for idx in df.index:\n",
    "        src = df.loc[idx, 'Source']\n",
    "        tar = df.loc[idx, 'Target']\n",
    "        weight = df.loc[idx, 'Weight']\n",
    "        season = df.loc[idx, 'Season']\n",
    "        cypher = \"MATCH (src:Person {id:\" + \"'\" + src + \"'}),\"\n",
    "        cypher = cypher + \" (tar:Person {id:\" + \"'\" + tar + \"'})\"\n",
    "        cypher = cypher + \\\n",
    "            \"MERGE (src)-[r:INTERACTS_\"+ str(season) +\"]-(tar)\"\n",
    "        cypher = cypher + f\"SET r.weight={weight} SET r.season={season}\"\n",
    "        graph.run(cypher)\n",
    "    return \"Done creating edges\""
   ]
  },
  {
   "cell_type": "code",
   "execution_count": 10,
   "metadata": {},
   "outputs": [],
   "source": [
    "def create_graph():\n",
    "    \"\"\"Function to create the graph from the csv files.\n",
    "\n",
    "    Returns:\n",
    "        str: Acknowledgement string\n",
    "    \"\"\"\n",
    "    for season in range(1,9):\n",
    "        for type in ['nodes','edges']:\n",
    "            base_url = \"https://raw.githubusercontent.com/mathbeveridge/gameofthrones/master/data/\"\n",
    "            final_url = base_url+\"got-s\"+str(season)+\"-\"+type+\".csv\"\n",
    "            df = pd.read_csv(final_url)\n",
    "            if type == 'nodes':\n",
    "                create_nodes(df, season)\n",
    "            else:\n",
    "                create_edges(df)\n",
    "    return \"Done creating graph\""
   ]
  },
  {
   "cell_type": "code",
   "execution_count": 11,
   "metadata": {},
   "outputs": [
    {
     "data": {
      "text/plain": [
       "'Done creating graph'"
      ]
     },
     "execution_count": 11,
     "metadata": {},
     "output_type": "execute_result"
    }
   ],
   "source": [
    "create_graph()"
   ]
  }
 ],
 "metadata": {
  "kernelspec": {
   "display_name": "sna",
   "language": "python",
   "name": "python3"
  },
  "language_info": {
   "codemirror_mode": {
    "name": "ipython",
    "version": 3
   },
   "file_extension": ".py",
   "mimetype": "text/x-python",
   "name": "python",
   "nbconvert_exporter": "python",
   "pygments_lexer": "ipython3",
   "version": "3.11.3"
  },
  "orig_nbformat": 4
 },
 "nbformat": 4,
 "nbformat_minor": 2
}
