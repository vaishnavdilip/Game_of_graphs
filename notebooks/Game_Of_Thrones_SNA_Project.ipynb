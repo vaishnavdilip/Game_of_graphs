{
 "cells": [
  {
   "attachments": {},
   "cell_type": "markdown",
   "id": "efc5ac0e",
   "metadata": {},
   "source": [
    "Project SNA by Aleksandra Elena Getman (r0884498) and Vaishnav Dilip (r0872689)"
   ]
  },
  {
   "cell_type": "markdown",
   "id": "b022d74e",
   "metadata": {},
   "source": [
    "![Javatpoint](https://wallpaper-mania.com/wp-content/uploads/2018/09/High_resolution_wallpaper_background_ID_77702108554-optimized.jpg) "
   ]
  },
  {
   "cell_type": "markdown",
   "id": "e57b2816",
   "metadata": {},
   "source": [
    "## About the Game of Thrones (HBO Series)"
   ]
  },
  {
   "cell_type": "markdown",
   "id": "ae37df76",
   "metadata": {},
   "source": [
    "Game of Thrones is fantasy drama television series, which has over 8 series and a total of 73 episodes. \n",
    "\n",
    "This series shows three main storylines; \n",
    "1. Fights of the Iron Throne of the Seven Kingdoms: in which various noble characters create a web of political conflicts to fights for the throne or to set the independence from whoever is sitting on the throne \n",
    "2. Legal descendant try to reclaim their birth rights to dynasty of the Iron Throne\n",
    "3. Where the Night's Watch (a military located at the Northern borders) tries to protect all the Kingdoms from the mystical creatures\n",
    "\n",
    "(Source; https://en.wikipedia.org/wiki/Game_of_Thrones#:~:text=Game%20of%20Thrones%20is%20an,is%20A%20Game%20of%20Thrones)"
   ]
  },
  {
   "cell_type": "markdown",
   "id": "a965b5c4",
   "metadata": {},
   "source": [
    "# Introduction"
   ]
  },
  {
   "cell_type": "markdown",
   "id": "0814786d",
   "metadata": {},
   "source": [
    "In the following notebook, we are going to present you our Graph Database (Neo4J) Project using the Game of Thrones database that can be found on the following GitHub repository: https://github.com/mathbeveridge/gameofthrones\n",
    "This repository contains the pairs of characters found in the HBO series that are connected by (undirected edges) weighted by the number of interactions. \n",
    "\n",
    "__In reality, this database contains 5 types of interactions;__\n",
    "1. Character A speaks directly after Character B\n",
    "2. Character A speaks about Character B\n",
    "3. Character C speaks about Characters A and B\n",
    "4. Characters A and B are mentioned in the same stage direction\n",
    "5. Characters A and B appear in a scene together\n",
    "\n",
    "However, the exact type of interaction is not mentioned in each database, instead, the overall overview is provided.\n",
    "\n",
    "\n",
    "__Our project objectives__\n",
    "\n",
    "1. Community mining\n",
    "2. Link prediction by using network embeddings"
   ]
  },
  {
   "cell_type": "markdown",
   "id": "096dc4df",
   "metadata": {},
   "source": [
    "![Javatpoint](https://upload.wikimedia.org/wikipedia/commons/e/e5/Neo4j-logo_color.png) "
   ]
  },
  {
   "cell_type": "markdown",
   "id": "1a980e64",
   "metadata": {},
   "source": [
    "# Creating the Graph Databse in Neo4J"
   ]
  },
  {
   "cell_type": "code",
   "execution_count": 1,
   "id": "23fb76b3",
   "metadata": {},
   "outputs": [],
   "source": [
    "from py2neo import Graph\n",
    "import pandas as pd\n",
    "import numpy as np\n",
    "import os"
   ]
  },
  {
   "cell_type": "code",
   "execution_count": 2,
   "id": "63a815ec",
   "metadata": {},
   "outputs": [],
   "source": [
    "graph = Graph(\"bolt://localhost:7687\", auth=(\"pizza\", \"superman\"))"
   ]
  },
  {
   "cell_type": "code",
   "execution_count": 3,
   "id": "e469b8ff",
   "metadata": {},
   "outputs": [
    {
     "data": {
      "text/html": [
       "(No data)"
      ],
      "text/plain": [
       "(No data)"
      ]
     },
     "execution_count": 3,
     "metadata": {},
     "output_type": "execute_result"
    }
   ],
   "source": [
    "graph.run(\"MATCH (n) DETACH DELETE n\")"
   ]
  },
  {
   "cell_type": "code",
   "execution_count": 4,
   "id": "ca124c80",
   "metadata": {},
   "outputs": [],
   "source": [
    "#Making nodes function\n",
    "def create_nodes(df):\n",
    "    \"\"\"Function to create the nodes from the csv files.\n",
    "\n",
    "    Returns:\n",
    "        str: Acknowledgement string\n",
    "    \"\"\"\n",
    "    i=0\n",
    "    for idx in df.index:\n",
    "        id_ = df.loc[idx, 'Id']\n",
    "        label = df.loc[idx, 'Label'].replace('\\'', '')\n",
    "        cypher = \"MERGE (a:Person {id:\" + \"'\" + \\\n",
    "            id_ + \"'\" + \",label:\" + \"'\" + label + \"'})\"\n",
    "        cypher = cypher + f'SET a.seed={i}'\n",
    "        graph.run(cypher)\n",
    "        i+=1\n",
    "    return \"Done creating nodes\""
   ]
  },
  {
   "cell_type": "code",
   "execution_count": 5,
   "id": "3292a9ad",
   "metadata": {},
   "outputs": [],
   "source": [
    "#Making edges\n",
    "def create_edges(df):\n",
    "    \"\"\"Function to create the edges from the csv files.\n",
    "\n",
    "    Returns:\n",
    "        str: Acknowledgement string\n",
    "    \"\"\"\n",
    "    for idx in df.index:\n",
    "        src = df.loc[idx, 'Source']\n",
    "        tar = df.loc[idx, 'Target']\n",
    "        weight = df.loc[idx, 'Weight']\n",
    "        season = df.loc[idx, 'Season']\n",
    "        cypher = \"MATCH (src:Person {id:\" + \"'\" + src + \"'}),\"\n",
    "        cypher = cypher + \" (tar:Person {id:\" + \"'\" + tar + \"'})\"\n",
    "        cypher = cypher + \\\n",
    "            \"MERGE (src)-[r:INTERACTS_\"+ str(season) +\"]-(tar)\"\n",
    "        cypher = cypher + f\"SET r.weight={weight} SET r.season={season}\"\n",
    "        graph.run(cypher)\n",
    "    return \"Done creating edges\""
   ]
  },
  {
   "cell_type": "code",
   "execution_count": 6,
   "id": "05f2ca99",
   "metadata": {},
   "outputs": [],
   "source": [
    "#Creating graph\n",
    "def create_graph():\n",
    "    \"\"\"Function to create the graph from the csv files.\n",
    "\n",
    "    Returns:\n",
    "        str: Acknowledgement string\n",
    "    \"\"\"\n",
    "    for season in range(1,9):\n",
    "        for type in ['nodes','edges']:\n",
    "            base_url = \"https://raw.githubusercontent.com/mathbeveridge/gameofthrones/master/data/\"\n",
    "            final_url = base_url+\"got-s\"+str(season)+\"-\"+type+\".csv\"\n",
    "            df = pd.read_csv(final_url)\n",
    "            if type == 'nodes':\n",
    "                create_nodes(df)\n",
    "            else:\n",
    "                create_edges(df)\n",
    "    return \"Done creating graph\""
   ]
  },
  {
   "cell_type": "code",
   "execution_count": 7,
   "id": "a2d9e7e0",
   "metadata": {},
   "outputs": [
    {
     "data": {
      "text/plain": [
       "'Done creating graph'"
      ]
     },
     "execution_count": 7,
     "metadata": {},
     "output_type": "execute_result"
    }
   ],
   "source": [
    "create_graph()"
   ]
  },
  {
   "cell_type": "markdown",
   "id": "3ddc89db",
   "metadata": {},
   "source": [
    "# Comunity mining in each Season\n",
    "\n",
    "In the following section, we will apply the Louvain Modularity Algorithm to find communities in each of the seasons. The reason why this is carried out for each season separately is that Game of Thrones is a series in which various characters tend to betray each other often to get something out of it. On top of that, it will be interesting to see how the connections between characters change between each other. \n",
    "\n",
    "After applying the algorithm, we will employ the 5 centrality measures to derive a bigger picture of the characters that are important in each season. The 5 centrality measures will also assign the same meaning as in https://networkofthrones.wordpress.com/, as they carried out similar research.\n",
    "\n",
    "1. Degree centrality: how many people the character knows?\n",
    "2. Weighted degree centrality: how many interactions does the character have?\n",
    "3. Eigenvector centrality: how many important people does the character know?\n",
    "4. PageRank: how many important interactions does the character have?\n",
    "5. Betweenness: does the character help to connect the whole network?"
   ]
  },
  {
   "cell_type": "markdown",
   "id": "f334be60",
   "metadata": {},
   "source": [
    "## Graph for season 1"
   ]
  },
  {
   "cell_type": "markdown",
   "id": "eb14a31b",
   "metadata": {},
   "source": [
    "### Louvain Modularity Algorithm "
   ]
  },
  {
   "cell_type": "code",
   "execution_count": 8,
   "id": "e451270a",
   "metadata": {},
   "outputs": [
    {
     "data": {
      "text/html": [
       "<table><tr><th>graph</th><th>nodeQuery</th><th>nodes</th><th>relationshipQuery</th><th>rels</th></tr><tr><td style=\"text-align:left\">Got1</td><td style=\"text-align:left\">MATCH (n:Person)-[r:INTERACTS_1]-(Person) RETURN id(n) AS id, n.seed AS seed</td><td style=\"text-align:right\">126</td><td style=\"text-align:left\">MATCH (n:Person)-[r:INTERACTS_1]-(p:Person) RETURN id(n) AS source, id(p) AS target, r.weight AS weight</td><td style=\"text-align:right\">1098</td></tr></table>"
      ],
      "text/plain": [
       " graph | nodeQuery                                                                    | nodes | relationshipQuery                                                                                       | rels \n",
       "-------|------------------------------------------------------------------------------|-------|---------------------------------------------------------------------------------------------------------|------\n",
       " Got1  | MATCH (n:Person)-[r:INTERACTS_1]-(Person) RETURN id(n) AS id, n.seed AS seed |   126 | MATCH (n:Person)-[r:INTERACTS_1]-(p:Person) RETURN id(n) AS source, id(p) AS target, r.weight AS weight | 1098 "
      ]
     },
     "execution_count": 8,
     "metadata": {},
     "output_type": "execute_result"
    }
   ],
   "source": [
    "query = \"\"\"\n",
    "CALL gds.graph.project.cypher(\n",
    "  'Got1',\n",
    "  'MATCH (n:Person)-[r:INTERACTS_1]-(Person) RETURN id(n) AS id, n.seed AS seed',\n",
    "  'MATCH (n:Person)-[r:INTERACTS_1]-(p:Person) RETURN id(n) AS source, id(p) AS target, r.weight AS weight')\n",
    "YIELD\n",
    "    graphName AS graph, nodeQuery, nodeCount AS nodes, relationshipQuery, relationshipCount AS rels\n",
    "\n",
    "\"\"\"\n",
    "graph.run(query)"
   ]
  },
  {
   "cell_type": "code",
   "execution_count": 9,
   "id": "4e9b13ae",
   "metadata": {},
   "outputs": [
    {
     "data": {
      "text/html": [
       "<table><tr><th>nodeCount</th><th>relationshipCount</th><th>bytesMin</th><th>bytesMax</th><th>requiredMemory</th></tr><tr><td style=\"text-align:right\">126</td><td style=\"text-align:right\">1098</td><td style=\"text-align:right\">13369</td><td style=\"text-align:right\">582864</td><td style=\"text-align:left\">[13369 Bytes ... 569 KiB]</td></tr></table>"
      ],
      "text/plain": [
       " nodeCount | relationshipCount | bytesMin | bytesMax | requiredMemory            \n",
       "-----------|-------------------|----------|----------|---------------------------\n",
       "       126 |              1098 |    13369 |   582864 | [13369 Bytes ... 569 KiB] "
      ]
     },
     "execution_count": 9,
     "metadata": {},
     "output_type": "execute_result"
    }
   ],
   "source": [
    "#The following will estimate the memory requirements for running the algorithm:\n",
    "query = \"\"\"\n",
    "CALL gds.louvain.write.estimate('Got1', { writeProperty: 'community_S1' })\n",
    "YIELD nodeCount, relationshipCount, bytesMin, bytesMax, requiredMemory\n",
    "\"\"\"\n",
    "graph.run(query)"
   ]
  },
  {
   "cell_type": "code",
   "execution_count": 10,
   "id": "1bd57f2f",
   "metadata": {},
   "outputs": [
    {
     "data": {
      "text/html": [
       "<table><tr><th>label</th><th>communityId</th></tr><tr><td style=\"text-align:left\">Addam</td><td style=\"text-align:right\">55</td></tr><tr><td style=\"text-align:left\">Aegon</td><td style=\"text-align:right\">125</td></tr><tr><td style=\"text-align:left\">Aemon</td><td style=\"text-align:right\">125</td></tr></table>"
      ],
      "text/plain": [
       " label | communityId \n",
       "-------|-------------\n",
       " Addam |          55 \n",
       " Aegon |         125 \n",
       " Aemon |         125 "
      ]
     },
     "execution_count": 10,
     "metadata": {},
     "output_type": "execute_result"
    }
   ],
   "source": [
    "#The following will run the algorithm and stream results:\n",
    "query = \"\"\"\n",
    "CALL gds.louvain.stream('Got1', { seedProperty: 'seed' })\n",
    "YIELD nodeId, communityId, intermediateCommunityIds\n",
    "RETURN gds.util.asNode(nodeId).label AS label, communityId\n",
    "ORDER BY label ASC\n",
    "\"\"\"\n",
    "graph.run(query)"
   ]
  },
  {
   "cell_type": "code",
   "execution_count": 11,
   "id": "b87b320a",
   "metadata": {},
   "outputs": [
    {
     "data": {
      "text/html": [
       "<table><tr><th>communityCount</th></tr><tr><td style=\"text-align:right\">6</td></tr></table>"
      ],
      "text/plain": [
       " communityCount \n",
       "----------------\n",
       "              6 "
      ]
     },
     "execution_count": 11,
     "metadata": {},
     "output_type": "execute_result"
    }
   ],
   "source": [
    "#The following will run the algorithm and returns the result in form of statistical and measurement values:\n",
    "query = \"\"\"\n",
    "CALL gds.louvain.stats('Got1')\n",
    "YIELD communityCount\n",
    "\"\"\"\n",
    "graph.run(query)"
   ]
  },
  {
   "cell_type": "code",
   "execution_count": 12,
   "id": "01934d7a",
   "metadata": {},
   "outputs": [
    {
     "data": {
      "text/html": [
       "<table><tr><th>communityCount</th><th>modularity</th><th>modularities</th></tr><tr><td style=\"text-align:right\">6</td><td style=\"text-align:right\">0.4500051426504889</td><td style=\"text-align:left\">[0.40857860458326284, 0.4500051426504889]</td></tr></table>"
      ],
      "text/plain": [
       " communityCount |         modularity | modularities                              \n",
       "----------------|--------------------|-------------------------------------------\n",
       "              6 | 0.4500051426504889 | [0.40857860458326284, 0.4500051426504889] "
      ]
     },
     "execution_count": 12,
     "metadata": {},
     "output_type": "execute_result"
    }
   ],
   "source": [
    "#The following will run the algorithm and store the results in myGraph:\n",
    "query = \"\"\"\n",
    "CALL gds.louvain.mutate('Got1', { mutateProperty: 'communityId' })\n",
    "YIELD communityCount, modularity, modularities\n",
    "\"\"\"\n",
    "graph.run(query)"
   ]
  },
  {
   "cell_type": "code",
   "execution_count": 13,
   "id": "0366168c",
   "metadata": {},
   "outputs": [
    {
     "data": {
      "text/html": [
       "<table><tr><th>communityCount</th><th>modularity</th><th>modularities</th></tr><tr><td style=\"text-align:right\">6</td><td style=\"text-align:right\">0.4500051426504889</td><td style=\"text-align:left\">[0.40857860458326284, 0.4500051426504889]</td></tr></table>"
      ],
      "text/plain": [
       " communityCount |         modularity | modularities                              \n",
       "----------------|--------------------|-------------------------------------------\n",
       "              6 | 0.4500051426504889 | [0.40857860458326284, 0.4500051426504889] "
      ]
     },
     "execution_count": 13,
     "metadata": {},
     "output_type": "execute_result"
    }
   ],
   "source": [
    "#The following run the algorithm, and write back results:\n",
    "query = \"\"\"\n",
    "CALL gds.louvain.write('Got1', { writeProperty: 'community_S1' })\n",
    "YIELD communityCount, modularity, modularities\n",
    "\"\"\"\n",
    "graph.run(query)"
   ]
  },
  {
   "cell_type": "markdown",
   "id": "a00a8039",
   "metadata": {},
   "source": [
    "#### Discussion\n",
    "\n",
    "Louvain Modularity Algorithm is one of the ways to identify various communities present in the network, in here the maximum modularity is derived when 6 communities are identified. Such prediction is close to what we remember in the series, \n",
    " 1. the Night's Watch\n",
    " 2. the Lannisters\n",
    " 3. the Dathraki\n",
    " 4. King's Landing\n",
    " 5. the Starks\n",
    " 6. Others"
   ]
  },
  {
   "cell_type": "markdown",
   "id": "bccd3a1c",
   "metadata": {},
   "source": [
    "### 5 Basic centrality measures"
   ]
  },
  {
   "cell_type": "code",
   "execution_count": 31,
   "id": "f73ffd3c",
   "metadata": {},
   "outputs": [
    {
     "data": {
      "text/html": [
       "<table><tr><th>name</th><th>score</th></tr><tr><td style=\"text-align:left\">NED</td><td style=\"text-align:right\">57.0</td></tr><tr><td style=\"text-align:left\">TYRION</td><td style=\"text-align:right\">41.0</td></tr><tr><td style=\"text-align:left\">ROBERT</td><td style=\"text-align:right\">36.0</td></tr></table>"
      ],
      "text/plain": [
       " name   | score \n",
       "--------|-------\n",
       " NED    |  57.0 \n",
       " TYRION |  41.0 \n",
       " ROBERT |  36.0 "
      ]
     },
     "execution_count": 31,
     "metadata": {},
     "output_type": "execute_result"
    }
   ],
   "source": [
    "#Degree\n",
    "query = \"\"\"\n",
    "CALL gds.degree.stream('Got1')\n",
    "YIELD nodeId, score\n",
    "RETURN gds.util.asNode(nodeId).id AS name, score\n",
    "ORDER BY score DESC\n",
    "LIMIT 5\n",
    "\"\"\"\n",
    "graph.run(query)"
   ]
  },
  {
   "cell_type": "code",
   "execution_count": 15,
   "id": "b0ee6597",
   "metadata": {
    "code_folding": []
   },
   "outputs": [
    {
     "data": {
      "text/html": [
       "<table><tr><th>name</th><th>score</th></tr><tr><td style=\"text-align:left\">NED</td><td style=\"text-align:right\">1290.0</td></tr><tr><td style=\"text-align:left\">TYRION</td><td style=\"text-align:right\">709.0</td></tr><tr><td style=\"text-align:left\">CATELYN</td><td style=\"text-align:right\">584.0</td></tr></table>"
      ],
      "text/plain": [
       " name    |  score \n",
       "---------|--------\n",
       " NED     | 1290.0 \n",
       " TYRION  |  709.0 \n",
       " CATELYN |  584.0 "
      ]
     },
     "execution_count": 15,
     "metadata": {},
     "output_type": "execute_result"
    }
   ],
   "source": [
    "#Weighted Degree\n",
    "query = \"\"\"\n",
    "CALL gds.degree.stream(\n",
    "   'Got1',\n",
    "   { relationshipWeightProperty: 'weight' }\n",
    ")\n",
    "YIELD nodeId, score\n",
    "RETURN gds.util.asNode(nodeId).id AS name, score\n",
    "ORDER BY score DESC\n",
    "LIMIT 5\n",
    "\"\"\"\n",
    "graph.run(query)"
   ]
  },
  {
   "cell_type": "code",
   "execution_count": 16,
   "id": "8ba4c535",
   "metadata": {},
   "outputs": [
    {
     "data": {
      "text/html": [
       "<table><tr><th>name</th><th>score</th></tr><tr><td style=\"text-align:left\">NED</td><td style=\"text-align:right\">0.3150828603837995</td></tr><tr><td style=\"text-align:left\">ROBERT</td><td style=\"text-align:right\">0.2481904649529348</td></tr><tr><td style=\"text-align:left\">CERSEI</td><td style=\"text-align:right\">0.239263152443205</td></tr></table>"
      ],
      "text/plain": [
       " name   |              score \n",
       "--------|--------------------\n",
       " NED    | 0.3150828603837995 \n",
       " ROBERT | 0.2481904649529348 \n",
       " CERSEI |  0.239263152443205 "
      ]
     },
     "execution_count": 16,
     "metadata": {},
     "output_type": "execute_result"
    }
   ],
   "source": [
    "#Eigenvector\n",
    "query = \"\"\"\n",
    "CALL gds.eigenvector.stream('Got1')\n",
    "YIELD nodeId, score\n",
    "RETURN gds.util.asNode(nodeId).id AS name, score\n",
    "ORDER BY score DESC\n",
    "LIMIT 5\n",
    "\"\"\"\n",
    "graph.run(query)"
   ]
  },
  {
   "cell_type": "code",
   "execution_count": 17,
   "id": "c94c2110",
   "metadata": {},
   "outputs": [
    {
     "data": {
      "text/html": [
       "<table><tr><th>page</th><th>score</th></tr><tr><td style=\"text-align:left\">NED</td><td style=\"text-align:right\">5.710814289359831</td></tr><tr><td style=\"text-align:left\">TYRION</td><td style=\"text-align:right\">4.140412812879867</td></tr><tr><td style=\"text-align:left\">CATELYN</td><td style=\"text-align:right\">3.4397081230227586</td></tr></table>"
      ],
      "text/plain": [
       " page    |              score \n",
       "---------|--------------------\n",
       " NED     |  5.710814289359831 \n",
       " TYRION  |  4.140412812879867 \n",
       " CATELYN | 3.4397081230227586 "
      ]
     },
     "execution_count": 17,
     "metadata": {},
     "output_type": "execute_result"
    }
   ],
   "source": [
    "#Pagerank\n",
    "query = \"\"\"\n",
    "CALL gds.pageRank.stream('Got1',  {maxIterations: 20,  dampingFactor: 0.85})\n",
    "YIELD nodeId, score\n",
    "RETURN gds.util.asNode(nodeId).id AS page, score\n",
    "ORDER BY score DESC\n",
    "LIMIT 5\n",
    "\"\"\"\n",
    "graph.run(query)"
   ]
  },
  {
   "cell_type": "code",
   "execution_count": 18,
   "id": "5af2c25d",
   "metadata": {},
   "outputs": [
    {
     "data": {
      "text/html": [
       "<table><tr><th>name</th><th>score</th></tr><tr><td style=\"text-align:left\">NED</td><td style=\"text-align:right\">4700.843226292089</td></tr><tr><td style=\"text-align:left\">TYRION</td><td style=\"text-align:right\">2526.9252462619834</td></tr><tr><td style=\"text-align:left\">CATELYN</td><td style=\"text-align:right\">1833.4028207687145</td></tr></table>"
      ],
      "text/plain": [
       " name    |              score \n",
       "---------|--------------------\n",
       " NED     |  4700.843226292089 \n",
       " TYRION  | 2526.9252462619834 \n",
       " CATELYN | 1833.4028207687145 "
      ]
     },
     "execution_count": 18,
     "metadata": {},
     "output_type": "execute_result"
    }
   ],
   "source": [
    "#Betweenness\n",
    "query = \"\"\"\n",
    "CALL gds.betweenness.stream('Got1')\n",
    "YIELD nodeId, score\n",
    "RETURN gds.util.asNode(nodeId).id AS name, score\n",
    "ORDER BY score DESC\n",
    "LIMIT 5\n",
    "\"\"\"\n",
    "graph.run(query)"
   ]
  },
  {
   "cell_type": "markdown",
   "id": "7f69fd93",
   "metadata": {},
   "source": [
    "__Discussion__\n",
    "\n",
    "By looking at all the 5 centrality measures, Ned who is from the house of Starks is the main character. He became the right hand of Robert (who is the current king of the Iron Throne in the first season). Because Rober is the king, it makes sense for him to know a lot of important people, yet he does not hold many important interactions (based on the weighted degree and PageRank), rather all his right hand operates the whole Kingdom (due to Ned having a lot of important interactions). \n",
    "\n",
    "The second person who not only seems to know a lot of people and has many interactions, but also helps the network to connect is Tyrion who belongs to the family of Lannisters and is a brother to Cersei (queen of the Iron Throne). During the whole show of The Game of Thrones, he feels left out by his family as he is being neglected and blamed by them for the death of his mother who died giving birth to him. As a rebellion action of him, he tries to find a connection with the Starks (in particular with Ned), therefore making him the node who holds all the connections in place. Notice that Tyrion does not know many important people, this indicates he is not so much interested in the power games compared to his sister Cersei (given in the PageRank).\n",
    "\n",
    "Catelyn on the other hand as playing a supportive wife of Ned, and because she is so close with Ned during the first season, it portrays her as an important character. "
   ]
  },
  {
   "cell_type": "markdown",
   "id": "51a80598",
   "metadata": {},
   "source": [
    "## Graph for season 2"
   ]
  },
  {
   "cell_type": "markdown",
   "id": "ac685662",
   "metadata": {},
   "source": [
    "### Louvain Modularity Algorithm"
   ]
  },
  {
   "cell_type": "code",
   "execution_count": 19,
   "id": "ac9c9715",
   "metadata": {},
   "outputs": [
    {
     "data": {
      "text/html": [
       "<table><tr><th>graph</th><th>nodeQuery</th><th>nodes</th><th>relationshipQuery</th><th>rels</th></tr><tr><td style=\"text-align:left\">Got2</td><td style=\"text-align:left\">MATCH (n:Person)-[r:INTERACTS_2]-(Person) RETURN id(n) AS id, n.seed AS seed</td><td style=\"text-align:right\">129</td><td style=\"text-align:left\">MATCH (n:Person)-[r:INTERACTS_2]-(p:Person) RETURN id(n) AS source, id(p) AS target, r.weight AS weight</td><td style=\"text-align:right\">972</td></tr></table>"
      ],
      "text/plain": [
       " graph | nodeQuery                                                                    | nodes | relationshipQuery                                                                                       | rels \n",
       "-------|------------------------------------------------------------------------------|-------|---------------------------------------------------------------------------------------------------------|------\n",
       " Got2  | MATCH (n:Person)-[r:INTERACTS_2]-(Person) RETURN id(n) AS id, n.seed AS seed |   129 | MATCH (n:Person)-[r:INTERACTS_2]-(p:Person) RETURN id(n) AS source, id(p) AS target, r.weight AS weight |  972 "
      ]
     },
     "execution_count": 19,
     "metadata": {},
     "output_type": "execute_result"
    }
   ],
   "source": [
    "query = \"\"\"\n",
    "CALL gds.graph.project.cypher(\n",
    "  'Got2',\n",
    "  'MATCH (n:Person)-[r:INTERACTS_2]-(Person) RETURN id(n) AS id, n.seed AS seed',\n",
    "  'MATCH (n:Person)-[r:INTERACTS_2]-(p:Person) RETURN id(n) AS source, id(p) AS target, r.weight AS weight')\n",
    "YIELD\n",
    "    graphName AS graph, nodeQuery, nodeCount AS nodes, relationshipQuery, relationshipCount AS rels\n",
    "\n",
    "\"\"\"\n",
    "graph.run(query)"
   ]
  },
  {
   "cell_type": "code",
   "execution_count": 20,
   "id": "0bf1f1d6",
   "metadata": {},
   "outputs": [
    {
     "data": {
      "text/html": [
       "<table><tr><th>nodeCount</th><th>relationshipCount</th><th>bytesMin</th><th>bytesMax</th><th>requiredMemory</th></tr><tr><td style=\"text-align:right\">129</td><td style=\"text-align:right\">972</td><td style=\"text-align:right\">13569</td><td style=\"text-align:right\">583456</td><td style=\"text-align:left\">[13569 Bytes ... 569 KiB]</td></tr></table>"
      ],
      "text/plain": [
       " nodeCount | relationshipCount | bytesMin | bytesMax | requiredMemory            \n",
       "-----------|-------------------|----------|----------|---------------------------\n",
       "       129 |               972 |    13569 |   583456 | [13569 Bytes ... 569 KiB] "
      ]
     },
     "execution_count": 20,
     "metadata": {},
     "output_type": "execute_result"
    }
   ],
   "source": [
    "#The following will estimate the memory requirements for running the algorithm:\n",
    "query = \"\"\"\n",
    "CALL gds.louvain.write.estimate('Got2', { writeProperty: 'community_S2' })\n",
    "YIELD nodeCount, relationshipCount, bytesMin, bytesMax, requiredMemory\n",
    "\"\"\"\n",
    "graph.run(query)"
   ]
  },
  {
   "cell_type": "code",
   "execution_count": 21,
   "id": "3f69faa2",
   "metadata": {},
   "outputs": [
    {
     "data": {
      "text/html": [
       "<table><tr><th>label</th><th>communityId</th></tr><tr><td style=\"text-align:left\">Aegon</td><td style=\"text-align:right\">123</td></tr><tr><td style=\"text-align:left\">Aerys</td><td style=\"text-align:right\">39</td></tr><tr><td style=\"text-align:left\">Alton</td><td style=\"text-align:right\">39</td></tr></table>"
      ],
      "text/plain": [
       " label | communityId \n",
       "-------|-------------\n",
       " Aegon |         123 \n",
       " Aerys |          39 \n",
       " Alton |          39 "
      ]
     },
     "execution_count": 21,
     "metadata": {},
     "output_type": "execute_result"
    }
   ],
   "source": [
    "#The following will run the algorithm and stream results:\n",
    "query = \"\"\"\n",
    "CALL gds.louvain.stream('Got2', { seedProperty: 'seed' })\n",
    "YIELD nodeId, communityId, intermediateCommunityIds\n",
    "RETURN gds.util.asNode(nodeId).label AS label, communityId\n",
    "ORDER BY label ASC\n",
    "\"\"\"\n",
    "graph.run(query)"
   ]
  },
  {
   "cell_type": "code",
   "execution_count": 22,
   "id": "4ab34d7c",
   "metadata": {},
   "outputs": [
    {
     "data": {
      "text/html": [
       "<table><tr><th>communityCount</th></tr><tr><td style=\"text-align:right\">6</td></tr></table>"
      ],
      "text/plain": [
       " communityCount \n",
       "----------------\n",
       "              6 "
      ]
     },
     "execution_count": 22,
     "metadata": {},
     "output_type": "execute_result"
    }
   ],
   "source": [
    "#The following will run the algorithm and returns the result in form of statistical and measurement values:\n",
    "query = \"\"\"\n",
    "CALL gds.louvain.stats('Got2')\n",
    "YIELD communityCount\n",
    "\"\"\"\n",
    "graph.run(query)"
   ]
  },
  {
   "cell_type": "code",
   "execution_count": 23,
   "id": "1cda3c1d",
   "metadata": {},
   "outputs": [
    {
     "data": {
      "text/html": [
       "<table><tr><th>communityCount</th><th>modularity</th><th>modularities</th></tr><tr><td style=\"text-align:right\">6</td><td style=\"text-align:right\">0.5675519483818524</td><td style=\"text-align:left\">[0.5333155514911345, 0.5675519483818524]</td></tr></table>"
      ],
      "text/plain": [
       " communityCount |         modularity | modularities                             \n",
       "----------------|--------------------|------------------------------------------\n",
       "              6 | 0.5675519483818524 | [0.5333155514911345, 0.5675519483818524] "
      ]
     },
     "execution_count": 23,
     "metadata": {},
     "output_type": "execute_result"
    }
   ],
   "source": [
    "#The following will run the algorithm and store the results in myGraph:\n",
    "query = \"\"\"\n",
    "CALL gds.louvain.mutate('Got2', { mutateProperty: 'communityId' })\n",
    "YIELD communityCount, modularity, modularities\n",
    "\"\"\"\n",
    "graph.run(query)"
   ]
  },
  {
   "cell_type": "code",
   "execution_count": 24,
   "id": "724eb7e2",
   "metadata": {},
   "outputs": [
    {
     "data": {
      "text/html": [
       "<table><tr><th>communityCount</th><th>modularity</th><th>modularities</th></tr><tr><td style=\"text-align:right\">6</td><td style=\"text-align:right\">0.5675519483818524</td><td style=\"text-align:left\">[0.5333155514911345, 0.5675519483818524]</td></tr></table>"
      ],
      "text/plain": [
       " communityCount |         modularity | modularities                             \n",
       "----------------|--------------------|------------------------------------------\n",
       "              6 | 0.5675519483818524 | [0.5333155514911345, 0.5675519483818524] "
      ]
     },
     "execution_count": 24,
     "metadata": {},
     "output_type": "execute_result"
    }
   ],
   "source": [
    "#The following run the algorithm, and write back results:\n",
    "query = \"\"\"\n",
    "CALL gds.louvain.write('Got2', { writeProperty: 'community_S2' })\n",
    "YIELD communityCount, modularity, modularities\n",
    "\"\"\"\n",
    "graph.run(query)"
   ]
  },
  {
   "cell_type": "markdown",
   "id": "aec3d8df",
   "metadata": {},
   "source": [
    "__Discussion__\n",
    "\n",
    "In here again 6 communities were identified;\n",
    "1. the Far North\n",
    "2. the Red Waste and Qarth \n",
    "3. King's Landing\n",
    "4. Harenhall\n",
    "5. the Riverlands and the Stormland\n",
    "6. the Iron Islands and Winterfell"
   ]
  },
  {
   "cell_type": "markdown",
   "id": "c4c90cbc",
   "metadata": {
    "code_folding": []
   },
   "source": [
    "### 5 basic centrality measures "
   ]
  },
  {
   "cell_type": "code",
   "execution_count": 26,
   "id": "59692877",
   "metadata": {},
   "outputs": [
    {
     "data": {
      "text/html": [
       "<table><tr><th>name</th><th>score</th></tr><tr><td style=\"text-align:left\">JOFFREY</td><td style=\"text-align:right\">36.0</td></tr><tr><td style=\"text-align:left\">TYRION</td><td style=\"text-align:right\">33.0</td></tr><tr><td style=\"text-align:left\">CERSEI</td><td style=\"text-align:right\">31.0</td></tr></table>"
      ],
      "text/plain": [
       " name    | score \n",
       "---------|-------\n",
       " JOFFREY |  36.0 \n",
       " TYRION  |  33.0 \n",
       " CERSEI  |  31.0 "
      ]
     },
     "execution_count": 26,
     "metadata": {},
     "output_type": "execute_result"
    }
   ],
   "source": [
    "#Degree\n",
    "query = \"\"\"\n",
    "CALL gds.degree.stream('Got2')\n",
    "YIELD nodeId, score\n",
    "RETURN gds.util.asNode(nodeId).id AS name, score\n",
    "ORDER BY score DESC\n",
    "LIMIT 5\n",
    "\"\"\"\n",
    "graph.run(query)"
   ]
  },
  {
   "cell_type": "code",
   "execution_count": 27,
   "id": "91c839b2",
   "metadata": {},
   "outputs": [
    {
     "data": {
      "text/html": [
       "<table><tr><th>name</th><th>score</th></tr><tr><td style=\"text-align:left\">TYRION</td><td style=\"text-align:right\">960.0</td></tr><tr><td style=\"text-align:left\">CERSEI</td><td style=\"text-align:right\">549.0</td></tr><tr><td style=\"text-align:left\">ARYA</td><td style=\"text-align:right\">481.0</td></tr></table>"
      ],
      "text/plain": [
       " name   | score \n",
       "--------|-------\n",
       " TYRION | 960.0 \n",
       " CERSEI | 549.0 \n",
       " ARYA   | 481.0 "
      ]
     },
     "execution_count": 27,
     "metadata": {},
     "output_type": "execute_result"
    }
   ],
   "source": [
    "#Weighted Degree\n",
    "query = \"\"\"\n",
    "CALL gds.degree.stream(\n",
    "   'Got2',\n",
    "   { relationshipWeightProperty: 'weight' }\n",
    ")\n",
    "YIELD nodeId, score\n",
    "RETURN gds.util.asNode(nodeId).id AS name, score\n",
    "ORDER BY score DESC\n",
    "LIMIT 5\n",
    "\"\"\"\n",
    "graph.run(query)"
   ]
  },
  {
   "cell_type": "code",
   "execution_count": 28,
   "id": "7819cc48",
   "metadata": {},
   "outputs": [
    {
     "data": {
      "text/html": [
       "<table><tr><th>name</th><th>score</th></tr><tr><td style=\"text-align:left\">JOFFREY</td><td style=\"text-align:right\">0.3133074261625616</td></tr><tr><td style=\"text-align:left\">CERSEI</td><td style=\"text-align:right\">0.28298193697415064</td></tr><tr><td style=\"text-align:left\">TYRION</td><td style=\"text-align:right\">0.27732429312701573</td></tr></table>"
      ],
      "text/plain": [
       " name    |               score \n",
       "---------|---------------------\n",
       " JOFFREY |  0.3133074261625616 \n",
       " CERSEI  | 0.28298193697415064 \n",
       " TYRION  | 0.27732429312701573 "
      ]
     },
     "execution_count": 28,
     "metadata": {},
     "output_type": "execute_result"
    }
   ],
   "source": [
    "#Eigenvector\n",
    "query = \"\"\"\n",
    "CALL gds.eigenvector.stream('Got2')\n",
    "YIELD nodeId, score\n",
    "RETURN gds.util.asNode(nodeId).id AS name, score\n",
    "ORDER BY score DESC\n",
    "LIMIT 5\n",
    "\"\"\"\n",
    "graph.run(query)"
   ]
  },
  {
   "cell_type": "code",
   "execution_count": 29,
   "id": "443c2b80",
   "metadata": {},
   "outputs": [
    {
     "data": {
      "text/html": [
       "<table><tr><th>page</th><th>score</th></tr><tr><td style=\"text-align:left\">JOFFREY</td><td style=\"text-align:right\">3.6139514610118892</td></tr><tr><td style=\"text-align:left\">TYRION</td><td style=\"text-align:right\">3.4854517741397</td></tr><tr><td style=\"text-align:left\">ARYA</td><td style=\"text-align:right\">3.4014533093263664</td></tr></table>"
      ],
      "text/plain": [
       " page    |              score \n",
       "---------|--------------------\n",
       " JOFFREY | 3.6139514610118892 \n",
       " TYRION  |    3.4854517741397 \n",
       " ARYA    | 3.4014533093263664 "
      ]
     },
     "execution_count": 29,
     "metadata": {},
     "output_type": "execute_result"
    }
   ],
   "source": [
    "#Pagerank\n",
    "query = \"\"\"\n",
    "CALL gds.pageRank.stream('Got2',  {maxIterations: 20,  dampingFactor: 0.85})\n",
    "YIELD nodeId, score\n",
    "RETURN gds.util.asNode(nodeId).id AS page, score\n",
    "ORDER BY score DESC\n",
    "LIMIT 5\n",
    "\"\"\"\n",
    "graph.run(query)"
   ]
  },
  {
   "cell_type": "code",
   "execution_count": 30,
   "id": "30e722e8",
   "metadata": {},
   "outputs": [
    {
     "data": {
      "text/html": [
       "<table><tr><th>name</th><th>score</th></tr><tr><td style=\"text-align:left\">ARYA</td><td style=\"text-align:right\">2455.341556287124</td></tr><tr><td style=\"text-align:left\">TYRION</td><td style=\"text-align:right\">2293.402566916603</td></tr><tr><td style=\"text-align:left\">ROBB</td><td style=\"text-align:right\">1902.715964088471</td></tr></table>"
      ],
      "text/plain": [
       " name   |             score \n",
       "--------|-------------------\n",
       " ARYA   | 2455.341556287124 \n",
       " TYRION | 2293.402566916603 \n",
       " ROBB   | 1902.715964088471 "
      ]
     },
     "execution_count": 30,
     "metadata": {},
     "output_type": "execute_result"
    }
   ],
   "source": [
    "#Betweenness\n",
    "query = \"\"\"\n",
    "CALL gds.betweenness.stream('Got2')\n",
    "YIELD nodeId, score\n",
    "RETURN gds.util.asNode(nodeId).id AS name, score\n",
    "ORDER BY score DESC\n",
    "LIMIT 5\n",
    "\"\"\"\n",
    "graph.run(query)"
   ]
  },
  {
   "cell_type": "markdown",
   "id": "71056659",
   "metadata": {},
   "source": [
    "__Discussion__\n"
   ]
  },
  {
   "cell_type": "markdown",
   "id": "e6d40dca",
   "metadata": {},
   "source": [
    "## Graph for season 3"
   ]
  },
  {
   "cell_type": "markdown",
   "id": "01cc84c7",
   "metadata": {},
   "source": [
    "### Louvain Modularity Algorithm"
   ]
  },
  {
   "cell_type": "code",
   "execution_count": 33,
   "id": "2a3efe8c",
   "metadata": {},
   "outputs": [
    {
     "data": {
      "text/html": [
       "<table><tr><th>graph</th><th>nodeQuery</th><th>nodes</th><th>relationshipQuery</th><th>rels</th></tr><tr><td style=\"text-align:left\">Got3</td><td style=\"text-align:left\">MATCH (n:Person)-[r:INTERACTS_3]-(Person) RETURN id(n) AS id, n.seed AS seed</td><td style=\"text-align:right\">125</td><td style=\"text-align:left\">MATCH (n:Person)-[r:INTERACTS_3]-(p:Person) RETURN id(n) AS source, id(p) AS target, r.weight AS weight</td><td style=\"text-align:right\">1014</td></tr></table>"
      ],
      "text/plain": [
       " graph | nodeQuery                                                                    | nodes | relationshipQuery                                                                                       | rels \n",
       "-------|------------------------------------------------------------------------------|-------|---------------------------------------------------------------------------------------------------------|------\n",
       " Got3  | MATCH (n:Person)-[r:INTERACTS_3]-(Person) RETURN id(n) AS id, n.seed AS seed |   125 | MATCH (n:Person)-[r:INTERACTS_3]-(p:Person) RETURN id(n) AS source, id(p) AS target, r.weight AS weight | 1014 "
      ]
     },
     "execution_count": 33,
     "metadata": {},
     "output_type": "execute_result"
    }
   ],
   "source": [
    "query = \"\"\"\n",
    "CALL gds.graph.project.cypher(\n",
    "  'Got3',\n",
    "  'MATCH (n:Person)-[r:INTERACTS_3]-(Person) RETURN id(n) AS id, n.seed AS seed',\n",
    "  'MATCH (n:Person)-[r:INTERACTS_3]-(p:Person) RETURN id(n) AS source, id(p) AS target, r.weight AS weight')\n",
    "YIELD\n",
    "    graphName AS graph, nodeQuery, nodeCount AS nodes, relationshipQuery, relationshipCount AS rels\n",
    "\n",
    "\"\"\"\n",
    "graph.run(query)"
   ]
  },
  {
   "cell_type": "code",
   "execution_count": 34,
   "id": "ecb667a6",
   "metadata": {},
   "outputs": [
    {
     "data": {
      "text/html": [
       "<table><tr><th>nodeCount</th><th>relationshipCount</th><th>bytesMin</th><th>bytesMax</th><th>requiredMemory</th></tr><tr><td style=\"text-align:right\">125</td><td style=\"text-align:right\">1014</td><td style=\"text-align:right\">13305</td><td style=\"text-align:right\">582696</td><td style=\"text-align:left\">[13305 Bytes ... 569 KiB]</td></tr></table>"
      ],
      "text/plain": [
       " nodeCount | relationshipCount | bytesMin | bytesMax | requiredMemory            \n",
       "-----------|-------------------|----------|----------|---------------------------\n",
       "       125 |              1014 |    13305 |   582696 | [13305 Bytes ... 569 KiB] "
      ]
     },
     "execution_count": 34,
     "metadata": {},
     "output_type": "execute_result"
    }
   ],
   "source": [
    "#The following will estimate the memory requirements for running the algorithm:\n",
    "query = \"\"\"\n",
    "CALL gds.louvain.write.estimate('Got3', { writeProperty: 'community_S3' })\n",
    "YIELD nodeCount, relationshipCount, bytesMin, bytesMax, requiredMemory\n",
    "\"\"\"\n",
    "graph.run(query)"
   ]
  },
  {
   "cell_type": "code",
   "execution_count": 35,
   "id": "6c442371",
   "metadata": {},
   "outputs": [
    {
     "data": {
      "text/html": [
       "<table><tr><th>label</th><th>communityId</th></tr><tr><td style=\"text-align:left\">Aegon</td><td style=\"text-align:right\">15</td></tr><tr><td style=\"text-align:left\">Aemon</td><td style=\"text-align:right\">19</td></tr><tr><td style=\"text-align:left\">Aerys</td><td style=\"text-align:right\">82</td></tr></table>"
      ],
      "text/plain": [
       " label | communityId \n",
       "-------|-------------\n",
       " Aegon |          15 \n",
       " Aemon |          19 \n",
       " Aerys |          82 "
      ]
     },
     "execution_count": 35,
     "metadata": {},
     "output_type": "execute_result"
    }
   ],
   "source": [
    "#The following will run the algorithm and stream results:\n",
    "query = \"\"\"\n",
    "CALL gds.louvain.stream('Got3', { seedProperty: 'seed' })\n",
    "YIELD nodeId, communityId, intermediateCommunityIds\n",
    "RETURN gds.util.asNode(nodeId).label AS label, communityId\n",
    "ORDER BY label ASC\n",
    "\"\"\"\n",
    "graph.run(query)"
   ]
  },
  {
   "cell_type": "code",
   "execution_count": 36,
   "id": "5ee4886e",
   "metadata": {},
   "outputs": [
    {
     "data": {
      "text/html": [
       "<table><tr><th>communityCount</th></tr><tr><td style=\"text-align:right\">6</td></tr></table>"
      ],
      "text/plain": [
       " communityCount \n",
       "----------------\n",
       "              6 "
      ]
     },
     "execution_count": 36,
     "metadata": {},
     "output_type": "execute_result"
    }
   ],
   "source": [
    "#The following will run the algorithm and returns the result in form of statistical and measurement values:\n",
    "query = \"\"\"\n",
    "CALL gds.louvain.stats('Got3')\n",
    "YIELD communityCount\n",
    "\"\"\"\n",
    "graph.run(query)"
   ]
  },
  {
   "cell_type": "code",
   "execution_count": 37,
   "id": "b296dcd5",
   "metadata": {},
   "outputs": [
    {
     "data": {
      "text/html": [
       "<table><tr><th>communityCount</th><th>modularity</th><th>modularities</th></tr><tr><td style=\"text-align:right\">6</td><td style=\"text-align:right\">0.6260635131823116</td><td style=\"text-align:left\">[0.6018171632645916, 0.6260635131823116]</td></tr></table>"
      ],
      "text/plain": [
       " communityCount |         modularity | modularities                             \n",
       "----------------|--------------------|------------------------------------------\n",
       "              6 | 0.6260635131823116 | [0.6018171632645916, 0.6260635131823116] "
      ]
     },
     "execution_count": 37,
     "metadata": {},
     "output_type": "execute_result"
    }
   ],
   "source": [
    "#The following will run the algorithm and store the results in myGraph:\n",
    "query = \"\"\"\n",
    "CALL gds.louvain.mutate('Got3', { mutateProperty: 'communityId' })\n",
    "YIELD communityCount, modularity, modularities\n",
    "\"\"\"\n",
    "graph.run(query)"
   ]
  },
  {
   "cell_type": "code",
   "execution_count": 38,
   "id": "97281ac5",
   "metadata": {},
   "outputs": [
    {
     "data": {
      "text/html": [
       "<table><tr><th>communityCount</th><th>modularity</th><th>modularities</th></tr><tr><td style=\"text-align:right\">6</td><td style=\"text-align:right\">0.6260635131823116</td><td style=\"text-align:left\">[0.6018171632645916, 0.6260635131823116]</td></tr></table>"
      ],
      "text/plain": [
       " communityCount |         modularity | modularities                             \n",
       "----------------|--------------------|------------------------------------------\n",
       "              6 | 0.6260635131823116 | [0.6018171632645916, 0.6260635131823116] "
      ]
     },
     "execution_count": 38,
     "metadata": {},
     "output_type": "execute_result"
    }
   ],
   "source": [
    "#The following run the algorithm, and write back results:\n",
    "query = \"\"\"\n",
    "CALL gds.louvain.write('Got3', { writeProperty: 'community_S3' })\n",
    "YIELD communityCount, modularity, modularities\n",
    "\"\"\"\n",
    "graph.run(query)"
   ]
  },
  {
   "cell_type": "markdown",
   "id": "2f219476",
   "metadata": {},
   "source": [
    "### 5 basic centrality measures "
   ]
  },
  {
   "cell_type": "code",
   "execution_count": 39,
   "id": "b011426a",
   "metadata": {},
   "outputs": [
    {
     "data": {
      "text/html": [
       "<table><tr><th>name</th><th>score</th></tr><tr><td style=\"text-align:left\">ROBB</td><td style=\"text-align:right\">31.0</td></tr><tr><td style=\"text-align:left\">TYWIN</td><td style=\"text-align:right\">29.0</td></tr><tr><td style=\"text-align:left\">TYRION</td><td style=\"text-align:right\">25.0</td></tr></table>"
      ],
      "text/plain": [
       " name   | score \n",
       "--------|-------\n",
       " ROBB   |  31.0 \n",
       " TYWIN  |  29.0 \n",
       " TYRION |  25.0 "
      ]
     },
     "execution_count": 39,
     "metadata": {},
     "output_type": "execute_result"
    }
   ],
   "source": [
    "#Degree\n",
    "query = \"\"\"\n",
    "CALL gds.degree.stream('Got3')\n",
    "YIELD nodeId, score\n",
    "RETURN gds.util.asNode(nodeId).id AS name, score\n",
    "ORDER BY score DESC\n",
    "LIMIT 5\n",
    "\"\"\"\n",
    "graph.run(query)"
   ]
  },
  {
   "cell_type": "code",
   "execution_count": 40,
   "id": "c71a3b5d",
   "metadata": {},
   "outputs": [
    {
     "data": {
      "text/html": [
       "<table><tr><th>name</th><th>score</th></tr><tr><td style=\"text-align:left\">TYRION</td><td style=\"text-align:right\">653.0</td></tr><tr><td style=\"text-align:left\">ROBB</td><td style=\"text-align:right\">375.0</td></tr><tr><td style=\"text-align:left\">TYWIN</td><td style=\"text-align:right\">366.0</td></tr></table>"
      ],
      "text/plain": [
       " name   | score \n",
       "--------|-------\n",
       " TYRION | 653.0 \n",
       " ROBB   | 375.0 \n",
       " TYWIN  | 366.0 "
      ]
     },
     "execution_count": 40,
     "metadata": {},
     "output_type": "execute_result"
    }
   ],
   "source": [
    "#Weighted Degree\n",
    "query = \"\"\"\n",
    "CALL gds.degree.stream(\n",
    "   'Got3',\n",
    "   { relationshipWeightProperty: 'weight' }\n",
    ")\n",
    "YIELD nodeId, score\n",
    "RETURN gds.util.asNode(nodeId).id AS name, score\n",
    "ORDER BY score DESC\n",
    "LIMIT 5\n",
    "\"\"\"\n",
    "graph.run(query)"
   ]
  },
  {
   "cell_type": "code",
   "execution_count": 41,
   "id": "6690e16f",
   "metadata": {},
   "outputs": [
    {
     "data": {
      "text/html": [
       "<table><tr><th>name</th><th>score</th></tr><tr><td style=\"text-align:left\">TYWIN</td><td style=\"text-align:right\">0.294075789383587</td></tr><tr><td style=\"text-align:left\">TYRION</td><td style=\"text-align:right\">0.2683662004062233</td></tr><tr><td style=\"text-align:left\">JOFFREY</td><td style=\"text-align:right\">0.24983902616879472</td></tr></table>"
      ],
      "text/plain": [
       " name    |               score \n",
       "---------|---------------------\n",
       " TYWIN   |   0.294075789383587 \n",
       " TYRION  |  0.2683662004062233 \n",
       " JOFFREY | 0.24983902616879472 "
      ]
     },
     "execution_count": 41,
     "metadata": {},
     "output_type": "execute_result"
    }
   ],
   "source": [
    "#Eigenvector\n",
    "query = \"\"\"\n",
    "CALL gds.eigenvector.stream('Got3')\n",
    "YIELD nodeId, score\n",
    "RETURN gds.util.asNode(nodeId).id AS name, score\n",
    "ORDER BY score DESC\n",
    "LIMIT 5\n",
    "\"\"\"\n",
    "graph.run(query)"
   ]
  },
  {
   "cell_type": "code",
   "execution_count": 42,
   "id": "b2f6f589",
   "metadata": {},
   "outputs": [
    {
     "data": {
      "text/html": [
       "<table><tr><th>page</th><th>score</th></tr><tr><td style=\"text-align:left\">ROBB</td><td style=\"text-align:right\">3.1307713054929844</td></tr><tr><td style=\"text-align:left\">TYWIN</td><td style=\"text-align:right\">2.874792630046823</td></tr><tr><td style=\"text-align:left\">TYRION</td><td style=\"text-align:right\">2.5522894149675976</td></tr></table>"
      ],
      "text/plain": [
       " page   |              score \n",
       "--------|--------------------\n",
       " ROBB   | 3.1307713054929844 \n",
       " TYWIN  |  2.874792630046823 \n",
       " TYRION | 2.5522894149675976 "
      ]
     },
     "execution_count": 42,
     "metadata": {},
     "output_type": "execute_result"
    }
   ],
   "source": [
    "#Pagerank\n",
    "query = \"\"\"\n",
    "CALL gds.pageRank.stream('Got3',  {maxIterations: 20,  dampingFactor: 0.85})\n",
    "YIELD nodeId, score\n",
    "RETURN gds.util.asNode(nodeId).id AS page, score\n",
    "ORDER BY score DESC\n",
    "LIMIT 5\n",
    "\"\"\"\n",
    "graph.run(query)"
   ]
  },
  {
   "cell_type": "code",
   "execution_count": 43,
   "id": "ca55ed3d",
   "metadata": {},
   "outputs": [
    {
     "data": {
      "text/html": [
       "<table><tr><th>name</th><th>score</th></tr><tr><td style=\"text-align:left\">ROBB</td><td style=\"text-align:right\">3609.6328036171367</td></tr><tr><td style=\"text-align:left\">NED</td><td style=\"text-align:right\">2651.6020895783627</td></tr><tr><td style=\"text-align:left\">ROBERT</td><td style=\"text-align:right\">2453.2637792802307</td></tr></table>"
      ],
      "text/plain": [
       " name   |              score \n",
       "--------|--------------------\n",
       " ROBB   | 3609.6328036171367 \n",
       " NED    | 2651.6020895783627 \n",
       " ROBERT | 2453.2637792802307 "
      ]
     },
     "execution_count": 43,
     "metadata": {},
     "output_type": "execute_result"
    }
   ],
   "source": [
    "#Betweenness\n",
    "query = \"\"\"\n",
    "CALL gds.betweenness.stream('Got3')\n",
    "YIELD nodeId, score\n",
    "RETURN gds.util.asNode(nodeId).id AS name, score\n",
    "ORDER BY score DESC\n",
    "LIMIT 5\n",
    "\"\"\"\n",
    "graph.run(query)"
   ]
  },
  {
   "cell_type": "markdown",
   "id": "d0c91618",
   "metadata": {},
   "source": [
    "## Graph for season 4"
   ]
  },
  {
   "cell_type": "markdown",
   "id": "5752e9de",
   "metadata": {},
   "source": [
    "### Louvain Modularity Algorithm"
   ]
  },
  {
   "cell_type": "code",
   "execution_count": 44,
   "id": "b894fdc8",
   "metadata": {},
   "outputs": [
    {
     "data": {
      "text/html": [
       "<table><tr><th>graph</th><th>nodeQuery</th><th>nodes</th><th>relationshipQuery</th><th>rels</th></tr><tr><td style=\"text-align:left\">Got4</td><td style=\"text-align:left\">MATCH (n:Person)-[r:INTERACTS_4]-(Person) RETURN id(n) AS id, n.seed AS seed</td><td style=\"text-align:right\">177</td><td style=\"text-align:left\">MATCH (n:Person)-[r:INTERACTS_4]-(p:Person) RETURN id(n) AS source, id(p) AS target, r.weight AS weight</td><td style=\"text-align:right\">1410</td></tr></table>"
      ],
      "text/plain": [
       " graph | nodeQuery                                                                    | nodes | relationshipQuery                                                                                       | rels \n",
       "-------|------------------------------------------------------------------------------|-------|---------------------------------------------------------------------------------------------------------|------\n",
       " Got4  | MATCH (n:Person)-[r:INTERACTS_4]-(Person) RETURN id(n) AS id, n.seed AS seed |   177 | MATCH (n:Person)-[r:INTERACTS_4]-(p:Person) RETURN id(n) AS source, id(p) AS target, r.weight AS weight | 1410 "
      ]
     },
     "execution_count": 44,
     "metadata": {},
     "output_type": "execute_result"
    }
   ],
   "source": [
    "query = \"\"\"\n",
    "CALL gds.graph.project.cypher(\n",
    "  'Got4',\n",
    "  'MATCH (n:Person)-[r:INTERACTS_4]-(Person) RETURN id(n) AS id, n.seed AS seed',\n",
    "  'MATCH (n:Person)-[r:INTERACTS_4]-(p:Person) RETURN id(n) AS source, id(p) AS target, r.weight AS weight')\n",
    "YIELD\n",
    "    graphName AS graph, nodeQuery, nodeCount AS nodes, relationshipQuery, relationshipCount AS rels\n",
    "\n",
    "\"\"\"\n",
    "graph.run(query)"
   ]
  },
  {
   "cell_type": "code",
   "execution_count": 45,
   "id": "b4294ff3",
   "metadata": {},
   "outputs": [
    {
     "data": {
      "text/html": [
       "<table><tr><th>nodeCount</th><th>relationshipCount</th><th>bytesMin</th><th>bytesMax</th><th>requiredMemory</th></tr><tr><td style=\"text-align:right\">177</td><td style=\"text-align:right\">1410</td><td style=\"text-align:right\">16641</td><td style=\"text-align:right\">592480</td><td style=\"text-align:left\">[16 KiB ... 578 KiB]</td></tr></table>"
      ],
      "text/plain": [
       " nodeCount | relationshipCount | bytesMin | bytesMax | requiredMemory       \n",
       "-----------|-------------------|----------|----------|----------------------\n",
       "       177 |              1410 |    16641 |   592480 | [16 KiB ... 578 KiB] "
      ]
     },
     "execution_count": 45,
     "metadata": {},
     "output_type": "execute_result"
    }
   ],
   "source": [
    "#The following will estimate the memory requirements for running the algorithm:\n",
    "query = \"\"\"\n",
    "CALL gds.louvain.write.estimate('Got4', { writeProperty: 'community_S4' })\n",
    "YIELD nodeCount, relationshipCount, bytesMin, bytesMax, requiredMemory\n",
    "\"\"\"\n",
    "graph.run(query)"
   ]
  },
  {
   "cell_type": "code",
   "execution_count": 46,
   "id": "fa145fae",
   "metadata": {},
   "outputs": [
    {
     "data": {
      "text/html": [
       "<table><tr><th>label</th><th>communityId</th></tr><tr><td style=\"text-align:left\">Adrack Humble</td><td style=\"text-align:right\">86</td></tr><tr><td style=\"text-align:left\">Aemon</td><td style=\"text-align:right\">15</td></tr><tr><td style=\"text-align:left\">Aerys</td><td style=\"text-align:right\">147</td></tr></table>"
      ],
      "text/plain": [
       " label         | communityId \n",
       "---------------|-------------\n",
       " Adrack Humble |          86 \n",
       " Aemon         |          15 \n",
       " Aerys         |         147 "
      ]
     },
     "execution_count": 46,
     "metadata": {},
     "output_type": "execute_result"
    }
   ],
   "source": [
    "#The following will run the algorithm and stream results:\n",
    "query = \"\"\"\n",
    "CALL gds.louvain.stream('Got4', { seedProperty: 'seed' })\n",
    "YIELD nodeId, communityId, intermediateCommunityIds\n",
    "RETURN gds.util.asNode(nodeId).label AS label, communityId\n",
    "ORDER BY label ASC\n",
    "\"\"\"\n",
    "graph.run(query)"
   ]
  },
  {
   "cell_type": "code",
   "execution_count": 47,
   "id": "2d95bc64",
   "metadata": {},
   "outputs": [
    {
     "data": {
      "text/html": [
       "<table><tr><th>communityCount</th></tr><tr><td style=\"text-align:right\">8</td></tr></table>"
      ],
      "text/plain": [
       " communityCount \n",
       "----------------\n",
       "              8 "
      ]
     },
     "execution_count": 47,
     "metadata": {},
     "output_type": "execute_result"
    }
   ],
   "source": [
    "#The following will run the algorithm and returns the result in form of statistical and measurement values:\n",
    "query = \"\"\"\n",
    "CALL gds.louvain.stats('Got4')\n",
    "YIELD communityCount\n",
    "\"\"\"\n",
    "graph.run(query)"
   ]
  },
  {
   "cell_type": "code",
   "execution_count": 48,
   "id": "2e26c211",
   "metadata": {},
   "outputs": [
    {
     "data": {
      "text/html": [
       "<table><tr><th>communityCount</th><th>modularity</th><th>modularities</th></tr><tr><td style=\"text-align:right\">8</td><td style=\"text-align:right\">0.6019938634877522</td><td style=\"text-align:left\">[0.5523786529852623, 0.6019938634877522]</td></tr></table>"
      ],
      "text/plain": [
       " communityCount |         modularity | modularities                             \n",
       "----------------|--------------------|------------------------------------------\n",
       "              8 | 0.6019938634877522 | [0.5523786529852623, 0.6019938634877522] "
      ]
     },
     "execution_count": 48,
     "metadata": {},
     "output_type": "execute_result"
    }
   ],
   "source": [
    "#The following will run the algorithm and store the results in myGraph:\n",
    "query = \"\"\"\n",
    "CALL gds.louvain.mutate('Got4', { mutateProperty: 'communityId' })\n",
    "YIELD communityCount, modularity, modularities\n",
    "\"\"\"\n",
    "graph.run(query)"
   ]
  },
  {
   "cell_type": "code",
   "execution_count": 49,
   "id": "be08bd7e",
   "metadata": {},
   "outputs": [
    {
     "data": {
      "text/html": [
       "<table><tr><th>communityCount</th><th>modularity</th><th>modularities</th></tr><tr><td style=\"text-align:right\">8</td><td style=\"text-align:right\">0.6019938634877522</td><td style=\"text-align:left\">[0.5523786529852623, 0.6019938634877522]</td></tr></table>"
      ],
      "text/plain": [
       " communityCount |         modularity | modularities                             \n",
       "----------------|--------------------|------------------------------------------\n",
       "              8 | 0.6019938634877522 | [0.5523786529852623, 0.6019938634877522] "
      ]
     },
     "execution_count": 49,
     "metadata": {},
     "output_type": "execute_result"
    }
   ],
   "source": [
    "#The following run the algorithm, and write back results:\n",
    "query = \"\"\"\n",
    "CALL gds.louvain.write('Got4', { writeProperty: 'community_S4' })\n",
    "YIELD communityCount, modularity, modularities\n",
    "\"\"\"\n",
    "graph.run(query)"
   ]
  },
  {
   "cell_type": "markdown",
   "id": "a6ff8973",
   "metadata": {},
   "source": [
    "### 5 basic centrality measures "
   ]
  },
  {
   "cell_type": "code",
   "execution_count": 50,
   "id": "52bd958b",
   "metadata": {},
   "outputs": [
    {
     "data": {
      "text/html": [
       "<table><tr><th>name</th><th>score</th></tr><tr><td style=\"text-align:left\">JOFFREY</td><td style=\"text-align:right\">41.0</td></tr><tr><td style=\"text-align:left\">TYRION</td><td style=\"text-align:right\">39.0</td></tr><tr><td style=\"text-align:left\">CERSEI</td><td style=\"text-align:right\">34.0</td></tr></table>"
      ],
      "text/plain": [
       " name    | score \n",
       "---------|-------\n",
       " JOFFREY |  41.0 \n",
       " TYRION  |  39.0 \n",
       " CERSEI  |  34.0 "
      ]
     },
     "execution_count": 50,
     "metadata": {},
     "output_type": "execute_result"
    }
   ],
   "source": [
    "#Degree\n",
    "query = \"\"\"\n",
    "CALL gds.degree.stream('Got4')\n",
    "YIELD nodeId, score\n",
    "RETURN gds.util.asNode(nodeId).id AS name, score\n",
    "ORDER BY score DESC\n",
    "LIMIT 5\n",
    "\"\"\"\n",
    "graph.run(query)"
   ]
  },
  {
   "cell_type": "code",
   "execution_count": 51,
   "id": "0adf0f6a",
   "metadata": {},
   "outputs": [
    {
     "data": {
      "text/html": [
       "<table><tr><th>name</th><th>score</th></tr><tr><td style=\"text-align:left\">TYRION</td><td style=\"text-align:right\">890.0</td></tr><tr><td style=\"text-align:left\">CERSEI</td><td style=\"text-align:right\">632.0</td></tr><tr><td style=\"text-align:left\">JON</td><td style=\"text-align:right\">612.0</td></tr></table>"
      ],
      "text/plain": [
       " name   | score \n",
       "--------|-------\n",
       " TYRION | 890.0 \n",
       " CERSEI | 632.0 \n",
       " JON    | 612.0 "
      ]
     },
     "execution_count": 51,
     "metadata": {},
     "output_type": "execute_result"
    }
   ],
   "source": [
    "#Weighted Degree\n",
    "query = \"\"\"\n",
    "CALL gds.degree.stream(\n",
    "   'Got4',\n",
    "   { relationshipWeightProperty: 'weight' }\n",
    ")\n",
    "YIELD nodeId, score\n",
    "RETURN gds.util.asNode(nodeId).id AS name, score\n",
    "ORDER BY score DESC\n",
    "LIMIT 5\n",
    "\"\"\"\n",
    "graph.run(query)"
   ]
  },
  {
   "cell_type": "code",
   "execution_count": 52,
   "id": "d95146ba",
   "metadata": {},
   "outputs": [
    {
     "data": {
      "text/html": [
       "<table><tr><th>name</th><th>score</th></tr><tr><td style=\"text-align:left\">JOFFREY</td><td style=\"text-align:right\">0.28749890520136145</td></tr><tr><td style=\"text-align:left\">TYRION</td><td style=\"text-align:right\">0.28114537272332196</td></tr><tr><td style=\"text-align:left\">CERSEI</td><td style=\"text-align:right\">0.26572628767163664</td></tr></table>"
      ],
      "text/plain": [
       " name    |               score \n",
       "---------|---------------------\n",
       " JOFFREY | 0.28749890520136145 \n",
       " TYRION  | 0.28114537272332196 \n",
       " CERSEI  | 0.26572628767163664 "
      ]
     },
     "execution_count": 52,
     "metadata": {},
     "output_type": "execute_result"
    }
   ],
   "source": [
    "#Eigenvector\n",
    "query = \"\"\"\n",
    "CALL gds.eigenvector.stream('Got4')\n",
    "YIELD nodeId, score\n",
    "RETURN gds.util.asNode(nodeId).id AS name, score\n",
    "ORDER BY score DESC\n",
    "LIMIT 5\n",
    "\"\"\"\n",
    "graph.run(query)"
   ]
  },
  {
   "cell_type": "code",
   "execution_count": 53,
   "id": "832bf8de",
   "metadata": {},
   "outputs": [
    {
     "data": {
      "text/html": [
       "<table><tr><th>page</th><th>score</th></tr><tr><td style=\"text-align:left\">JOFFREY</td><td style=\"text-align:right\">3.995032308108388</td></tr><tr><td style=\"text-align:left\">TYRION</td><td style=\"text-align:right\">3.79855353319621</td></tr><tr><td style=\"text-align:left\">ARYA</td><td style=\"text-align:right\">3.337615317598997</td></tr></table>"
      ],
      "text/plain": [
       " page    |             score \n",
       "---------|-------------------\n",
       " JOFFREY | 3.995032308108388 \n",
       " TYRION  |  3.79855353319621 \n",
       " ARYA    | 3.337615317598997 "
      ]
     },
     "execution_count": 53,
     "metadata": {},
     "output_type": "execute_result"
    }
   ],
   "source": [
    "#Pagerank\n",
    "query = \"\"\"\n",
    "CALL gds.pageRank.stream('Got4',  {maxIterations: 20,  dampingFactor: 0.85})\n",
    "YIELD nodeId, score\n",
    "RETURN gds.util.asNode(nodeId).id AS page, score\n",
    "ORDER BY score DESC\n",
    "LIMIT 5\n",
    "\"\"\"\n",
    "graph.run(query)"
   ]
  },
  {
   "cell_type": "code",
   "execution_count": 54,
   "id": "61312b90",
   "metadata": {},
   "outputs": [
    {
     "data": {
      "text/html": [
       "<table><tr><th>name</th><th>score</th></tr><tr><td style=\"text-align:left\">JOFFREY</td><td style=\"text-align:right\">6169.187204485662</td></tr><tr><td style=\"text-align:left\">NED</td><td style=\"text-align:right\">6077.094818619815</td></tr><tr><td style=\"text-align:left\">STANNIS</td><td style=\"text-align:right\">5446.0343108831285</td></tr></table>"
      ],
      "text/plain": [
       " name    |              score \n",
       "---------|--------------------\n",
       " JOFFREY |  6169.187204485662 \n",
       " NED     |  6077.094818619815 \n",
       " STANNIS | 5446.0343108831285 "
      ]
     },
     "execution_count": 54,
     "metadata": {},
     "output_type": "execute_result"
    }
   ],
   "source": [
    "#Betweenness\n",
    "query = \"\"\"\n",
    "CALL gds.betweenness.stream('Got4')\n",
    "YIELD nodeId, score\n",
    "RETURN gds.util.asNode(nodeId).id AS name, score\n",
    "ORDER BY score DESC\n",
    "LIMIT 5\n",
    "\"\"\"\n",
    "graph.run(query)"
   ]
  },
  {
   "cell_type": "markdown",
   "id": "7abe94a3",
   "metadata": {},
   "source": [
    "## Graph for season 5"
   ]
  },
  {
   "cell_type": "markdown",
   "id": "5bd535af",
   "metadata": {},
   "source": [
    "### Louvain Modularity Algorithm"
   ]
  },
  {
   "cell_type": "code",
   "execution_count": 55,
   "id": "18fc1c67",
   "metadata": {},
   "outputs": [
    {
     "data": {
      "text/html": [
       "<table><tr><th>graph</th><th>nodeQuery</th><th>nodes</th><th>relationshipQuery</th><th>rels</th></tr><tr><td style=\"text-align:left\">Got5</td><td style=\"text-align:left\">MATCH (n:Person)-[r:INTERACTS_5]-(Person) RETURN id(n) AS id, n.seed AS seed</td><td style=\"text-align:right\">124</td><td style=\"text-align:left\">MATCH (n:Person)-[r:INTERACTS_5]-(p:Person) RETURN id(n) AS source, id(p) AS target, r.weight AS weight</td><td style=\"text-align:right\">866</td></tr></table>"
      ],
      "text/plain": [
       " graph | nodeQuery                                                                    | nodes | relationshipQuery                                                                                       | rels \n",
       "-------|------------------------------------------------------------------------------|-------|---------------------------------------------------------------------------------------------------------|------\n",
       " Got5  | MATCH (n:Person)-[r:INTERACTS_5]-(Person) RETURN id(n) AS id, n.seed AS seed |   124 | MATCH (n:Person)-[r:INTERACTS_5]-(p:Person) RETURN id(n) AS source, id(p) AS target, r.weight AS weight |  866 "
      ]
     },
     "execution_count": 55,
     "metadata": {},
     "output_type": "execute_result"
    }
   ],
   "source": [
    "query = \"\"\"\n",
    "CALL gds.graph.project.cypher(\n",
    "  'Got5',\n",
    "  'MATCH (n:Person)-[r:INTERACTS_5]-(Person) RETURN id(n) AS id, n.seed AS seed',\n",
    "  'MATCH (n:Person)-[r:INTERACTS_5]-(p:Person) RETURN id(n) AS source, id(p) AS target, r.weight AS weight')\n",
    "YIELD\n",
    "    graphName AS graph, nodeQuery, nodeCount AS nodes, relationshipQuery, relationshipCount AS rels\n",
    "\n",
    "\"\"\"\n",
    "graph.run(query)"
   ]
  },
  {
   "cell_type": "code",
   "execution_count": 56,
   "id": "5747f483",
   "metadata": {},
   "outputs": [
    {
     "data": {
      "text/html": [
       "<table><tr><th>nodeCount</th><th>relationshipCount</th><th>bytesMin</th><th>bytesMax</th><th>requiredMemory</th></tr><tr><td style=\"text-align:right\">124</td><td style=\"text-align:right\">866</td><td style=\"text-align:right\">13241</td><td style=\"text-align:right\">582456</td><td style=\"text-align:left\">[13241 Bytes ... 568 KiB]</td></tr></table>"
      ],
      "text/plain": [
       " nodeCount | relationshipCount | bytesMin | bytesMax | requiredMemory            \n",
       "-----------|-------------------|----------|----------|---------------------------\n",
       "       124 |               866 |    13241 |   582456 | [13241 Bytes ... 568 KiB] "
      ]
     },
     "execution_count": 56,
     "metadata": {},
     "output_type": "execute_result"
    }
   ],
   "source": [
    "#The following will estimate the memory requirements for running the algorithm:\n",
    "query = \"\"\"\n",
    "CALL gds.louvain.write.estimate('Got5', { writeProperty: 'community_S5' })\n",
    "YIELD nodeCount, relationshipCount, bytesMin, bytesMax, requiredMemory\n",
    "\"\"\"\n",
    "graph.run(query)"
   ]
  },
  {
   "cell_type": "code",
   "execution_count": 57,
   "id": "e668e579",
   "metadata": {},
   "outputs": [
    {
     "data": {
      "text/html": [
       "<table><tr><th>label</th><th>communityId</th></tr><tr><td style=\"text-align:left\">Aegon</td><td style=\"text-align:right\">18</td></tr><tr><td style=\"text-align:left\">Aemon</td><td style=\"text-align:right\">18</td></tr><tr><td style=\"text-align:left\">Aerys</td><td style=\"text-align:right\">101</td></tr></table>"
      ],
      "text/plain": [
       " label | communityId \n",
       "-------|-------------\n",
       " Aegon |          18 \n",
       " Aemon |          18 \n",
       " Aerys |         101 "
      ]
     },
     "execution_count": 57,
     "metadata": {},
     "output_type": "execute_result"
    }
   ],
   "source": [
    "#The following will run the algorithm and stream results:\n",
    "query = \"\"\"\n",
    "CALL gds.louvain.stream('Got5', { seedProperty: 'seed' })\n",
    "YIELD nodeId, communityId, intermediateCommunityIds\n",
    "RETURN gds.util.asNode(nodeId).label AS label, communityId\n",
    "ORDER BY label ASC\n",
    "\"\"\"\n",
    "graph.run(query)"
   ]
  },
  {
   "cell_type": "code",
   "execution_count": 58,
   "id": "658dcc4e",
   "metadata": {},
   "outputs": [
    {
     "data": {
      "text/html": [
       "<table><tr><th>communityCount</th></tr><tr><td style=\"text-align:right\">5</td></tr></table>"
      ],
      "text/plain": [
       " communityCount \n",
       "----------------\n",
       "              5 "
      ]
     },
     "execution_count": 58,
     "metadata": {},
     "output_type": "execute_result"
    }
   ],
   "source": [
    "#The following will run the algorithm and returns the result in form of statistical and measurement values:\n",
    "query = \"\"\"\n",
    "CALL gds.louvain.stats('Got5')\n",
    "YIELD communityCount\n",
    "\"\"\"\n",
    "graph.run(query)"
   ]
  },
  {
   "cell_type": "code",
   "execution_count": 59,
   "id": "f1dcc3ff",
   "metadata": {},
   "outputs": [
    {
     "data": {
      "text/html": [
       "<table><tr><th>communityCount</th><th>modularity</th><th>modularities</th></tr><tr><td style=\"text-align:right\">5</td><td style=\"text-align:right\">0.664294971971689</td><td style=\"text-align:left\">[0.6190789859671767, 0.664294971971689]</td></tr></table>"
      ],
      "text/plain": [
       " communityCount |        modularity | modularities                            \n",
       "----------------|-------------------|-----------------------------------------\n",
       "              5 | 0.664294971971689 | [0.6190789859671767, 0.664294971971689] "
      ]
     },
     "execution_count": 59,
     "metadata": {},
     "output_type": "execute_result"
    }
   ],
   "source": [
    "#The following will run the algorithm and store the results in myGraph:\n",
    "query = \"\"\"\n",
    "CALL gds.louvain.mutate('Got5', { mutateProperty: 'communityId' })\n",
    "YIELD communityCount, modularity, modularities\n",
    "\"\"\"\n",
    "graph.run(query)"
   ]
  },
  {
   "cell_type": "code",
   "execution_count": 60,
   "id": "4b7c1ef4",
   "metadata": {},
   "outputs": [
    {
     "data": {
      "text/html": [
       "<table><tr><th>communityCount</th><th>modularity</th><th>modularities</th></tr><tr><td style=\"text-align:right\">5</td><td style=\"text-align:right\">0.664294971971689</td><td style=\"text-align:left\">[0.6190789859671767, 0.664294971971689]</td></tr></table>"
      ],
      "text/plain": [
       " communityCount |        modularity | modularities                            \n",
       "----------------|-------------------|-----------------------------------------\n",
       "              5 | 0.664294971971689 | [0.6190789859671767, 0.664294971971689] "
      ]
     },
     "execution_count": 60,
     "metadata": {},
     "output_type": "execute_result"
    }
   ],
   "source": [
    "#The following run the algorithm, and write back results:\n",
    "query = \"\"\"\n",
    "CALL gds.louvain.write('Got5', { writeProperty: 'community_S5' })\n",
    "YIELD communityCount, modularity, modularities\n",
    "\"\"\"\n",
    "graph.run(query)"
   ]
  },
  {
   "cell_type": "markdown",
   "id": "2f09a9a6",
   "metadata": {},
   "source": [
    "### 5 basic centrality measures "
   ]
  },
  {
   "cell_type": "code",
   "execution_count": 61,
   "id": "88cc06bb",
   "metadata": {},
   "outputs": [
    {
     "data": {
      "text/html": [
       "<table><tr><th>name</th><th>score</th></tr><tr><td style=\"text-align:left\">CERSEI</td><td style=\"text-align:right\">31.0</td></tr><tr><td style=\"text-align:left\">LITTLEFINGER</td><td style=\"text-align:right\">27.0</td></tr><tr><td style=\"text-align:left\">JON</td><td style=\"text-align:right\">27.0</td></tr></table>"
      ],
      "text/plain": [
       " name         | score \n",
       "--------------|-------\n",
       " CERSEI       |  31.0 \n",
       " LITTLEFINGER |  27.0 \n",
       " JON          |  27.0 "
      ]
     },
     "execution_count": 61,
     "metadata": {},
     "output_type": "execute_result"
    }
   ],
   "source": [
    "#Degree\n",
    "query = \"\"\"\n",
    "CALL gds.degree.stream('Got5')\n",
    "YIELD nodeId, score\n",
    "RETURN gds.util.asNode(nodeId).id AS name, score\n",
    "ORDER BY score DESC\n",
    "LIMIT 5\n",
    "\"\"\"\n",
    "graph.run(query)"
   ]
  },
  {
   "cell_type": "code",
   "execution_count": 62,
   "id": "6a83533f",
   "metadata": {},
   "outputs": [
    {
     "data": {
      "text/html": [
       "<table><tr><th>name</th><th>score</th></tr><tr><td style=\"text-align:left\">CERSEI</td><td style=\"text-align:right\">618.0</td></tr><tr><td style=\"text-align:left\">JON</td><td style=\"text-align:right\">616.0</td></tr><tr><td style=\"text-align:left\">TYRION</td><td style=\"text-align:right\">480.0</td></tr></table>"
      ],
      "text/plain": [
       " name   | score \n",
       "--------|-------\n",
       " CERSEI | 618.0 \n",
       " JON    | 616.0 \n",
       " TYRION | 480.0 "
      ]
     },
     "execution_count": 62,
     "metadata": {},
     "output_type": "execute_result"
    }
   ],
   "source": [
    "#Weighted Degree\n",
    "query = \"\"\"\n",
    "CALL gds.degree.stream(\n",
    "   'Got5',\n",
    "   { relationshipWeightProperty: 'weight' }\n",
    ")\n",
    "YIELD nodeId, score\n",
    "RETURN gds.util.asNode(nodeId).id AS name, score\n",
    "ORDER BY score DESC\n",
    "LIMIT 5\n",
    "\"\"\"\n",
    "graph.run(query)"
   ]
  },
  {
   "cell_type": "code",
   "execution_count": 63,
   "id": "a7ab36cf",
   "metadata": {},
   "outputs": [
    {
     "data": {
      "text/html": [
       "<table><tr><th>name</th><th>score</th></tr><tr><td style=\"text-align:left\">STANNIS</td><td style=\"text-align:right\">0.33835270473792883</td></tr><tr><td style=\"text-align:left\">JON</td><td style=\"text-align:right\">0.31716067325588637</td></tr><tr><td style=\"text-align:left\">SAM</td><td style=\"text-align:right\">0.283804814609472</td></tr></table>"
      ],
      "text/plain": [
       " name    |               score \n",
       "---------|---------------------\n",
       " STANNIS | 0.33835270473792883 \n",
       " JON     | 0.31716067325588637 \n",
       " SAM     |   0.283804814609472 "
      ]
     },
     "execution_count": 63,
     "metadata": {},
     "output_type": "execute_result"
    }
   ],
   "source": [
    "#Eigenvector\n",
    "query = \"\"\"\n",
    "CALL gds.eigenvector.stream('Got5')\n",
    "YIELD nodeId, score\n",
    "RETURN gds.util.asNode(nodeId).id AS name, score\n",
    "ORDER BY score DESC\n",
    "LIMIT 5\n",
    "\"\"\"\n",
    "graph.run(query)"
   ]
  },
  {
   "cell_type": "code",
   "execution_count": 64,
   "id": "0395af3d",
   "metadata": {},
   "outputs": [
    {
     "data": {
      "text/html": [
       "<table><tr><th>page</th><th>score</th></tr><tr><td style=\"text-align:left\">JON</td><td style=\"text-align:right\">3.6049676053820563</td></tr><tr><td style=\"text-align:left\">CERSEI</td><td style=\"text-align:right\">3.604538477369172</td></tr><tr><td style=\"text-align:left\">LITTLEFINGER</td><td style=\"text-align:right\">3.5385256890743797</td></tr></table>"
      ],
      "text/plain": [
       " page         |              score \n",
       "--------------|--------------------\n",
       " JON          | 3.6049676053820563 \n",
       " CERSEI       |  3.604538477369172 \n",
       " LITTLEFINGER | 3.5385256890743797 "
      ]
     },
     "execution_count": 64,
     "metadata": {},
     "output_type": "execute_result"
    }
   ],
   "source": [
    "#Pagerank\n",
    "query = \"\"\"\n",
    "CALL gds.pageRank.stream('Got5',  {maxIterations: 20,  dampingFactor: 0.85})\n",
    "YIELD nodeId, score\n",
    "RETURN gds.util.asNode(nodeId).id AS page, score\n",
    "ORDER BY score DESC\n",
    "LIMIT 5\n",
    "\"\"\"\n",
    "graph.run(query)"
   ]
  },
  {
   "cell_type": "code",
   "execution_count": 65,
   "id": "62290ee8",
   "metadata": {},
   "outputs": [
    {
     "data": {
      "text/html": [
       "<table><tr><th>name</th><th>score</th></tr><tr><td style=\"text-align:left\">STANNIS</td><td style=\"text-align:right\">5012.7852459276455</td></tr><tr><td style=\"text-align:left\">CERSEI</td><td style=\"text-align:right\">3964.75489181412</td></tr><tr><td style=\"text-align:left\">LITTLEFINGER</td><td style=\"text-align:right\">2971.9304254016747</td></tr></table>"
      ],
      "text/plain": [
       " name         |              score \n",
       "--------------|--------------------\n",
       " STANNIS      | 5012.7852459276455 \n",
       " CERSEI       |   3964.75489181412 \n",
       " LITTLEFINGER | 2971.9304254016747 "
      ]
     },
     "execution_count": 65,
     "metadata": {},
     "output_type": "execute_result"
    }
   ],
   "source": [
    "#Betweenness\n",
    "query = \"\"\"\n",
    "CALL gds.betweenness.stream('Got5')\n",
    "YIELD nodeId, score\n",
    "RETURN gds.util.asNode(nodeId).id AS name, score\n",
    "ORDER BY score DESC\n",
    "LIMIT 5\n",
    "\"\"\"\n",
    "graph.run(query)"
   ]
  },
  {
   "cell_type": "markdown",
   "id": "2d471a00",
   "metadata": {},
   "source": [
    "## Graph for season 6"
   ]
  },
  {
   "cell_type": "markdown",
   "id": "2536cd82",
   "metadata": {},
   "source": [
    "### Louvain Modularity Algorithm"
   ]
  },
  {
   "cell_type": "code",
   "execution_count": 66,
   "id": "c5088e6c",
   "metadata": {},
   "outputs": [
    {
     "data": {
      "text/html": [
       "<table><tr><th>graph</th><th>nodeQuery</th><th>nodes</th><th>relationshipQuery</th><th>rels</th></tr><tr><td style=\"text-align:left\">Got6</td><td style=\"text-align:left\">MATCH (n:Person)-[r:INTERACTS_6]-(Person) RETURN id(n) AS id, n.seed AS seed</td><td style=\"text-align:right\">148</td><td style=\"text-align:left\">MATCH (n:Person)-[r:INTERACTS_6]-(p:Person) RETURN id(n) AS source, id(p) AS target, r.weight AS weight</td><td style=\"text-align:right\">1154</td></tr></table>"
      ],
      "text/plain": [
       " graph | nodeQuery                                                                    | nodes | relationshipQuery                                                                                       | rels \n",
       "-------|------------------------------------------------------------------------------|-------|---------------------------------------------------------------------------------------------------------|------\n",
       " Got6  | MATCH (n:Person)-[r:INTERACTS_6]-(Person) RETURN id(n) AS id, n.seed AS seed |   148 | MATCH (n:Person)-[r:INTERACTS_6]-(p:Person) RETURN id(n) AS source, id(p) AS target, r.weight AS weight | 1154 "
      ]
     },
     "execution_count": 66,
     "metadata": {},
     "output_type": "execute_result"
    }
   ],
   "source": [
    "query = \"\"\"\n",
    "CALL gds.graph.project.cypher(\n",
    "  'Got6',\n",
    "  'MATCH (n:Person)-[r:INTERACTS_6]-(Person) RETURN id(n) AS id, n.seed AS seed',\n",
    "  'MATCH (n:Person)-[r:INTERACTS_6]-(p:Person) RETURN id(n) AS source, id(p) AS target, r.weight AS weight')\n",
    "YIELD\n",
    "    graphName AS graph, nodeQuery, nodeCount AS nodes, relationshipQuery, relationshipCount AS rels\n",
    "\n",
    "\"\"\"\n",
    "graph.run(query)"
   ]
  },
  {
   "cell_type": "code",
   "execution_count": 67,
   "id": "a728729f",
   "metadata": {},
   "outputs": [
    {
     "data": {
      "text/html": [
       "<table><tr><th>nodeCount</th><th>relationshipCount</th><th>bytesMin</th><th>bytesMax</th><th>requiredMemory</th></tr><tr><td style=\"text-align:right\">148</td><td style=\"text-align:right\">1154</td><td style=\"text-align:right\">14785</td><td style=\"text-align:right\">586976</td><td style=\"text-align:left\">[14785 Bytes ... 573 KiB]</td></tr></table>"
      ],
      "text/plain": [
       " nodeCount | relationshipCount | bytesMin | bytesMax | requiredMemory            \n",
       "-----------|-------------------|----------|----------|---------------------------\n",
       "       148 |              1154 |    14785 |   586976 | [14785 Bytes ... 573 KiB] "
      ]
     },
     "execution_count": 67,
     "metadata": {},
     "output_type": "execute_result"
    }
   ],
   "source": [
    "#The following will estimate the memory requirements for running the algorithm:\n",
    "query = \"\"\"\n",
    "CALL gds.louvain.write.estimate('Got6', { writeProperty: 'community_S6' })\n",
    "YIELD nodeCount, relationshipCount, bytesMin, bytesMax, requiredMemory\n",
    "\"\"\"\n",
    "graph.run(query)"
   ]
  },
  {
   "cell_type": "code",
   "execution_count": 68,
   "id": "ad8acad5",
   "metadata": {},
   "outputs": [
    {
     "data": {
      "text/html": [
       "<table><tr><th>label</th><th>communityId</th></tr><tr><td style=\"text-align:left\">Aemon</td><td style=\"text-align:right\">32</td></tr><tr><td style=\"text-align:left\">Aeron</td><td style=\"text-align:right\">104</td></tr><tr><td style=\"text-align:left\">Aerys</td><td style=\"text-align:right\">11</td></tr></table>"
      ],
      "text/plain": [
       " label | communityId \n",
       "-------|-------------\n",
       " Aemon |          32 \n",
       " Aeron |         104 \n",
       " Aerys |          11 "
      ]
     },
     "execution_count": 68,
     "metadata": {},
     "output_type": "execute_result"
    }
   ],
   "source": [
    "#The following will run the algorithm and stream results:\n",
    "query = \"\"\"\n",
    "CALL gds.louvain.stream('Got6', { seedProperty: 'seed' })\n",
    "YIELD nodeId, communityId, intermediateCommunityIds\n",
    "RETURN gds.util.asNode(nodeId).label AS label, communityId\n",
    "ORDER BY label ASC\n",
    "\"\"\"\n",
    "graph.run(query)"
   ]
  },
  {
   "cell_type": "code",
   "execution_count": 69,
   "id": "e93e5481",
   "metadata": {},
   "outputs": [
    {
     "data": {
      "text/html": [
       "<table><tr><th>communityCount</th></tr><tr><td style=\"text-align:right\">9</td></tr></table>"
      ],
      "text/plain": [
       " communityCount \n",
       "----------------\n",
       "              9 "
      ]
     },
     "execution_count": 69,
     "metadata": {},
     "output_type": "execute_result"
    }
   ],
   "source": [
    "#The following will run the algorithm and returns the result in form of statistical and measurement values:\n",
    "query = \"\"\"\n",
    "CALL gds.louvain.stats('Got6')\n",
    "YIELD communityCount\n",
    "\"\"\"\n",
    "graph.run(query)"
   ]
  },
  {
   "cell_type": "code",
   "execution_count": 70,
   "id": "f4b13248",
   "metadata": {},
   "outputs": [
    {
     "data": {
      "text/html": [
       "<table><tr><th>communityCount</th><th>modularity</th><th>modularities</th></tr><tr><td style=\"text-align:right\">9</td><td style=\"text-align:right\">0.6540944165272475</td><td style=\"text-align:left\">[0.6090893253516515, 0.6540944165272475]</td></tr></table>"
      ],
      "text/plain": [
       " communityCount |         modularity | modularities                             \n",
       "----------------|--------------------|------------------------------------------\n",
       "              9 | 0.6540944165272475 | [0.6090893253516515, 0.6540944165272475] "
      ]
     },
     "execution_count": 70,
     "metadata": {},
     "output_type": "execute_result"
    }
   ],
   "source": [
    "#The following will run the algorithm and store the results in myGraph:\n",
    "query = \"\"\"\n",
    "CALL gds.louvain.mutate('Got6', { mutateProperty: 'communityId' })\n",
    "YIELD communityCount, modularity, modularities\n",
    "\"\"\"\n",
    "graph.run(query)"
   ]
  },
  {
   "cell_type": "code",
   "execution_count": 71,
   "id": "56436107",
   "metadata": {},
   "outputs": [
    {
     "data": {
      "text/html": [
       "<table><tr><th>communityCount</th><th>modularity</th><th>modularities</th></tr><tr><td style=\"text-align:right\">9</td><td style=\"text-align:right\">0.6540944165272475</td><td style=\"text-align:left\">[0.6090893253516515, 0.6540944165272475]</td></tr></table>"
      ],
      "text/plain": [
       " communityCount |         modularity | modularities                             \n",
       "----------------|--------------------|------------------------------------------\n",
       "              9 | 0.6540944165272475 | [0.6090893253516515, 0.6540944165272475] "
      ]
     },
     "execution_count": 71,
     "metadata": {},
     "output_type": "execute_result"
    }
   ],
   "source": [
    "#The following run the algorithm, and write back results:\n",
    "query = \"\"\"\n",
    "CALL gds.louvain.write('Got6', { writeProperty: 'community_S6' })\n",
    "YIELD communityCount, modularity, modularities\n",
    "\"\"\"\n",
    "graph.run(query)"
   ]
  },
  {
   "cell_type": "markdown",
   "id": "0b614599",
   "metadata": {},
   "source": [
    "### 5 basic centrality measures "
   ]
  },
  {
   "cell_type": "code",
   "execution_count": 72,
   "id": "c95796b2",
   "metadata": {},
   "outputs": [
    {
     "data": {
      "text/html": [
       "<table><tr><th>name</th><th>score</th></tr><tr><td style=\"text-align:left\">SANSA</td><td style=\"text-align:right\">41.0</td></tr><tr><td style=\"text-align:left\">JON</td><td style=\"text-align:right\">33.0</td></tr><tr><td style=\"text-align:left\">CERSEI</td><td style=\"text-align:right\">29.0</td></tr></table>"
      ],
      "text/plain": [
       " name   | score \n",
       "--------|-------\n",
       " SANSA  |  41.0 \n",
       " JON    |  33.0 \n",
       " CERSEI |  29.0 "
      ]
     },
     "execution_count": 72,
     "metadata": {},
     "output_type": "execute_result"
    }
   ],
   "source": [
    "#Degree\n",
    "query = \"\"\"\n",
    "CALL gds.degree.stream('Got6')\n",
    "YIELD nodeId, score\n",
    "RETURN gds.util.asNode(nodeId).id AS name, score\n",
    "ORDER BY score DESC\n",
    "LIMIT 5\n",
    "\"\"\"\n",
    "graph.run(query)"
   ]
  },
  {
   "cell_type": "code",
   "execution_count": 73,
   "id": "7e382999",
   "metadata": {},
   "outputs": [
    {
     "data": {
      "text/html": [
       "<table><tr><th>name</th><th>score</th></tr><tr><td style=\"text-align:left\">JON</td><td style=\"text-align:right\">624.0</td></tr><tr><td style=\"text-align:left\">SANSA</td><td style=\"text-align:right\">551.0</td></tr><tr><td style=\"text-align:left\">TYRION</td><td style=\"text-align:right\">442.0</td></tr></table>"
      ],
      "text/plain": [
       " name   | score \n",
       "--------|-------\n",
       " JON    | 624.0 \n",
       " SANSA  | 551.0 \n",
       " TYRION | 442.0 "
      ]
     },
     "execution_count": 73,
     "metadata": {},
     "output_type": "execute_result"
    }
   ],
   "source": [
    "#Weighted Degree\n",
    "query = \"\"\"\n",
    "CALL gds.degree.stream(\n",
    "   'Got6',\n",
    "   { relationshipWeightProperty: 'weight' }\n",
    ")\n",
    "YIELD nodeId, score\n",
    "RETURN gds.util.asNode(nodeId).id AS name, score\n",
    "ORDER BY score DESC\n",
    "LIMIT 5\n",
    "\"\"\"\n",
    "graph.run(query)"
   ]
  },
  {
   "cell_type": "code",
   "execution_count": 74,
   "id": "1cf66521",
   "metadata": {},
   "outputs": [
    {
     "data": {
      "text/html": [
       "<table><tr><th>name</th><th>score</th></tr><tr><td style=\"text-align:left\">SANSA</td><td style=\"text-align:right\">0.3519753949236122</td></tr><tr><td style=\"text-align:left\">JON</td><td style=\"text-align:right\">0.27646633533835374</td></tr><tr><td style=\"text-align:left\">DAVOS</td><td style=\"text-align:right\">0.23405853477802047</td></tr></table>"
      ],
      "text/plain": [
       " name  |               score \n",
       "-------|---------------------\n",
       " SANSA |  0.3519753949236122 \n",
       " JON   | 0.27646633533835374 \n",
       " DAVOS | 0.23405853477802047 "
      ]
     },
     "execution_count": 74,
     "metadata": {},
     "output_type": "execute_result"
    }
   ],
   "source": [
    "#Eigenvector\n",
    "query = \"\"\"\n",
    "CALL gds.eigenvector.stream('Got6')\n",
    "YIELD nodeId, score\n",
    "RETURN gds.util.asNode(nodeId).id AS name, score\n",
    "ORDER BY score DESC\n",
    "LIMIT 5\n",
    "\"\"\"\n",
    "graph.run(query)"
   ]
  },
  {
   "cell_type": "code",
   "execution_count": 75,
   "id": "abe44984",
   "metadata": {},
   "outputs": [
    {
     "data": {
      "text/html": [
       "<table><tr><th>page</th><th>score</th></tr><tr><td style=\"text-align:left\">SANSA</td><td style=\"text-align:right\">3.894475250679934</td></tr><tr><td style=\"text-align:left\">JON</td><td style=\"text-align:right\">3.2502096784271135</td></tr><tr><td style=\"text-align:left\">CERSEI</td><td style=\"text-align:right\">3.007200929871433</td></tr></table>"
      ],
      "text/plain": [
       " page   |              score \n",
       "--------|--------------------\n",
       " SANSA  |  3.894475250679934 \n",
       " JON    | 3.2502096784271135 \n",
       " CERSEI |  3.007200929871433 "
      ]
     },
     "execution_count": 75,
     "metadata": {},
     "output_type": "execute_result"
    }
   ],
   "source": [
    "#Pagerank\n",
    "query = \"\"\"\n",
    "CALL gds.pageRank.stream('Got6',  {maxIterations: 20,  dampingFactor: 0.85})\n",
    "YIELD nodeId, score\n",
    "RETURN gds.util.asNode(nodeId).id AS page, score\n",
    "ORDER BY score DESC\n",
    "LIMIT 5\n",
    "\"\"\"\n",
    "graph.run(query)"
   ]
  },
  {
   "cell_type": "code",
   "execution_count": 76,
   "id": "58e223ff",
   "metadata": {},
   "outputs": [
    {
     "data": {
      "text/html": [
       "<table><tr><th>name</th><th>score</th></tr><tr><td style=\"text-align:left\">SANSA</td><td style=\"text-align:right\">5791.99128590698</td></tr><tr><td style=\"text-align:left\">JON</td><td style=\"text-align:right\">4161.187582627684</td></tr><tr><td style=\"text-align:left\">TYRION</td><td style=\"text-align:right\">3080.729990101282</td></tr></table>"
      ],
      "text/plain": [
       " name   |             score \n",
       "--------|-------------------\n",
       " SANSA  |  5791.99128590698 \n",
       " JON    | 4161.187582627684 \n",
       " TYRION | 3080.729990101282 "
      ]
     },
     "execution_count": 76,
     "metadata": {},
     "output_type": "execute_result"
    }
   ],
   "source": [
    "#Betweenness\n",
    "query = \"\"\"\n",
    "CALL gds.betweenness.stream('Got6')\n",
    "YIELD nodeId, score\n",
    "RETURN gds.util.asNode(nodeId).id AS name, score\n",
    "ORDER BY score DESC\n",
    "LIMIT 5\n",
    "\"\"\"\n",
    "graph.run(query)"
   ]
  },
  {
   "cell_type": "markdown",
   "id": "b3dfd0d5",
   "metadata": {},
   "source": [
    "## Graph for season 7"
   ]
  },
  {
   "cell_type": "markdown",
   "id": "14a6202c",
   "metadata": {},
   "source": [
    "### Louvain Modularity Algorithm"
   ]
  },
  {
   "cell_type": "code",
   "execution_count": 77,
   "id": "5cf7e2c8",
   "metadata": {},
   "outputs": [
    {
     "data": {
      "text/html": [
       "<table><tr><th>graph</th><th>nodeQuery</th><th>nodes</th><th>relationshipQuery</th><th>rels</th></tr><tr><td style=\"text-align:left\">Got7</td><td style=\"text-align:left\">MATCH (n:Person)-[r:INTERACTS_7]-(Person) RETURN id(n) AS id, n.seed AS seed</td><td style=\"text-align:right\">85</td><td style=\"text-align:left\">MATCH (n:Person)-[r:INTERACTS_7]-(p:Person) RETURN id(n) AS source, id(p) AS target, r.weight AS weight</td><td style=\"text-align:right\">890</td></tr></table>"
      ],
      "text/plain": [
       " graph | nodeQuery                                                                    | nodes | relationshipQuery                                                                                       | rels \n",
       "-------|------------------------------------------------------------------------------|-------|---------------------------------------------------------------------------------------------------------|------\n",
       " Got7  | MATCH (n:Person)-[r:INTERACTS_7]-(Person) RETURN id(n) AS id, n.seed AS seed |    85 | MATCH (n:Person)-[r:INTERACTS_7]-(p:Person) RETURN id(n) AS source, id(p) AS target, r.weight AS weight |  890 "
      ]
     },
     "execution_count": 77,
     "metadata": {},
     "output_type": "execute_result"
    }
   ],
   "source": [
    "query = \"\"\"\n",
    "CALL gds.graph.project.cypher(\n",
    "  'Got7',\n",
    "  'MATCH (n:Person)-[r:INTERACTS_7]-(Person) RETURN id(n) AS id, n.seed AS seed',\n",
    "  'MATCH (n:Person)-[r:INTERACTS_7]-(p:Person) RETURN id(n) AS source, id(p) AS target, r.weight AS weight')\n",
    "YIELD\n",
    "    graphName AS graph, nodeQuery, nodeCount AS nodes, relationshipQuery, relationshipCount AS rels\n",
    "\n",
    "\"\"\"\n",
    "graph.run(query)"
   ]
  },
  {
   "cell_type": "code",
   "execution_count": 78,
   "id": "32dd149b",
   "metadata": {},
   "outputs": [
    {
     "data": {
      "text/html": [
       "<table><tr><th>nodeCount</th><th>relationshipCount</th><th>bytesMin</th><th>bytesMax</th><th>requiredMemory</th></tr><tr><td style=\"text-align:right\">85</td><td style=\"text-align:right\">890</td><td style=\"text-align:right\">10745</td><td style=\"text-align:right\">575176</td><td style=\"text-align:left\">[10745 Bytes ... 561 KiB]</td></tr></table>"
      ],
      "text/plain": [
       " nodeCount | relationshipCount | bytesMin | bytesMax | requiredMemory            \n",
       "-----------|-------------------|----------|----------|---------------------------\n",
       "        85 |               890 |    10745 |   575176 | [10745 Bytes ... 561 KiB] "
      ]
     },
     "execution_count": 78,
     "metadata": {},
     "output_type": "execute_result"
    }
   ],
   "source": [
    "#The following will estimate the memory requirements for running the algorithm:\n",
    "query = \"\"\"\n",
    "CALL gds.louvain.write.estimate('Got7', { writeProperty: 'community_S7' })\n",
    "YIELD nodeCount, relationshipCount, bytesMin, bytesMax, requiredMemory\n",
    "\"\"\"\n",
    "graph.run(query)"
   ]
  },
  {
   "cell_type": "code",
   "execution_count": 79,
   "id": "7b85011a",
   "metadata": {},
   "outputs": [
    {
     "data": {
      "text/html": [
       "<table><tr><th>label</th><th>communityId</th></tr><tr><td style=\"text-align:left\">Aegon</td><td style=\"text-align:right\">51</td></tr><tr><td style=\"text-align:left\">Aerys</td><td style=\"text-align:right\">51</td></tr><tr><td style=\"text-align:left\">Alys</td><td style=\"text-align:right\">67</td></tr></table>"
      ],
      "text/plain": [
       " label | communityId \n",
       "-------|-------------\n",
       " Aegon |          51 \n",
       " Aerys |          51 \n",
       " Alys  |          67 "
      ]
     },
     "execution_count": 79,
     "metadata": {},
     "output_type": "execute_result"
    }
   ],
   "source": [
    "#The following will run the algorithm and stream results:\n",
    "query = \"\"\"\n",
    "CALL gds.louvain.stream('Got7', { seedProperty: 'seed' })\n",
    "YIELD nodeId, communityId, intermediateCommunityIds\n",
    "RETURN gds.util.asNode(nodeId).label AS label, communityId\n",
    "ORDER BY label ASC\n",
    "\"\"\"\n",
    "graph.run(query)"
   ]
  },
  {
   "cell_type": "code",
   "execution_count": 80,
   "id": "9157e199",
   "metadata": {},
   "outputs": [
    {
     "data": {
      "text/html": [
       "<table><tr><th>communityCount</th></tr><tr><td style=\"text-align:right\">4</td></tr></table>"
      ],
      "text/plain": [
       " communityCount \n",
       "----------------\n",
       "              4 "
      ]
     },
     "execution_count": 80,
     "metadata": {},
     "output_type": "execute_result"
    }
   ],
   "source": [
    "#The following will run the algorithm and returns the result in form of statistical and measurement values:\n",
    "query = \"\"\"\n",
    "CALL gds.louvain.stats('Got7')\n",
    "YIELD communityCount\n",
    "\"\"\"\n",
    "graph.run(query)"
   ]
  },
  {
   "cell_type": "code",
   "execution_count": 81,
   "id": "0936e4e4",
   "metadata": {},
   "outputs": [
    {
     "data": {
      "text/html": [
       "<table><tr><th>communityCount</th><th>modularity</th><th>modularities</th></tr><tr><td style=\"text-align:right\">4</td><td style=\"text-align:right\">0.32572149981063003</td><td style=\"text-align:left\">[0.3046484029794218, 0.32572149981063003]</td></tr></table>"
      ],
      "text/plain": [
       " communityCount |          modularity | modularities                              \n",
       "----------------|---------------------|-------------------------------------------\n",
       "              4 | 0.32572149981063003 | [0.3046484029794218, 0.32572149981063003] "
      ]
     },
     "execution_count": 81,
     "metadata": {},
     "output_type": "execute_result"
    }
   ],
   "source": [
    "#The following will run the algorithm and store the results in myGraph:\n",
    "query = \"\"\"\n",
    "CALL gds.louvain.mutate('Got7', { mutateProperty: 'communityId' })\n",
    "YIELD communityCount, modularity, modularities\n",
    "\"\"\"\n",
    "graph.run(query)"
   ]
  },
  {
   "cell_type": "code",
   "execution_count": 82,
   "id": "134bd931",
   "metadata": {},
   "outputs": [
    {
     "data": {
      "text/html": [
       "<table><tr><th>communityCount</th><th>modularity</th><th>modularities</th></tr><tr><td style=\"text-align:right\">4</td><td style=\"text-align:right\">0.32572149981063003</td><td style=\"text-align:left\">[0.3046484029794218, 0.32572149981063003]</td></tr></table>"
      ],
      "text/plain": [
       " communityCount |          modularity | modularities                              \n",
       "----------------|---------------------|-------------------------------------------\n",
       "              4 | 0.32572149981063003 | [0.3046484029794218, 0.32572149981063003] "
      ]
     },
     "execution_count": 82,
     "metadata": {},
     "output_type": "execute_result"
    }
   ],
   "source": [
    "#The following run the algorithm, and write back results:\n",
    "query = \"\"\"\n",
    "CALL gds.louvain.write('Got7', { writeProperty: 'community_S7' })\n",
    "YIELD communityCount, modularity, modularities\n",
    "\"\"\"\n",
    "graph.run(query)"
   ]
  },
  {
   "cell_type": "markdown",
   "id": "f4c6a9f0",
   "metadata": {},
   "source": [
    "### 5 basic centrality measures "
   ]
  },
  {
   "cell_type": "code",
   "execution_count": 83,
   "id": "e049a4d4",
   "metadata": {},
   "outputs": [
    {
     "data": {
      "text/html": [
       "<table><tr><th>name</th><th>score</th></tr><tr><td style=\"text-align:left\">JON</td><td style=\"text-align:right\">46.0</td></tr><tr><td style=\"text-align:left\">TYRION</td><td style=\"text-align:right\">35.0</td></tr><tr><td style=\"text-align:left\">DAENERYS</td><td style=\"text-align:right\">35.0</td></tr></table>"
      ],
      "text/plain": [
       " name     | score \n",
       "----------|-------\n",
       " JON      |  46.0 \n",
       " TYRION   |  35.0 \n",
       " DAENERYS |  35.0 "
      ]
     },
     "execution_count": 83,
     "metadata": {},
     "output_type": "execute_result"
    }
   ],
   "source": [
    "#Degree\n",
    "query = \"\"\"\n",
    "CALL gds.degree.stream('Got7')\n",
    "YIELD nodeId, score\n",
    "RETURN gds.util.asNode(nodeId).id AS name, score\n",
    "ORDER BY score DESC\n",
    "LIMIT 5\n",
    "\"\"\"\n",
    "graph.run(query)"
   ]
  },
  {
   "cell_type": "code",
   "execution_count": 84,
   "id": "63c44724",
   "metadata": {},
   "outputs": [
    {
     "data": {
      "text/html": [
       "<table><tr><th>name</th><th>score</th></tr><tr><td style=\"text-align:left\">JON</td><td style=\"text-align:right\">982.0</td></tr><tr><td style=\"text-align:left\">DAENERYS</td><td style=\"text-align:right\">735.0</td></tr><tr><td style=\"text-align:left\">TYRION</td><td style=\"text-align:right\">703.0</td></tr></table>"
      ],
      "text/plain": [
       " name     | score \n",
       "----------|-------\n",
       " JON      | 982.0 \n",
       " DAENERYS | 735.0 \n",
       " TYRION   | 703.0 "
      ]
     },
     "execution_count": 84,
     "metadata": {},
     "output_type": "execute_result"
    }
   ],
   "source": [
    "#Weighted Degree\n",
    "query = \"\"\"\n",
    "CALL gds.degree.stream(\n",
    "   'Got7',\n",
    "   { relationshipWeightProperty: 'weight' }\n",
    ")\n",
    "YIELD nodeId, score\n",
    "RETURN gds.util.asNode(nodeId).id AS name, score\n",
    "ORDER BY score DESC\n",
    "LIMIT 5\n",
    "\"\"\"\n",
    "graph.run(query)"
   ]
  },
  {
   "cell_type": "code",
   "execution_count": 85,
   "id": "65a1d5fd",
   "metadata": {},
   "outputs": [
    {
     "data": {
      "text/html": [
       "<table><tr><th>name</th><th>score</th></tr><tr><td style=\"text-align:left\">JON</td><td style=\"text-align:right\">0.2855926337551967</td></tr><tr><td style=\"text-align:left\">TYRION</td><td style=\"text-align:right\">0.2581673486956719</td></tr><tr><td style=\"text-align:left\">DAENERYS</td><td style=\"text-align:right\">0.2465015323052332</td></tr></table>"
      ],
      "text/plain": [
       " name     |              score \n",
       "----------|--------------------\n",
       " JON      | 0.2855926337551967 \n",
       " TYRION   | 0.2581673486956719 \n",
       " DAENERYS | 0.2465015323052332 "
      ]
     },
     "execution_count": 85,
     "metadata": {},
     "output_type": "execute_result"
    }
   ],
   "source": [
    "#Eigenvector\n",
    "query = \"\"\"\n",
    "CALL gds.eigenvector.stream('Got7')\n",
    "YIELD nodeId, score\n",
    "RETURN gds.util.asNode(nodeId).id AS name, score\n",
    "ORDER BY score DESC\n",
    "LIMIT 5\n",
    "\"\"\"\n",
    "graph.run(query)"
   ]
  },
  {
   "cell_type": "code",
   "execution_count": 86,
   "id": "f7de5a85",
   "metadata": {},
   "outputs": [
    {
     "data": {
      "text/html": [
       "<table><tr><th>page</th><th>score</th></tr><tr><td style=\"text-align:left\">JON</td><td style=\"text-align:right\">3.9485790707630444</td></tr><tr><td style=\"text-align:left\">DAENERYS</td><td style=\"text-align:right\">2.9040361981717644</td></tr><tr><td style=\"text-align:left\">TYRION</td><td style=\"text-align:right\">2.712399180043202</td></tr></table>"
      ],
      "text/plain": [
       " page     |              score \n",
       "----------|--------------------\n",
       " JON      | 3.9485790707630444 \n",
       " DAENERYS | 2.9040361981717644 \n",
       " TYRION   |  2.712399180043202 "
      ]
     },
     "execution_count": 86,
     "metadata": {},
     "output_type": "execute_result"
    }
   ],
   "source": [
    "#Pagerank\n",
    "query = \"\"\"\n",
    "CALL gds.pageRank.stream('Got7',  {maxIterations: 20,  dampingFactor: 0.85})\n",
    "YIELD nodeId, score\n",
    "RETURN gds.util.asNode(nodeId).id AS page, score\n",
    "ORDER BY score DESC\n",
    "LIMIT 5\n",
    "\"\"\"\n",
    "graph.run(query)"
   ]
  },
  {
   "cell_type": "code",
   "execution_count": 87,
   "id": "f396749c",
   "metadata": {},
   "outputs": [
    {
     "data": {
      "text/html": [
       "<table><tr><th>name</th><th>score</th></tr><tr><td style=\"text-align:left\">JON</td><td style=\"text-align:right\">1761.0866789656607</td></tr><tr><td style=\"text-align:left\">SAM</td><td style=\"text-align:right\">851.8978738896035</td></tr><tr><td style=\"text-align:left\">DAENERYS</td><td style=\"text-align:right\">763.3372373706223</td></tr></table>"
      ],
      "text/plain": [
       " name     |              score \n",
       "----------|--------------------\n",
       " JON      | 1761.0866789656607 \n",
       " SAM      |  851.8978738896035 \n",
       " DAENERYS |  763.3372373706223 "
      ]
     },
     "execution_count": 87,
     "metadata": {},
     "output_type": "execute_result"
    }
   ],
   "source": [
    "#Betweenness\n",
    "query = \"\"\"\n",
    "CALL gds.betweenness.stream('Got7')\n",
    "YIELD nodeId, score\n",
    "RETURN gds.util.asNode(nodeId).id AS name, score\n",
    "ORDER BY score DESC\n",
    "LIMIT 5\n",
    "\"\"\"\n",
    "graph.run(query)"
   ]
  },
  {
   "cell_type": "markdown",
   "id": "b32105f7",
   "metadata": {},
   "source": [
    "## Graph for season 8"
   ]
  },
  {
   "cell_type": "markdown",
   "id": "07c41a3a",
   "metadata": {},
   "source": [
    "### Louvain Modularity Algorithm"
   ]
  },
  {
   "cell_type": "code",
   "execution_count": 88,
   "id": "83ddc8a2",
   "metadata": {},
   "outputs": [
    {
     "data": {
      "text/html": [
       "<table><tr><th>graph</th><th>nodeQuery</th><th>nodes</th><th>relationshipQuery</th><th>rels</th></tr><tr><td style=\"text-align:left\">Got8</td><td style=\"text-align:left\">MATCH (n:Person)-[r:INTERACTS_8]-(Person) RETURN id(n) AS id, n.seed AS seed</td><td style=\"text-align:right\">78</td><td style=\"text-align:left\">MATCH (n:Person)-[r:INTERACTS_8]-(p:Person) RETURN id(n) AS source, id(p) AS target, r.weight AS weight</td><td style=\"text-align:right\">1200</td></tr></table>"
      ],
      "text/plain": [
       " graph | nodeQuery                                                                    | nodes | relationshipQuery                                                                                       | rels \n",
       "-------|------------------------------------------------------------------------------|-------|---------------------------------------------------------------------------------------------------------|------\n",
       " Got8  | MATCH (n:Person)-[r:INTERACTS_8]-(Person) RETURN id(n) AS id, n.seed AS seed |    78 | MATCH (n:Person)-[r:INTERACTS_8]-(p:Person) RETURN id(n) AS source, id(p) AS target, r.weight AS weight | 1200 "
      ]
     },
     "execution_count": 88,
     "metadata": {},
     "output_type": "execute_result"
    }
   ],
   "source": [
    "query = \"\"\"\n",
    "CALL gds.graph.project.cypher(\n",
    "  'Got8',\n",
    "  'MATCH (n:Person)-[r:INTERACTS_8]-(Person) RETURN id(n) AS id, n.seed AS seed',\n",
    "  'MATCH (n:Person)-[r:INTERACTS_8]-(p:Person) RETURN id(n) AS source, id(p) AS target, r.weight AS weight')\n",
    "YIELD\n",
    "    graphName AS graph, nodeQuery, nodeCount AS nodes, relationshipQuery, relationshipCount AS rels\n",
    "\n",
    "\"\"\"\n",
    "graph.run(query)"
   ]
  },
  {
   "cell_type": "code",
   "execution_count": 89,
   "id": "88f4a8ea",
   "metadata": {},
   "outputs": [
    {
     "data": {
      "text/html": [
       "<table><tr><th>nodeCount</th><th>relationshipCount</th><th>bytesMin</th><th>bytesMax</th><th>requiredMemory</th></tr><tr><td style=\"text-align:right\">78</td><td style=\"text-align:right\">1200</td><td style=\"text-align:right\">10297</td><td style=\"text-align:right\">573840</td><td style=\"text-align:left\">[10297 Bytes ... 560 KiB]</td></tr></table>"
      ],
      "text/plain": [
       " nodeCount | relationshipCount | bytesMin | bytesMax | requiredMemory            \n",
       "-----------|-------------------|----------|----------|---------------------------\n",
       "        78 |              1200 |    10297 |   573840 | [10297 Bytes ... 560 KiB] "
      ]
     },
     "execution_count": 89,
     "metadata": {},
     "output_type": "execute_result"
    }
   ],
   "source": [
    "#The following will estimate the memory requirements for running the algorithm:\n",
    "query = \"\"\"\n",
    "CALL gds.louvain.write.estimate('Got8', { writeProperty: 'community_S8' })\n",
    "YIELD nodeCount, relationshipCount, bytesMin, bytesMax, requiredMemory\n",
    "\"\"\"\n",
    "graph.run(query)"
   ]
  },
  {
   "cell_type": "code",
   "execution_count": 90,
   "id": "75aee489",
   "metadata": {},
   "outputs": [
    {
     "data": {
      "text/html": [
       "<table><tr><th>label</th><th>communityId</th></tr><tr><td style=\"text-align:left\">Aegon</td><td style=\"text-align:right\">52</td></tr><tr><td style=\"text-align:left\">Aerys</td><td style=\"text-align:right\">52</td></tr><tr><td style=\"text-align:left\">Alanna</td><td style=\"text-align:right\">67</td></tr></table>"
      ],
      "text/plain": [
       " label  | communityId \n",
       "--------|-------------\n",
       " Aegon  |          52 \n",
       " Aerys  |          52 \n",
       " Alanna |          67 "
      ]
     },
     "execution_count": 90,
     "metadata": {},
     "output_type": "execute_result"
    }
   ],
   "source": [
    "#The following will run the algorithm and stream results:\n",
    "query = \"\"\"\n",
    "CALL gds.louvain.stream('Got8', { seedProperty: 'seed' })\n",
    "YIELD nodeId, communityId, intermediateCommunityIds\n",
    "RETURN gds.util.asNode(nodeId).label AS label, communityId\n",
    "ORDER BY label ASC\n",
    "\"\"\"\n",
    "graph.run(query)"
   ]
  },
  {
   "cell_type": "code",
   "execution_count": 91,
   "id": "78f1b1ac",
   "metadata": {},
   "outputs": [
    {
     "data": {
      "text/html": [
       "<table><tr><th>communityCount</th></tr><tr><td style=\"text-align:right\">5</td></tr></table>"
      ],
      "text/plain": [
       " communityCount \n",
       "----------------\n",
       "              5 "
      ]
     },
     "execution_count": 91,
     "metadata": {},
     "output_type": "execute_result"
    }
   ],
   "source": [
    "#The following will run the algorithm and returns the result in form of statistical and measurement values:\n",
    "query = \"\"\"\n",
    "CALL gds.louvain.stats('Got8')\n",
    "YIELD communityCount\n",
    "\"\"\"\n",
    "graph.run(query)"
   ]
  },
  {
   "cell_type": "code",
   "execution_count": 92,
   "id": "1ac3a051",
   "metadata": {},
   "outputs": [
    {
     "data": {
      "text/html": [
       "<table><tr><th>communityCount</th><th>modularity</th><th>modularities</th></tr><tr><td style=\"text-align:right\">5</td><td style=\"text-align:right\">0.21307222222222225</td><td style=\"text-align:left\">[0.20139861111111113, 0.21307222222222225]</td></tr></table>"
      ],
      "text/plain": [
       " communityCount |          modularity | modularities                               \n",
       "----------------|---------------------|--------------------------------------------\n",
       "              5 | 0.21307222222222225 | [0.20139861111111113, 0.21307222222222225] "
      ]
     },
     "execution_count": 92,
     "metadata": {},
     "output_type": "execute_result"
    }
   ],
   "source": [
    "#The following will run the algorithm and store the results in myGraph:\n",
    "query = \"\"\"\n",
    "CALL gds.louvain.mutate('Got8', { mutateProperty: 'communityId' })\n",
    "YIELD communityCount, modularity, modularities\n",
    "\"\"\"\n",
    "graph.run(query)"
   ]
  },
  {
   "cell_type": "code",
   "execution_count": 93,
   "id": "aa0a9e4c",
   "metadata": {},
   "outputs": [
    {
     "data": {
      "text/html": [
       "<table><tr><th>communityCount</th><th>modularity</th><th>modularities</th></tr><tr><td style=\"text-align:right\">5</td><td style=\"text-align:right\">0.21307222222222225</td><td style=\"text-align:left\">[0.20139861111111113, 0.21307222222222225]</td></tr></table>"
      ],
      "text/plain": [
       " communityCount |          modularity | modularities                               \n",
       "----------------|---------------------|--------------------------------------------\n",
       "              5 | 0.21307222222222225 | [0.20139861111111113, 0.21307222222222225] "
      ]
     },
     "execution_count": 93,
     "metadata": {},
     "output_type": "execute_result"
    }
   ],
   "source": [
    "#The following run the algorithm, and write back results:\n",
    "query = \"\"\"\n",
    "CALL gds.louvain.write('Got8', { writeProperty: 'community_S8' })\n",
    "YIELD communityCount, modularity, modularities\n",
    "\"\"\"\n",
    "graph.run(query)"
   ]
  },
  {
   "cell_type": "markdown",
   "id": "2a394824",
   "metadata": {},
   "source": [
    "### 5 basic centrality measures "
   ]
  },
  {
   "cell_type": "code",
   "execution_count": 94,
   "id": "cf331387",
   "metadata": {},
   "outputs": [
    {
     "data": {
      "text/html": [
       "<table><tr><th>name</th><th>score</th></tr><tr><td style=\"text-align:left\">SAM</td><td style=\"text-align:right\">45.0</td></tr><tr><td style=\"text-align:left\">DAENERYS</td><td style=\"text-align:right\">44.0</td></tr><tr><td style=\"text-align:left\">TYRION</td><td style=\"text-align:right\">43.0</td></tr></table>"
      ],
      "text/plain": [
       " name     | score \n",
       "----------|-------\n",
       " SAM      |  45.0 \n",
       " DAENERYS |  44.0 \n",
       " TYRION   |  43.0 "
      ]
     },
     "execution_count": 94,
     "metadata": {},
     "output_type": "execute_result"
    }
   ],
   "source": [
    "#Degree\n",
    "query = \"\"\"\n",
    "CALL gds.degree.stream('Got8')\n",
    "YIELD nodeId, score\n",
    "RETURN gds.util.asNode(nodeId).id AS name, score\n",
    "ORDER BY score DESC\n",
    "LIMIT 5\n",
    "\"\"\"\n",
    "graph.run(query)"
   ]
  },
  {
   "cell_type": "code",
   "execution_count": 95,
   "id": "4622213e",
   "metadata": {},
   "outputs": [
    {
     "data": {
      "text/html": [
       "<table><tr><th>name</th><th>score</th></tr><tr><td style=\"text-align:left\">TYRION</td><td style=\"text-align:right\">1074.0</td></tr><tr><td style=\"text-align:left\">JON</td><td style=\"text-align:right\">927.0</td></tr><tr><td style=\"text-align:left\">DAENERYS</td><td style=\"text-align:right\">855.0</td></tr></table>"
      ],
      "text/plain": [
       " name     |  score \n",
       "----------|--------\n",
       " TYRION   | 1074.0 \n",
       " JON      |  927.0 \n",
       " DAENERYS |  855.0 "
      ]
     },
     "execution_count": 95,
     "metadata": {},
     "output_type": "execute_result"
    }
   ],
   "source": [
    "#Weighted Degree\n",
    "query = \"\"\"\n",
    "CALL gds.degree.stream(\n",
    "   'Got8',\n",
    "   { relationshipWeightProperty: 'weight' }\n",
    ")\n",
    "YIELD nodeId, score\n",
    "RETURN gds.util.asNode(nodeId).id AS name, score\n",
    "ORDER BY score DESC\n",
    "LIMIT 5\n",
    "\"\"\"\n",
    "graph.run(query)"
   ]
  },
  {
   "cell_type": "code",
   "execution_count": 96,
   "id": "b795644d",
   "metadata": {},
   "outputs": [
    {
     "data": {
      "text/html": [
       "<table><tr><th>name</th><th>score</th></tr><tr><td style=\"text-align:left\">TYRION</td><td style=\"text-align:right\">0.21463821960814902</td></tr><tr><td style=\"text-align:left\">SAM</td><td style=\"text-align:right\">0.2132742148090217</td></tr><tr><td style=\"text-align:left\">GREY_WORM</td><td style=\"text-align:right\">0.21186738525577797</td></tr></table>"
      ],
      "text/plain": [
       " name      |               score \n",
       "-----------|---------------------\n",
       " TYRION    | 0.21463821960814902 \n",
       " SAM       |  0.2132742148090217 \n",
       " GREY_WORM | 0.21186738525577797 "
      ]
     },
     "execution_count": 96,
     "metadata": {},
     "output_type": "execute_result"
    }
   ],
   "source": [
    "#Eigenvector\n",
    "query = \"\"\"\n",
    "CALL gds.eigenvector.stream('Got8')\n",
    "YIELD nodeId, score\n",
    "RETURN gds.util.asNode(nodeId).id AS name, score\n",
    "ORDER BY score DESC\n",
    "LIMIT 5\n",
    "\"\"\"\n",
    "graph.run(query)"
   ]
  },
  {
   "cell_type": "code",
   "execution_count": 97,
   "id": "31875945",
   "metadata": {},
   "outputs": [
    {
     "data": {
      "text/html": [
       "<table><tr><th>page</th><th>score</th></tr><tr><td style=\"text-align:left\">DAENERYS</td><td style=\"text-align:right\">2.7876658573738107</td></tr><tr><td style=\"text-align:left\">SAM</td><td style=\"text-align:right\">2.7025561890888463</td></tr><tr><td style=\"text-align:left\">ARYA</td><td style=\"text-align:right\">2.351808006058034</td></tr></table>"
      ],
      "text/plain": [
       " page     |              score \n",
       "----------|--------------------\n",
       " DAENERYS | 2.7876658573738107 \n",
       " SAM      | 2.7025561890888463 \n",
       " ARYA     |  2.351808006058034 "
      ]
     },
     "execution_count": 97,
     "metadata": {},
     "output_type": "execute_result"
    }
   ],
   "source": [
    "#Pagerank\n",
    "query = \"\"\"\n",
    "CALL gds.pageRank.stream('Got8',  {maxIterations: 20,  dampingFactor: 0.85})\n",
    "YIELD nodeId, score\n",
    "RETURN gds.util.asNode(nodeId).id AS page, score\n",
    "ORDER BY score DESC\n",
    "LIMIT 5\n",
    "\"\"\"\n",
    "graph.run(query)"
   ]
  },
  {
   "cell_type": "code",
   "execution_count": 98,
   "id": "a0edd76c",
   "metadata": {},
   "outputs": [
    {
     "data": {
      "text/html": [
       "<table><tr><th>name</th><th>score</th></tr><tr><td style=\"text-align:left\">DAENERYS</td><td style=\"text-align:right\">790.9203081686722</td></tr><tr><td style=\"text-align:left\">SAM</td><td style=\"text-align:right\">718.8623113764764</td></tr><tr><td style=\"text-align:left\">ARYA</td><td style=\"text-align:right\">561.7706271124054</td></tr></table>"
      ],
      "text/plain": [
       " name     |             score \n",
       "----------|-------------------\n",
       " DAENERYS | 790.9203081686722 \n",
       " SAM      | 718.8623113764764 \n",
       " ARYA     | 561.7706271124054 "
      ]
     },
     "execution_count": 98,
     "metadata": {},
     "output_type": "execute_result"
    }
   ],
   "source": [
    "#Betweenness\n",
    "query = \"\"\"\n",
    "CALL gds.betweenness.stream('Got8')\n",
    "YIELD nodeId, score\n",
    "RETURN gds.util.asNode(nodeId).id AS name, score\n",
    "ORDER BY score DESC\n",
    "LIMIT 5\n",
    "\"\"\"\n",
    "graph.run(query)"
   ]
  },
  {
   "cell_type": "markdown",
   "id": "fd1dbef3",
   "metadata": {},
   "source": [
    "# Link prediction by using network embeddings\n",
    "\n",
    "Link prediction refers to the prediction of whether an interaction will occur in the future between characters in a particular season. In this project, we propose a simple classification method (simple random forest).\n",
    "\n",
    "For this, we make first a split of training and testing sets. We decided to use seasons 1 until 4 as our training data and 5 until 8 seasons as our testing dataset. Note that in our case, we only have the true/positive link in our dataset, to build our model we also need false/ negative links for our classification model to learn to distinguish between characters that should have a link between them and characters that should not be related. For this, we will look for characters that are between 2 and 3 hops away from each other. \n",
    "\n",
    "Upon construction of the datasets, we will carry out feature engineering (which introduces the graph embeddings). For this, we will compute the following things from the graphs; \n",
    "\n",
    "1. Number of common neighbors (cn)\n",
    "\n",
    "Refers to the idea that the more common neighbors there are between two strangers, the more likely they are to be introduced to one another to create a new link\n",
    "\n",
    "2. Preferential attachment (pa)\n",
    "\n",
    "It measures how close the characters are, based on their shared neighbors, also if characters (nodes) have a higher degree then these nodes are also more likely to receive new links\n",
    "\n",
    "3. Total neighbors (tn) \n",
    "\n",
    "Computes the closeness of characters depending on how many unique neighbors are around them, the more unique neighbors, the more likely these characters are to receive new links\n",
    "\n",
    "\n",
    "Upon deriving these 3 features we impute them into random forest, to learn an appropriate model. For random forest we specified 2 parameters; \n",
    "\n",
    "1. random_state: to derive all the time the same parameter coefficients\n",
    "2. n_estimators=30: to build 30 decision trees before giving the trained model"
   ]
  },
  {
   "cell_type": "markdown",
   "id": "b05a7436",
   "metadata": {},
   "source": [
    "## Building testing and training set"
   ]
  },
  {
   "cell_type": "markdown",
   "id": "a2989f16",
   "metadata": {},
   "source": [
    "### Training set"
   ]
  },
  {
   "cell_type": "code",
   "execution_count": null,
   "id": "b2abe792",
   "metadata": {},
   "outputs": [],
   "source": [
    "# Find positive examples\n",
    "train_existing_links = graph.run(\"\"\"\n",
    "MATCH (n:Person)-[r:INTERACTS_1|INTERACTS_2|INTERACTS_3|INTERACTS_4]-(p:Person)\n",
    "RETURN n.id AS node1, p.id AS node2, 1 AS label, r.season AS season\n",
    "\"\"\").to_data_frame()"
   ]
  },
  {
   "cell_type": "code",
   "execution_count": null,
   "id": "9e25399f",
   "metadata": {},
   "outputs": [],
   "source": [
    "train_existing_links.info()"
   ]
  },
  {
   "cell_type": "code",
   "execution_count": null,
   "id": "a6910507",
   "metadata": {},
   "outputs": [],
   "source": [
    "# Find negative examples\n",
    "train_missing_links = graph.run(\"\"\"\n",
    "MATCH (n:Person)\n",
    "WHERE (n:Person)-[:INTERACTS_1|INTERACTS_2|INTERACTS_3|INTERACTS_4]-()\n",
    "MATCH (n:Person)-[r:INTERACTS_1|INTERACTS_2|INTERACTS_3|INTERACTS_4*1..2]-(p:Person)\n",
    "WHERE not((n:Person)-[:INTERACTS_1|INTERACTS_2|INTERACTS_3|INTERACTS_4]-(p:Person))\n",
    "RETURN n.id AS node1, p.id AS node2, 0 AS label\n",
    "\"\"\").to_data_frame()"
   ]
  },
  {
   "cell_type": "code",
   "execution_count": null,
   "id": "522ab135",
   "metadata": {},
   "outputs": [],
   "source": [
    "train_missing_links.info()"
   ]
  },
  {
   "cell_type": "code",
   "execution_count": null,
   "id": "6e599e42",
   "metadata": {},
   "outputs": [],
   "source": [
    "import random\n",
    "randomlist = []\n",
    "for i in range(0,117858):\n",
    "    n = random.randint(1,4)\n",
    "    randomlist.append(n)\n",
    "#print(randomlist)\n",
    "train_missing_links['season']=randomlist\n",
    "train_missing_links.head(5)"
   ]
  },
  {
   "cell_type": "code",
   "execution_count": null,
   "id": "be1e6d87",
   "metadata": {},
   "outputs": [],
   "source": [
    "# Remove duplicates\n",
    "train_missing_links = train_missing_links.drop_duplicates()"
   ]
  },
  {
   "cell_type": "code",
   "execution_count": null,
   "id": "d3bde9f9",
   "metadata": {},
   "outputs": [],
   "source": [
    "train_missing_links.info()"
   ]
  },
  {
   "cell_type": "code",
   "execution_count": null,
   "id": "bbb7dc38",
   "metadata": {},
   "outputs": [],
   "source": [
    "# Down sample negative examples\n",
    "train_missing_links = train_missing_links.sample(\n",
    "    n=len(train_existing_links))"
   ]
  },
  {
   "cell_type": "code",
   "execution_count": null,
   "id": "af96b3ed",
   "metadata": {},
   "outputs": [],
   "source": [
    "train_missing_links.info()"
   ]
  },
  {
   "cell_type": "code",
   "execution_count": null,
   "id": "35a2b32c",
   "metadata": {},
   "outputs": [],
   "source": [
    "# Create DataFrame from positive and negative examples\n",
    "training_df = pd.concat([train_missing_links,train_existing_links], ignore_index=True)\n",
    "training_df['label'] = training_df['label'].astype('category')"
   ]
  },
  {
   "cell_type": "code",
   "execution_count": null,
   "id": "aa50a7cf",
   "metadata": {},
   "outputs": [],
   "source": [
    "training_df"
   ]
  },
  {
   "cell_type": "code",
   "execution_count": null,
   "id": "d0a1d3e7",
   "metadata": {},
   "outputs": [],
   "source": [
    "training_df.info()"
   ]
  },
  {
   "cell_type": "code",
   "execution_count": null,
   "id": "8e58d715",
   "metadata": {},
   "outputs": [],
   "source": [
    "#Checking if there are indeed labels with the positive category\n",
    "training_df[training_df['label'] == 1]"
   ]
  },
  {
   "cell_type": "code",
   "execution_count": null,
   "id": "d182fe9a",
   "metadata": {},
   "outputs": [],
   "source": [
    "#Checking if there are indeed labels with the negative category\n",
    "training_df[training_df['label'] == 0]"
   ]
  },
  {
   "cell_type": "markdown",
   "id": "02a000d3",
   "metadata": {},
   "source": [
    "### Testing set"
   ]
  },
  {
   "cell_type": "code",
   "execution_count": null,
   "id": "9895046e",
   "metadata": {},
   "outputs": [],
   "source": [
    "# Find positive examples\n",
    "test_existing_links = graph.run(\"\"\"\n",
    "MATCH (n:Person)-[r:INTERACTS_5|INTERACTS_6|INTERACTS_7|INTERACTS_8]-(p:Person)\n",
    "RETURN n.id AS node1, p.id AS node2, 1 AS label, r.season AS season\n",
    "\"\"\").to_data_frame()"
   ]
  },
  {
   "cell_type": "code",
   "execution_count": null,
   "id": "a4ad0cce",
   "metadata": {},
   "outputs": [],
   "source": [
    "test_existing_links.info()"
   ]
  },
  {
   "cell_type": "code",
   "execution_count": null,
   "id": "1a2b2fcd",
   "metadata": {},
   "outputs": [],
   "source": [
    "# Find negative examples\n",
    "test_missing_links = graph.run(\"\"\"\n",
    "MATCH (n:Person)\n",
    "WHERE (n:Person)-[:INTERACTS_5|INTERACTS_6|INTERACTS_7|INTERACTS_8]-()\n",
    "MATCH (n:Person)-[r:INTERACTS_5|INTERACTS_6|INTERACTS_7|INTERACTS_8*1..2]-(p:Person)\n",
    "WHERE not((n:Person)-[:INTERACTS_5|INTERACTS_6|INTERACTS_7|INTERACTS_8]-(p:Person))\n",
    "RETURN n.id AS node1, p.id AS node2, 0 AS label\n",
    "\"\"\").to_data_frame()"
   ]
  },
  {
   "cell_type": "code",
   "execution_count": null,
   "id": "8356021e",
   "metadata": {},
   "outputs": [],
   "source": [
    "test_missing_links.info()"
   ]
  },
  {
   "cell_type": "code",
   "execution_count": null,
   "id": "e3c5eafa",
   "metadata": {},
   "outputs": [],
   "source": [
    "randomlist = []\n",
    "for i in range(0,112504):\n",
    "    n = random.randint(5,8)\n",
    "    randomlist.append(n)\n",
    "#print(randomlist)\n",
    "test_missing_links['season']=randomlist\n",
    "test_missing_links.head(5)"
   ]
  },
  {
   "cell_type": "code",
   "execution_count": null,
   "id": "20c66f7b",
   "metadata": {},
   "outputs": [],
   "source": [
    "# Remove duplicates \n",
    "test_missing_links = test_missing_links.drop_duplicates()"
   ]
  },
  {
   "cell_type": "code",
   "execution_count": null,
   "id": "cc704233",
   "metadata": {},
   "outputs": [],
   "source": [
    "test_missing_links.info()"
   ]
  },
  {
   "cell_type": "code",
   "execution_count": null,
   "id": "01bd76f3",
   "metadata": {},
   "outputs": [],
   "source": [
    "# Down sample negative examples\n",
    "test_missing_links = test_missing_links.sample(n=len(test_existing_links))"
   ]
  },
  {
   "cell_type": "code",
   "execution_count": null,
   "id": "f3ec2c1c",
   "metadata": {},
   "outputs": [],
   "source": [
    "test_missing_links.info()"
   ]
  },
  {
   "cell_type": "code",
   "execution_count": null,
   "id": "bde18643",
   "metadata": {},
   "outputs": [],
   "source": [
    "# Create DataFrame from positive and negative examples\n",
    "test_df = pd.concat([test_missing_links, test_existing_links], ignore_index=True)\n",
    "test_df['label'] = test_df['label'].astype('category')"
   ]
  },
  {
   "cell_type": "code",
   "execution_count": null,
   "id": "c86501dd",
   "metadata": {},
   "outputs": [],
   "source": [
    "test_df.info()"
   ]
  },
  {
   "cell_type": "code",
   "execution_count": null,
   "id": "af2afbf4",
   "metadata": {},
   "outputs": [],
   "source": [
    "#Checking if there are indeed labels with the positive category\n",
    "test_df[test_df['label'] == 1]"
   ]
  },
  {
   "cell_type": "code",
   "execution_count": null,
   "id": "8c79c7bd",
   "metadata": {},
   "outputs": [],
   "source": [
    "#Checking if there are indeed labels with the negative category\n",
    "test_df[test_df['label'] == 0]"
   ]
  },
  {
   "attachments": {},
   "cell_type": "markdown",
   "id": "fc954291",
   "metadata": {},
   "source": [
    "## Choosing Random Forest Classifier"
   ]
  },
  {
   "cell_type": "code",
   "execution_count": null,
   "id": "6a54fc61",
   "metadata": {},
   "outputs": [],
   "source": [
    "from sklearn.ensemble import RandomForestClassifier\n",
    "classifier = RandomForestClassifier(n_estimators=30, max_depth=10, \n",
    "                                    random_state=0)"
   ]
  },
  {
   "cell_type": "markdown",
   "id": "d4b77e92",
   "metadata": {},
   "source": [
    "## Generating features"
   ]
  },
  {
   "cell_type": "code",
   "execution_count": null,
   "id": "8a3c7381",
   "metadata": {},
   "outputs": [],
   "source": [
    "def apply_graphy_features(data, rel_type):\n",
    "    query = \"\"\"\n",
    "    UNWIND $pairs AS pair\n",
    "    MATCH (p1) WHERE p1.id = pair.node1\n",
    "    MATCH (p2) WHERE p2.id = pair.node2\n",
    "    RETURN pair.node1 AS node1,\n",
    "           pair.node2 AS node2,\n",
    "           gds.alpha.linkprediction.commonNeighbors(\n",
    "               p1, p2, {relationshipQuery: $relType}) AS cn,\n",
    "           gds.alpha.linkprediction.preferentialAttachment(\n",
    "               p1, p2, {relationshipQuery: $relType}) AS pa,\n",
    "           gds.alpha.linkprediction.totalNeighbors(\n",
    "               p1, p2, {relationshipQuery: $relType}) AS tn\n",
    "    \"\"\"\n",
    "    pairs = [{\"node1\": node1, \"node2\": node2}  for node1,node2 in data[[\"node1\", \"node2\"]].values.tolist()]\n",
    "    params = {\"pairs\": pairs, \"relType\": rel_type}\n",
    "    \n",
    "    features = graph.run(query, params).to_data_frame()\n",
    "    return pd.merge(data, features, on = [\"node1\", \"node2\"])"
   ]
  },
  {
   "cell_type": "code",
   "execution_count": null,
   "id": "e3fa8ae5",
   "metadata": {},
   "outputs": [],
   "source": [
    "train_season1 = training_df[training_df['season'] == 1]\n",
    "train_season2 = training_df[training_df['season'] == 2]\n",
    "train_season3 = training_df[training_df['season'] == 3]\n",
    "train_season4 = training_df[training_df['season'] == 4]"
   ]
  },
  {
   "cell_type": "code",
   "execution_count": null,
   "id": "2f826b40",
   "metadata": {},
   "outputs": [],
   "source": [
    "test_season5 = test_df[test_df['season'] == 5]\n",
    "test_season6 = test_df[test_df['season'] == 6]\n",
    "test_season7 = test_df[test_df['season'] == 7]\n",
    "test_season8 = test_df[test_df['season'] == 8]"
   ]
  },
  {
   "cell_type": "code",
   "execution_count": null,
   "id": "d7ca6dfa",
   "metadata": {},
   "outputs": [],
   "source": [
    "train_season1_v = apply_graphy_features(train_season1, \"INTERACTS_1\")\n",
    "train_season2_v = apply_graphy_features(train_season2, \"INTERACTS_2\")\n",
    "train_season3_v= apply_graphy_features(train_season3, \"INTERACTS_3\")\n",
    "train_season4_v= apply_graphy_features(train_season4, \"INTERACTS_4\")"
   ]
  },
  {
   "cell_type": "code",
   "execution_count": null,
   "id": "770a4036",
   "metadata": {},
   "outputs": [],
   "source": [
    "train_season1_v.sample(5)"
   ]
  },
  {
   "cell_type": "code",
   "execution_count": null,
   "id": "66a843d6",
   "metadata": {},
   "outputs": [],
   "source": [
    "train_season2_v.sample(5)"
   ]
  },
  {
   "cell_type": "code",
   "execution_count": null,
   "id": "729e3ba5",
   "metadata": {},
   "outputs": [],
   "source": [
    "train_season3_v.sample(5)"
   ]
  },
  {
   "cell_type": "code",
   "execution_count": null,
   "id": "68736abc",
   "metadata": {},
   "outputs": [],
   "source": [
    "train_season4_v.sample(5)"
   ]
  },
  {
   "cell_type": "code",
   "execution_count": null,
   "id": "f810a98b",
   "metadata": {},
   "outputs": [],
   "source": [
    "test_season5_v = apply_graphy_features(test_season5, \"INTERACTS_5\")\n",
    "test_season6_v = apply_graphy_features(test_season6, 'INTERACTS_6')\n",
    "test_season7_v = apply_graphy_features(test_season7, \"INTERACTS_7\")\n",
    "test_season8_v = apply_graphy_features(test_season8, \"INTERACTS_8\")"
   ]
  },
  {
   "cell_type": "code",
   "execution_count": null,
   "id": "c72d96ad",
   "metadata": {},
   "outputs": [],
   "source": [
    "test_season5_v.sample(5)"
   ]
  },
  {
   "cell_type": "code",
   "execution_count": null,
   "id": "10808cb6",
   "metadata": {},
   "outputs": [],
   "source": [
    "test_season6_v.sample(5)"
   ]
  },
  {
   "cell_type": "code",
   "execution_count": null,
   "id": "5991f51f",
   "metadata": {},
   "outputs": [],
   "source": [
    "test_season7_v.sample(5)"
   ]
  },
  {
   "cell_type": "code",
   "execution_count": null,
   "id": "c3552960",
   "metadata": {},
   "outputs": [],
   "source": [
    "#Combining all seasons for trainign set and testing set\n",
    "frames_training = [train_season1_v, train_season2_v, train_season3_v, train_season4_v]\n",
    "result_training = pd.concat(frames_training)\n",
    "frames_test = [test_season5_v, test_season6_v, test_season7_v, test_season8_v]\n",
    "result_test = pd.concat(frames_test)"
   ]
  },
  {
   "cell_type": "code",
   "execution_count": null,
   "id": "8432616c",
   "metadata": {},
   "outputs": [],
   "source": [
    "result_training"
   ]
  },
  {
   "cell_type": "code",
   "execution_count": null,
   "id": "935b1f69",
   "metadata": {},
   "outputs": [],
   "source": [
    "result_test"
   ]
  },
  {
   "cell_type": "markdown",
   "id": "aaeb4975",
   "metadata": {},
   "source": [
    "## Train our Random forest model"
   ]
  },
  {
   "cell_type": "code",
   "execution_count": null,
   "id": "190b37e8",
   "metadata": {},
   "outputs": [],
   "source": [
    "columns = [\"cn\", \"pa\", \"tn\"]\n",
    "X = result_training[columns]\n",
    "y = result_training[\"label\"]\n",
    "classifier.fit(X, y)"
   ]
  },
  {
   "cell_type": "markdown",
   "id": "475f0a4f",
   "metadata": {},
   "source": [
    "## Evaluation"
   ]
  },
  {
   "cell_type": "code",
   "execution_count": null,
   "id": "991931f7",
   "metadata": {},
   "outputs": [],
   "source": [
    "from sklearn.metrics import recall_score\n",
    "from sklearn.metrics import precision_score\n",
    "from sklearn.metrics import accuracy_score\n",
    "def evaluate_model(predictions, actual):\n",
    "    accuracy = accuracy_score(actual, predictions)\n",
    "    precision = precision_score(actual, predictions)\n",
    "    recall = recall_score(actual, predictions)\n",
    "    \n",
    "    metrics = [\"accuracy\", \"precision\", \"recall\"]\n",
    "    values = [accuracy, precision, recall]    \n",
    "    return pd.DataFrame(data={'metric': metrics, 'value': values})\n",
    "def feature_importance(columns, classifier):        \n",
    "    features = list(zip(columns, classifier.feature_importances_))\n",
    "    sorted_features = sorted(features, key = lambda x: x[1]*-1)\n",
    "    \n",
    "    keys = [value[0] for value in sorted_features]\n",
    "    values = [value[1] for value in sorted_features]\n",
    "    return pd.DataFrame(data={'feature': keys, 'value': values})"
   ]
  },
  {
   "cell_type": "code",
   "execution_count": null,
   "id": "28793f35",
   "metadata": {},
   "outputs": [],
   "source": [
    "predictions = classifier.predict(result_test[columns])\n",
    "y_test = result_test[\"label\"]\n",
    "evaluate_model(predictions, y_test)"
   ]
  },
  {
   "cell_type": "code",
   "execution_count": null,
   "id": "6a286c79",
   "metadata": {},
   "outputs": [],
   "source": [
    "feature_importance(columns, classifier)"
   ]
  },
  {
   "attachments": {},
   "cell_type": "markdown",
   "id": "be0d940a",
   "metadata": {},
   "source": [
    "Seperately, we will investigate whether the link prediction will perform better when the following features are introduced:\n",
    "1. Minimum triangles (minTriangles)\n",
    "2. Maximum triangles (maxTriangles)\n",
    "3. Minimum clustering coefficient (minCoeff)\n",
    "4. Maximum clustering coefficient (maxCoeff)\n",
    "\n",
    "To this end, we will generate 8 in-memory graphs and compute the triangle count and clustering coefficient of all the nodes for all the 8 seasons."
   ]
  },
  {
   "cell_type": "code",
   "execution_count": null,
   "id": "7fe417d5",
   "metadata": {},
   "outputs": [],
   "source": [
    "# We need to drop the graph if it already exists\n",
    "\n",
    "query1 = \"\"\"\n",
    "CALL gds.graph.drop('myGraph1') YIELD graphName;\n",
    "\"\"\"\n",
    "\n",
    "query2 = \"\"\"\n",
    "CALL gds.graph.drop('myGraph2') YIELD graphName;\n",
    "\"\"\"\n",
    "\n",
    "query3 = \"\"\"\n",
    "CALL gds.graph.drop('myGraph3') YIELD graphName;\n",
    "\"\"\"\n",
    "\n",
    "query4 = \"\"\"\n",
    "CALL gds.graph.drop('myGraph4') YIELD graphName;\n",
    "\"\"\"\n",
    "\n",
    "query5 = \"\"\"\n",
    "CALL gds.graph.drop('myGraph5') YIELD graphName;\n",
    "\"\"\"\n",
    "\n",
    "query6 = \"\"\"\n",
    "CALL gds.graph.drop('myGraph6') YIELD graphName;\n",
    "\"\"\"\n",
    "\n",
    "query7 = \"\"\"\n",
    "CALL gds.graph.drop('myGraph7') YIELD graphName;\n",
    "\"\"\"\n",
    "\n",
    "query8 = \"\"\"\n",
    "CALL gds.graph.drop('myGraph8') YIELD graphName;\n",
    "\"\"\"\n",
    "\n",
    "graph.run(query1)\n",
    "graph.run(query2)\n",
    "graph.run(query3)\n",
    "graph.run(query4)\n",
    "graph.run(query5)\n",
    "graph.run(query6)\n",
    "graph.run(query7)\n",
    "graph.run(query8)\n"
   ]
  },
  {
   "cell_type": "code",
   "execution_count": null,
   "id": "e74967fd",
   "metadata": {},
   "outputs": [],
   "source": [
    "# Make the in memory graphs for adding triangle counts and clustering coefficients\n",
    "query1 = \"\"\"\n",
    "CALL gds.graph.project(\n",
    "  'myGraph1',\n",
    "  'Person',\n",
    "  {\n",
    "    INTERACTS_1: {\n",
    "      orientation: 'UNDIRECTED'\n",
    "    }\n",
    "  }\n",
    ")\n",
    "\"\"\"\n",
    "\n",
    "query2 = \"\"\"\n",
    "CALL gds.graph.project(\n",
    "  'myGraph2',\n",
    "  'Person',\n",
    "  {\n",
    "    INTERACTS_2: {\n",
    "    orientation: 'UNDIRECTED'\n",
    "}\n",
    "}\n",
    ")\n",
    "\"\"\"\n",
    "query3 = \"\"\"\n",
    "CALL gds.graph.project(\n",
    "  'myGraph3',\n",
    "  'Person',\n",
    "  {\n",
    "    INTERACTS_3: {\n",
    "    orientation: 'UNDIRECTED'\n",
    "}\n",
    "  }\n",
    ")\n",
    "\"\"\"\n",
    "query4 = \"\"\"\n",
    "CALL gds.graph.project(\n",
    "  'myGraph4',\n",
    "  'Person',\n",
    "  {\n",
    "    INTERACTS_4: {\n",
    "    orientation: 'UNDIRECTED'\n",
    "}\n",
    "  }\n",
    ")\n",
    "\"\"\"\n",
    "query5 = \"\"\"\n",
    "CALL gds.graph.project(\n",
    "  'myGraph5',\n",
    "  'Person',\n",
    "  {\n",
    "    INTERACTS_5: {\n",
    "    orientation: 'UNDIRECTED'\n",
    "}\n",
    "  }\n",
    ")\n",
    "\"\"\"\n",
    "\n",
    "query6 = \"\"\"\n",
    "CALL gds.graph.project(\n",
    "  'myGraph6',\n",
    "  'Person',\n",
    "  {\n",
    "    INTERACTS_6: {\n",
    "      orientation: 'UNDIRECTED'\n",
    "    }\n",
    "  }\n",
    ")\n",
    "\"\"\"\n",
    "\n",
    "query7 = \"\"\"\n",
    "CALL gds.graph.project(\n",
    "  'myGraph7',\n",
    "  'Person',\n",
    "  {\n",
    "    INTERACTS_7: {\n",
    "      orientation: 'UNDIRECTED'\n",
    "    }\n",
    "  }\n",
    ")\n",
    "\"\"\"\n",
    "\n",
    "query8 = \"\"\"\n",
    "CALL gds.graph.project(\n",
    "  'myGraph8',\n",
    "  'Person',\n",
    "  {\n",
    "    INTERACTS_8: {\n",
    "      orientation: 'UNDIRECTED'\n",
    "    }\n",
    "  }\n",
    ")\n",
    "\"\"\"\n",
    "\n",
    "graph.run(query1)\n",
    "graph.run(query2)\n",
    "graph.run(query3)\n",
    "graph.run(query4)\n",
    "graph.run(query5)\n",
    "graph.run(query6)\n",
    "graph.run(query7)\n",
    "graph.run(query8)\n"
   ]
  },
  {
   "attachments": {},
   "cell_type": "markdown",
   "id": "1750cc0b",
   "metadata": {},
   "source": [
    "Since we are taking the first four seasons to be the training set, we add the triangle counts in these four seasons as \"trianglesTrain*\" to the corresponding in memory graphs"
   ]
  },
  {
   "cell_type": "code",
   "execution_count": null,
   "id": "5545670b",
   "metadata": {},
   "outputs": [],
   "source": [
    "query1 = \"\"\" \n",
    "CALL gds.triangleCount.write('myGraph1', {\n",
    "  writeProperty: 'trianglesTrain1'\n",
    "})\n",
    "\"\"\"\n",
    "\n",
    "query2 = \"\"\" \n",
    "CALL gds.triangleCount.write('myGraph2', {\n",
    "  writeProperty: 'trianglesTrain2'\n",
    "})\n",
    "\"\"\"\n",
    "\n",
    "query3 = \"\"\" \n",
    "CALL gds.triangleCount.write('myGraph3', {\n",
    "  writeProperty: 'trianglesTrain3'\n",
    "})\n",
    "\"\"\"\n",
    "\n",
    "query4 = \"\"\" \n",
    "CALL gds.triangleCount.write('myGraph4', {\n",
    "  writeProperty: 'trianglesTrain4'\n",
    "})\n",
    "\"\"\"\n",
    "\n",
    "\n",
    "graph.run(query1)\n",
    "graph.run(query2)\n",
    "graph.run(query3)\n",
    "graph.run(query4)\n"
   ]
  },
  {
   "attachments": {},
   "cell_type": "markdown",
   "id": "78cfbd87",
   "metadata": {},
   "source": [
    "We proceed similarly as before and create 'trianglesTest*' for the triangle counts for easons 5-8."
   ]
  },
  {
   "cell_type": "code",
   "execution_count": null,
   "id": "ad75dca8",
   "metadata": {},
   "outputs": [],
   "source": [
    "query5 = \"\"\" \n",
    "CALL gds.triangleCount.write('myGraph5', {\n",
    "  writeProperty: 'trianglesTest5'\n",
    "})\n",
    "\"\"\"\n",
    "\n",
    "query6 = \"\"\" \n",
    "CALL gds.triangleCount.write('myGraph6', {\n",
    "  writeProperty: 'trianglesTest6'\n",
    "})\n",
    "\"\"\"\n",
    "query7 = \"\"\" \n",
    "CALL gds.triangleCount.write('myGraph7', {\n",
    "  writeProperty: 'trianglesTest7'\n",
    "})\n",
    "\"\"\"\n",
    "query8 = \"\"\" \n",
    "CALL gds.triangleCount.write('myGraph8', {\n",
    "  writeProperty: 'trianglesTest8'\n",
    "})\n",
    "\"\"\"\n",
    "graph.run(query5)\n",
    "graph.run(query6)\n",
    "graph.run(query7)\n",
    "graph.run(query8)\n"
   ]
  },
  {
   "attachments": {},
   "cell_type": "markdown",
   "id": "a73b26d6",
   "metadata": {},
   "source": [
    "We do the same for clustering coefficient for the nodes and create 'coefficientTrain*' and 'coefficientTest*'."
   ]
  },
  {
   "cell_type": "code",
   "execution_count": null,
   "id": "a5323a40",
   "metadata": {},
   "outputs": [],
   "source": [
    "query1 = \"\"\"\n",
    "CALL gds.localClusteringCoefficient.write('myGraph1', {\n",
    "    writeProperty: 'coefficientTrain1'\n",
    "});\n",
    "\"\"\"\n",
    "\n",
    "query2 = \"\"\"\n",
    "CALL gds.localClusteringCoefficient.write('myGraph2', {\n",
    "    writeProperty: 'coefficientTrain2'\n",
    "});\n",
    "\"\"\"\n",
    "\n",
    "query3 = \"\"\"\n",
    "CALL gds.localClusteringCoefficient.write('myGraph3', {\n",
    "    writeProperty: 'coefficientTrain3'\n",
    "});\n",
    "\"\"\"\n",
    "\n",
    "query4 = \"\"\"\n",
    "CALL gds.localClusteringCoefficient.write('myGraph4', {\n",
    "    writeProperty: 'coefficientTrain4'\n",
    "});\n",
    "\"\"\"\n",
    "\n",
    "\n",
    "graph.run(query1)\n",
    "graph.run(query2)\n",
    "graph.run(query3)\n",
    "graph.run(query4)\n"
   ]
  },
  {
   "cell_type": "code",
   "execution_count": null,
   "id": "239cf531",
   "metadata": {},
   "outputs": [],
   "source": [
    "query5 = \"\"\"\n",
    "CALL gds.localClusteringCoefficient.write('myGraph5', {\n",
    "    writeProperty: 'coefficientTest5'\n",
    "});\n",
    "\"\"\"\n",
    "\n",
    "query6 = \"\"\"\n",
    "CALL gds.localClusteringCoefficient.write('myGraph6', {\n",
    "    writeProperty: 'coefficientTest6'\n",
    "});\n",
    "\"\"\"\n",
    "\n",
    "query7 = \"\"\"\n",
    "CALL gds.localClusteringCoefficient.write('myGraph7', {\n",
    "    writeProperty: 'coefficientTest7'\n",
    "});\n",
    "\"\"\"\n",
    "\n",
    "query8 = \"\"\"\n",
    "CALL gds.localClusteringCoefficient.write('myGraph8', {\n",
    "    writeProperty: 'coefficientTest8'\n",
    "});\n",
    "\"\"\"\n",
    "\n",
    "graph.run(query5)\n",
    "graph.run(query6)\n",
    "graph.run(query7)\n",
    "graph.run(query8)\n"
   ]
  },
  {
   "attachments": {},
   "cell_type": "markdown",
   "id": "284b3997",
   "metadata": {},
   "source": [
    "## Creating Features"
   ]
  },
  {
   "attachments": {},
   "cell_type": "markdown",
   "id": "a36f5dc4",
   "metadata": {},
   "source": [
    "As we need to have features for the edges, we take the maximum and the minimum of the properties of the nodes forming the edge. Since an edge is formed by 2 node, we are indeed adding the clustering coefficients and number of triangles of both the nodes as features for prediction."
   ]
  },
  {
   "cell_type": "code",
   "execution_count": null,
   "id": "7ee604b2",
   "metadata": {},
   "outputs": [],
   "source": [
    "def apply_triangles_features(data, triangles_prop, coefficient_prop):\n",
    "\n",
    "    query = \"\"\"\n",
    "    UNWIND $pairs AS pair\n",
    "    MATCH (p1:Person) WHERE p1.id = pair.node1\n",
    "    MATCH (p2:Person) WHERE p2.id = pair.node2\n",
    "    RETURN pair.node1 AS node1, \n",
    "    pair.node2 AS node2,\n",
    "    apoc.coll.min([p1[$triangles], p2[$triangles]]) AS minTriangles,\n",
    "    apoc.coll.max([p1[$triangles], p2[$triangles]]) AS maxTriangles,\n",
    "    apoc.coll.min([p1[$coefficient], p2[$coefficient]]) AS minCoeff,\n",
    "    apoc.coll.max([p1[$coefficient], p2[$coefficient]]) AS maxCoeff\n",
    "    \"\"\"\n",
    "\n",
    "    pairs = [{\"node1\": str(pair[0]), \"node2\": str(pair[1])}\n",
    "             for pair in data[[\"node1\", \"node2\"]].values.tolist()]\n",
    "\n",
    "    params = {\n",
    "        \"pairs\": pairs,\n",
    "        \"triangles\": triangles_prop,\n",
    "        \"coefficient\": coefficient_prop\n",
    "    }\n",
    "\n",
    "    features = graph.run(query, params).to_data_frame()\n",
    "\n",
    "    return pd.merge(data, features, on=[\"node1\", \"node2\"])\n"
   ]
  },
  {
   "attachments": {},
   "cell_type": "markdown",
   "id": "face7204",
   "metadata": {},
   "source": [
    "We add these features for the training and testing datasets developed earlier."
   ]
  },
  {
   "cell_type": "code",
   "execution_count": null,
   "id": "60b53731",
   "metadata": {},
   "outputs": [],
   "source": [
    "train_season1_w = apply_triangles_features(\n",
    "    train_season1_v, \"trianglesTrain1\", \"coefficientTrain1\")\n",
    "train_season2_w = apply_triangles_features(\n",
    "    train_season2_v, \"trianglesTrain2\", \"coefficientTrain2\")\n",
    "train_season3_w = apply_triangles_features(\n",
    "    train_season3_v, \"trianglesTrain3\", \"coefficientTrain3\")\n",
    "train_season4_w = apply_triangles_features(\n",
    "    train_season4_v, \"trianglesTrain4\", \"coefficientTrain4\")\n",
    "# train_season5_w = apply_triangles_features(train_season5_v, \"trianglesTrain5\", \"coefficientTrain5\")\n",
    "\n",
    "test_season5_w = apply_triangles_features(\n",
    "    test_season5_v, \"trianglesTest5\", \"coefficientTest5\")\n",
    "test_season6_w = apply_triangles_features(\n",
    "    test_season6_v, \"trianglesTest6\", \"coefficientTest6\")\n",
    "test_season7_w = apply_triangles_features(\n",
    "    test_season7_v, \"trianglesTest7\", \"coefficientTest7\")\n",
    "test_season8_w = apply_triangles_features(\n",
    "    test_season8_v, \"trianglesTest8\", \"coefficientTest8\")\n"
   ]
  },
  {
   "cell_type": "code",
   "execution_count": null,
   "id": "0f803d66",
   "metadata": {},
   "outputs": [],
   "source": [
    "frames_training_w = [train_season1_w, train_season2_w,\n",
    "                     train_season3_w, train_season4_w]\n",
    "result_training_w = pd.concat(frames_training_w)\n",
    "frames_test_w = [test_season5_w, test_season6_w,\n",
    "                 test_season7_w, test_season8_w]\n",
    "result_test_w = pd.concat(frames_test_w)"
   ]
  },
  {
   "attachments": {},
   "cell_type": "markdown",
   "id": "bccc71fc",
   "metadata": {},
   "source": [
    "## Train Model"
   ]
  },
  {
   "attachments": {},
   "cell_type": "markdown",
   "id": "b09b6061",
   "metadata": {},
   "source": [
    "Finally we train the model to see the added benefit of these features."
   ]
  },
  {
   "cell_type": "code",
   "execution_count": null,
   "id": "3056a416",
   "metadata": {},
   "outputs": [],
   "source": [
    "classifier2 = RandomForestClassifier(n_estimators=30, max_depth=10,\n",
    "                                     random_state=0)\n"
   ]
  },
  {
   "cell_type": "code",
   "execution_count": null,
   "id": "fe70bd38",
   "metadata": {},
   "outputs": [],
   "source": [
    "columns = [\"cn\", \"pa\", \"tn\", \"minTriangles\",\n",
    "           \"maxTriangles\", \"minCoeff\", \"maxCoeff\"]\n",
    "X = result_training_w[columns]\n",
    "y = result_training_w[\"label\"]\n",
    "classifier2.fit(X, y)"
   ]
  },
  {
   "cell_type": "code",
   "execution_count": null,
   "id": "b0956118",
   "metadata": {},
   "outputs": [],
   "source": [
    "predictions = classifier2.predict(result_test_w[columns])\n",
    "y_test = result_test_w[\"label\"]\n",
    "evaluate_model(predictions, y_test)"
   ]
  },
  {
   "cell_type": "code",
   "execution_count": null,
   "id": "efeb28a0",
   "metadata": {},
   "outputs": [],
   "source": [
    "feature_importance(columns, classifier2)\n"
   ]
  }
 ],
 "metadata": {
  "kernelspec": {
   "display_name": "Python 3 (ipykernel)",
   "language": "python",
   "name": "python3"
  },
  "language_info": {
   "codemirror_mode": {
    "name": "ipython",
    "version": 3
   },
   "file_extension": ".py",
   "mimetype": "text/x-python",
   "name": "python",
   "nbconvert_exporter": "python",
   "pygments_lexer": "ipython3",
   "version": "3.9.7"
  }
 },
 "nbformat": 4,
 "nbformat_minor": 5
}
